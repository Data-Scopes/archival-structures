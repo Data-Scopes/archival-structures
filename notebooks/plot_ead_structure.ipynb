{
 "cells": [
  {
   "cell_type": "code",
   "execution_count": 1,
   "id": "95414fab",
   "metadata": {},
   "outputs": [],
   "source": [
    "import pandas as pd\n",
    "ead_tsv = pd.read_csv('./ead_metadata.tsv',  sep='\\t')\n",
    "import gzip"
   ]
  },
  {
   "cell_type": "code",
   "execution_count": 2,
   "id": "b2eed29e",
   "metadata": {},
   "outputs": [
    {
     "data": {
      "application/vnd.microsoft.datawrangler.viewer.v0+json": {
       "columns": [
        {
         "name": "('series', 'subseries')",
         "rawType": "object",
         "type": "unknown"
        },
        {
         "name": "subsubseries",
         "rawType": "object",
         "type": "string"
        },
        {
         "name": "filegroup",
         "rawType": "object",
         "type": "unknown"
        },
        {
         "name": "inventory_range",
         "rawType": "object",
         "type": "string"
        },
        {
         "name": "inventory_num",
         "rawType": "object",
         "type": "unknown"
        }
       ],
       "conversionMethod": "pd.DataFrame",
       "ref": "ba8f4d2c-ca70-4d52-aa0d-4497529c498b",
       "rows": [
        [
         "('Resoluties van de Staten-Generaal', 'De ordinaris resoluties.')",
         "De minuten van de notulen van de vergaderingen van de Staten-Generaal, 1576-1684.",
         "Registers van ordinaris minuut-resoluties,",
         "1-257",
         "1"
        ],
        [
         "('Resoluties van de Staten-Generaal', 'De ordinaris resoluties.')",
         "De minuten van de notulen van de vergaderingen van de Staten-Generaal, 1576-1684.",
         "Registers van ordinaris minuut-resoluties,",
         "1-257",
         "2"
        ],
        [
         "('Resoluties van de Staten-Generaal', 'De ordinaris resoluties.')",
         "De minuten van de notulen van de vergaderingen van de Staten-Generaal, 1576-1684.",
         "Registers van ordinaris minuut-resoluties,",
         "1-257",
         "3"
        ],
        [
         "('Resoluties van de Staten-Generaal', 'De ordinaris resoluties.')",
         "De minuten van de notulen van de vergaderingen van de Staten-Generaal, 1576-1684.",
         "Registers van ordinaris minuut-resoluties,",
         "1-257",
         "4"
        ],
        [
         "('Resoluties van de Staten-Generaal', 'De ordinaris resoluties.')",
         "De minuten van de notulen van de vergaderingen van de Staten-Generaal, 1576-1684.",
         "Registers van ordinaris minuut-resoluties,",
         "1-257",
         "5"
        ],
        [
         "('Resoluties van de Staten-Generaal', 'De ordinaris resoluties.')",
         "De minuten van de notulen van de vergaderingen van de Staten-Generaal, 1576-1684.",
         "Registers van ordinaris minuut-resoluties,",
         "1-257",
         "6"
        ],
        [
         "('Resoluties van de Staten-Generaal', 'De ordinaris resoluties.')",
         "De minuten van de notulen van de vergaderingen van de Staten-Generaal, 1576-1684.",
         "Registers van ordinaris minuut-resoluties,",
         "1-257",
         "7"
        ],
        [
         "('Resoluties van de Staten-Generaal', 'De ordinaris resoluties.')",
         "De minuten van de notulen van de vergaderingen van de Staten-Generaal, 1576-1684.",
         "Registers van ordinaris minuut-resoluties,",
         "1-257",
         "8"
        ],
        [
         "('Resoluties van de Staten-Generaal', 'De ordinaris resoluties.')",
         "De minuten van de notulen van de vergaderingen van de Staten-Generaal, 1576-1684.",
         "Registers van ordinaris minuut-resoluties,",
         "1-257",
         "9"
        ],
        [
         "('Resoluties van de Staten-Generaal', 'De ordinaris resoluties.')",
         "De minuten van de notulen van de vergaderingen van de Staten-Generaal, 1576-1684.",
         "Registers van ordinaris minuut-resoluties,",
         "1-257",
         "10"
        ],
        [
         "('Resoluties van de Staten-Generaal', 'De ordinaris resoluties.')",
         "De minuten van de notulen van de vergaderingen van de Staten-Generaal, 1576-1684.",
         "Registers van ordinaris minuut-resoluties,",
         "1-257",
         "11"
        ],
        [
         "('Resoluties van de Staten-Generaal', 'De ordinaris resoluties.')",
         "De minuten van de notulen van de vergaderingen van de Staten-Generaal, 1576-1684.",
         "Registers van ordinaris minuut-resoluties,",
         "1-257",
         "12"
        ],
        [
         "('Resoluties van de Staten-Generaal', 'De ordinaris resoluties.')",
         "De minuten van de notulen van de vergaderingen van de Staten-Generaal, 1576-1684.",
         "Registers van ordinaris minuut-resoluties,",
         "1-257",
         "13"
        ],
        [
         "('Resoluties van de Staten-Generaal', 'De ordinaris resoluties.')",
         "De minuten van de notulen van de vergaderingen van de Staten-Generaal, 1576-1684.",
         "Registers van ordinaris minuut-resoluties,",
         "1-257",
         "14"
        ],
        [
         "('Resoluties van de Staten-Generaal', 'De ordinaris resoluties.')",
         "De minuten van de notulen van de vergaderingen van de Staten-Generaal, 1576-1684.",
         "Registers van ordinaris minuut-resoluties,",
         "1-257",
         "15"
        ],
        [
         "('Resoluties van de Staten-Generaal', 'De ordinaris resoluties.')",
         "De minuten van de notulen van de vergaderingen van de Staten-Generaal, 1576-1684.",
         "Registers van ordinaris minuut-resoluties,",
         "1-257",
         "16"
        ],
        [
         "('Resoluties van de Staten-Generaal', 'De ordinaris resoluties.')",
         "De minuten van de notulen van de vergaderingen van de Staten-Generaal, 1576-1684.",
         "Registers van ordinaris minuut-resoluties,",
         "1-257",
         "17"
        ],
        [
         "('Resoluties van de Staten-Generaal', 'De ordinaris resoluties.')",
         "De minuten van de notulen van de vergaderingen van de Staten-Generaal, 1576-1684.",
         "Registers van ordinaris minuut-resoluties,",
         "1-257",
         "18"
        ],
        [
         "('Resoluties van de Staten-Generaal', 'De ordinaris resoluties.')",
         "De minuten van de notulen van de vergaderingen van de Staten-Generaal, 1576-1684.",
         "Registers van ordinaris minuut-resoluties,",
         "1-257",
         "19"
        ],
        [
         "('Resoluties van de Staten-Generaal', 'De ordinaris resoluties.')",
         "De minuten van de notulen van de vergaderingen van de Staten-Generaal, 1576-1684.",
         "Registers van ordinaris minuut-resoluties,",
         "1-257",
         "20"
        ],
        [
         "('Resoluties van de Staten-Generaal', 'De ordinaris resoluties.')",
         "De minuten van de notulen van de vergaderingen van de Staten-Generaal, 1576-1684.",
         "Registers van ordinaris minuut-resoluties,",
         "1-257",
         "21"
        ],
        [
         "('Resoluties van de Staten-Generaal', 'De ordinaris resoluties.')",
         "De minuten van de notulen van de vergaderingen van de Staten-Generaal, 1576-1684.",
         "Registers van ordinaris minuut-resoluties,",
         "1-257",
         "22"
        ],
        [
         "('Resoluties van de Staten-Generaal', 'De ordinaris resoluties.')",
         "De minuten van de notulen van de vergaderingen van de Staten-Generaal, 1576-1684.",
         "Registers van ordinaris minuut-resoluties,",
         "1-257",
         "23"
        ],
        [
         "('Resoluties van de Staten-Generaal', 'De ordinaris resoluties.')",
         "De minuten van de notulen van de vergaderingen van de Staten-Generaal, 1576-1684.",
         "Registers van ordinaris minuut-resoluties,",
         "1-257",
         "24"
        ],
        [
         "('Resoluties van de Staten-Generaal', 'De ordinaris resoluties.')",
         "De minuten van de notulen van de vergaderingen van de Staten-Generaal, 1576-1684.",
         "Registers van ordinaris minuut-resoluties,",
         "1-257",
         "25"
        ],
        [
         "('Resoluties van de Staten-Generaal', 'De ordinaris resoluties.')",
         "De minuten van de notulen van de vergaderingen van de Staten-Generaal, 1576-1684.",
         "Registers van ordinaris minuut-resoluties,",
         "1-257",
         "26"
        ],
        [
         "('Resoluties van de Staten-Generaal', 'De ordinaris resoluties.')",
         "De minuten van de notulen van de vergaderingen van de Staten-Generaal, 1576-1684.",
         "Registers van ordinaris minuut-resoluties,",
         "1-257",
         "27"
        ],
        [
         "('Resoluties van de Staten-Generaal', 'De ordinaris resoluties.')",
         "De minuten van de notulen van de vergaderingen van de Staten-Generaal, 1576-1684.",
         "Registers van ordinaris minuut-resoluties,",
         "1-257",
         "28"
        ],
        [
         "('Resoluties van de Staten-Generaal', 'De ordinaris resoluties.')",
         "De minuten van de notulen van de vergaderingen van de Staten-Generaal, 1576-1684.",
         "Registers van ordinaris minuut-resoluties,",
         "1-257",
         "29"
        ],
        [
         "('Resoluties van de Staten-Generaal', 'De ordinaris resoluties.')",
         "De minuten van de notulen van de vergaderingen van de Staten-Generaal, 1576-1684.",
         "Registers van ordinaris minuut-resoluties,",
         "1-257",
         "30"
        ],
        [
         "('Resoluties van de Staten-Generaal', 'De ordinaris resoluties.')",
         "De minuten van de notulen van de vergaderingen van de Staten-Generaal, 1576-1684.",
         "Registers van ordinaris minuut-resoluties,",
         "1-257",
         "31"
        ],
        [
         "('Resoluties van de Staten-Generaal', 'De ordinaris resoluties.')",
         "De minuten van de notulen van de vergaderingen van de Staten-Generaal, 1576-1684.",
         "Registers van ordinaris minuut-resoluties,",
         "1-257",
         "32"
        ],
        [
         "('Resoluties van de Staten-Generaal', 'De ordinaris resoluties.')",
         "De minuten van de notulen van de vergaderingen van de Staten-Generaal, 1576-1684.",
         "Registers van ordinaris minuut-resoluties,",
         "1-257",
         "33"
        ],
        [
         "('Resoluties van de Staten-Generaal', 'De ordinaris resoluties.')",
         "De minuten van de notulen van de vergaderingen van de Staten-Generaal, 1576-1684.",
         "Registers van ordinaris minuut-resoluties,",
         "1-257",
         "34"
        ],
        [
         "('Resoluties van de Staten-Generaal', 'De ordinaris resoluties.')",
         "De minuten van de notulen van de vergaderingen van de Staten-Generaal, 1576-1684.",
         "Registers van ordinaris minuut-resoluties,",
         "1-257",
         "35"
        ],
        [
         "('Resoluties van de Staten-Generaal', 'De ordinaris resoluties.')",
         "De minuten van de notulen van de vergaderingen van de Staten-Generaal, 1576-1684.",
         "Registers van ordinaris minuut-resoluties,",
         "1-257",
         "36"
        ],
        [
         "('Resoluties van de Staten-Generaal', 'De ordinaris resoluties.')",
         "De minuten van de notulen van de vergaderingen van de Staten-Generaal, 1576-1684.",
         "Registers van ordinaris minuut-resoluties,",
         "1-257",
         "37"
        ],
        [
         "('Resoluties van de Staten-Generaal', 'De ordinaris resoluties.')",
         "De minuten van de notulen van de vergaderingen van de Staten-Generaal, 1576-1684.",
         "Registers van ordinaris minuut-resoluties,",
         "1-257",
         "38"
        ],
        [
         "('Resoluties van de Staten-Generaal', 'De ordinaris resoluties.')",
         "De minuten van de notulen van de vergaderingen van de Staten-Generaal, 1576-1684.",
         "Registers van ordinaris minuut-resoluties,",
         "1-257",
         "39"
        ],
        [
         "('Resoluties van de Staten-Generaal', 'De ordinaris resoluties.')",
         "De minuten van de notulen van de vergaderingen van de Staten-Generaal, 1576-1684.",
         "Registers van ordinaris minuut-resoluties,",
         "1-257",
         "40"
        ],
        [
         "('Resoluties van de Staten-Generaal', 'De ordinaris resoluties.')",
         "De minuten van de notulen van de vergaderingen van de Staten-Generaal, 1576-1684.",
         "Registers van ordinaris minuut-resoluties,",
         "1-257",
         "41"
        ],
        [
         "('Resoluties van de Staten-Generaal', 'De ordinaris resoluties.')",
         "De minuten van de notulen van de vergaderingen van de Staten-Generaal, 1576-1684.",
         "Registers van ordinaris minuut-resoluties,",
         "1-257",
         "42"
        ],
        [
         "('Resoluties van de Staten-Generaal', 'De ordinaris resoluties.')",
         "De minuten van de notulen van de vergaderingen van de Staten-Generaal, 1576-1684.",
         "Registers van ordinaris minuut-resoluties,",
         "1-257",
         "43"
        ],
        [
         "('Resoluties van de Staten-Generaal', 'De ordinaris resoluties.')",
         "De minuten van de notulen van de vergaderingen van de Staten-Generaal, 1576-1684.",
         "Registers van ordinaris minuut-resoluties,",
         "1-257",
         "44"
        ],
        [
         "('Resoluties van de Staten-Generaal', 'De ordinaris resoluties.')",
         "De minuten van de notulen van de vergaderingen van de Staten-Generaal, 1576-1684.",
         "Registers van ordinaris minuut-resoluties,",
         "1-257",
         "45"
        ],
        [
         "('Resoluties van de Staten-Generaal', 'De ordinaris resoluties.')",
         "De minuten van de notulen van de vergaderingen van de Staten-Generaal, 1576-1684.",
         "Registers van ordinaris minuut-resoluties,",
         "1-257",
         "46"
        ],
        [
         "('Resoluties van de Staten-Generaal', 'De ordinaris resoluties.')",
         "De minuten van de notulen van de vergaderingen van de Staten-Generaal, 1576-1684.",
         "Registers van ordinaris minuut-resoluties,",
         "1-257",
         "47"
        ],
        [
         "('Resoluties van de Staten-Generaal', 'De ordinaris resoluties.')",
         "De minuten van de notulen van de vergaderingen van de Staten-Generaal, 1576-1684.",
         "Registers van ordinaris minuut-resoluties,",
         "1-257",
         "48"
        ],
        [
         "('Resoluties van de Staten-Generaal', 'De ordinaris resoluties.')",
         "De minuten van de notulen van de vergaderingen van de Staten-Generaal, 1576-1684.",
         "Registers van ordinaris minuut-resoluties,",
         "1-257",
         "49"
        ],
        [
         "('Resoluties van de Staten-Generaal', 'De ordinaris resoluties.')",
         "De minuten van de notulen van de vergaderingen van de Staten-Generaal, 1576-1684.",
         "Registers van ordinaris minuut-resoluties,",
         "1-257",
         "50"
        ]
       ],
       "shape": {
        "columns": 4,
        "rows": 15582
       }
      },
      "text/html": [
       "<div>\n",
       "<style scoped>\n",
       "    .dataframe tbody tr th:only-of-type {\n",
       "        vertical-align: middle;\n",
       "    }\n",
       "\n",
       "    .dataframe tbody tr th {\n",
       "        vertical-align: top;\n",
       "    }\n",
       "\n",
       "    .dataframe thead th {\n",
       "        text-align: right;\n",
       "    }\n",
       "</style>\n",
       "<table border=\"1\" class=\"dataframe\">\n",
       "  <thead>\n",
       "    <tr style=\"text-align: right;\">\n",
       "      <th></th>\n",
       "      <th></th>\n",
       "      <th>subsubseries</th>\n",
       "      <th>filegroup</th>\n",
       "      <th>inventory_range</th>\n",
       "      <th>inventory_num</th>\n",
       "    </tr>\n",
       "    <tr>\n",
       "      <th>series</th>\n",
       "      <th>subseries</th>\n",
       "      <th></th>\n",
       "      <th></th>\n",
       "      <th></th>\n",
       "      <th></th>\n",
       "    </tr>\n",
       "  </thead>\n",
       "  <tbody>\n",
       "    <tr>\n",
       "      <th rowspan=\"5\" valign=\"top\">Resoluties van de Staten-Generaal</th>\n",
       "      <th>De ordinaris resoluties.</th>\n",
       "      <td>De minuten van de notulen van de vergaderingen...</td>\n",
       "      <td>Registers van ordinaris minuut-resoluties,</td>\n",
       "      <td>1-257</td>\n",
       "      <td>1</td>\n",
       "    </tr>\n",
       "    <tr>\n",
       "      <th>De ordinaris resoluties.</th>\n",
       "      <td>De minuten van de notulen van de vergaderingen...</td>\n",
       "      <td>Registers van ordinaris minuut-resoluties,</td>\n",
       "      <td>1-257</td>\n",
       "      <td>2</td>\n",
       "    </tr>\n",
       "    <tr>\n",
       "      <th>De ordinaris resoluties.</th>\n",
       "      <td>De minuten van de notulen van de vergaderingen...</td>\n",
       "      <td>Registers van ordinaris minuut-resoluties,</td>\n",
       "      <td>1-257</td>\n",
       "      <td>3</td>\n",
       "    </tr>\n",
       "    <tr>\n",
       "      <th>De ordinaris resoluties.</th>\n",
       "      <td>De minuten van de notulen van de vergaderingen...</td>\n",
       "      <td>Registers van ordinaris minuut-resoluties,</td>\n",
       "      <td>1-257</td>\n",
       "      <td>4</td>\n",
       "    </tr>\n",
       "    <tr>\n",
       "      <th>De ordinaris resoluties.</th>\n",
       "      <td>De minuten van de notulen van de vergaderingen...</td>\n",
       "      <td>Registers van ordinaris minuut-resoluties,</td>\n",
       "      <td>1-257</td>\n",
       "      <td>5</td>\n",
       "    </tr>\n",
       "    <tr>\n",
       "      <th>...</th>\n",
       "      <th>...</th>\n",
       "      <td>...</td>\n",
       "      <td>...</td>\n",
       "      <td>...</td>\n",
       "      <td>...</td>\n",
       "    </tr>\n",
       "    <tr>\n",
       "      <th rowspan=\"5\" valign=\"top\">Tractaten en ratificaties</th>\n",
       "      <th>De ratificaties van tractaten, 1700-1797</th>\n",
       "      <td>Staten-Generaal</td>\n",
       "      <td>Stukken betreffende de bemoeiingen van de Stat...</td>\n",
       "      <td>12639.1A-12639.1B</td>\n",
       "      <td>12639.1A</td>\n",
       "    </tr>\n",
       "    <tr>\n",
       "      <th>De ratificaties van tractaten, 1700-1797</th>\n",
       "      <td>Staten-Generaal</td>\n",
       "      <td>Stukken betreffende de bemoeiingen van de Stat...</td>\n",
       "      <td>12639.1A-12639.1B</td>\n",
       "      <td>12639.1B</td>\n",
       "    </tr>\n",
       "    <tr>\n",
       "      <th>De ratificaties van tractaten, 1700-1797</th>\n",
       "      <td>Staten-Generaal</td>\n",
       "      <td>Akten van ratificatie te 's-Gravenhage uitgeva...</td>\n",
       "      <td>12639.2A-12639.2C</td>\n",
       "      <td>12639.2A</td>\n",
       "    </tr>\n",
       "    <tr>\n",
       "      <th>De ratificaties van tractaten, 1700-1797</th>\n",
       "      <td>Staten-Generaal</td>\n",
       "      <td>Akten van ratificatie te 's-Gravenhage uitgeva...</td>\n",
       "      <td>12639.2A-12639.2C</td>\n",
       "      <td>12639.2B</td>\n",
       "    </tr>\n",
       "    <tr>\n",
       "      <th>De ratificaties van tractaten, 1700-1797</th>\n",
       "      <td>Staten-Generaal</td>\n",
       "      <td>Akten van ratificatie te 's-Gravenhage uitgeva...</td>\n",
       "      <td>12639.2A-12639.2C</td>\n",
       "      <td>12639.2C</td>\n",
       "    </tr>\n",
       "  </tbody>\n",
       "</table>\n",
       "<p>15582 rows × 4 columns</p>\n",
       "</div>"
      ],
      "text/plain": [
       "                                                                                                                 subsubseries  \\\n",
       "series                            subseries                                                                                     \n",
       "Resoluties van de Staten-Generaal De ordinaris resoluties.                  De minuten van de notulen van de vergaderingen...   \n",
       "                                  De ordinaris resoluties.                  De minuten van de notulen van de vergaderingen...   \n",
       "                                  De ordinaris resoluties.                  De minuten van de notulen van de vergaderingen...   \n",
       "                                  De ordinaris resoluties.                  De minuten van de notulen van de vergaderingen...   \n",
       "                                  De ordinaris resoluties.                  De minuten van de notulen van de vergaderingen...   \n",
       "...                                                                                                                       ...   \n",
       "Tractaten en ratificaties         De ratificaties van tractaten, 1700-1797                                    Staten-Generaal   \n",
       "                                  De ratificaties van tractaten, 1700-1797                                    Staten-Generaal   \n",
       "                                  De ratificaties van tractaten, 1700-1797                                    Staten-Generaal   \n",
       "                                  De ratificaties van tractaten, 1700-1797                                    Staten-Generaal   \n",
       "                                  De ratificaties van tractaten, 1700-1797                                    Staten-Generaal   \n",
       "\n",
       "                                                                                                                    filegroup  \\\n",
       "series                            subseries                                                                                     \n",
       "Resoluties van de Staten-Generaal De ordinaris resoluties.                         Registers van ordinaris minuut-resoluties,   \n",
       "                                  De ordinaris resoluties.                         Registers van ordinaris minuut-resoluties,   \n",
       "                                  De ordinaris resoluties.                         Registers van ordinaris minuut-resoluties,   \n",
       "                                  De ordinaris resoluties.                         Registers van ordinaris minuut-resoluties,   \n",
       "                                  De ordinaris resoluties.                         Registers van ordinaris minuut-resoluties,   \n",
       "...                                                                                                                       ...   \n",
       "Tractaten en ratificaties         De ratificaties van tractaten, 1700-1797  Stukken betreffende de bemoeiingen van de Stat...   \n",
       "                                  De ratificaties van tractaten, 1700-1797  Stukken betreffende de bemoeiingen van de Stat...   \n",
       "                                  De ratificaties van tractaten, 1700-1797  Akten van ratificatie te 's-Gravenhage uitgeva...   \n",
       "                                  De ratificaties van tractaten, 1700-1797  Akten van ratificatie te 's-Gravenhage uitgeva...   \n",
       "                                  De ratificaties van tractaten, 1700-1797  Akten van ratificatie te 's-Gravenhage uitgeva...   \n",
       "\n",
       "                                                                              inventory_range  \\\n",
       "series                            subseries                                                     \n",
       "Resoluties van de Staten-Generaal De ordinaris resoluties.                              1-257   \n",
       "                                  De ordinaris resoluties.                              1-257   \n",
       "                                  De ordinaris resoluties.                              1-257   \n",
       "                                  De ordinaris resoluties.                              1-257   \n",
       "                                  De ordinaris resoluties.                              1-257   \n",
       "...                                                                                       ...   \n",
       "Tractaten en ratificaties         De ratificaties van tractaten, 1700-1797  12639.1A-12639.1B   \n",
       "                                  De ratificaties van tractaten, 1700-1797  12639.1A-12639.1B   \n",
       "                                  De ratificaties van tractaten, 1700-1797  12639.2A-12639.2C   \n",
       "                                  De ratificaties van tractaten, 1700-1797  12639.2A-12639.2C   \n",
       "                                  De ratificaties van tractaten, 1700-1797  12639.2A-12639.2C   \n",
       "\n",
       "                                                                           inventory_num  \n",
       "series                            subseries                                               \n",
       "Resoluties van de Staten-Generaal De ordinaris resoluties.                             1  \n",
       "                                  De ordinaris resoluties.                             2  \n",
       "                                  De ordinaris resoluties.                             3  \n",
       "                                  De ordinaris resoluties.                             4  \n",
       "                                  De ordinaris resoluties.                             5  \n",
       "...                                                                                  ...  \n",
       "Tractaten en ratificaties         De ratificaties van tractaten, 1700-1797      12639.1A  \n",
       "                                  De ratificaties van tractaten, 1700-1797      12639.1B  \n",
       "                                  De ratificaties van tractaten, 1700-1797      12639.2A  \n",
       "                                  De ratificaties van tractaten, 1700-1797      12639.2B  \n",
       "                                  De ratificaties van tractaten, 1700-1797      12639.2C  \n",
       "\n",
       "[15582 rows x 4 columns]"
      ]
     },
     "execution_count": 2,
     "metadata": {},
     "output_type": "execute_result"
    }
   ],
   "source": [
    "ead_tsv.set_index(['series', 'subseries'])"
   ]
  },
  {
   "cell_type": "code",
   "execution_count": 3,
   "id": "c4cf7e74",
   "metadata": {},
   "outputs": [],
   "source": [
    "series = ead_tsv.series.value_counts()"
   ]
  },
  {
   "cell_type": "code",
   "execution_count": 4,
   "id": "29f3ee49",
   "metadata": {},
   "outputs": [],
   "source": [
    "subseries = ead_tsv.subseries.value_counts()"
   ]
  },
  {
   "cell_type": "code",
   "execution_count": 5,
   "id": "ccc04e9c",
   "metadata": {},
   "outputs": [],
   "source": [
    "subsubseries = ead_tsv.subsubseries.value_counts()"
   ]
  },
  {
   "cell_type": "code",
   "execution_count": 6,
   "id": "3195d23b",
   "metadata": {},
   "outputs": [
    {
     "data": {
      "application/vnd.plotly.v1+json": {
       "config": {
        "plotlyServerURL": "https://plot.ly"
       },
       "data": [
        {
         "branchvalues": "total",
         "domain": {
          "x": [
           0,
           1
          ],
          "y": [
           0,
           1
          ]
         },
         "hovertemplate": "labels=%{label}<br>count=%{value}<br>parent=%{parent}<br>id=%{id}<extra></extra>",
         "ids": [
          "Resoluties van de Staten-Generaal/De ordinaris resoluties./De minuten van de notulen van de vergaderingen van de Staten-Generaal, 1576-1684.",
          "Resoluties van de Staten-Generaal/De ordinaris resoluties./De \"Eerste Minuten\" en de \"Geresumeerde Minuten\" van  de Vergaderingen van de Staten-Generaal, 1671-1796",
          "Resoluties van de Staten-Generaal/De ordinaris resoluties./1576-1671",
          "Resoluties van de Staten-Generaal/De ordinaris resoluties./De tweede serie registers van ordinaris net-resoluties  van de Staten-Generaal, 1637-1795",
          "Resoluties van de Staten-Generaal/De ordinaris resoluties./Repertoria op de resoluties van de Staten-Generaal  over langere termijn dan één jaar samengesteld. \"Index Rerum\", \"Indices  Minuteel\", op de ordinaris resoluties, volgens \"Respecten\"  (rubrieken)",
          "Resoluties van de Staten-Generaal/De ordinaris resoluties./De gedrukte resoluties van de Staten-Generaal",
          "Resoluties van de Staten-Generaal/De ordinaris resoluties./De indices van zaken op de gedrukte resoluties van de  Staten-Generaal over een langere termijn dan één jaar samengesteld.",
          "Resoluties van de Staten-Generaal/De ordinaris resoluties./De dubbele registers van ordinaris resoluties van de  Staten-Generaal",
          "Resoluties van de Staten-Generaal/De secrete resoluties/De minuten van de secrete notulen van de  Staten-Generaal, 1592-1670",
          "Resoluties van de Staten-Generaal/De secrete resoluties/1671-1796",
          "Resoluties van de Staten-Generaal/De secrete resoluties/1592-1796",
          "Resoluties van de Staten-Generaal/De secrete resoluties/Algemene indices op de secrete-resoluties van de  Staten-Generaal over langere termijn dan één jaar samengesteld",
          "De bijlagen bij de resoluties van de Staten-Generaal/De ingekomen brieven en stukken en minuten van uitgaande brieven, verzameld in de \"liassen\"/De Liassen Binnenland",
          "De bijlagen bij de resoluties van de Staten-Generaal/De ingekomen brieven en stukken en minuten van uitgaande brieven, verzameld in de \"liassen\"/De Liassen Buitenland",
          "De bijlagen bij de resoluties van de Staten-Generaal/De ingekomen brieven en stukken en minuten van uitgaande brieven, verzameld in de \"liassen\"/1600-1795",
          "De bijlagen bij de resoluties van de Staten-Generaal/De ingekomen delen en dossiers, afzonderlijk verzameld in series/De staten van oorlog te land en ter zee",
          "De bijlagen bij de resoluties van de Staten-Generaal/De ingekomen delen en dossiers, afzonderlijk verzameld in series/Verbalen en rapporten van Nederlandse vertegenwoordigers in den vreemde (buitenlandse verbalen)",
          "De bijlagen bij de resoluties van de Staten-Generaal/De ingekomen delen en dossiers, afzonderlijk verzameld in series/Verbalen en rapporten van bezendingen van de Staten-Generaal aan de provincies en Generaliteitslanden (binnenlandse verbalen)",
          "De bijlagen bij de resoluties van de Staten-Generaal/De ingekomen delen en dossiers, afzonderlijk verzameld in series/Rapporten en memories van advocaten-fiscaal betreffende zaken van verraad in de Republiek",
          "De bijlagen bij de resoluties van de Staten-Generaal/De ingekomen delen en dossiers, afzonderlijk verzameld in series/Verbalen, journalen, memories en rapporten betreffende het beleid van de Admiraliteiten en de krijgsverrichtingen van de Staatse vloot",
          "De bijlagen bij de resoluties van de Staten-Generaal/De ingekomen delen en dossiers, afzonderlijk verzameld in series/Verbalen, rapporten, memories en andere ingekomen stukken betreffende het beleid van de West-Indische Compagnie",
          "De bijlagen bij de resoluties van de Staten-Generaal/De ingekomen delen en dossiers, afzonderlijk verzameld in series/Verbalen, rapporten en andere ingekomen stukken betreffende het beleid van de Oost-Indische Compagnie",
          "De bijlagen bij de resoluties van de Staten-Generaal/De ingekomen delen en dossiers, afzonderlijk verzameld in series/Verbalen, rapporten en memories van de commissies van de Staten-Generaal betreffende het Defensie- en Financiewezen van de Staat",
          "De bijlagen bij de resoluties van de Staten-Generaal/De ingekomen delen en dossiers, afzonderlijk verzameld in series/Processtukken van de Staten-Generaal",
          "De bijlagen bij de resoluties van de Staten-Generaal/De ingekomen delen en dossiers, afzonderlijk verzameld in series/Rekeningen ingeleverd bij de Staten-Generaal",
          "De bijlagen bij de resoluties van de Staten-Generaal/De minuten van uitgaande brieven van de Staten-Generaal/Minuten van algemene aard",
          "De bijlagen bij de resoluties van de Staten-Generaal/De minuten van uitgaande brieven van de Staten-Generaal/Minuten van bijzondere aard",
          "De depêcheboeken en de brievenboeken van de Staten-Generaal/De depêcheboeken/Ordinaris depêcheboeken",
          "De depêcheboeken en de brievenboeken van de Staten-Generaal/De depêcheboeken/Franse depêcheboeken",
          "De depêcheboeken en de brievenboeken van de Staten-Generaal/De depêcheboeken/Engelse depêcheboeken",
          "De depêcheboeken en de brievenboeken van de Staten-Generaal/De depêcheboeken/Hoogduitse depêcheboeken",
          "De depêcheboeken en de brievenboeken van de Staten-Generaal/De brievenboeken/Registers van ingekomen ordinarisbrieven",
          "De depêcheboeken en de brievenboeken van de Staten-Generaal/De brievenboeken/Registers van ingekomen secrete brieven",
          "De depêcheboeken en de brievenboeken van de Staten-Generaal/De brievenboeken/Registers van ingekomen ordinarisbrieven uit verschillende landen en plaatsen",
          "De depêcheboeken en de brievenboeken van de Staten-Generaal/De brievenboeken/Registers van uitgaande ordinarisbrieven",
          "De depêcheboeken en de brievenboeken van de Staten-Generaal/Gedrukte publicaties uitgaande van de Staten-Generaal/Gedrukte nouvelles van Nederlandse gezanten in den vreemde",
          "De depêcheboeken en de brievenboeken van de Staten-Generaal/Gedrukte publicaties uitgaande van de Staten-Generaal/Gedrukte plakkaten",
          "De Loketkas en de Secrete kas van de Staten-Generaal/Stukken afkomstig van de Spaanse Regering in de Nederlanden, opgenomen in de Loketkas van de Staten-Generaal, 1431-1576 augustus, overgebracht naar de archieven van de Spaans-Nederlandse Regering in Brussel, nummer toegang 1.01.01.13./Stukken betreffende het bewind van keizer Karel V",
          "De Loketkas en de Secrete kas van de Staten-Generaal/Stukken afkomstig van de Regeringsarchieven van de Geünieerde en van de Nader-Geünieerde Nederlandse Provinciën, opgenomen in de Loketkas en de Secrete kas van de Staten-Generaal, 1576 september - 1588 mei. Deze stukken zijn in 1974 overgebracht naar Regeringsarchieven./De Staten-Generaal",
          "De Loketkas en de Secrete kas van de Staten-Generaal/Stukken afkomstig van de Regeringsarchieven van de Geünieerde en van de Nader-Geünieerde Nederlandse Provinciën, opgenomen in de Loketkas en de Secrete kas van de Staten-Generaal, 1576 september - 1588 mei. Deze stukken zijn in 1974 overgebracht naar Regeringsarchieven./Generale Landraad, 1581-1582",
          "De Loketkas en de Secrete kas van de Staten-Generaal/Stukken afkomstig van de Regeringsarchieven van de Geünieerde en van de Nader-Geünieerde Nederlandse Provinciën, opgenomen in de Loketkas en de Secrete kas van de Staten-Generaal, 1576 september - 1588 mei. Deze stukken zijn in 1974 overgebracht naar Regeringsarchieven./De kamer van de tresorie van deze landen, 1586. De kamer van de financiën en domeinen, 1586. De kamer van de tresorie, 1586-1588",
          "De Loketkas en de Secrete kas van de Staten-Generaal/Stukken afkomstig van de Staten-Generaal onder verschillende respecten opgenomen in de Loketkas en de Secrete kas van de Staten-Generaal 1588 juni - ca. 1795/'Loopende'",
          "De Loketkas en de Secrete kas van de Staten-Generaal/Stukken afkomstig van de Staten-Generaal onder verschillende respecten opgenomen in de Loketkas en de Secrete kas van de Staten-Generaal 1588 juni - ca. 1795/Processen",
          "De Loketkas en de Secrete kas van de Staten-Generaal/Stukken afkomstig van de Staten-Generaal onder verschillende respecten opgenomen in de Loketkas en de Secrete kas van de Staten-Generaal 1588 juni - ca. 1795/Admiraliteitsstukken",
          "De Loketkas en de Secrete kas van de Staten-Generaal/Stukken afkomstig van de Staten-Generaal onder verschillende respecten opgenomen in de Loketkas en de Secrete kas van de Staten-Generaal 1588 juni - ca. 1795/Oost-Indische Compagnie",
          "De Loketkas en de Secrete kas van de Staten-Generaal/Stukken afkomstig van de Staten-Generaal onder verschillende respecten opgenomen in de Loketkas en de Secrete kas van de Staten-Generaal 1588 juni - ca. 1795/West-Indische Compagnie",
          "De Loketkas en de Secrete kas van de Staten-Generaal/Stukken afkomstig van de Staten-Generaal onder verschillende respecten opgenomen in de Loketkas en de Secrete kas van de Staten-Generaal 1588 juni - ca. 1795/Generaliteitslanden",
          "De Loketkas en de Secrete kas van de Staten-Generaal/Stukken afkomstig van de Staten-Generaal onder verschillende respecten opgenomen in de Loketkas en de Secrete kas van de Staten-Generaal 1588 juni - ca. 1795/Oost-Friesland",
          "De Loketkas en de Secrete kas van de Staten-Generaal/Stukken afkomstig van de Staten-Generaal onder verschillende respecten opgenomen in de Loketkas en de Secrete kas van de Staten-Generaal 1588 juni - ca. 1795/Noord, Midden- en Oost-Europa, Oostzeegebied",
          "De Loketkas en de Secrete kas van de Staten-Generaal/Stukken afkomstig van de Staten-Generaal onder verschillende respecten opgenomen in de Loketkas en de Secrete kas van de Staten-Generaal 1588 juni - ca. 1795/West-Europalanden aan de Atlantische Oceaan",
          "De Loketkas en de Secrete kas van de Staten-Generaal/Stukken afkomstig van de Staten-Generaal onder verschillende respecten opgenomen in de Loketkas en de Secrete kas van de Staten-Generaal 1588 juni - ca. 1795/Zuid-, Zuid-Oost Europa en Noord-Afrika, Middellandse Zeegebied",
          "De Loketkas en de Secrete kas van de Staten-Generaal/Stukken afkomstig van de Staten-Generaal onder verschillende respecten opgenomen in de Loketkas en de Secrete kas van de Staten-Generaal 1588 juni - ca. 1795/Azië",
          "De Loketkas en de Secrete kas van de Staten-Generaal/Stukken afkomstig van de Staten-Generaal onder verschillende respecten opgenomen in de Loketkas en de Secrete kas van de Staten-Generaal 1588 juni - ca. 1795/Obligaties",
          "Tractaten en ratificaties/De ratificaties van tractaten, 1700-1797/Duitsland",
          "Tractaten en ratificaties/De ratificaties van tractaten, 1700-1797/Frankrijk",
          "Tractaten en ratificaties/De ratificaties van tractaten, 1700-1797/Spanje",
          "Tractaten en ratificaties/De ratificaties van tractaten, 1700-1797/Italië",
          "Tractaten en ratificaties/De ratificaties van tractaten, 1700-1797/Staten-Generaal",
          "Resoluties van de Staten-Generaal/De ordinaris resoluties.",
          "Resoluties van de Staten-Generaal/De secrete resoluties",
          "De bijlagen bij de resoluties van de Staten-Generaal/De ingekomen brieven en stukken en minuten van uitgaande brieven, verzameld in de \"liassen\"",
          "De bijlagen bij de resoluties van de Staten-Generaal/De ingekomen delen en dossiers, afzonderlijk verzameld in series",
          "De bijlagen bij de resoluties van de Staten-Generaal/De minuten van uitgaande brieven van de Staten-Generaal",
          "De depêcheboeken en de brievenboeken van de Staten-Generaal/De depêcheboeken",
          "De depêcheboeken en de brievenboeken van de Staten-Generaal/De brievenboeken",
          "De depêcheboeken en de brievenboeken van de Staten-Generaal/Gedrukte publicaties uitgaande van de Staten-Generaal",
          "De Loketkas en de Secrete kas van de Staten-Generaal/Stukken afkomstig van de Spaanse Regering in de Nederlanden, opgenomen in de Loketkas van de Staten-Generaal, 1431-1576 augustus, overgebracht naar de archieven van de Spaans-Nederlandse Regering in Brussel, nummer toegang 1.01.01.13.",
          "De Loketkas en de Secrete kas van de Staten-Generaal/Stukken afkomstig van de Regeringsarchieven van de Geünieerde en van de Nader-Geünieerde Nederlandse Provinciën, opgenomen in de Loketkas en de Secrete kas van de Staten-Generaal, 1576 september - 1588 mei. Deze stukken zijn in 1974 overgebracht naar Regeringsarchieven.",
          "De Loketkas en de Secrete kas van de Staten-Generaal/Stukken afkomstig van de Staten-Generaal onder verschillende respecten opgenomen in de Loketkas en de Secrete kas van de Staten-Generaal 1588 juni - ca. 1795",
          "Tractaten en ratificaties/De ratificaties van tractaten, 1700-1797",
          "Resoluties van de Staten-Generaal",
          "De bijlagen bij de resoluties van de Staten-Generaal",
          "De depêcheboeken en de brievenboeken van de Staten-Generaal",
          "De Loketkas en de Secrete kas van de Staten-Generaal",
          "Tractaten en ratificaties"
         ],
         "labels": [
          "De minuten van de notulen van de vergaderingen van de Staten-Generaal, 1576-1684.",
          "De \"Eerste Minuten\" en de \"Geresumeerde Minuten\" van  de Vergaderingen van de Staten-Generaal, 1671-1796",
          "1576-1671",
          "De tweede serie registers van ordinaris net-resoluties  van de Staten-Generaal, 1637-1795",
          "Repertoria op de resoluties van de Staten-Generaal  over langere termijn dan één jaar samengesteld. \"Index Rerum\", \"Indices  Minuteel\", op de ordinaris resoluties, volgens \"Respecten\"  (rubrieken)",
          "De gedrukte resoluties van de Staten-Generaal",
          "De indices van zaken op de gedrukte resoluties van de  Staten-Generaal over een langere termijn dan één jaar samengesteld.",
          "De dubbele registers van ordinaris resoluties van de  Staten-Generaal",
          "De minuten van de secrete notulen van de  Staten-Generaal, 1592-1670",
          "1671-1796",
          "1592-1796",
          "Algemene indices op de secrete-resoluties van de  Staten-Generaal over langere termijn dan één jaar samengesteld",
          "De Liassen Binnenland",
          "De Liassen Buitenland",
          "1600-1795",
          "De staten van oorlog te land en ter zee",
          "Verbalen en rapporten van Nederlandse vertegenwoordigers in den vreemde (buitenlandse verbalen)",
          "Verbalen en rapporten van bezendingen van de Staten-Generaal aan de provincies en Generaliteitslanden (binnenlandse verbalen)",
          "Rapporten en memories van advocaten-fiscaal betreffende zaken van verraad in de Republiek",
          "Verbalen, journalen, memories en rapporten betreffende het beleid van de Admiraliteiten en de krijgsverrichtingen van de Staatse vloot",
          "Verbalen, rapporten, memories en andere ingekomen stukken betreffende het beleid van de West-Indische Compagnie",
          "Verbalen, rapporten en andere ingekomen stukken betreffende het beleid van de Oost-Indische Compagnie",
          "Verbalen, rapporten en memories van de commissies van de Staten-Generaal betreffende het Defensie- en Financiewezen van de Staat",
          "Processtukken van de Staten-Generaal",
          "Rekeningen ingeleverd bij de Staten-Generaal",
          "Minuten van algemene aard",
          "Minuten van bijzondere aard",
          "Ordinaris depêcheboeken",
          "Franse depêcheboeken",
          "Engelse depêcheboeken",
          "Hoogduitse depêcheboeken",
          "Registers van ingekomen ordinarisbrieven",
          "Registers van ingekomen secrete brieven",
          "Registers van ingekomen ordinarisbrieven uit verschillende landen en plaatsen",
          "Registers van uitgaande ordinarisbrieven",
          "Gedrukte nouvelles van Nederlandse gezanten in den vreemde",
          "Gedrukte plakkaten",
          "Stukken betreffende het bewind van keizer Karel V",
          "De Staten-Generaal",
          "Generale Landraad, 1581-1582",
          "De kamer van de tresorie van deze landen, 1586. De kamer van de financiën en domeinen, 1586. De kamer van de tresorie, 1586-1588",
          "'Loopende'",
          "Processen",
          "Admiraliteitsstukken",
          "Oost-Indische Compagnie",
          "West-Indische Compagnie",
          "Generaliteitslanden",
          "Oost-Friesland",
          "Noord, Midden- en Oost-Europa, Oostzeegebied",
          "West-Europalanden aan de Atlantische Oceaan",
          "Zuid-, Zuid-Oost Europa en Noord-Afrika, Middellandse Zeegebied",
          "Azië",
          "Obligaties",
          "Duitsland",
          "Frankrijk",
          "Spanje",
          "Italië",
          "Staten-Generaal",
          "De ordinaris resoluties.",
          "De secrete resoluties",
          "De ingekomen brieven en stukken en minuten van uitgaande brieven, verzameld in de \"liassen\"",
          "De ingekomen delen en dossiers, afzonderlijk verzameld in series",
          "De minuten van uitgaande brieven van de Staten-Generaal",
          "De depêcheboeken",
          "De brievenboeken",
          "Gedrukte publicaties uitgaande van de Staten-Generaal",
          "Stukken afkomstig van de Spaanse Regering in de Nederlanden, opgenomen in de Loketkas van de Staten-Generaal, 1431-1576 augustus, overgebracht naar de archieven van de Spaans-Nederlandse Regering in Brussel, nummer toegang 1.01.01.13.",
          "Stukken afkomstig van de Regeringsarchieven van de Geünieerde en van de Nader-Geünieerde Nederlandse Provinciën, opgenomen in de Loketkas en de Secrete kas van de Staten-Generaal, 1576 september - 1588 mei. Deze stukken zijn in 1974 overgebracht naar Regeringsarchieven.",
          "Stukken afkomstig van de Staten-Generaal onder verschillende respecten opgenomen in de Loketkas en de Secrete kas van de Staten-Generaal 1588 juni - ca. 1795",
          "De ratificaties van tractaten, 1700-1797",
          "Resoluties van de Staten-Generaal",
          "De bijlagen bij de resoluties van de Staten-Generaal",
          "De depêcheboeken en de brievenboeken van de Staten-Generaal",
          "De Loketkas en de Secrete kas van de Staten-Generaal",
          "Tractaten en ratificaties"
         ],
         "name": "",
         "parents": [
          "Resoluties van de Staten-Generaal/De ordinaris resoluties.",
          "Resoluties van de Staten-Generaal/De ordinaris resoluties.",
          "Resoluties van de Staten-Generaal/De ordinaris resoluties.",
          "Resoluties van de Staten-Generaal/De ordinaris resoluties.",
          "Resoluties van de Staten-Generaal/De ordinaris resoluties.",
          "Resoluties van de Staten-Generaal/De ordinaris resoluties.",
          "Resoluties van de Staten-Generaal/De ordinaris resoluties.",
          "Resoluties van de Staten-Generaal/De ordinaris resoluties.",
          "Resoluties van de Staten-Generaal/De secrete resoluties",
          "Resoluties van de Staten-Generaal/De secrete resoluties",
          "Resoluties van de Staten-Generaal/De secrete resoluties",
          "Resoluties van de Staten-Generaal/De secrete resoluties",
          "De bijlagen bij de resoluties van de Staten-Generaal/De ingekomen brieven en stukken en minuten van uitgaande brieven, verzameld in de \"liassen\"",
          "De bijlagen bij de resoluties van de Staten-Generaal/De ingekomen brieven en stukken en minuten van uitgaande brieven, verzameld in de \"liassen\"",
          "De bijlagen bij de resoluties van de Staten-Generaal/De ingekomen brieven en stukken en minuten van uitgaande brieven, verzameld in de \"liassen\"",
          "De bijlagen bij de resoluties van de Staten-Generaal/De ingekomen delen en dossiers, afzonderlijk verzameld in series",
          "De bijlagen bij de resoluties van de Staten-Generaal/De ingekomen delen en dossiers, afzonderlijk verzameld in series",
          "De bijlagen bij de resoluties van de Staten-Generaal/De ingekomen delen en dossiers, afzonderlijk verzameld in series",
          "De bijlagen bij de resoluties van de Staten-Generaal/De ingekomen delen en dossiers, afzonderlijk verzameld in series",
          "De bijlagen bij de resoluties van de Staten-Generaal/De ingekomen delen en dossiers, afzonderlijk verzameld in series",
          "De bijlagen bij de resoluties van de Staten-Generaal/De ingekomen delen en dossiers, afzonderlijk verzameld in series",
          "De bijlagen bij de resoluties van de Staten-Generaal/De ingekomen delen en dossiers, afzonderlijk verzameld in series",
          "De bijlagen bij de resoluties van de Staten-Generaal/De ingekomen delen en dossiers, afzonderlijk verzameld in series",
          "De bijlagen bij de resoluties van de Staten-Generaal/De ingekomen delen en dossiers, afzonderlijk verzameld in series",
          "De bijlagen bij de resoluties van de Staten-Generaal/De ingekomen delen en dossiers, afzonderlijk verzameld in series",
          "De bijlagen bij de resoluties van de Staten-Generaal/De minuten van uitgaande brieven van de Staten-Generaal",
          "De bijlagen bij de resoluties van de Staten-Generaal/De minuten van uitgaande brieven van de Staten-Generaal",
          "De depêcheboeken en de brievenboeken van de Staten-Generaal/De depêcheboeken",
          "De depêcheboeken en de brievenboeken van de Staten-Generaal/De depêcheboeken",
          "De depêcheboeken en de brievenboeken van de Staten-Generaal/De depêcheboeken",
          "De depêcheboeken en de brievenboeken van de Staten-Generaal/De depêcheboeken",
          "De depêcheboeken en de brievenboeken van de Staten-Generaal/De brievenboeken",
          "De depêcheboeken en de brievenboeken van de Staten-Generaal/De brievenboeken",
          "De depêcheboeken en de brievenboeken van de Staten-Generaal/De brievenboeken",
          "De depêcheboeken en de brievenboeken van de Staten-Generaal/De brievenboeken",
          "De depêcheboeken en de brievenboeken van de Staten-Generaal/Gedrukte publicaties uitgaande van de Staten-Generaal",
          "De depêcheboeken en de brievenboeken van de Staten-Generaal/Gedrukte publicaties uitgaande van de Staten-Generaal",
          "De Loketkas en de Secrete kas van de Staten-Generaal/Stukken afkomstig van de Spaanse Regering in de Nederlanden, opgenomen in de Loketkas van de Staten-Generaal, 1431-1576 augustus, overgebracht naar de archieven van de Spaans-Nederlandse Regering in Brussel, nummer toegang 1.01.01.13.",
          "De Loketkas en de Secrete kas van de Staten-Generaal/Stukken afkomstig van de Regeringsarchieven van de Geünieerde en van de Nader-Geünieerde Nederlandse Provinciën, opgenomen in de Loketkas en de Secrete kas van de Staten-Generaal, 1576 september - 1588 mei. Deze stukken zijn in 1974 overgebracht naar Regeringsarchieven.",
          "De Loketkas en de Secrete kas van de Staten-Generaal/Stukken afkomstig van de Regeringsarchieven van de Geünieerde en van de Nader-Geünieerde Nederlandse Provinciën, opgenomen in de Loketkas en de Secrete kas van de Staten-Generaal, 1576 september - 1588 mei. Deze stukken zijn in 1974 overgebracht naar Regeringsarchieven.",
          "De Loketkas en de Secrete kas van de Staten-Generaal/Stukken afkomstig van de Regeringsarchieven van de Geünieerde en van de Nader-Geünieerde Nederlandse Provinciën, opgenomen in de Loketkas en de Secrete kas van de Staten-Generaal, 1576 september - 1588 mei. Deze stukken zijn in 1974 overgebracht naar Regeringsarchieven.",
          "De Loketkas en de Secrete kas van de Staten-Generaal/Stukken afkomstig van de Staten-Generaal onder verschillende respecten opgenomen in de Loketkas en de Secrete kas van de Staten-Generaal 1588 juni - ca. 1795",
          "De Loketkas en de Secrete kas van de Staten-Generaal/Stukken afkomstig van de Staten-Generaal onder verschillende respecten opgenomen in de Loketkas en de Secrete kas van de Staten-Generaal 1588 juni - ca. 1795",
          "De Loketkas en de Secrete kas van de Staten-Generaal/Stukken afkomstig van de Staten-Generaal onder verschillende respecten opgenomen in de Loketkas en de Secrete kas van de Staten-Generaal 1588 juni - ca. 1795",
          "De Loketkas en de Secrete kas van de Staten-Generaal/Stukken afkomstig van de Staten-Generaal onder verschillende respecten opgenomen in de Loketkas en de Secrete kas van de Staten-Generaal 1588 juni - ca. 1795",
          "De Loketkas en de Secrete kas van de Staten-Generaal/Stukken afkomstig van de Staten-Generaal onder verschillende respecten opgenomen in de Loketkas en de Secrete kas van de Staten-Generaal 1588 juni - ca. 1795",
          "De Loketkas en de Secrete kas van de Staten-Generaal/Stukken afkomstig van de Staten-Generaal onder verschillende respecten opgenomen in de Loketkas en de Secrete kas van de Staten-Generaal 1588 juni - ca. 1795",
          "De Loketkas en de Secrete kas van de Staten-Generaal/Stukken afkomstig van de Staten-Generaal onder verschillende respecten opgenomen in de Loketkas en de Secrete kas van de Staten-Generaal 1588 juni - ca. 1795",
          "De Loketkas en de Secrete kas van de Staten-Generaal/Stukken afkomstig van de Staten-Generaal onder verschillende respecten opgenomen in de Loketkas en de Secrete kas van de Staten-Generaal 1588 juni - ca. 1795",
          "De Loketkas en de Secrete kas van de Staten-Generaal/Stukken afkomstig van de Staten-Generaal onder verschillende respecten opgenomen in de Loketkas en de Secrete kas van de Staten-Generaal 1588 juni - ca. 1795",
          "De Loketkas en de Secrete kas van de Staten-Generaal/Stukken afkomstig van de Staten-Generaal onder verschillende respecten opgenomen in de Loketkas en de Secrete kas van de Staten-Generaal 1588 juni - ca. 1795",
          "De Loketkas en de Secrete kas van de Staten-Generaal/Stukken afkomstig van de Staten-Generaal onder verschillende respecten opgenomen in de Loketkas en de Secrete kas van de Staten-Generaal 1588 juni - ca. 1795",
          "De Loketkas en de Secrete kas van de Staten-Generaal/Stukken afkomstig van de Staten-Generaal onder verschillende respecten opgenomen in de Loketkas en de Secrete kas van de Staten-Generaal 1588 juni - ca. 1795",
          "Tractaten en ratificaties/De ratificaties van tractaten, 1700-1797",
          "Tractaten en ratificaties/De ratificaties van tractaten, 1700-1797",
          "Tractaten en ratificaties/De ratificaties van tractaten, 1700-1797",
          "Tractaten en ratificaties/De ratificaties van tractaten, 1700-1797",
          "Tractaten en ratificaties/De ratificaties van tractaten, 1700-1797",
          "Resoluties van de Staten-Generaal",
          "Resoluties van de Staten-Generaal",
          "De bijlagen bij de resoluties van de Staten-Generaal",
          "De bijlagen bij de resoluties van de Staten-Generaal",
          "De bijlagen bij de resoluties van de Staten-Generaal",
          "De depêcheboeken en de brievenboeken van de Staten-Generaal",
          "De depêcheboeken en de brievenboeken van de Staten-Generaal",
          "De depêcheboeken en de brievenboeken van de Staten-Generaal",
          "De Loketkas en de Secrete kas van de Staten-Generaal",
          "De Loketkas en de Secrete kas van de Staten-Generaal",
          "De Loketkas en de Secrete kas van de Staten-Generaal",
          "Tractaten en ratificaties",
          "",
          "",
          "",
          "",
          ""
         ],
         "type": "sunburst",
         "values": {
          "bdata": "AAAAAAAgcEAAAAAAACymQAAAAAAAAF9AAAAAAABge0AAAAAAAABGQAAAAAAAQFpAAAAAAAAAEEAAAAAAAIBBQAAAAAAAACRAAAAAAAAwhEAAAAAAAMBtQAAAAAAAACBAAAAAAADAj0AAAAAAAFCZQAAAAAAAsIFAAAAAAAAgcEAAAAAAAMB1QAAAAAAAoHJAAAAAAAAACEAAAAAAAOBmQAAAAAAAACBAAAAAAAAAKEAAAAAAAAAcQAAAAAAAoGZAAAAAAACElkAAAAAAAAAsQAAAAAAAAPA/AAAAAAAAJkAAAAAAAAAcQAAAAAAAABxAAAAAAAAAFEAAAAAAAECBQAAAAAAAgGRAAAAAAADAV0AAAAAAAKBiQAAAAAAAQFNAAAAAAAAAU0AAAAAAAAAAQAAAAAAAAFRAAAAAAAAAEEAAAAAAAAAYQAAAAAAAYHhAAAAAAAAANEAAAAAAAABHQAAAAAAAADBAAAAAAAAAEEAAAAAAAHB/QAAAAAAAACRAAAAAAAB8kEAAAAAAAOCRQAAAAAAAQHJAAAAAAAAAHEAAAAAAAAAIQAAAAAAAwF5AAAAAAAAACEAAAAAAAAAAQAAAAAAAADRAAAAAAAAAFEAAAAAAAAyuQAAAAAAAMIxAAAAAAAAEqUAAAAAAAGalQAAAAAAAAC5AAAAAAAAAPkAAAAAAAACOQAAAAAAAIGNAAAAAAAAAAEAAAAAAAIBWQAAAAAAARKtAAAAAAAAgY0AAAAAAAIyyQAAAAAAARLdAAAAAAADckUAAAAAAAPyrQAAAAAAAIGNA",
          "dtype": "f8"
         }
        }
       ],
       "layout": {
        "legend": {
         "tracegroupgap": 0
        },
        "margin": {
         "b": 25,
         "l": 25,
         "r": 25,
         "t": 50
        },
        "template": {
         "data": {
          "bar": [
           {
            "error_x": {
             "color": "#2a3f5f"
            },
            "error_y": {
             "color": "#2a3f5f"
            },
            "marker": {
             "line": {
              "color": "#E5ECF6",
              "width": 0.5
             },
             "pattern": {
              "fillmode": "overlay",
              "size": 10,
              "solidity": 0.2
             }
            },
            "type": "bar"
           }
          ],
          "barpolar": [
           {
            "marker": {
             "line": {
              "color": "#E5ECF6",
              "width": 0.5
             },
             "pattern": {
              "fillmode": "overlay",
              "size": 10,
              "solidity": 0.2
             }
            },
            "type": "barpolar"
           }
          ],
          "carpet": [
           {
            "aaxis": {
             "endlinecolor": "#2a3f5f",
             "gridcolor": "white",
             "linecolor": "white",
             "minorgridcolor": "white",
             "startlinecolor": "#2a3f5f"
            },
            "baxis": {
             "endlinecolor": "#2a3f5f",
             "gridcolor": "white",
             "linecolor": "white",
             "minorgridcolor": "white",
             "startlinecolor": "#2a3f5f"
            },
            "type": "carpet"
           }
          ],
          "choropleth": [
           {
            "colorbar": {
             "outlinewidth": 0,
             "ticks": ""
            },
            "type": "choropleth"
           }
          ],
          "contour": [
           {
            "colorbar": {
             "outlinewidth": 0,
             "ticks": ""
            },
            "colorscale": [
             [
              0,
              "#0d0887"
             ],
             [
              0.1111111111111111,
              "#46039f"
             ],
             [
              0.2222222222222222,
              "#7201a8"
             ],
             [
              0.3333333333333333,
              "#9c179e"
             ],
             [
              0.4444444444444444,
              "#bd3786"
             ],
             [
              0.5555555555555556,
              "#d8576b"
             ],
             [
              0.6666666666666666,
              "#ed7953"
             ],
             [
              0.7777777777777778,
              "#fb9f3a"
             ],
             [
              0.8888888888888888,
              "#fdca26"
             ],
             [
              1,
              "#f0f921"
             ]
            ],
            "type": "contour"
           }
          ],
          "contourcarpet": [
           {
            "colorbar": {
             "outlinewidth": 0,
             "ticks": ""
            },
            "type": "contourcarpet"
           }
          ],
          "heatmap": [
           {
            "colorbar": {
             "outlinewidth": 0,
             "ticks": ""
            },
            "colorscale": [
             [
              0,
              "#0d0887"
             ],
             [
              0.1111111111111111,
              "#46039f"
             ],
             [
              0.2222222222222222,
              "#7201a8"
             ],
             [
              0.3333333333333333,
              "#9c179e"
             ],
             [
              0.4444444444444444,
              "#bd3786"
             ],
             [
              0.5555555555555556,
              "#d8576b"
             ],
             [
              0.6666666666666666,
              "#ed7953"
             ],
             [
              0.7777777777777778,
              "#fb9f3a"
             ],
             [
              0.8888888888888888,
              "#fdca26"
             ],
             [
              1,
              "#f0f921"
             ]
            ],
            "type": "heatmap"
           }
          ],
          "histogram": [
           {
            "marker": {
             "pattern": {
              "fillmode": "overlay",
              "size": 10,
              "solidity": 0.2
             }
            },
            "type": "histogram"
           }
          ],
          "histogram2d": [
           {
            "colorbar": {
             "outlinewidth": 0,
             "ticks": ""
            },
            "colorscale": [
             [
              0,
              "#0d0887"
             ],
             [
              0.1111111111111111,
              "#46039f"
             ],
             [
              0.2222222222222222,
              "#7201a8"
             ],
             [
              0.3333333333333333,
              "#9c179e"
             ],
             [
              0.4444444444444444,
              "#bd3786"
             ],
             [
              0.5555555555555556,
              "#d8576b"
             ],
             [
              0.6666666666666666,
              "#ed7953"
             ],
             [
              0.7777777777777778,
              "#fb9f3a"
             ],
             [
              0.8888888888888888,
              "#fdca26"
             ],
             [
              1,
              "#f0f921"
             ]
            ],
            "type": "histogram2d"
           }
          ],
          "histogram2dcontour": [
           {
            "colorbar": {
             "outlinewidth": 0,
             "ticks": ""
            },
            "colorscale": [
             [
              0,
              "#0d0887"
             ],
             [
              0.1111111111111111,
              "#46039f"
             ],
             [
              0.2222222222222222,
              "#7201a8"
             ],
             [
              0.3333333333333333,
              "#9c179e"
             ],
             [
              0.4444444444444444,
              "#bd3786"
             ],
             [
              0.5555555555555556,
              "#d8576b"
             ],
             [
              0.6666666666666666,
              "#ed7953"
             ],
             [
              0.7777777777777778,
              "#fb9f3a"
             ],
             [
              0.8888888888888888,
              "#fdca26"
             ],
             [
              1,
              "#f0f921"
             ]
            ],
            "type": "histogram2dcontour"
           }
          ],
          "mesh3d": [
           {
            "colorbar": {
             "outlinewidth": 0,
             "ticks": ""
            },
            "type": "mesh3d"
           }
          ],
          "parcoords": [
           {
            "line": {
             "colorbar": {
              "outlinewidth": 0,
              "ticks": ""
             }
            },
            "type": "parcoords"
           }
          ],
          "pie": [
           {
            "automargin": true,
            "type": "pie"
           }
          ],
          "scatter": [
           {
            "fillpattern": {
             "fillmode": "overlay",
             "size": 10,
             "solidity": 0.2
            },
            "type": "scatter"
           }
          ],
          "scatter3d": [
           {
            "line": {
             "colorbar": {
              "outlinewidth": 0,
              "ticks": ""
             }
            },
            "marker": {
             "colorbar": {
              "outlinewidth": 0,
              "ticks": ""
             }
            },
            "type": "scatter3d"
           }
          ],
          "scattercarpet": [
           {
            "marker": {
             "colorbar": {
              "outlinewidth": 0,
              "ticks": ""
             }
            },
            "type": "scattercarpet"
           }
          ],
          "scattergeo": [
           {
            "marker": {
             "colorbar": {
              "outlinewidth": 0,
              "ticks": ""
             }
            },
            "type": "scattergeo"
           }
          ],
          "scattergl": [
           {
            "marker": {
             "colorbar": {
              "outlinewidth": 0,
              "ticks": ""
             }
            },
            "type": "scattergl"
           }
          ],
          "scattermap": [
           {
            "marker": {
             "colorbar": {
              "outlinewidth": 0,
              "ticks": ""
             }
            },
            "type": "scattermap"
           }
          ],
          "scattermapbox": [
           {
            "marker": {
             "colorbar": {
              "outlinewidth": 0,
              "ticks": ""
             }
            },
            "type": "scattermapbox"
           }
          ],
          "scatterpolar": [
           {
            "marker": {
             "colorbar": {
              "outlinewidth": 0,
              "ticks": ""
             }
            },
            "type": "scatterpolar"
           }
          ],
          "scatterpolargl": [
           {
            "marker": {
             "colorbar": {
              "outlinewidth": 0,
              "ticks": ""
             }
            },
            "type": "scatterpolargl"
           }
          ],
          "scatterternary": [
           {
            "marker": {
             "colorbar": {
              "outlinewidth": 0,
              "ticks": ""
             }
            },
            "type": "scatterternary"
           }
          ],
          "surface": [
           {
            "colorbar": {
             "outlinewidth": 0,
             "ticks": ""
            },
            "colorscale": [
             [
              0,
              "#0d0887"
             ],
             [
              0.1111111111111111,
              "#46039f"
             ],
             [
              0.2222222222222222,
              "#7201a8"
             ],
             [
              0.3333333333333333,
              "#9c179e"
             ],
             [
              0.4444444444444444,
              "#bd3786"
             ],
             [
              0.5555555555555556,
              "#d8576b"
             ],
             [
              0.6666666666666666,
              "#ed7953"
             ],
             [
              0.7777777777777778,
              "#fb9f3a"
             ],
             [
              0.8888888888888888,
              "#fdca26"
             ],
             [
              1,
              "#f0f921"
             ]
            ],
            "type": "surface"
           }
          ],
          "table": [
           {
            "cells": {
             "fill": {
              "color": "#EBF0F8"
             },
             "line": {
              "color": "white"
             }
            },
            "header": {
             "fill": {
              "color": "#C8D4E3"
             },
             "line": {
              "color": "white"
             }
            },
            "type": "table"
           }
          ]
         },
         "layout": {
          "annotationdefaults": {
           "arrowcolor": "#2a3f5f",
           "arrowhead": 0,
           "arrowwidth": 1
          },
          "autotypenumbers": "strict",
          "coloraxis": {
           "colorbar": {
            "outlinewidth": 0,
            "ticks": ""
           }
          },
          "colorscale": {
           "diverging": [
            [
             0,
             "#8e0152"
            ],
            [
             0.1,
             "#c51b7d"
            ],
            [
             0.2,
             "#de77ae"
            ],
            [
             0.3,
             "#f1b6da"
            ],
            [
             0.4,
             "#fde0ef"
            ],
            [
             0.5,
             "#f7f7f7"
            ],
            [
             0.6,
             "#e6f5d0"
            ],
            [
             0.7,
             "#b8e186"
            ],
            [
             0.8,
             "#7fbc41"
            ],
            [
             0.9,
             "#4d9221"
            ],
            [
             1,
             "#276419"
            ]
           ],
           "sequential": [
            [
             0,
             "#0d0887"
            ],
            [
             0.1111111111111111,
             "#46039f"
            ],
            [
             0.2222222222222222,
             "#7201a8"
            ],
            [
             0.3333333333333333,
             "#9c179e"
            ],
            [
             0.4444444444444444,
             "#bd3786"
            ],
            [
             0.5555555555555556,
             "#d8576b"
            ],
            [
             0.6666666666666666,
             "#ed7953"
            ],
            [
             0.7777777777777778,
             "#fb9f3a"
            ],
            [
             0.8888888888888888,
             "#fdca26"
            ],
            [
             1,
             "#f0f921"
            ]
           ],
           "sequentialminus": [
            [
             0,
             "#0d0887"
            ],
            [
             0.1111111111111111,
             "#46039f"
            ],
            [
             0.2222222222222222,
             "#7201a8"
            ],
            [
             0.3333333333333333,
             "#9c179e"
            ],
            [
             0.4444444444444444,
             "#bd3786"
            ],
            [
             0.5555555555555556,
             "#d8576b"
            ],
            [
             0.6666666666666666,
             "#ed7953"
            ],
            [
             0.7777777777777778,
             "#fb9f3a"
            ],
            [
             0.8888888888888888,
             "#fdca26"
            ],
            [
             1,
             "#f0f921"
            ]
           ]
          },
          "colorway": [
           "#636efa",
           "#EF553B",
           "#00cc96",
           "#ab63fa",
           "#FFA15A",
           "#19d3f3",
           "#FF6692",
           "#B6E880",
           "#FF97FF",
           "#FECB52"
          ],
          "font": {
           "color": "#2a3f5f"
          },
          "geo": {
           "bgcolor": "white",
           "lakecolor": "white",
           "landcolor": "#E5ECF6",
           "showlakes": true,
           "showland": true,
           "subunitcolor": "white"
          },
          "hoverlabel": {
           "align": "left"
          },
          "hovermode": "closest",
          "mapbox": {
           "style": "light"
          },
          "paper_bgcolor": "white",
          "plot_bgcolor": "#E5ECF6",
          "polar": {
           "angularaxis": {
            "gridcolor": "white",
            "linecolor": "white",
            "ticks": ""
           },
           "bgcolor": "#E5ECF6",
           "radialaxis": {
            "gridcolor": "white",
            "linecolor": "white",
            "ticks": ""
           }
          },
          "scene": {
           "xaxis": {
            "backgroundcolor": "#E5ECF6",
            "gridcolor": "white",
            "gridwidth": 2,
            "linecolor": "white",
            "showbackground": true,
            "ticks": "",
            "zerolinecolor": "white"
           },
           "yaxis": {
            "backgroundcolor": "#E5ECF6",
            "gridcolor": "white",
            "gridwidth": 2,
            "linecolor": "white",
            "showbackground": true,
            "ticks": "",
            "zerolinecolor": "white"
           },
           "zaxis": {
            "backgroundcolor": "#E5ECF6",
            "gridcolor": "white",
            "gridwidth": 2,
            "linecolor": "white",
            "showbackground": true,
            "ticks": "",
            "zerolinecolor": "white"
           }
          },
          "shapedefaults": {
           "line": {
            "color": "#2a3f5f"
           }
          },
          "ternary": {
           "aaxis": {
            "gridcolor": "white",
            "linecolor": "white",
            "ticks": ""
           },
           "baxis": {
            "gridcolor": "white",
            "linecolor": "white",
            "ticks": ""
           },
           "bgcolor": "#E5ECF6",
           "caxis": {
            "gridcolor": "white",
            "linecolor": "white",
            "ticks": ""
           }
          },
          "title": {
           "x": 0.05
          },
          "xaxis": {
           "automargin": true,
           "gridcolor": "white",
           "linecolor": "white",
           "ticks": "",
           "title": {
            "standoff": 15
           },
           "zerolinecolor": "white",
           "zerolinewidth": 2
          },
          "yaxis": {
           "automargin": true,
           "gridcolor": "white",
           "linecolor": "white",
           "ticks": "",
           "title": {
            "standoff": 15
           },
           "zerolinecolor": "white",
           "zerolinewidth": 2
          }
         }
        },
        "title": {
         "text": "Archive Hierarchy Distribution"
        }
       }
      }
     },
     "metadata": {},
     "output_type": "display_data"
    }
   ],
   "source": [
    "import plotly.express as px\n",
    "\n",
    "# Make a copy to avoid modifying the original DataFrame\n",
    "df_plot = ead_tsv.copy()\n",
    "\n",
    "# Fill potential NaN/None values with a placeholder string for clarity in the plot\n",
    "# Ensure consistent data types (string) for path columns\n",
    "df_plot['series'] = df_plot['series'].fillna('N/A').astype(str)\n",
    "df_plot['subseries'] = df_plot['subseries'].fillna('N/A').astype(str)\n",
    "df_plot['subsubseries'] = df_plot['subsubseries'].fillna('N/A').astype(str)\n",
    "\n",
    "\n",
    "# Add a count column, assuming each row represents one item\n",
    "# If aggregation is needed based on counts per group, adjust this part\n",
    "df_plot['count'] = 1\n",
    "\n",
    "# Create the sunburst chart using Plotly Express\n",
    "# The 'path' argument defines the hierarchy from center outwards\n",
    "fig = px.sunburst(df_plot,\n",
    "                  path=['series', 'subseries', 'subsubseries'],\n",
    "                  values='count',\n",
    "                  title=\"Archive Hierarchy Distribution\",\n",
    "                  # Optional: Limit depth if it gets too crowded\n",
    "                  # maxdepth=3\n",
    "                 )\n",
    "\n",
    "# Improve layout for better readability\n",
    "fig.update_layout(margin = dict(t=50, l=25, r=25, b=25))\n",
    "\n",
    "fig.show()"
   ]
  },
  {
   "cell_type": "code",
   "execution_count": 7,
   "id": "f69d1523",
   "metadata": {},
   "outputs": [
    {
     "data": {
      "application/vnd.microsoft.datawrangler.viewer.v0+json": {
       "columns": [
        {
         "name": "('subsubseries', 'inventory_range')",
         "rawType": "object",
         "type": "unknown"
        },
        {
         "name": "series",
         "rawType": "object",
         "type": "string"
        },
        {
         "name": "subseries",
         "rawType": "object",
         "type": "string"
        },
        {
         "name": "filegroup",
         "rawType": "object",
         "type": "unknown"
        },
        {
         "name": "inventory_num",
         "rawType": "object",
         "type": "unknown"
        }
       ],
       "conversionMethod": "pd.DataFrame",
       "ref": "f97aaa91-6044-44fb-aa83-0bd714e17a08",
       "rows": [
        [
         "('De minuten van de notulen van de vergaderingen van de Staten-Generaal, 1576-1684.', '1-257')",
         "Resoluties van de Staten-Generaal",
         "De ordinaris resoluties.",
         "Registers van ordinaris minuut-resoluties,",
         "1"
        ],
        [
         "('De minuten van de notulen van de vergaderingen van de Staten-Generaal, 1576-1684.', '1-257')",
         "Resoluties van de Staten-Generaal",
         "De ordinaris resoluties.",
         "Registers van ordinaris minuut-resoluties,",
         "2"
        ],
        [
         "('De minuten van de notulen van de vergaderingen van de Staten-Generaal, 1576-1684.', '1-257')",
         "Resoluties van de Staten-Generaal",
         "De ordinaris resoluties.",
         "Registers van ordinaris minuut-resoluties,",
         "3"
        ],
        [
         "('De minuten van de notulen van de vergaderingen van de Staten-Generaal, 1576-1684.', '1-257')",
         "Resoluties van de Staten-Generaal",
         "De ordinaris resoluties.",
         "Registers van ordinaris minuut-resoluties,",
         "4"
        ],
        [
         "('De minuten van de notulen van de vergaderingen van de Staten-Generaal, 1576-1684.', '1-257')",
         "Resoluties van de Staten-Generaal",
         "De ordinaris resoluties.",
         "Registers van ordinaris minuut-resoluties,",
         "5"
        ],
        [
         "('De minuten van de notulen van de vergaderingen van de Staten-Generaal, 1576-1684.', '1-257')",
         "Resoluties van de Staten-Generaal",
         "De ordinaris resoluties.",
         "Registers van ordinaris minuut-resoluties,",
         "6"
        ],
        [
         "('De minuten van de notulen van de vergaderingen van de Staten-Generaal, 1576-1684.', '1-257')",
         "Resoluties van de Staten-Generaal",
         "De ordinaris resoluties.",
         "Registers van ordinaris minuut-resoluties,",
         "7"
        ],
        [
         "('De minuten van de notulen van de vergaderingen van de Staten-Generaal, 1576-1684.', '1-257')",
         "Resoluties van de Staten-Generaal",
         "De ordinaris resoluties.",
         "Registers van ordinaris minuut-resoluties,",
         "8"
        ],
        [
         "('De minuten van de notulen van de vergaderingen van de Staten-Generaal, 1576-1684.', '1-257')",
         "Resoluties van de Staten-Generaal",
         "De ordinaris resoluties.",
         "Registers van ordinaris minuut-resoluties,",
         "9"
        ],
        [
         "('De minuten van de notulen van de vergaderingen van de Staten-Generaal, 1576-1684.', '1-257')",
         "Resoluties van de Staten-Generaal",
         "De ordinaris resoluties.",
         "Registers van ordinaris minuut-resoluties,",
         "10"
        ],
        [
         "('De minuten van de notulen van de vergaderingen van de Staten-Generaal, 1576-1684.', '1-257')",
         "Resoluties van de Staten-Generaal",
         "De ordinaris resoluties.",
         "Registers van ordinaris minuut-resoluties,",
         "11"
        ],
        [
         "('De minuten van de notulen van de vergaderingen van de Staten-Generaal, 1576-1684.', '1-257')",
         "Resoluties van de Staten-Generaal",
         "De ordinaris resoluties.",
         "Registers van ordinaris minuut-resoluties,",
         "12"
        ],
        [
         "('De minuten van de notulen van de vergaderingen van de Staten-Generaal, 1576-1684.', '1-257')",
         "Resoluties van de Staten-Generaal",
         "De ordinaris resoluties.",
         "Registers van ordinaris minuut-resoluties,",
         "13"
        ],
        [
         "('De minuten van de notulen van de vergaderingen van de Staten-Generaal, 1576-1684.', '1-257')",
         "Resoluties van de Staten-Generaal",
         "De ordinaris resoluties.",
         "Registers van ordinaris minuut-resoluties,",
         "14"
        ],
        [
         "('De minuten van de notulen van de vergaderingen van de Staten-Generaal, 1576-1684.', '1-257')",
         "Resoluties van de Staten-Generaal",
         "De ordinaris resoluties.",
         "Registers van ordinaris minuut-resoluties,",
         "15"
        ],
        [
         "('De minuten van de notulen van de vergaderingen van de Staten-Generaal, 1576-1684.', '1-257')",
         "Resoluties van de Staten-Generaal",
         "De ordinaris resoluties.",
         "Registers van ordinaris minuut-resoluties,",
         "16"
        ],
        [
         "('De minuten van de notulen van de vergaderingen van de Staten-Generaal, 1576-1684.', '1-257')",
         "Resoluties van de Staten-Generaal",
         "De ordinaris resoluties.",
         "Registers van ordinaris minuut-resoluties,",
         "17"
        ],
        [
         "('De minuten van de notulen van de vergaderingen van de Staten-Generaal, 1576-1684.', '1-257')",
         "Resoluties van de Staten-Generaal",
         "De ordinaris resoluties.",
         "Registers van ordinaris minuut-resoluties,",
         "18"
        ],
        [
         "('De minuten van de notulen van de vergaderingen van de Staten-Generaal, 1576-1684.', '1-257')",
         "Resoluties van de Staten-Generaal",
         "De ordinaris resoluties.",
         "Registers van ordinaris minuut-resoluties,",
         "19"
        ],
        [
         "('De minuten van de notulen van de vergaderingen van de Staten-Generaal, 1576-1684.', '1-257')",
         "Resoluties van de Staten-Generaal",
         "De ordinaris resoluties.",
         "Registers van ordinaris minuut-resoluties,",
         "20"
        ],
        [
         "('De minuten van de notulen van de vergaderingen van de Staten-Generaal, 1576-1684.', '1-257')",
         "Resoluties van de Staten-Generaal",
         "De ordinaris resoluties.",
         "Registers van ordinaris minuut-resoluties,",
         "21"
        ],
        [
         "('De minuten van de notulen van de vergaderingen van de Staten-Generaal, 1576-1684.', '1-257')",
         "Resoluties van de Staten-Generaal",
         "De ordinaris resoluties.",
         "Registers van ordinaris minuut-resoluties,",
         "22"
        ],
        [
         "('De minuten van de notulen van de vergaderingen van de Staten-Generaal, 1576-1684.', '1-257')",
         "Resoluties van de Staten-Generaal",
         "De ordinaris resoluties.",
         "Registers van ordinaris minuut-resoluties,",
         "23"
        ],
        [
         "('De minuten van de notulen van de vergaderingen van de Staten-Generaal, 1576-1684.', '1-257')",
         "Resoluties van de Staten-Generaal",
         "De ordinaris resoluties.",
         "Registers van ordinaris minuut-resoluties,",
         "24"
        ],
        [
         "('De minuten van de notulen van de vergaderingen van de Staten-Generaal, 1576-1684.', '1-257')",
         "Resoluties van de Staten-Generaal",
         "De ordinaris resoluties.",
         "Registers van ordinaris minuut-resoluties,",
         "25"
        ],
        [
         "('De minuten van de notulen van de vergaderingen van de Staten-Generaal, 1576-1684.', '1-257')",
         "Resoluties van de Staten-Generaal",
         "De ordinaris resoluties.",
         "Registers van ordinaris minuut-resoluties,",
         "26"
        ],
        [
         "('De minuten van de notulen van de vergaderingen van de Staten-Generaal, 1576-1684.', '1-257')",
         "Resoluties van de Staten-Generaal",
         "De ordinaris resoluties.",
         "Registers van ordinaris minuut-resoluties,",
         "27"
        ],
        [
         "('De minuten van de notulen van de vergaderingen van de Staten-Generaal, 1576-1684.', '1-257')",
         "Resoluties van de Staten-Generaal",
         "De ordinaris resoluties.",
         "Registers van ordinaris minuut-resoluties,",
         "28"
        ],
        [
         "('De minuten van de notulen van de vergaderingen van de Staten-Generaal, 1576-1684.', '1-257')",
         "Resoluties van de Staten-Generaal",
         "De ordinaris resoluties.",
         "Registers van ordinaris minuut-resoluties,",
         "29"
        ],
        [
         "('De minuten van de notulen van de vergaderingen van de Staten-Generaal, 1576-1684.', '1-257')",
         "Resoluties van de Staten-Generaal",
         "De ordinaris resoluties.",
         "Registers van ordinaris minuut-resoluties,",
         "30"
        ],
        [
         "('De minuten van de notulen van de vergaderingen van de Staten-Generaal, 1576-1684.', '1-257')",
         "Resoluties van de Staten-Generaal",
         "De ordinaris resoluties.",
         "Registers van ordinaris minuut-resoluties,",
         "31"
        ],
        [
         "('De minuten van de notulen van de vergaderingen van de Staten-Generaal, 1576-1684.', '1-257')",
         "Resoluties van de Staten-Generaal",
         "De ordinaris resoluties.",
         "Registers van ordinaris minuut-resoluties,",
         "32"
        ],
        [
         "('De minuten van de notulen van de vergaderingen van de Staten-Generaal, 1576-1684.', '1-257')",
         "Resoluties van de Staten-Generaal",
         "De ordinaris resoluties.",
         "Registers van ordinaris minuut-resoluties,",
         "33"
        ],
        [
         "('De minuten van de notulen van de vergaderingen van de Staten-Generaal, 1576-1684.', '1-257')",
         "Resoluties van de Staten-Generaal",
         "De ordinaris resoluties.",
         "Registers van ordinaris minuut-resoluties,",
         "34"
        ],
        [
         "('De minuten van de notulen van de vergaderingen van de Staten-Generaal, 1576-1684.', '1-257')",
         "Resoluties van de Staten-Generaal",
         "De ordinaris resoluties.",
         "Registers van ordinaris minuut-resoluties,",
         "35"
        ],
        [
         "('De minuten van de notulen van de vergaderingen van de Staten-Generaal, 1576-1684.', '1-257')",
         "Resoluties van de Staten-Generaal",
         "De ordinaris resoluties.",
         "Registers van ordinaris minuut-resoluties,",
         "36"
        ],
        [
         "('De minuten van de notulen van de vergaderingen van de Staten-Generaal, 1576-1684.', '1-257')",
         "Resoluties van de Staten-Generaal",
         "De ordinaris resoluties.",
         "Registers van ordinaris minuut-resoluties,",
         "37"
        ],
        [
         "('De minuten van de notulen van de vergaderingen van de Staten-Generaal, 1576-1684.', '1-257')",
         "Resoluties van de Staten-Generaal",
         "De ordinaris resoluties.",
         "Registers van ordinaris minuut-resoluties,",
         "38"
        ],
        [
         "('De minuten van de notulen van de vergaderingen van de Staten-Generaal, 1576-1684.', '1-257')",
         "Resoluties van de Staten-Generaal",
         "De ordinaris resoluties.",
         "Registers van ordinaris minuut-resoluties,",
         "39"
        ],
        [
         "('De minuten van de notulen van de vergaderingen van de Staten-Generaal, 1576-1684.', '1-257')",
         "Resoluties van de Staten-Generaal",
         "De ordinaris resoluties.",
         "Registers van ordinaris minuut-resoluties,",
         "40"
        ],
        [
         "('De minuten van de notulen van de vergaderingen van de Staten-Generaal, 1576-1684.', '1-257')",
         "Resoluties van de Staten-Generaal",
         "De ordinaris resoluties.",
         "Registers van ordinaris minuut-resoluties,",
         "41"
        ],
        [
         "('De minuten van de notulen van de vergaderingen van de Staten-Generaal, 1576-1684.', '1-257')",
         "Resoluties van de Staten-Generaal",
         "De ordinaris resoluties.",
         "Registers van ordinaris minuut-resoluties,",
         "42"
        ],
        [
         "('De minuten van de notulen van de vergaderingen van de Staten-Generaal, 1576-1684.', '1-257')",
         "Resoluties van de Staten-Generaal",
         "De ordinaris resoluties.",
         "Registers van ordinaris minuut-resoluties,",
         "43"
        ],
        [
         "('De minuten van de notulen van de vergaderingen van de Staten-Generaal, 1576-1684.', '1-257')",
         "Resoluties van de Staten-Generaal",
         "De ordinaris resoluties.",
         "Registers van ordinaris minuut-resoluties,",
         "44"
        ],
        [
         "('De minuten van de notulen van de vergaderingen van de Staten-Generaal, 1576-1684.', '1-257')",
         "Resoluties van de Staten-Generaal",
         "De ordinaris resoluties.",
         "Registers van ordinaris minuut-resoluties,",
         "45"
        ],
        [
         "('De minuten van de notulen van de vergaderingen van de Staten-Generaal, 1576-1684.', '1-257')",
         "Resoluties van de Staten-Generaal",
         "De ordinaris resoluties.",
         "Registers van ordinaris minuut-resoluties,",
         "46"
        ],
        [
         "('De minuten van de notulen van de vergaderingen van de Staten-Generaal, 1576-1684.', '1-257')",
         "Resoluties van de Staten-Generaal",
         "De ordinaris resoluties.",
         "Registers van ordinaris minuut-resoluties,",
         "47"
        ],
        [
         "('De minuten van de notulen van de vergaderingen van de Staten-Generaal, 1576-1684.', '1-257')",
         "Resoluties van de Staten-Generaal",
         "De ordinaris resoluties.",
         "Registers van ordinaris minuut-resoluties,",
         "48"
        ],
        [
         "('De minuten van de notulen van de vergaderingen van de Staten-Generaal, 1576-1684.', '1-257')",
         "Resoluties van de Staten-Generaal",
         "De ordinaris resoluties.",
         "Registers van ordinaris minuut-resoluties,",
         "49"
        ],
        [
         "('De minuten van de notulen van de vergaderingen van de Staten-Generaal, 1576-1684.', '1-257')",
         "Resoluties van de Staten-Generaal",
         "De ordinaris resoluties.",
         "Registers van ordinaris minuut-resoluties,",
         "50"
        ]
       ],
       "shape": {
        "columns": 4,
        "rows": 15582
       }
      },
      "text/html": [
       "<div>\n",
       "<style scoped>\n",
       "    .dataframe tbody tr th:only-of-type {\n",
       "        vertical-align: middle;\n",
       "    }\n",
       "\n",
       "    .dataframe tbody tr th {\n",
       "        vertical-align: top;\n",
       "    }\n",
       "\n",
       "    .dataframe thead th {\n",
       "        text-align: right;\n",
       "    }\n",
       "</style>\n",
       "<table border=\"1\" class=\"dataframe\">\n",
       "  <thead>\n",
       "    <tr style=\"text-align: right;\">\n",
       "      <th></th>\n",
       "      <th></th>\n",
       "      <th>series</th>\n",
       "      <th>subseries</th>\n",
       "      <th>filegroup</th>\n",
       "      <th>inventory_num</th>\n",
       "    </tr>\n",
       "    <tr>\n",
       "      <th>subsubseries</th>\n",
       "      <th>inventory_range</th>\n",
       "      <th></th>\n",
       "      <th></th>\n",
       "      <th></th>\n",
       "      <th></th>\n",
       "    </tr>\n",
       "  </thead>\n",
       "  <tbody>\n",
       "    <tr>\n",
       "      <th rowspan=\"5\" valign=\"top\">De minuten van de notulen van de vergaderingen van de Staten-Generaal, 1576-1684.</th>\n",
       "      <th>1-257</th>\n",
       "      <td>Resoluties van de Staten-Generaal</td>\n",
       "      <td>De ordinaris resoluties.</td>\n",
       "      <td>Registers van ordinaris minuut-resoluties,</td>\n",
       "      <td>1</td>\n",
       "    </tr>\n",
       "    <tr>\n",
       "      <th>1-257</th>\n",
       "      <td>Resoluties van de Staten-Generaal</td>\n",
       "      <td>De ordinaris resoluties.</td>\n",
       "      <td>Registers van ordinaris minuut-resoluties,</td>\n",
       "      <td>2</td>\n",
       "    </tr>\n",
       "    <tr>\n",
       "      <th>1-257</th>\n",
       "      <td>Resoluties van de Staten-Generaal</td>\n",
       "      <td>De ordinaris resoluties.</td>\n",
       "      <td>Registers van ordinaris minuut-resoluties,</td>\n",
       "      <td>3</td>\n",
       "    </tr>\n",
       "    <tr>\n",
       "      <th>1-257</th>\n",
       "      <td>Resoluties van de Staten-Generaal</td>\n",
       "      <td>De ordinaris resoluties.</td>\n",
       "      <td>Registers van ordinaris minuut-resoluties,</td>\n",
       "      <td>4</td>\n",
       "    </tr>\n",
       "    <tr>\n",
       "      <th>1-257</th>\n",
       "      <td>Resoluties van de Staten-Generaal</td>\n",
       "      <td>De ordinaris resoluties.</td>\n",
       "      <td>Registers van ordinaris minuut-resoluties,</td>\n",
       "      <td>5</td>\n",
       "    </tr>\n",
       "    <tr>\n",
       "      <th>...</th>\n",
       "      <th>...</th>\n",
       "      <td>...</td>\n",
       "      <td>...</td>\n",
       "      <td>...</td>\n",
       "      <td>...</td>\n",
       "    </tr>\n",
       "    <tr>\n",
       "      <th rowspan=\"5\" valign=\"top\">Staten-Generaal</th>\n",
       "      <th>12639.1A-12639.1B</th>\n",
       "      <td>Tractaten en ratificaties</td>\n",
       "      <td>De ratificaties van tractaten, 1700-1797</td>\n",
       "      <td>Stukken betreffende de bemoeiingen van de Stat...</td>\n",
       "      <td>12639.1A</td>\n",
       "    </tr>\n",
       "    <tr>\n",
       "      <th>12639.1A-12639.1B</th>\n",
       "      <td>Tractaten en ratificaties</td>\n",
       "      <td>De ratificaties van tractaten, 1700-1797</td>\n",
       "      <td>Stukken betreffende de bemoeiingen van de Stat...</td>\n",
       "      <td>12639.1B</td>\n",
       "    </tr>\n",
       "    <tr>\n",
       "      <th>12639.2A-12639.2C</th>\n",
       "      <td>Tractaten en ratificaties</td>\n",
       "      <td>De ratificaties van tractaten, 1700-1797</td>\n",
       "      <td>Akten van ratificatie te 's-Gravenhage uitgeva...</td>\n",
       "      <td>12639.2A</td>\n",
       "    </tr>\n",
       "    <tr>\n",
       "      <th>12639.2A-12639.2C</th>\n",
       "      <td>Tractaten en ratificaties</td>\n",
       "      <td>De ratificaties van tractaten, 1700-1797</td>\n",
       "      <td>Akten van ratificatie te 's-Gravenhage uitgeva...</td>\n",
       "      <td>12639.2B</td>\n",
       "    </tr>\n",
       "    <tr>\n",
       "      <th>12639.2A-12639.2C</th>\n",
       "      <td>Tractaten en ratificaties</td>\n",
       "      <td>De ratificaties van tractaten, 1700-1797</td>\n",
       "      <td>Akten van ratificatie te 's-Gravenhage uitgeva...</td>\n",
       "      <td>12639.2C</td>\n",
       "    </tr>\n",
       "  </tbody>\n",
       "</table>\n",
       "<p>15582 rows × 4 columns</p>\n",
       "</div>"
      ],
      "text/plain": [
       "                                                                                                 series  \\\n",
       "subsubseries                                       inventory_range                                        \n",
       "De minuten van de notulen van de vergaderingen ... 1-257              Resoluties van de Staten-Generaal   \n",
       "                                                   1-257              Resoluties van de Staten-Generaal   \n",
       "                                                   1-257              Resoluties van de Staten-Generaal   \n",
       "                                                   1-257              Resoluties van de Staten-Generaal   \n",
       "                                                   1-257              Resoluties van de Staten-Generaal   \n",
       "...                                                                                                 ...   \n",
       "Staten-Generaal                                    12639.1A-12639.1B          Tractaten en ratificaties   \n",
       "                                                   12639.1A-12639.1B          Tractaten en ratificaties   \n",
       "                                                   12639.2A-12639.2C          Tractaten en ratificaties   \n",
       "                                                   12639.2A-12639.2C          Tractaten en ratificaties   \n",
       "                                                   12639.2A-12639.2C          Tractaten en ratificaties   \n",
       "\n",
       "                                                                                                     subseries  \\\n",
       "subsubseries                                       inventory_range                                               \n",
       "De minuten van de notulen van de vergaderingen ... 1-257                              De ordinaris resoluties.   \n",
       "                                                   1-257                              De ordinaris resoluties.   \n",
       "                                                   1-257                              De ordinaris resoluties.   \n",
       "                                                   1-257                              De ordinaris resoluties.   \n",
       "                                                   1-257                              De ordinaris resoluties.   \n",
       "...                                                                                                        ...   \n",
       "Staten-Generaal                                    12639.1A-12639.1B  De ratificaties van tractaten, 1700-1797   \n",
       "                                                   12639.1A-12639.1B  De ratificaties van tractaten, 1700-1797   \n",
       "                                                   12639.2A-12639.2C  De ratificaties van tractaten, 1700-1797   \n",
       "                                                   12639.2A-12639.2C  De ratificaties van tractaten, 1700-1797   \n",
       "                                                   12639.2A-12639.2C  De ratificaties van tractaten, 1700-1797   \n",
       "\n",
       "                                                                                                              filegroup  \\\n",
       "subsubseries                                       inventory_range                                                        \n",
       "De minuten van de notulen van de vergaderingen ... 1-257                     Registers van ordinaris minuut-resoluties,   \n",
       "                                                   1-257                     Registers van ordinaris minuut-resoluties,   \n",
       "                                                   1-257                     Registers van ordinaris minuut-resoluties,   \n",
       "                                                   1-257                     Registers van ordinaris minuut-resoluties,   \n",
       "                                                   1-257                     Registers van ordinaris minuut-resoluties,   \n",
       "...                                                                                                                 ...   \n",
       "Staten-Generaal                                    12639.1A-12639.1B  Stukken betreffende de bemoeiingen van de Stat...   \n",
       "                                                   12639.1A-12639.1B  Stukken betreffende de bemoeiingen van de Stat...   \n",
       "                                                   12639.2A-12639.2C  Akten van ratificatie te 's-Gravenhage uitgeva...   \n",
       "                                                   12639.2A-12639.2C  Akten van ratificatie te 's-Gravenhage uitgeva...   \n",
       "                                                   12639.2A-12639.2C  Akten van ratificatie te 's-Gravenhage uitgeva...   \n",
       "\n",
       "                                                                     inventory_num  \n",
       "subsubseries                                       inventory_range                  \n",
       "De minuten van de notulen van de vergaderingen ... 1-257                         1  \n",
       "                                                   1-257                         2  \n",
       "                                                   1-257                         3  \n",
       "                                                   1-257                         4  \n",
       "                                                   1-257                         5  \n",
       "...                                                                            ...  \n",
       "Staten-Generaal                                    12639.1A-12639.1B      12639.1A  \n",
       "                                                   12639.1A-12639.1B      12639.1B  \n",
       "                                                   12639.2A-12639.2C      12639.2A  \n",
       "                                                   12639.2A-12639.2C      12639.2B  \n",
       "                                                   12639.2A-12639.2C      12639.2C  \n",
       "\n",
       "[15582 rows x 4 columns]"
      ]
     },
     "execution_count": 7,
     "metadata": {},
     "output_type": "execute_result"
    }
   ],
   "source": [
    "ead_tsv.set_index(['subsubseries', 'inventory_range'])"
   ]
  },
  {
   "cell_type": "code",
   "execution_count": 8,
   "id": "735cc036",
   "metadata": {},
   "outputs": [],
   "source": [
    "uitg = ead_tsv[ead_tsv['subseries'].str.contains('uitgaande')]"
   ]
  },
  {
   "cell_type": "code",
   "execution_count": 9,
   "id": "b8d63e9e",
   "metadata": {},
   "outputs": [
    {
     "data": {
      "application/vnd.plotly.v1+json": {
       "config": {
        "plotlyServerURL": "https://plot.ly"
       },
       "data": [
        {
         "branchvalues": "total",
         "domain": {
          "x": [
           0,
           1
          ],
          "y": [
           0,
           1
          ]
         },
         "hovertemplate": "labels=%{label}<br>count=%{value}<br>parent=%{parent}<br>id=%{id}<extra></extra>",
         "ids": [
          "De Liassen Binnenland/4867-5461, ---",
          "De Liassen Binnenland/5462-5477",
          "De Liassen Binnenland/5478-5714",
          "De Liassen Binnenland/5715-5718",
          "De Liassen Binnenland/5719-5722",
          "De Liassen Binnenland/5723-5733",
          "De Liassen Binnenland/5734-5749",
          "De Liassen Binnenland/5745A-5745B",
          "De Liassen Binnenland/5750",
          "De Liassen Binnenland/5751A-5815",
          "De Liassen Binnenland/5816-5817",
          "De Liassen Binnenland/5818-5879",
          "De Liassen Buitenland/5881-6002, ---",
          "De Liassen Buitenland/6003-6015",
          "De Liassen Buitenland/6016-6024",
          "De Liassen Buitenland/6025-6026",
          "De Liassen Buitenland/6028-6583, ---",
          "De Liassen Buitenland/6584-6629",
          "De Liassen Buitenland/6630-6634",
          "De Liassen Buitenland/6635-6679",
          "De Liassen Buitenland/6680-6696",
          "De Liassen Buitenland/6697-6742",
          "De Liassen Buitenland/6743-6746",
          "De Liassen Buitenland/6747-6749",
          "De Liassen Buitenland/6750-6863",
          "De Liassen Buitenland/6864-6887",
          "De Liassen Buitenland/6888-6996",
          "De Liassen Buitenland/6926-6926A",
          "De Liassen Buitenland/6997-7009",
          "De Liassen Buitenland/7010-7036",
          "De Liassen Buitenland/7037-7041",
          "De Liassen Buitenland/7042-7160",
          "De Liassen Buitenland/7161-7168",
          "De Liassen Buitenland/7169-7223",
          "De Liassen Buitenland/7224-7237",
          "De Liassen Buitenland/7238-7302",
          "De Liassen Buitenland/7303-7310",
          "De Liassen Buitenland/7311-7354",
          "De Liassen Buitenland/7355-7360",
          "De Liassen Buitenland/7361-7361.C",
          "De Liassen Buitenland/7361-7396",
          "De Liassen Buitenland/7364-7364B",
          "De Liassen Buitenland/7365-7365C",
          "De Liassen Buitenland/7366-7366L",
          "De Liassen Buitenland/7368-7368B",
          "De Liassen Buitenland/7370A-7370D",
          "De Liassen Buitenland/7397-7410",
          "De Liassen Buitenland/7411-7453",
          "De Liassen Buitenland/7454-7460",
          "De Liassen Buitenland/7461-7461A",
          "De Liassen Buitenland/7462A-7462B",
          "De Liassen Buitenland/7463",
          "De Liassen Buitenland/7464",
          "De Liassen Buitenland/7465",
          "De Liassen Buitenland/7466-7467",
          "De Liassen Buitenland/7468-7469",
          "De Liassen Buitenland/7470-7471",
          "1600-1795/7474-8025",
          "1600-1795/8026-8039",
          "Minuten van algemene aard/11072-11085",
          "Minuten van bijzondere aard/11086",
          "Gedrukte nouvelles van Nederlandse gezanten in den vreemde/12083-12145",
          "Gedrukte nouvelles van Nederlandse gezanten in den vreemde/12146-12159",
          "Gedrukte plakkaten/12161-12231",
          "Gedrukte plakkaten/12232-12236",
          "De Liassen Binnenland",
          "De Liassen Buitenland",
          "1600-1795",
          "Minuten van algemene aard",
          "Minuten van bijzondere aard",
          "Gedrukte nouvelles van Nederlandse gezanten in den vreemde",
          "Gedrukte plakkaten"
         ],
         "labels": [
          "4867-5461, ---",
          "5462-5477",
          "5478-5714",
          "5715-5718",
          "5719-5722",
          "5723-5733",
          "5734-5749",
          "5745A-5745B",
          "5750",
          "5751A-5815",
          "5816-5817",
          "5818-5879",
          "5881-6002, ---",
          "6003-6015",
          "6016-6024",
          "6025-6026",
          "6028-6583, ---",
          "6584-6629",
          "6630-6634",
          "6635-6679",
          "6680-6696",
          "6697-6742",
          "6743-6746",
          "6747-6749",
          "6750-6863",
          "6864-6887",
          "6888-6996",
          "6926-6926A",
          "6997-7009",
          "7010-7036",
          "7037-7041",
          "7042-7160",
          "7161-7168",
          "7169-7223",
          "7224-7237",
          "7238-7302",
          "7303-7310",
          "7311-7354",
          "7355-7360",
          "7361-7361.C",
          "7361-7396",
          "7364-7364B",
          "7365-7365C",
          "7366-7366L",
          "7368-7368B",
          "7370A-7370D",
          "7397-7410",
          "7411-7453",
          "7454-7460",
          "7461-7461A",
          "7462A-7462B",
          "7463",
          "7464",
          "7465",
          "7466-7467",
          "7468-7469",
          "7470-7471",
          "7474-8025",
          "8026-8039",
          "11072-11085",
          "11086",
          "12083-12145",
          "12146-12159",
          "12161-12231",
          "12232-12236",
          "De Liassen Binnenland",
          "De Liassen Buitenland",
          "1600-1795",
          "Minuten van algemene aard",
          "Minuten van bijzondere aard",
          "Gedrukte nouvelles van Nederlandse gezanten in den vreemde",
          "Gedrukte plakkaten"
         ],
         "name": "",
         "parents": [
          "De Liassen Binnenland",
          "De Liassen Binnenland",
          "De Liassen Binnenland",
          "De Liassen Binnenland",
          "De Liassen Binnenland",
          "De Liassen Binnenland",
          "De Liassen Binnenland",
          "De Liassen Binnenland",
          "De Liassen Binnenland",
          "De Liassen Binnenland",
          "De Liassen Binnenland",
          "De Liassen Binnenland",
          "De Liassen Buitenland",
          "De Liassen Buitenland",
          "De Liassen Buitenland",
          "De Liassen Buitenland",
          "De Liassen Buitenland",
          "De Liassen Buitenland",
          "De Liassen Buitenland",
          "De Liassen Buitenland",
          "De Liassen Buitenland",
          "De Liassen Buitenland",
          "De Liassen Buitenland",
          "De Liassen Buitenland",
          "De Liassen Buitenland",
          "De Liassen Buitenland",
          "De Liassen Buitenland",
          "De Liassen Buitenland",
          "De Liassen Buitenland",
          "De Liassen Buitenland",
          "De Liassen Buitenland",
          "De Liassen Buitenland",
          "De Liassen Buitenland",
          "De Liassen Buitenland",
          "De Liassen Buitenland",
          "De Liassen Buitenland",
          "De Liassen Buitenland",
          "De Liassen Buitenland",
          "De Liassen Buitenland",
          "De Liassen Buitenland",
          "De Liassen Buitenland",
          "De Liassen Buitenland",
          "De Liassen Buitenland",
          "De Liassen Buitenland",
          "De Liassen Buitenland",
          "De Liassen Buitenland",
          "De Liassen Buitenland",
          "De Liassen Buitenland",
          "De Liassen Buitenland",
          "De Liassen Buitenland",
          "De Liassen Buitenland",
          "De Liassen Buitenland",
          "De Liassen Buitenland",
          "De Liassen Buitenland",
          "De Liassen Buitenland",
          "De Liassen Buitenland",
          "De Liassen Buitenland",
          "1600-1795",
          "1600-1795",
          "Minuten van algemene aard",
          "Minuten van bijzondere aard",
          "Gedrukte nouvelles van Nederlandse gezanten in den vreemde",
          "Gedrukte nouvelles van Nederlandse gezanten in den vreemde",
          "Gedrukte plakkaten",
          "Gedrukte plakkaten",
          "",
          "",
          "",
          "",
          "",
          "",
          ""
         ],
         "type": "sunburst",
         "values": {
          "bdata": "AAAAAACYgkAAAAAAAAAwQAAAAAAAoG1AAAAAAAAAEEAAAAAAAAAQQAAAAAAAAChAAAAAAAAALkAAAAAAAAAAQAAAAAAAAPA/AAAAAACAUEAAAAAAAAAAQAAAAAAAAE9AAAAAAADAXkAAAAAAAAAqQAAAAAAAACJAAAAAAAAAAEAAAAAAAGiBQAAAAAAAAEdAAAAAAAAAFEAAAAAAAIBGQAAAAAAAADFAAAAAAAAAR0AAAAAAAAAQQAAAAAAAAAhAAAAAAACAXEAAAAAAAAA4QAAAAAAAAFtAAAAAAAAAAEAAAAAAAAAqQAAAAAAAADtAAAAAAAAAFEAAAAAAAMBdQAAAAAAAACBAAAAAAACAS0AAAAAAAAAsQAAAAAAAQFBAAAAAAAAAIEAAAAAAAABGQAAAAAAAABhAAAAAAAAAEEAAAAAAAAA+QAAAAAAAAAhAAAAAAAAAEEAAAAAAAAAqQAAAAAAAAAhAAAAAAAAAEEAAAAAAAAAsQAAAAAAAgEVAAAAAAAAAHEAAAAAAAAAAQAAAAAAAAABAAAAAAAAA8D8AAAAAAADwPwAAAAAAAPA/AAAAAAAAAEAAAAAAAAAAQAAAAAAAAABAAAAAAABAgUAAAAAAAAAsQAAAAAAAACxAAAAAAAAA8D8AAAAAAIBPQAAAAAAAACxAAAAAAADAUUAAAAAAAAAUQAAAAAAAwI9AAAAAAABQmUAAAAAAALCBQAAAAAAAACxAAAAAAAAA8D8AAAAAAEBTQAAAAAAAAFNA",
          "dtype": "f8"
         }
        }
       ],
       "layout": {
        "legend": {
         "tracegroupgap": 0
        },
        "margin": {
         "b": 25,
         "l": 25,
         "r": 25,
         "t": 50
        },
        "template": {
         "data": {
          "bar": [
           {
            "error_x": {
             "color": "#2a3f5f"
            },
            "error_y": {
             "color": "#2a3f5f"
            },
            "marker": {
             "line": {
              "color": "#E5ECF6",
              "width": 0.5
             },
             "pattern": {
              "fillmode": "overlay",
              "size": 10,
              "solidity": 0.2
             }
            },
            "type": "bar"
           }
          ],
          "barpolar": [
           {
            "marker": {
             "line": {
              "color": "#E5ECF6",
              "width": 0.5
             },
             "pattern": {
              "fillmode": "overlay",
              "size": 10,
              "solidity": 0.2
             }
            },
            "type": "barpolar"
           }
          ],
          "carpet": [
           {
            "aaxis": {
             "endlinecolor": "#2a3f5f",
             "gridcolor": "white",
             "linecolor": "white",
             "minorgridcolor": "white",
             "startlinecolor": "#2a3f5f"
            },
            "baxis": {
             "endlinecolor": "#2a3f5f",
             "gridcolor": "white",
             "linecolor": "white",
             "minorgridcolor": "white",
             "startlinecolor": "#2a3f5f"
            },
            "type": "carpet"
           }
          ],
          "choropleth": [
           {
            "colorbar": {
             "outlinewidth": 0,
             "ticks": ""
            },
            "type": "choropleth"
           }
          ],
          "contour": [
           {
            "colorbar": {
             "outlinewidth": 0,
             "ticks": ""
            },
            "colorscale": [
             [
              0,
              "#0d0887"
             ],
             [
              0.1111111111111111,
              "#46039f"
             ],
             [
              0.2222222222222222,
              "#7201a8"
             ],
             [
              0.3333333333333333,
              "#9c179e"
             ],
             [
              0.4444444444444444,
              "#bd3786"
             ],
             [
              0.5555555555555556,
              "#d8576b"
             ],
             [
              0.6666666666666666,
              "#ed7953"
             ],
             [
              0.7777777777777778,
              "#fb9f3a"
             ],
             [
              0.8888888888888888,
              "#fdca26"
             ],
             [
              1,
              "#f0f921"
             ]
            ],
            "type": "contour"
           }
          ],
          "contourcarpet": [
           {
            "colorbar": {
             "outlinewidth": 0,
             "ticks": ""
            },
            "type": "contourcarpet"
           }
          ],
          "heatmap": [
           {
            "colorbar": {
             "outlinewidth": 0,
             "ticks": ""
            },
            "colorscale": [
             [
              0,
              "#0d0887"
             ],
             [
              0.1111111111111111,
              "#46039f"
             ],
             [
              0.2222222222222222,
              "#7201a8"
             ],
             [
              0.3333333333333333,
              "#9c179e"
             ],
             [
              0.4444444444444444,
              "#bd3786"
             ],
             [
              0.5555555555555556,
              "#d8576b"
             ],
             [
              0.6666666666666666,
              "#ed7953"
             ],
             [
              0.7777777777777778,
              "#fb9f3a"
             ],
             [
              0.8888888888888888,
              "#fdca26"
             ],
             [
              1,
              "#f0f921"
             ]
            ],
            "type": "heatmap"
           }
          ],
          "histogram": [
           {
            "marker": {
             "pattern": {
              "fillmode": "overlay",
              "size": 10,
              "solidity": 0.2
             }
            },
            "type": "histogram"
           }
          ],
          "histogram2d": [
           {
            "colorbar": {
             "outlinewidth": 0,
             "ticks": ""
            },
            "colorscale": [
             [
              0,
              "#0d0887"
             ],
             [
              0.1111111111111111,
              "#46039f"
             ],
             [
              0.2222222222222222,
              "#7201a8"
             ],
             [
              0.3333333333333333,
              "#9c179e"
             ],
             [
              0.4444444444444444,
              "#bd3786"
             ],
             [
              0.5555555555555556,
              "#d8576b"
             ],
             [
              0.6666666666666666,
              "#ed7953"
             ],
             [
              0.7777777777777778,
              "#fb9f3a"
             ],
             [
              0.8888888888888888,
              "#fdca26"
             ],
             [
              1,
              "#f0f921"
             ]
            ],
            "type": "histogram2d"
           }
          ],
          "histogram2dcontour": [
           {
            "colorbar": {
             "outlinewidth": 0,
             "ticks": ""
            },
            "colorscale": [
             [
              0,
              "#0d0887"
             ],
             [
              0.1111111111111111,
              "#46039f"
             ],
             [
              0.2222222222222222,
              "#7201a8"
             ],
             [
              0.3333333333333333,
              "#9c179e"
             ],
             [
              0.4444444444444444,
              "#bd3786"
             ],
             [
              0.5555555555555556,
              "#d8576b"
             ],
             [
              0.6666666666666666,
              "#ed7953"
             ],
             [
              0.7777777777777778,
              "#fb9f3a"
             ],
             [
              0.8888888888888888,
              "#fdca26"
             ],
             [
              1,
              "#f0f921"
             ]
            ],
            "type": "histogram2dcontour"
           }
          ],
          "mesh3d": [
           {
            "colorbar": {
             "outlinewidth": 0,
             "ticks": ""
            },
            "type": "mesh3d"
           }
          ],
          "parcoords": [
           {
            "line": {
             "colorbar": {
              "outlinewidth": 0,
              "ticks": ""
             }
            },
            "type": "parcoords"
           }
          ],
          "pie": [
           {
            "automargin": true,
            "type": "pie"
           }
          ],
          "scatter": [
           {
            "fillpattern": {
             "fillmode": "overlay",
             "size": 10,
             "solidity": 0.2
            },
            "type": "scatter"
           }
          ],
          "scatter3d": [
           {
            "line": {
             "colorbar": {
              "outlinewidth": 0,
              "ticks": ""
             }
            },
            "marker": {
             "colorbar": {
              "outlinewidth": 0,
              "ticks": ""
             }
            },
            "type": "scatter3d"
           }
          ],
          "scattercarpet": [
           {
            "marker": {
             "colorbar": {
              "outlinewidth": 0,
              "ticks": ""
             }
            },
            "type": "scattercarpet"
           }
          ],
          "scattergeo": [
           {
            "marker": {
             "colorbar": {
              "outlinewidth": 0,
              "ticks": ""
             }
            },
            "type": "scattergeo"
           }
          ],
          "scattergl": [
           {
            "marker": {
             "colorbar": {
              "outlinewidth": 0,
              "ticks": ""
             }
            },
            "type": "scattergl"
           }
          ],
          "scattermap": [
           {
            "marker": {
             "colorbar": {
              "outlinewidth": 0,
              "ticks": ""
             }
            },
            "type": "scattermap"
           }
          ],
          "scattermapbox": [
           {
            "marker": {
             "colorbar": {
              "outlinewidth": 0,
              "ticks": ""
             }
            },
            "type": "scattermapbox"
           }
          ],
          "scatterpolar": [
           {
            "marker": {
             "colorbar": {
              "outlinewidth": 0,
              "ticks": ""
             }
            },
            "type": "scatterpolar"
           }
          ],
          "scatterpolargl": [
           {
            "marker": {
             "colorbar": {
              "outlinewidth": 0,
              "ticks": ""
             }
            },
            "type": "scatterpolargl"
           }
          ],
          "scatterternary": [
           {
            "marker": {
             "colorbar": {
              "outlinewidth": 0,
              "ticks": ""
             }
            },
            "type": "scatterternary"
           }
          ],
          "surface": [
           {
            "colorbar": {
             "outlinewidth": 0,
             "ticks": ""
            },
            "colorscale": [
             [
              0,
              "#0d0887"
             ],
             [
              0.1111111111111111,
              "#46039f"
             ],
             [
              0.2222222222222222,
              "#7201a8"
             ],
             [
              0.3333333333333333,
              "#9c179e"
             ],
             [
              0.4444444444444444,
              "#bd3786"
             ],
             [
              0.5555555555555556,
              "#d8576b"
             ],
             [
              0.6666666666666666,
              "#ed7953"
             ],
             [
              0.7777777777777778,
              "#fb9f3a"
             ],
             [
              0.8888888888888888,
              "#fdca26"
             ],
             [
              1,
              "#f0f921"
             ]
            ],
            "type": "surface"
           }
          ],
          "table": [
           {
            "cells": {
             "fill": {
              "color": "#EBF0F8"
             },
             "line": {
              "color": "white"
             }
            },
            "header": {
             "fill": {
              "color": "#C8D4E3"
             },
             "line": {
              "color": "white"
             }
            },
            "type": "table"
           }
          ]
         },
         "layout": {
          "annotationdefaults": {
           "arrowcolor": "#2a3f5f",
           "arrowhead": 0,
           "arrowwidth": 1
          },
          "autotypenumbers": "strict",
          "coloraxis": {
           "colorbar": {
            "outlinewidth": 0,
            "ticks": ""
           }
          },
          "colorscale": {
           "diverging": [
            [
             0,
             "#8e0152"
            ],
            [
             0.1,
             "#c51b7d"
            ],
            [
             0.2,
             "#de77ae"
            ],
            [
             0.3,
             "#f1b6da"
            ],
            [
             0.4,
             "#fde0ef"
            ],
            [
             0.5,
             "#f7f7f7"
            ],
            [
             0.6,
             "#e6f5d0"
            ],
            [
             0.7,
             "#b8e186"
            ],
            [
             0.8,
             "#7fbc41"
            ],
            [
             0.9,
             "#4d9221"
            ],
            [
             1,
             "#276419"
            ]
           ],
           "sequential": [
            [
             0,
             "#0d0887"
            ],
            [
             0.1111111111111111,
             "#46039f"
            ],
            [
             0.2222222222222222,
             "#7201a8"
            ],
            [
             0.3333333333333333,
             "#9c179e"
            ],
            [
             0.4444444444444444,
             "#bd3786"
            ],
            [
             0.5555555555555556,
             "#d8576b"
            ],
            [
             0.6666666666666666,
             "#ed7953"
            ],
            [
             0.7777777777777778,
             "#fb9f3a"
            ],
            [
             0.8888888888888888,
             "#fdca26"
            ],
            [
             1,
             "#f0f921"
            ]
           ],
           "sequentialminus": [
            [
             0,
             "#0d0887"
            ],
            [
             0.1111111111111111,
             "#46039f"
            ],
            [
             0.2222222222222222,
             "#7201a8"
            ],
            [
             0.3333333333333333,
             "#9c179e"
            ],
            [
             0.4444444444444444,
             "#bd3786"
            ],
            [
             0.5555555555555556,
             "#d8576b"
            ],
            [
             0.6666666666666666,
             "#ed7953"
            ],
            [
             0.7777777777777778,
             "#fb9f3a"
            ],
            [
             0.8888888888888888,
             "#fdca26"
            ],
            [
             1,
             "#f0f921"
            ]
           ]
          },
          "colorway": [
           "#636efa",
           "#EF553B",
           "#00cc96",
           "#ab63fa",
           "#FFA15A",
           "#19d3f3",
           "#FF6692",
           "#B6E880",
           "#FF97FF",
           "#FECB52"
          ],
          "font": {
           "color": "#2a3f5f"
          },
          "geo": {
           "bgcolor": "white",
           "lakecolor": "white",
           "landcolor": "#E5ECF6",
           "showlakes": true,
           "showland": true,
           "subunitcolor": "white"
          },
          "hoverlabel": {
           "align": "left"
          },
          "hovermode": "closest",
          "mapbox": {
           "style": "light"
          },
          "paper_bgcolor": "white",
          "plot_bgcolor": "#E5ECF6",
          "polar": {
           "angularaxis": {
            "gridcolor": "white",
            "linecolor": "white",
            "ticks": ""
           },
           "bgcolor": "#E5ECF6",
           "radialaxis": {
            "gridcolor": "white",
            "linecolor": "white",
            "ticks": ""
           }
          },
          "scene": {
           "xaxis": {
            "backgroundcolor": "#E5ECF6",
            "gridcolor": "white",
            "gridwidth": 2,
            "linecolor": "white",
            "showbackground": true,
            "ticks": "",
            "zerolinecolor": "white"
           },
           "yaxis": {
            "backgroundcolor": "#E5ECF6",
            "gridcolor": "white",
            "gridwidth": 2,
            "linecolor": "white",
            "showbackground": true,
            "ticks": "",
            "zerolinecolor": "white"
           },
           "zaxis": {
            "backgroundcolor": "#E5ECF6",
            "gridcolor": "white",
            "gridwidth": 2,
            "linecolor": "white",
            "showbackground": true,
            "ticks": "",
            "zerolinecolor": "white"
           }
          },
          "shapedefaults": {
           "line": {
            "color": "#2a3f5f"
           }
          },
          "ternary": {
           "aaxis": {
            "gridcolor": "white",
            "linecolor": "white",
            "ticks": ""
           },
           "baxis": {
            "gridcolor": "white",
            "linecolor": "white",
            "ticks": ""
           },
           "bgcolor": "#E5ECF6",
           "caxis": {
            "gridcolor": "white",
            "linecolor": "white",
            "ticks": ""
           }
          },
          "title": {
           "x": 0.05
          },
          "xaxis": {
           "automargin": true,
           "gridcolor": "white",
           "linecolor": "white",
           "ticks": "",
           "title": {
            "standoff": 15
           },
           "zerolinecolor": "white",
           "zerolinewidth": 2
          },
          "yaxis": {
           "automargin": true,
           "gridcolor": "white",
           "linecolor": "white",
           "ticks": "",
           "title": {
            "standoff": 15
           },
           "zerolinecolor": "white",
           "zerolinewidth": 2
          }
         }
        },
        "title": {
         "text": "Uitgaande Hierarchy Distribution"
        }
       }
      }
     },
     "metadata": {},
     "output_type": "display_data"
    }
   ],
   "source": [
    "# Make a copy to avoid modifying the original DataFrame\n",
    "df_uitg_plot = uitg.copy()\n",
    "\n",
    "# Fill potential NaN/None values with a placeholder string for clarity in the plot\n",
    "# Ensure consistent data types (string) for path columns\n",
    "df_uitg_plot['subsubseries'] = df_uitg_plot['subsubseries'].fillna('N/A').astype(str)\n",
    "df_uitg_plot['inventory_range'] = df_uitg_plot['inventory_range'].fillna('N/A').astype(str)\n",
    "\n",
    "# Add a count column, assuming each row represents one item\n",
    "df_uitg_plot['count'] = 1\n",
    "\n",
    "# Create the sunburst chart using Plotly Express\n",
    "# The 'path' argument defines the hierarchy from center outwards\n",
    "fig_uitg = px.sunburst(df_uitg_plot,\n",
    "                       path=['subsubseries', 'inventory_range'],\n",
    "                       values='count',\n",
    "                       title=\"Uitgaande Hierarchy Distribution\",\n",
    "                       # Optional: Limit depth if it gets too crowded\n",
    "                       # maxdepth=2\n",
    "                      )\n",
    "\n",
    "# Improve layout for better readability\n",
    "fig_uitg.update_layout(margin = dict(t=50, l=25, r=25, b=25))\n",
    "\n",
    "fig_uitg.show()"
   ]
  },
  {
   "cell_type": "code",
   "execution_count": null,
   "id": "a3b8a0d3",
   "metadata": {},
   "outputs": [],
   "source": []
  },
  {
   "cell_type": "code",
   "execution_count": 10,
   "id": "b7f09143",
   "metadata": {},
   "outputs": [
    {
     "data": {
      "application/vnd.microsoft.datawrangler.viewer.v0+json": {
       "columns": [
        {
         "name": "index",
         "rawType": "int64",
         "type": "integer"
        },
        {
         "name": "series",
         "rawType": "object",
         "type": "string"
        },
        {
         "name": "subseries",
         "rawType": "object",
         "type": "string"
        },
        {
         "name": "subsubseries",
         "rawType": "object",
         "type": "string"
        },
        {
         "name": "filegroup",
         "rawType": "object",
         "type": "string"
        },
        {
         "name": "inventory_range",
         "rawType": "object",
         "type": "string"
        },
        {
         "name": "inventory_num",
         "rawType": "object",
         "type": "unknown"
        }
       ],
       "conversionMethod": "pd.DataFrame",
       "ref": "a1509c78-4ad9-4f56-964e-8d8b220f7ad1",
       "rows": [
        [
         "4748",
         "De bijlagen bij de resoluties van de Staten-Generaal",
         "De ingekomen brieven en stukken en minuten van uitgaande brieven, verzameld in de \"liassen\"",
         "De Liassen Binnenland",
         "1550-1796",
         "4867-5461, ---",
         "4867"
        ],
        [
         "4749",
         "De bijlagen bij de resoluties van de Staten-Generaal",
         "De ingekomen brieven en stukken en minuten van uitgaande brieven, verzameld in de \"liassen\"",
         "De Liassen Binnenland",
         "1550-1796",
         "4867-5461, ---",
         "4868"
        ],
        [
         "4750",
         "De bijlagen bij de resoluties van de Staten-Generaal",
         "De ingekomen brieven en stukken en minuten van uitgaande brieven, verzameld in de \"liassen\"",
         "De Liassen Binnenland",
         "1550-1796",
         "4867-5461, ---",
         "4869"
        ],
        [
         "4751",
         "De bijlagen bij de resoluties van de Staten-Generaal",
         "De ingekomen brieven en stukken en minuten van uitgaande brieven, verzameld in de \"liassen\"",
         "De Liassen Binnenland",
         "1550-1796",
         "4867-5461, ---",
         "4870"
        ],
        [
         "4752",
         "De bijlagen bij de resoluties van de Staten-Generaal",
         "De ingekomen brieven en stukken en minuten van uitgaande brieven, verzameld in de \"liassen\"",
         "De Liassen Binnenland",
         "1550-1796",
         "4867-5461, ---",
         "4871"
        ],
        [
         "4753",
         "De bijlagen bij de resoluties van de Staten-Generaal",
         "De ingekomen brieven en stukken en minuten van uitgaande brieven, verzameld in de \"liassen\"",
         "De Liassen Binnenland",
         "1550-1796",
         "4867-5461, ---",
         "4872"
        ],
        [
         "4754",
         "De bijlagen bij de resoluties van de Staten-Generaal",
         "De ingekomen brieven en stukken en minuten van uitgaande brieven, verzameld in de \"liassen\"",
         "De Liassen Binnenland",
         "1550-1796",
         "4867-5461, ---",
         "4873"
        ],
        [
         "4755",
         "De bijlagen bij de resoluties van de Staten-Generaal",
         "De ingekomen brieven en stukken en minuten van uitgaande brieven, verzameld in de \"liassen\"",
         "De Liassen Binnenland",
         "1550-1796",
         "4867-5461, ---",
         "4874"
        ],
        [
         "4756",
         "De bijlagen bij de resoluties van de Staten-Generaal",
         "De ingekomen brieven en stukken en minuten van uitgaande brieven, verzameld in de \"liassen\"",
         "De Liassen Binnenland",
         "1550-1796",
         "4867-5461, ---",
         "4875"
        ],
        [
         "4757",
         "De bijlagen bij de resoluties van de Staten-Generaal",
         "De ingekomen brieven en stukken en minuten van uitgaande brieven, verzameld in de \"liassen\"",
         "De Liassen Binnenland",
         "1550-1796",
         "4867-5461, ---",
         "4876"
        ],
        [
         "4758",
         "De bijlagen bij de resoluties van de Staten-Generaal",
         "De ingekomen brieven en stukken en minuten van uitgaande brieven, verzameld in de \"liassen\"",
         "De Liassen Binnenland",
         "1550-1796",
         "4867-5461, ---",
         "4877"
        ],
        [
         "4759",
         "De bijlagen bij de resoluties van de Staten-Generaal",
         "De ingekomen brieven en stukken en minuten van uitgaande brieven, verzameld in de \"liassen\"",
         "De Liassen Binnenland",
         "1550-1796",
         "4867-5461, ---",
         "4878"
        ],
        [
         "4760",
         "De bijlagen bij de resoluties van de Staten-Generaal",
         "De ingekomen brieven en stukken en minuten van uitgaande brieven, verzameld in de \"liassen\"",
         "De Liassen Binnenland",
         "1550-1796",
         "4867-5461, ---",
         "4879"
        ],
        [
         "4761",
         "De bijlagen bij de resoluties van de Staten-Generaal",
         "De ingekomen brieven en stukken en minuten van uitgaande brieven, verzameld in de \"liassen\"",
         "De Liassen Binnenland",
         "1550-1796",
         "4867-5461, ---",
         "4880"
        ],
        [
         "4762",
         "De bijlagen bij de resoluties van de Staten-Generaal",
         "De ingekomen brieven en stukken en minuten van uitgaande brieven, verzameld in de \"liassen\"",
         "De Liassen Binnenland",
         "1550-1796",
         "4867-5461, ---",
         "4881"
        ],
        [
         "4763",
         "De bijlagen bij de resoluties van de Staten-Generaal",
         "De ingekomen brieven en stukken en minuten van uitgaande brieven, verzameld in de \"liassen\"",
         "De Liassen Binnenland",
         "1550-1796",
         "4867-5461, ---",
         "4882"
        ],
        [
         "4764",
         "De bijlagen bij de resoluties van de Staten-Generaal",
         "De ingekomen brieven en stukken en minuten van uitgaande brieven, verzameld in de \"liassen\"",
         "De Liassen Binnenland",
         "1550-1796",
         "4867-5461, ---",
         "4883"
        ],
        [
         "4765",
         "De bijlagen bij de resoluties van de Staten-Generaal",
         "De ingekomen brieven en stukken en minuten van uitgaande brieven, verzameld in de \"liassen\"",
         "De Liassen Binnenland",
         "1550-1796",
         "4867-5461, ---",
         "4884"
        ],
        [
         "4766",
         "De bijlagen bij de resoluties van de Staten-Generaal",
         "De ingekomen brieven en stukken en minuten van uitgaande brieven, verzameld in de \"liassen\"",
         "De Liassen Binnenland",
         "1550-1796",
         "4867-5461, ---",
         "4885"
        ],
        [
         "4767",
         "De bijlagen bij de resoluties van de Staten-Generaal",
         "De ingekomen brieven en stukken en minuten van uitgaande brieven, verzameld in de \"liassen\"",
         "De Liassen Binnenland",
         "1550-1796",
         "4867-5461, ---",
         "4886"
        ],
        [
         "4768",
         "De bijlagen bij de resoluties van de Staten-Generaal",
         "De ingekomen brieven en stukken en minuten van uitgaande brieven, verzameld in de \"liassen\"",
         "De Liassen Binnenland",
         "1550-1796",
         "4867-5461, ---",
         "4887"
        ],
        [
         "4769",
         "De bijlagen bij de resoluties van de Staten-Generaal",
         "De ingekomen brieven en stukken en minuten van uitgaande brieven, verzameld in de \"liassen\"",
         "De Liassen Binnenland",
         "1550-1796",
         "4867-5461, ---",
         "4888"
        ],
        [
         "4770",
         "De bijlagen bij de resoluties van de Staten-Generaal",
         "De ingekomen brieven en stukken en minuten van uitgaande brieven, verzameld in de \"liassen\"",
         "De Liassen Binnenland",
         "1550-1796",
         "4867-5461, ---",
         "4889"
        ],
        [
         "4771",
         "De bijlagen bij de resoluties van de Staten-Generaal",
         "De ingekomen brieven en stukken en minuten van uitgaande brieven, verzameld in de \"liassen\"",
         "De Liassen Binnenland",
         "1550-1796",
         "4867-5461, ---",
         "4890"
        ],
        [
         "4772",
         "De bijlagen bij de resoluties van de Staten-Generaal",
         "De ingekomen brieven en stukken en minuten van uitgaande brieven, verzameld in de \"liassen\"",
         "De Liassen Binnenland",
         "1550-1796",
         "4867-5461, ---",
         "4891"
        ],
        [
         "4773",
         "De bijlagen bij de resoluties van de Staten-Generaal",
         "De ingekomen brieven en stukken en minuten van uitgaande brieven, verzameld in de \"liassen\"",
         "De Liassen Binnenland",
         "1550-1796",
         "4867-5461, ---",
         "4892"
        ],
        [
         "4774",
         "De bijlagen bij de resoluties van de Staten-Generaal",
         "De ingekomen brieven en stukken en minuten van uitgaande brieven, verzameld in de \"liassen\"",
         "De Liassen Binnenland",
         "1550-1796",
         "4867-5461, ---",
         "4893"
        ],
        [
         "4775",
         "De bijlagen bij de resoluties van de Staten-Generaal",
         "De ingekomen brieven en stukken en minuten van uitgaande brieven, verzameld in de \"liassen\"",
         "De Liassen Binnenland",
         "1550-1796",
         "4867-5461, ---",
         "4894"
        ],
        [
         "4776",
         "De bijlagen bij de resoluties van de Staten-Generaal",
         "De ingekomen brieven en stukken en minuten van uitgaande brieven, verzameld in de \"liassen\"",
         "De Liassen Binnenland",
         "1550-1796",
         "4867-5461, ---",
         "4895"
        ],
        [
         "4777",
         "De bijlagen bij de resoluties van de Staten-Generaal",
         "De ingekomen brieven en stukken en minuten van uitgaande brieven, verzameld in de \"liassen\"",
         "De Liassen Binnenland",
         "1550-1796",
         "4867-5461, ---",
         "4896"
        ],
        [
         "4778",
         "De bijlagen bij de resoluties van de Staten-Generaal",
         "De ingekomen brieven en stukken en minuten van uitgaande brieven, verzameld in de \"liassen\"",
         "De Liassen Binnenland",
         "1550-1796",
         "4867-5461, ---",
         "4897"
        ],
        [
         "4779",
         "De bijlagen bij de resoluties van de Staten-Generaal",
         "De ingekomen brieven en stukken en minuten van uitgaande brieven, verzameld in de \"liassen\"",
         "De Liassen Binnenland",
         "1550-1796",
         "4867-5461, ---",
         "4898"
        ],
        [
         "4780",
         "De bijlagen bij de resoluties van de Staten-Generaal",
         "De ingekomen brieven en stukken en minuten van uitgaande brieven, verzameld in de \"liassen\"",
         "De Liassen Binnenland",
         "1550-1796",
         "4867-5461, ---",
         "4899"
        ],
        [
         "4781",
         "De bijlagen bij de resoluties van de Staten-Generaal",
         "De ingekomen brieven en stukken en minuten van uitgaande brieven, verzameld in de \"liassen\"",
         "De Liassen Binnenland",
         "1550-1796",
         "4867-5461, ---",
         "4900"
        ],
        [
         "4782",
         "De bijlagen bij de resoluties van de Staten-Generaal",
         "De ingekomen brieven en stukken en minuten van uitgaande brieven, verzameld in de \"liassen\"",
         "De Liassen Binnenland",
         "1550-1796",
         "4867-5461, ---",
         "4901"
        ],
        [
         "4783",
         "De bijlagen bij de resoluties van de Staten-Generaal",
         "De ingekomen brieven en stukken en minuten van uitgaande brieven, verzameld in de \"liassen\"",
         "De Liassen Binnenland",
         "1550-1796",
         "4867-5461, ---",
         "4902"
        ],
        [
         "4784",
         "De bijlagen bij de resoluties van de Staten-Generaal",
         "De ingekomen brieven en stukken en minuten van uitgaande brieven, verzameld in de \"liassen\"",
         "De Liassen Binnenland",
         "1550-1796",
         "4867-5461, ---",
         "4903"
        ],
        [
         "4785",
         "De bijlagen bij de resoluties van de Staten-Generaal",
         "De ingekomen brieven en stukken en minuten van uitgaande brieven, verzameld in de \"liassen\"",
         "De Liassen Binnenland",
         "1550-1796",
         "4867-5461, ---",
         "4904"
        ],
        [
         "4786",
         "De bijlagen bij de resoluties van de Staten-Generaal",
         "De ingekomen brieven en stukken en minuten van uitgaande brieven, verzameld in de \"liassen\"",
         "De Liassen Binnenland",
         "1550-1796",
         "4867-5461, ---",
         "4905"
        ],
        [
         "4787",
         "De bijlagen bij de resoluties van de Staten-Generaal",
         "De ingekomen brieven en stukken en minuten van uitgaande brieven, verzameld in de \"liassen\"",
         "De Liassen Binnenland",
         "1550-1796",
         "4867-5461, ---",
         "4906"
        ],
        [
         "4788",
         "De bijlagen bij de resoluties van de Staten-Generaal",
         "De ingekomen brieven en stukken en minuten van uitgaande brieven, verzameld in de \"liassen\"",
         "De Liassen Binnenland",
         "1550-1796",
         "4867-5461, ---",
         "4907"
        ],
        [
         "4789",
         "De bijlagen bij de resoluties van de Staten-Generaal",
         "De ingekomen brieven en stukken en minuten van uitgaande brieven, verzameld in de \"liassen\"",
         "De Liassen Binnenland",
         "1550-1796",
         "4867-5461, ---",
         "4908"
        ],
        [
         "4790",
         "De bijlagen bij de resoluties van de Staten-Generaal",
         "De ingekomen brieven en stukken en minuten van uitgaande brieven, verzameld in de \"liassen\"",
         "De Liassen Binnenland",
         "1550-1796",
         "4867-5461, ---",
         "4909"
        ],
        [
         "4791",
         "De bijlagen bij de resoluties van de Staten-Generaal",
         "De ingekomen brieven en stukken en minuten van uitgaande brieven, verzameld in de \"liassen\"",
         "De Liassen Binnenland",
         "1550-1796",
         "4867-5461, ---",
         "4910"
        ],
        [
         "4792",
         "De bijlagen bij de resoluties van de Staten-Generaal",
         "De ingekomen brieven en stukken en minuten van uitgaande brieven, verzameld in de \"liassen\"",
         "De Liassen Binnenland",
         "1550-1796",
         "4867-5461, ---",
         "4911"
        ],
        [
         "4793",
         "De bijlagen bij de resoluties van de Staten-Generaal",
         "De ingekomen brieven en stukken en minuten van uitgaande brieven, verzameld in de \"liassen\"",
         "De Liassen Binnenland",
         "1550-1796",
         "4867-5461, ---",
         "4912"
        ],
        [
         "4794",
         "De bijlagen bij de resoluties van de Staten-Generaal",
         "De ingekomen brieven en stukken en minuten van uitgaande brieven, verzameld in de \"liassen\"",
         "De Liassen Binnenland",
         "1550-1796",
         "4867-5461, ---",
         "4913"
        ],
        [
         "4795",
         "De bijlagen bij de resoluties van de Staten-Generaal",
         "De ingekomen brieven en stukken en minuten van uitgaande brieven, verzameld in de \"liassen\"",
         "De Liassen Binnenland",
         "1550-1796",
         "4867-5461, ---",
         "4914"
        ],
        [
         "4796",
         "De bijlagen bij de resoluties van de Staten-Generaal",
         "De ingekomen brieven en stukken en minuten van uitgaande brieven, verzameld in de \"liassen\"",
         "De Liassen Binnenland",
         "1550-1796",
         "4867-5461, ---",
         "4915"
        ],
        [
         "4797",
         "De bijlagen bij de resoluties van de Staten-Generaal",
         "De ingekomen brieven en stukken en minuten van uitgaande brieven, verzameld in de \"liassen\"",
         "De Liassen Binnenland",
         "1550-1796",
         "4867-5461, ---",
         "4916"
        ]
       ],
       "shape": {
        "columns": 6,
        "rows": 5941
       }
      },
      "text/html": [
       "<div>\n",
       "<style scoped>\n",
       "    .dataframe tbody tr th:only-of-type {\n",
       "        vertical-align: middle;\n",
       "    }\n",
       "\n",
       "    .dataframe tbody tr th {\n",
       "        vertical-align: top;\n",
       "    }\n",
       "\n",
       "    .dataframe thead th {\n",
       "        text-align: right;\n",
       "    }\n",
       "</style>\n",
       "<table border=\"1\" class=\"dataframe\">\n",
       "  <thead>\n",
       "    <tr style=\"text-align: right;\">\n",
       "      <th></th>\n",
       "      <th>series</th>\n",
       "      <th>subseries</th>\n",
       "      <th>subsubseries</th>\n",
       "      <th>filegroup</th>\n",
       "      <th>inventory_range</th>\n",
       "      <th>inventory_num</th>\n",
       "    </tr>\n",
       "  </thead>\n",
       "  <tbody>\n",
       "    <tr>\n",
       "      <th>4748</th>\n",
       "      <td>De bijlagen bij de resoluties van de Staten-Ge...</td>\n",
       "      <td>De ingekomen brieven en stukken en minuten van...</td>\n",
       "      <td>De Liassen Binnenland</td>\n",
       "      <td>1550-1796</td>\n",
       "      <td>4867-5461, ---</td>\n",
       "      <td>4867</td>\n",
       "    </tr>\n",
       "    <tr>\n",
       "      <th>4749</th>\n",
       "      <td>De bijlagen bij de resoluties van de Staten-Ge...</td>\n",
       "      <td>De ingekomen brieven en stukken en minuten van...</td>\n",
       "      <td>De Liassen Binnenland</td>\n",
       "      <td>1550-1796</td>\n",
       "      <td>4867-5461, ---</td>\n",
       "      <td>4868</td>\n",
       "    </tr>\n",
       "    <tr>\n",
       "      <th>4750</th>\n",
       "      <td>De bijlagen bij de resoluties van de Staten-Ge...</td>\n",
       "      <td>De ingekomen brieven en stukken en minuten van...</td>\n",
       "      <td>De Liassen Binnenland</td>\n",
       "      <td>1550-1796</td>\n",
       "      <td>4867-5461, ---</td>\n",
       "      <td>4869</td>\n",
       "    </tr>\n",
       "    <tr>\n",
       "      <th>4751</th>\n",
       "      <td>De bijlagen bij de resoluties van de Staten-Ge...</td>\n",
       "      <td>De ingekomen brieven en stukken en minuten van...</td>\n",
       "      <td>De Liassen Binnenland</td>\n",
       "      <td>1550-1796</td>\n",
       "      <td>4867-5461, ---</td>\n",
       "      <td>4870</td>\n",
       "    </tr>\n",
       "    <tr>\n",
       "      <th>4752</th>\n",
       "      <td>De bijlagen bij de resoluties van de Staten-Ge...</td>\n",
       "      <td>De ingekomen brieven en stukken en minuten van...</td>\n",
       "      <td>De Liassen Binnenland</td>\n",
       "      <td>1550-1796</td>\n",
       "      <td>4867-5461, ---</td>\n",
       "      <td>4871</td>\n",
       "    </tr>\n",
       "    <tr>\n",
       "      <th>...</th>\n",
       "      <td>...</td>\n",
       "      <td>...</td>\n",
       "      <td>...</td>\n",
       "      <td>...</td>\n",
       "      <td>...</td>\n",
       "      <td>...</td>\n",
       "    </tr>\n",
       "    <tr>\n",
       "      <th>10684</th>\n",
       "      <td>De bijlagen bij de resoluties van de Staten-Ge...</td>\n",
       "      <td>De ingekomen delen en dossiers, afzonderlijk v...</td>\n",
       "      <td>Rekeningen ingeleverd bij de Staten-Generaal</td>\n",
       "      <td>Rekeningen van veroverde gebieden in de Zuidel...</td>\n",
       "      <td>11066-11071</td>\n",
       "      <td>11067</td>\n",
       "    </tr>\n",
       "    <tr>\n",
       "      <th>10685</th>\n",
       "      <td>De bijlagen bij de resoluties van de Staten-Ge...</td>\n",
       "      <td>De ingekomen delen en dossiers, afzonderlijk v...</td>\n",
       "      <td>Rekeningen ingeleverd bij de Staten-Generaal</td>\n",
       "      <td>Rekeningen van veroverde gebieden in de Zuidel...</td>\n",
       "      <td>11066-11071</td>\n",
       "      <td>11068</td>\n",
       "    </tr>\n",
       "    <tr>\n",
       "      <th>10686</th>\n",
       "      <td>De bijlagen bij de resoluties van de Staten-Ge...</td>\n",
       "      <td>De ingekomen delen en dossiers, afzonderlijk v...</td>\n",
       "      <td>Rekeningen ingeleverd bij de Staten-Generaal</td>\n",
       "      <td>Rekeningen van veroverde gebieden in de Zuidel...</td>\n",
       "      <td>11066-11071</td>\n",
       "      <td>11069</td>\n",
       "    </tr>\n",
       "    <tr>\n",
       "      <th>10687</th>\n",
       "      <td>De bijlagen bij de resoluties van de Staten-Ge...</td>\n",
       "      <td>De ingekomen delen en dossiers, afzonderlijk v...</td>\n",
       "      <td>Rekeningen ingeleverd bij de Staten-Generaal</td>\n",
       "      <td>Rekeningen van veroverde gebieden in de Zuidel...</td>\n",
       "      <td>11070-11071</td>\n",
       "      <td>11070</td>\n",
       "    </tr>\n",
       "    <tr>\n",
       "      <th>10688</th>\n",
       "      <td>De bijlagen bij de resoluties van de Staten-Ge...</td>\n",
       "      <td>De ingekomen delen en dossiers, afzonderlijk v...</td>\n",
       "      <td>Rekeningen ingeleverd bij de Staten-Generaal</td>\n",
       "      <td>Rekeningen van veroverde gebieden in de Zuidel...</td>\n",
       "      <td>11070-11071</td>\n",
       "      <td>11071</td>\n",
       "    </tr>\n",
       "  </tbody>\n",
       "</table>\n",
       "<p>5941 rows × 6 columns</p>\n",
       "</div>"
      ],
      "text/plain": [
       "                                                  series  \\\n",
       "4748   De bijlagen bij de resoluties van de Staten-Ge...   \n",
       "4749   De bijlagen bij de resoluties van de Staten-Ge...   \n",
       "4750   De bijlagen bij de resoluties van de Staten-Ge...   \n",
       "4751   De bijlagen bij de resoluties van de Staten-Ge...   \n",
       "4752   De bijlagen bij de resoluties van de Staten-Ge...   \n",
       "...                                                  ...   \n",
       "10684  De bijlagen bij de resoluties van de Staten-Ge...   \n",
       "10685  De bijlagen bij de resoluties van de Staten-Ge...   \n",
       "10686  De bijlagen bij de resoluties van de Staten-Ge...   \n",
       "10687  De bijlagen bij de resoluties van de Staten-Ge...   \n",
       "10688  De bijlagen bij de resoluties van de Staten-Ge...   \n",
       "\n",
       "                                               subseries  \\\n",
       "4748   De ingekomen brieven en stukken en minuten van...   \n",
       "4749   De ingekomen brieven en stukken en minuten van...   \n",
       "4750   De ingekomen brieven en stukken en minuten van...   \n",
       "4751   De ingekomen brieven en stukken en minuten van...   \n",
       "4752   De ingekomen brieven en stukken en minuten van...   \n",
       "...                                                  ...   \n",
       "10684  De ingekomen delen en dossiers, afzonderlijk v...   \n",
       "10685  De ingekomen delen en dossiers, afzonderlijk v...   \n",
       "10686  De ingekomen delen en dossiers, afzonderlijk v...   \n",
       "10687  De ingekomen delen en dossiers, afzonderlijk v...   \n",
       "10688  De ingekomen delen en dossiers, afzonderlijk v...   \n",
       "\n",
       "                                       subsubseries  \\\n",
       "4748                          De Liassen Binnenland   \n",
       "4749                          De Liassen Binnenland   \n",
       "4750                          De Liassen Binnenland   \n",
       "4751                          De Liassen Binnenland   \n",
       "4752                          De Liassen Binnenland   \n",
       "...                                             ...   \n",
       "10684  Rekeningen ingeleverd bij de Staten-Generaal   \n",
       "10685  Rekeningen ingeleverd bij de Staten-Generaal   \n",
       "10686  Rekeningen ingeleverd bij de Staten-Generaal   \n",
       "10687  Rekeningen ingeleverd bij de Staten-Generaal   \n",
       "10688  Rekeningen ingeleverd bij de Staten-Generaal   \n",
       "\n",
       "                                               filegroup inventory_range  \\\n",
       "4748                                           1550-1796  4867-5461, ---   \n",
       "4749                                           1550-1796  4867-5461, ---   \n",
       "4750                                           1550-1796  4867-5461, ---   \n",
       "4751                                           1550-1796  4867-5461, ---   \n",
       "4752                                           1550-1796  4867-5461, ---   \n",
       "...                                                  ...             ...   \n",
       "10684  Rekeningen van veroverde gebieden in de Zuidel...     11066-11071   \n",
       "10685  Rekeningen van veroverde gebieden in de Zuidel...     11066-11071   \n",
       "10686  Rekeningen van veroverde gebieden in de Zuidel...     11066-11071   \n",
       "10687  Rekeningen van veroverde gebieden in de Zuidel...     11070-11071   \n",
       "10688  Rekeningen van veroverde gebieden in de Zuidel...     11070-11071   \n",
       "\n",
       "      inventory_num  \n",
       "4748           4867  \n",
       "4749           4868  \n",
       "4750           4869  \n",
       "4751           4870  \n",
       "4752           4871  \n",
       "...             ...  \n",
       "10684         11067  \n",
       "10685         11068  \n",
       "10686         11069  \n",
       "10687         11070  \n",
       "10688         11071  \n",
       "\n",
       "[5941 rows x 6 columns]"
      ]
     },
     "execution_count": 10,
     "metadata": {},
     "output_type": "execute_result"
    }
   ],
   "source": [
    "# Filter for 'inkomende' in subseries\n",
    "ink = ead_tsv[ead_tsv['subseries'].str.contains('ingekomen', na=False)]\n",
    "ink"
   ]
  },
  {
   "cell_type": "code",
   "execution_count": 11,
   "id": "0f8cc375",
   "metadata": {},
   "outputs": [
    {
     "data": {
      "application/vnd.plotly.v1+json": {
       "config": {
        "plotlyServerURL": "https://plot.ly"
       },
       "data": [
        {
         "branchvalues": "total",
         "domain": {
          "x": [
           0,
           1
          ],
          "y": [
           0,
           1
          ]
         },
         "hovertemplate": "labels=%{label}<br>count=%{value}<br>parent=%{parent}<br>id=%{id}<extra></extra>",
         "ids": [
          "De Liassen Binnenland/4867-5461, ---",
          "De Liassen Binnenland/5462-5477",
          "De Liassen Binnenland/5478-5714",
          "De Liassen Binnenland/5715-5718",
          "De Liassen Binnenland/5719-5722",
          "De Liassen Binnenland/5723-5733",
          "De Liassen Binnenland/5734-5749",
          "De Liassen Binnenland/5745A-5745B",
          "De Liassen Binnenland/5750",
          "De Liassen Binnenland/5751A-5815",
          "De Liassen Binnenland/5816-5817",
          "De Liassen Binnenland/5818-5879",
          "De Liassen Buitenland/5881-6002, ---",
          "De Liassen Buitenland/6003-6015",
          "De Liassen Buitenland/6016-6024",
          "De Liassen Buitenland/6025-6026",
          "De Liassen Buitenland/6028-6583, ---",
          "De Liassen Buitenland/6584-6629",
          "De Liassen Buitenland/6630-6634",
          "De Liassen Buitenland/6635-6679",
          "De Liassen Buitenland/6680-6696",
          "De Liassen Buitenland/6697-6742",
          "De Liassen Buitenland/6743-6746",
          "De Liassen Buitenland/6747-6749",
          "De Liassen Buitenland/6750-6863",
          "De Liassen Buitenland/6864-6887",
          "De Liassen Buitenland/6888-6996",
          "De Liassen Buitenland/6926-6926A",
          "De Liassen Buitenland/6997-7009",
          "De Liassen Buitenland/7010-7036",
          "De Liassen Buitenland/7037-7041",
          "De Liassen Buitenland/7042-7160",
          "De Liassen Buitenland/7161-7168",
          "De Liassen Buitenland/7169-7223",
          "De Liassen Buitenland/7224-7237",
          "De Liassen Buitenland/7238-7302",
          "De Liassen Buitenland/7303-7310",
          "De Liassen Buitenland/7311-7354",
          "De Liassen Buitenland/7355-7360",
          "De Liassen Buitenland/7361-7361.C",
          "De Liassen Buitenland/7361-7396",
          "De Liassen Buitenland/7364-7364B",
          "De Liassen Buitenland/7365-7365C",
          "De Liassen Buitenland/7366-7366L",
          "De Liassen Buitenland/7368-7368B",
          "De Liassen Buitenland/7370A-7370D",
          "De Liassen Buitenland/7397-7410",
          "De Liassen Buitenland/7411-7453",
          "De Liassen Buitenland/7454-7460",
          "De Liassen Buitenland/7461-7461A",
          "De Liassen Buitenland/7462A-7462B",
          "De Liassen Buitenland/7463",
          "De Liassen Buitenland/7464",
          "De Liassen Buitenland/7465",
          "De Liassen Buitenland/7466-7467",
          "De Liassen Buitenland/7468-7469",
          "De Liassen Buitenland/7470-7471",
          "1600-1795/7474-8025",
          "1600-1795/8026-8039",
          "De staten van oorlog te land en ter zee/8040-8297",
          "Verbalen en rapporten van Nederlandse vertegenwoordigers in den vreemde (buitenlandse verbalen)/8310-8311",
          "Verbalen en rapporten van Nederlandse vertegenwoordigers in den vreemde (buitenlandse verbalen)/8313-8314",
          "Verbalen en rapporten van Nederlandse vertegenwoordigers in den vreemde (buitenlandse verbalen)/8317-8318",
          "Verbalen en rapporten van Nederlandse vertegenwoordigers in den vreemde (buitenlandse verbalen)/8326-8327",
          "Verbalen en rapporten van Nederlandse vertegenwoordigers in den vreemde (buitenlandse verbalen)/8337-8338",
          "Verbalen en rapporten van Nederlandse vertegenwoordigers in den vreemde (buitenlandse verbalen)/8347-8348",
          "Verbalen en rapporten van Nederlandse vertegenwoordigers in den vreemde (buitenlandse verbalen)/8350-8352",
          "Verbalen en rapporten van Nederlandse vertegenwoordigers in den vreemde (buitenlandse verbalen)/8357-8358",
          "Verbalen en rapporten van Nederlandse vertegenwoordigers in den vreemde (buitenlandse verbalen)/8359-8360",
          "Verbalen en rapporten van Nederlandse vertegenwoordigers in den vreemde (buitenlandse verbalen)/8364-8365",
          "Verbalen en rapporten van Nederlandse vertegenwoordigers in den vreemde (buitenlandse verbalen)/8375-8378",
          "Verbalen en rapporten van Nederlandse vertegenwoordigers in den vreemde (buitenlandse verbalen)/8384-8385",
          "Verbalen en rapporten van Nederlandse vertegenwoordigers in den vreemde (buitenlandse verbalen)/8387-8390",
          "Verbalen en rapporten van Nederlandse vertegenwoordigers in den vreemde (buitenlandse verbalen)/8391-8392",
          "Verbalen en rapporten van Nederlandse vertegenwoordigers in den vreemde (buitenlandse verbalen)/8396-8397",
          "Verbalen en rapporten van Nederlandse vertegenwoordigers in den vreemde (buitenlandse verbalen)/8398-8399",
          "Verbalen en rapporten van Nederlandse vertegenwoordigers in den vreemde (buitenlandse verbalen)/8400-8401",
          "Verbalen en rapporten van Nederlandse vertegenwoordigers in den vreemde (buitenlandse verbalen)/8405-8406",
          "Verbalen en rapporten van Nederlandse vertegenwoordigers in den vreemde (buitenlandse verbalen)/8407-8408",
          "Verbalen en rapporten van Nederlandse vertegenwoordigers in den vreemde (buitenlandse verbalen)/8409-8410",
          "Verbalen en rapporten van Nederlandse vertegenwoordigers in den vreemde (buitenlandse verbalen)/8411-8412",
          "Verbalen en rapporten van Nederlandse vertegenwoordigers in den vreemde (buitenlandse verbalen)/8414-8416",
          "Verbalen en rapporten van Nederlandse vertegenwoordigers in den vreemde (buitenlandse verbalen)/8417-8422",
          "Verbalen en rapporten van Nederlandse vertegenwoordigers in den vreemde (buitenlandse verbalen)/8423-8427",
          "Verbalen en rapporten van Nederlandse vertegenwoordigers in den vreemde (buitenlandse verbalen)/8428, 8430",
          "Verbalen en rapporten van Nederlandse vertegenwoordigers in den vreemde (buitenlandse verbalen)/8431-8434",
          "Verbalen en rapporten van Nederlandse vertegenwoordigers in den vreemde (buitenlandse verbalen)/8435-8437",
          "Verbalen en rapporten van Nederlandse vertegenwoordigers in den vreemde (buitenlandse verbalen)/8438-8445",
          "Verbalen en rapporten van Nederlandse vertegenwoordigers in den vreemde (buitenlandse verbalen)/8446-8447",
          "Verbalen en rapporten van Nederlandse vertegenwoordigers in den vreemde (buitenlandse verbalen)/8449-8450",
          "Verbalen en rapporten van Nederlandse vertegenwoordigers in den vreemde (buitenlandse verbalen)/8451-8452",
          "Verbalen en rapporten van Nederlandse vertegenwoordigers in den vreemde (buitenlandse verbalen)/8454-8456",
          "Verbalen en rapporten van Nederlandse vertegenwoordigers in den vreemde (buitenlandse verbalen)/8457-8459",
          "Verbalen en rapporten van Nederlandse vertegenwoordigers in den vreemde (buitenlandse verbalen)/8460-8462",
          "Verbalen en rapporten van Nederlandse vertegenwoordigers in den vreemde (buitenlandse verbalen)/8464-8466",
          "Verbalen en rapporten van Nederlandse vertegenwoordigers in den vreemde (buitenlandse verbalen)/8467-8469",
          "Verbalen en rapporten van Nederlandse vertegenwoordigers in den vreemde (buitenlandse verbalen)/8470-8471",
          "Verbalen en rapporten van Nederlandse vertegenwoordigers in den vreemde (buitenlandse verbalen)/8472-8473",
          "Verbalen en rapporten van Nederlandse vertegenwoordigers in den vreemde (buitenlandse verbalen)/8474-8475",
          "Verbalen en rapporten van Nederlandse vertegenwoordigers in den vreemde (buitenlandse verbalen)/8478-8479",
          "Verbalen en rapporten van Nederlandse vertegenwoordigers in den vreemde (buitenlandse verbalen)/8480-8482",
          "Verbalen en rapporten van Nederlandse vertegenwoordigers in den vreemde (buitenlandse verbalen)/8485-8486",
          "Verbalen en rapporten van Nederlandse vertegenwoordigers in den vreemde (buitenlandse verbalen)/8488-8489",
          "Verbalen en rapporten van Nederlandse vertegenwoordigers in den vreemde (buitenlandse verbalen)/8494-8495",
          "Verbalen en rapporten van Nederlandse vertegenwoordigers in den vreemde (buitenlandse verbalen)/8496-8498",
          "Verbalen en rapporten van Nederlandse vertegenwoordigers in den vreemde (buitenlandse verbalen)/8499-8500",
          "Verbalen en rapporten van Nederlandse vertegenwoordigers in den vreemde (buitenlandse verbalen)/8502-8503",
          "Verbalen en rapporten van Nederlandse vertegenwoordigers in den vreemde (buitenlandse verbalen)/8504-8505",
          "Verbalen en rapporten van Nederlandse vertegenwoordigers in den vreemde (buitenlandse verbalen)/8507-8509",
          "Verbalen en rapporten van Nederlandse vertegenwoordigers in den vreemde (buitenlandse verbalen)/8512-8515",
          "Verbalen en rapporten van Nederlandse vertegenwoordigers in den vreemde (buitenlandse verbalen)/8516-8521",
          "Verbalen en rapporten van Nederlandse vertegenwoordigers in den vreemde (buitenlandse verbalen)/8522-8524",
          "Verbalen en rapporten van Nederlandse vertegenwoordigers in den vreemde (buitenlandse verbalen)/8525-8527",
          "Verbalen en rapporten van Nederlandse vertegenwoordigers in den vreemde (buitenlandse verbalen)/8528-8529",
          "Verbalen en rapporten van Nederlandse vertegenwoordigers in den vreemde (buitenlandse verbalen)/8530-8531",
          "Verbalen en rapporten van Nederlandse vertegenwoordigers in den vreemde (buitenlandse verbalen)/8534-8535",
          "Verbalen en rapporten van Nederlandse vertegenwoordigers in den vreemde (buitenlandse verbalen)/8536-8538",
          "Verbalen en rapporten van Nederlandse vertegenwoordigers in den vreemde (buitenlandse verbalen)/8541-8544",
          "Verbalen en rapporten van Nederlandse vertegenwoordigers in den vreemde (buitenlandse verbalen)/8546-8547",
          "Verbalen en rapporten van Nederlandse vertegenwoordigers in den vreemde (buitenlandse verbalen)/8548-8549",
          "Verbalen en rapporten van Nederlandse vertegenwoordigers in den vreemde (buitenlandse verbalen)/8554-8556",
          "Verbalen en rapporten van Nederlandse vertegenwoordigers in den vreemde (buitenlandse verbalen)/8559-8560",
          "Verbalen en rapporten van Nederlandse vertegenwoordigers in den vreemde (buitenlandse verbalen)/8561-8562",
          "Verbalen en rapporten van Nederlandse vertegenwoordigers in den vreemde (buitenlandse verbalen)/8563-8564",
          "Verbalen en rapporten van Nederlandse vertegenwoordigers in den vreemde (buitenlandse verbalen)/8566-8570",
          "Verbalen en rapporten van Nederlandse vertegenwoordigers in den vreemde (buitenlandse verbalen)/8571-8572",
          "Verbalen en rapporten van Nederlandse vertegenwoordigers in den vreemde (buitenlandse verbalen)/8576-8579",
          "Verbalen en rapporten van Nederlandse vertegenwoordigers in den vreemde (buitenlandse verbalen)/8580-8581",
          "Verbalen en rapporten van Nederlandse vertegenwoordigers in den vreemde (buitenlandse verbalen)/8588-8590",
          "Verbalen en rapporten van Nederlandse vertegenwoordigers in den vreemde (buitenlandse verbalen)/8591-8594",
          "Verbalen en rapporten van Nederlandse vertegenwoordigers in den vreemde (buitenlandse verbalen)/8595-8602",
          "Verbalen en rapporten van Nederlandse vertegenwoordigers in den vreemde (buitenlandse verbalen)/8607-8609",
          "Verbalen en rapporten van Nederlandse vertegenwoordigers in den vreemde (buitenlandse verbalen)/8613-8614",
          "Verbalen en rapporten van Nederlandse vertegenwoordigers in den vreemde (buitenlandse verbalen)/8616-8621",
          "Verbalen en rapporten van Nederlandse vertegenwoordigers in den vreemde (buitenlandse verbalen)/8631-8632",
          "Verbalen en rapporten van Nederlandse vertegenwoordigers in den vreemde (buitenlandse verbalen)/8633-8634",
          "Verbalen en rapporten van Nederlandse vertegenwoordigers in den vreemde (buitenlandse verbalen)/8641-8642",
          "Verbalen en rapporten van Nederlandse vertegenwoordigers in den vreemde (buitenlandse verbalen)/8643-8644",
          "Verbalen en rapporten van Nederlandse vertegenwoordigers in den vreemde (buitenlandse verbalen)/8649-8650",
          "Verbalen en rapporten van Nederlandse vertegenwoordigers in den vreemde (buitenlandse verbalen)/8660-8661",
          "Verbalen en rapporten van Nederlandse vertegenwoordigers in den vreemde (buitenlandse verbalen)/8662-8664",
          "Verbalen en rapporten van Nederlandse vertegenwoordigers in den vreemde (buitenlandse verbalen)/8668-8669",
          "Verbalen en rapporten van Nederlandse vertegenwoordigers in den vreemde (buitenlandse verbalen)/8670-8672",
          "Verbalen en rapporten van Nederlandse vertegenwoordigers in den vreemde (buitenlandse verbalen)/8676-8679",
          "Verbalen en rapporten van Nederlandse vertegenwoordigers in den vreemde (buitenlandse verbalen)/8680-8693",
          "Verbalen en rapporten van Nederlandse vertegenwoordigers in den vreemde (buitenlandse verbalen)/8695-8698",
          "Verbalen en rapporten van Nederlandse vertegenwoordigers in den vreemde (buitenlandse verbalen)/8705-8713",
          "Verbalen en rapporten van Nederlandse vertegenwoordigers in den vreemde (buitenlandse verbalen)/8715-8720",
          "Verbalen en rapporten van Nederlandse vertegenwoordigers in den vreemde (buitenlandse verbalen)/8725-8726",
          "Verbalen en rapporten van Nederlandse vertegenwoordigers in den vreemde (buitenlandse verbalen)/8738-8739",
          "Verbalen en rapporten van Nederlandse vertegenwoordigers in den vreemde (buitenlandse verbalen)/8743-8746",
          "Verbalen en rapporten van Nederlandse vertegenwoordigers in den vreemde (buitenlandse verbalen)/8760-8761",
          "Verbalen en rapporten van Nederlandse vertegenwoordigers in den vreemde (buitenlandse verbalen)/8762-8772",
          "Verbalen en rapporten van Nederlandse vertegenwoordigers in den vreemde (buitenlandse verbalen)/8777-8778",
          "Verbalen en rapporten van Nederlandse vertegenwoordigers in den vreemde (buitenlandse verbalen)/8780-8782",
          "Verbalen en rapporten van Nederlandse vertegenwoordigers in den vreemde (buitenlandse verbalen)/8783-8819",
          "Verbalen en rapporten van Nederlandse vertegenwoordigers in den vreemde (buitenlandse verbalen)/8821-8822",
          "Verbalen en rapporten van Nederlandse vertegenwoordigers in den vreemde (buitenlandse verbalen)/8823-8825",
          "Verbalen en rapporten van Nederlandse vertegenwoordigers in den vreemde (buitenlandse verbalen)/8827-8828",
          "Verbalen en rapporten van Nederlandse vertegenwoordigers in den vreemde (buitenlandse verbalen)/8835-8837",
          "Verbalen en rapporten van Nederlandse vertegenwoordigers in den vreemde (buitenlandse verbalen)/8839-8842",
          "Verbalen en rapporten van Nederlandse vertegenwoordigers in den vreemde (buitenlandse verbalen)/8847-8851",
          "Verbalen en rapporten van bezendingen van de Staten-Generaal aan de provincies en Generaliteitslanden (binnenlandse verbalen)/8857",
          "Verbalen en rapporten van bezendingen van de Staten-Generaal aan de provincies en Generaliteitslanden (binnenlandse verbalen)/8858",
          "Verbalen en rapporten van bezendingen van de Staten-Generaal aan de provincies en Generaliteitslanden (binnenlandse verbalen)/8859",
          "Verbalen en rapporten van bezendingen van de Staten-Generaal aan de provincies en Generaliteitslanden (binnenlandse verbalen)/8860",
          "Verbalen en rapporten van bezendingen van de Staten-Generaal aan de provincies en Generaliteitslanden (binnenlandse verbalen)/8861",
          "Verbalen en rapporten van bezendingen van de Staten-Generaal aan de provincies en Generaliteitslanden (binnenlandse verbalen)/8862",
          "Verbalen en rapporten van bezendingen van de Staten-Generaal aan de provincies en Generaliteitslanden (binnenlandse verbalen)/8863",
          "Verbalen en rapporten van bezendingen van de Staten-Generaal aan de provincies en Generaliteitslanden (binnenlandse verbalen)/8864",
          "Verbalen en rapporten van bezendingen van de Staten-Generaal aan de provincies en Generaliteitslanden (binnenlandse verbalen)/8865",
          "Verbalen en rapporten van bezendingen van de Staten-Generaal aan de provincies en Generaliteitslanden (binnenlandse verbalen)/8866",
          "Verbalen en rapporten van bezendingen van de Staten-Generaal aan de provincies en Generaliteitslanden (binnenlandse verbalen)/8867",
          "Verbalen en rapporten van bezendingen van de Staten-Generaal aan de provincies en Generaliteitslanden (binnenlandse verbalen)/8868",
          "Verbalen en rapporten van bezendingen van de Staten-Generaal aan de provincies en Generaliteitslanden (binnenlandse verbalen)/8869",
          "Verbalen en rapporten van bezendingen van de Staten-Generaal aan de provincies en Generaliteitslanden (binnenlandse verbalen)/8870",
          "Verbalen en rapporten van bezendingen van de Staten-Generaal aan de provincies en Generaliteitslanden (binnenlandse verbalen)/8871",
          "Verbalen en rapporten van bezendingen van de Staten-Generaal aan de provincies en Generaliteitslanden (binnenlandse verbalen)/8872",
          "Verbalen en rapporten van bezendingen van de Staten-Generaal aan de provincies en Generaliteitslanden (binnenlandse verbalen)/8873",
          "Verbalen en rapporten van bezendingen van de Staten-Generaal aan de provincies en Generaliteitslanden (binnenlandse verbalen)/8874",
          "Verbalen en rapporten van bezendingen van de Staten-Generaal aan de provincies en Generaliteitslanden (binnenlandse verbalen)/8875",
          "Verbalen en rapporten van bezendingen van de Staten-Generaal aan de provincies en Generaliteitslanden (binnenlandse verbalen)/8876",
          "Verbalen en rapporten van bezendingen van de Staten-Generaal aan de provincies en Generaliteitslanden (binnenlandse verbalen)/8877",
          "Verbalen en rapporten van bezendingen van de Staten-Generaal aan de provincies en Generaliteitslanden (binnenlandse verbalen)/8878",
          "Verbalen en rapporten van bezendingen van de Staten-Generaal aan de provincies en Generaliteitslanden (binnenlandse verbalen)/8879",
          "Verbalen en rapporten van bezendingen van de Staten-Generaal aan de provincies en Generaliteitslanden (binnenlandse verbalen)/8880",
          "Verbalen en rapporten van bezendingen van de Staten-Generaal aan de provincies en Generaliteitslanden (binnenlandse verbalen)/8881",
          "Verbalen en rapporten van bezendingen van de Staten-Generaal aan de provincies en Generaliteitslanden (binnenlandse verbalen)/8882",
          "Verbalen en rapporten van bezendingen van de Staten-Generaal aan de provincies en Generaliteitslanden (binnenlandse verbalen)/8883",
          "Verbalen en rapporten van bezendingen van de Staten-Generaal aan de provincies en Generaliteitslanden (binnenlandse verbalen)/8884",
          "Verbalen en rapporten van bezendingen van de Staten-Generaal aan de provincies en Generaliteitslanden (binnenlandse verbalen)/8885",
          "Verbalen en rapporten van bezendingen van de Staten-Generaal aan de provincies en Generaliteitslanden (binnenlandse verbalen)/8887",
          "Verbalen en rapporten van bezendingen van de Staten-Generaal aan de provincies en Generaliteitslanden (binnenlandse verbalen)/8888",
          "Verbalen en rapporten van bezendingen van de Staten-Generaal aan de provincies en Generaliteitslanden (binnenlandse verbalen)/8889",
          "Verbalen en rapporten van bezendingen van de Staten-Generaal aan de provincies en Generaliteitslanden (binnenlandse verbalen)/8890",
          "Verbalen en rapporten van bezendingen van de Staten-Generaal aan de provincies en Generaliteitslanden (binnenlandse verbalen)/8891",
          "Verbalen en rapporten van bezendingen van de Staten-Generaal aan de provincies en Generaliteitslanden (binnenlandse verbalen)/8892",
          "Verbalen en rapporten van bezendingen van de Staten-Generaal aan de provincies en Generaliteitslanden (binnenlandse verbalen)/8893",
          "Verbalen en rapporten van bezendingen van de Staten-Generaal aan de provincies en Generaliteitslanden (binnenlandse verbalen)/8894",
          "Verbalen en rapporten van bezendingen van de Staten-Generaal aan de provincies en Generaliteitslanden (binnenlandse verbalen)/8895-8896",
          "Verbalen en rapporten van bezendingen van de Staten-Generaal aan de provincies en Generaliteitslanden (binnenlandse verbalen)/8897",
          "Verbalen en rapporten van bezendingen van de Staten-Generaal aan de provincies en Generaliteitslanden (binnenlandse verbalen)/8898",
          "Verbalen en rapporten van bezendingen van de Staten-Generaal aan de provincies en Generaliteitslanden (binnenlandse verbalen)/8899",
          "Verbalen en rapporten van bezendingen van de Staten-Generaal aan de provincies en Generaliteitslanden (binnenlandse verbalen)/8900",
          "Verbalen en rapporten van bezendingen van de Staten-Generaal aan de provincies en Generaliteitslanden (binnenlandse verbalen)/8901",
          "Verbalen en rapporten van bezendingen van de Staten-Generaal aan de provincies en Generaliteitslanden (binnenlandse verbalen)/8902",
          "Verbalen en rapporten van bezendingen van de Staten-Generaal aan de provincies en Generaliteitslanden (binnenlandse verbalen)/8903",
          "Verbalen en rapporten van bezendingen van de Staten-Generaal aan de provincies en Generaliteitslanden (binnenlandse verbalen)/8904-8905",
          "Verbalen en rapporten van bezendingen van de Staten-Generaal aan de provincies en Generaliteitslanden (binnenlandse verbalen)/8906",
          "Verbalen en rapporten van bezendingen van de Staten-Generaal aan de provincies en Generaliteitslanden (binnenlandse verbalen)/8907",
          "Verbalen en rapporten van bezendingen van de Staten-Generaal aan de provincies en Generaliteitslanden (binnenlandse verbalen)/8908",
          "Verbalen en rapporten van bezendingen van de Staten-Generaal aan de provincies en Generaliteitslanden (binnenlandse verbalen)/8909",
          "Verbalen en rapporten van bezendingen van de Staten-Generaal aan de provincies en Generaliteitslanden (binnenlandse verbalen)/8910",
          "Verbalen en rapporten van bezendingen van de Staten-Generaal aan de provincies en Generaliteitslanden (binnenlandse verbalen)/8911-8912",
          "Verbalen en rapporten van bezendingen van de Staten-Generaal aan de provincies en Generaliteitslanden (binnenlandse verbalen)/8913",
          "Verbalen en rapporten van bezendingen van de Staten-Generaal aan de provincies en Generaliteitslanden (binnenlandse verbalen)/8914-8915",
          "Verbalen en rapporten van bezendingen van de Staten-Generaal aan de provincies en Generaliteitslanden (binnenlandse verbalen)/8916",
          "Verbalen en rapporten van bezendingen van de Staten-Generaal aan de provincies en Generaliteitslanden (binnenlandse verbalen)/8917",
          "Verbalen en rapporten van bezendingen van de Staten-Generaal aan de provincies en Generaliteitslanden (binnenlandse verbalen)/8918",
          "Verbalen en rapporten van bezendingen van de Staten-Generaal aan de provincies en Generaliteitslanden (binnenlandse verbalen)/8919",
          "Verbalen en rapporten van bezendingen van de Staten-Generaal aan de provincies en Generaliteitslanden (binnenlandse verbalen)/8920",
          "Verbalen en rapporten van bezendingen van de Staten-Generaal aan de provincies en Generaliteitslanden (binnenlandse verbalen)/8921",
          "Verbalen en rapporten van bezendingen van de Staten-Generaal aan de provincies en Generaliteitslanden (binnenlandse verbalen)/8922-8923",
          "Verbalen en rapporten van bezendingen van de Staten-Generaal aan de provincies en Generaliteitslanden (binnenlandse verbalen)/8924",
          "Verbalen en rapporten van bezendingen van de Staten-Generaal aan de provincies en Generaliteitslanden (binnenlandse verbalen)/8925",
          "Verbalen en rapporten van bezendingen van de Staten-Generaal aan de provincies en Generaliteitslanden (binnenlandse verbalen)/8926",
          "Verbalen en rapporten van bezendingen van de Staten-Generaal aan de provincies en Generaliteitslanden (binnenlandse verbalen)/8927",
          "Verbalen en rapporten van bezendingen van de Staten-Generaal aan de provincies en Generaliteitslanden (binnenlandse verbalen)/8928",
          "Verbalen en rapporten van bezendingen van de Staten-Generaal aan de provincies en Generaliteitslanden (binnenlandse verbalen)/8929",
          "Verbalen en rapporten van bezendingen van de Staten-Generaal aan de provincies en Generaliteitslanden (binnenlandse verbalen)/8930",
          "Verbalen en rapporten van bezendingen van de Staten-Generaal aan de provincies en Generaliteitslanden (binnenlandse verbalen)/8931",
          "Verbalen en rapporten van bezendingen van de Staten-Generaal aan de provincies en Generaliteitslanden (binnenlandse verbalen)/8932",
          "Verbalen en rapporten van bezendingen van de Staten-Generaal aan de provincies en Generaliteitslanden (binnenlandse verbalen)/8933",
          "Verbalen en rapporten van bezendingen van de Staten-Generaal aan de provincies en Generaliteitslanden (binnenlandse verbalen)/8934",
          "Verbalen en rapporten van bezendingen van de Staten-Generaal aan de provincies en Generaliteitslanden (binnenlandse verbalen)/8935",
          "Verbalen en rapporten van bezendingen van de Staten-Generaal aan de provincies en Generaliteitslanden (binnenlandse verbalen)/8936",
          "Verbalen en rapporten van bezendingen van de Staten-Generaal aan de provincies en Generaliteitslanden (binnenlandse verbalen)/8937",
          "Verbalen en rapporten van bezendingen van de Staten-Generaal aan de provincies en Generaliteitslanden (binnenlandse verbalen)/8938",
          "Verbalen en rapporten van bezendingen van de Staten-Generaal aan de provincies en Generaliteitslanden (binnenlandse verbalen)/8939",
          "Verbalen en rapporten van bezendingen van de Staten-Generaal aan de provincies en Generaliteitslanden (binnenlandse verbalen)/8940",
          "Verbalen en rapporten van bezendingen van de Staten-Generaal aan de provincies en Generaliteitslanden (binnenlandse verbalen)/8941",
          "Verbalen en rapporten van bezendingen van de Staten-Generaal aan de provincies en Generaliteitslanden (binnenlandse verbalen)/8942",
          "Verbalen en rapporten van bezendingen van de Staten-Generaal aan de provincies en Generaliteitslanden (binnenlandse verbalen)/8943",
          "Verbalen en rapporten van bezendingen van de Staten-Generaal aan de provincies en Generaliteitslanden (binnenlandse verbalen)/8944",
          "Verbalen en rapporten van bezendingen van de Staten-Generaal aan de provincies en Generaliteitslanden (binnenlandse verbalen)/8945",
          "Verbalen en rapporten van bezendingen van de Staten-Generaal aan de provincies en Generaliteitslanden (binnenlandse verbalen)/8946-8947",
          "Verbalen en rapporten van bezendingen van de Staten-Generaal aan de provincies en Generaliteitslanden (binnenlandse verbalen)/8948",
          "Verbalen en rapporten van bezendingen van de Staten-Generaal aan de provincies en Generaliteitslanden (binnenlandse verbalen)/8949",
          "Verbalen en rapporten van bezendingen van de Staten-Generaal aan de provincies en Generaliteitslanden (binnenlandse verbalen)/8950",
          "Verbalen en rapporten van bezendingen van de Staten-Generaal aan de provincies en Generaliteitslanden (binnenlandse verbalen)/8951",
          "Verbalen en rapporten van bezendingen van de Staten-Generaal aan de provincies en Generaliteitslanden (binnenlandse verbalen)/8952",
          "Verbalen en rapporten van bezendingen van de Staten-Generaal aan de provincies en Generaliteitslanden (binnenlandse verbalen)/8953",
          "Verbalen en rapporten van bezendingen van de Staten-Generaal aan de provincies en Generaliteitslanden (binnenlandse verbalen)/8953A-8953B",
          "Verbalen en rapporten van bezendingen van de Staten-Generaal aan de provincies en Generaliteitslanden (binnenlandse verbalen)/8953C",
          "Verbalen en rapporten van bezendingen van de Staten-Generaal aan de provincies en Generaliteitslanden (binnenlandse verbalen)/8954",
          "Verbalen en rapporten van bezendingen van de Staten-Generaal aan de provincies en Generaliteitslanden (binnenlandse verbalen)/8955",
          "Verbalen en rapporten van bezendingen van de Staten-Generaal aan de provincies en Generaliteitslanden (binnenlandse verbalen)/8956",
          "Verbalen en rapporten van bezendingen van de Staten-Generaal aan de provincies en Generaliteitslanden (binnenlandse verbalen)/8957",
          "Verbalen en rapporten van bezendingen van de Staten-Generaal aan de provincies en Generaliteitslanden (binnenlandse verbalen)/8958",
          "Verbalen en rapporten van bezendingen van de Staten-Generaal aan de provincies en Generaliteitslanden (binnenlandse verbalen)/8959",
          "Verbalen en rapporten van bezendingen van de Staten-Generaal aan de provincies en Generaliteitslanden (binnenlandse verbalen)/8960",
          "Verbalen en rapporten van bezendingen van de Staten-Generaal aan de provincies en Generaliteitslanden (binnenlandse verbalen)/8961",
          "Verbalen en rapporten van bezendingen van de Staten-Generaal aan de provincies en Generaliteitslanden (binnenlandse verbalen)/8962-8963",
          "Verbalen en rapporten van bezendingen van de Staten-Generaal aan de provincies en Generaliteitslanden (binnenlandse verbalen)/8964",
          "Verbalen en rapporten van bezendingen van de Staten-Generaal aan de provincies en Generaliteitslanden (binnenlandse verbalen)/8965",
          "Verbalen en rapporten van bezendingen van de Staten-Generaal aan de provincies en Generaliteitslanden (binnenlandse verbalen)/8966",
          "Verbalen en rapporten van bezendingen van de Staten-Generaal aan de provincies en Generaliteitslanden (binnenlandse verbalen)/8967",
          "Verbalen en rapporten van bezendingen van de Staten-Generaal aan de provincies en Generaliteitslanden (binnenlandse verbalen)/8968",
          "Verbalen en rapporten van bezendingen van de Staten-Generaal aan de provincies en Generaliteitslanden (binnenlandse verbalen)/8969",
          "Verbalen en rapporten van bezendingen van de Staten-Generaal aan de provincies en Generaliteitslanden (binnenlandse verbalen)/8970",
          "Verbalen en rapporten van bezendingen van de Staten-Generaal aan de provincies en Generaliteitslanden (binnenlandse verbalen)/8971",
          "Verbalen en rapporten van bezendingen van de Staten-Generaal aan de provincies en Generaliteitslanden (binnenlandse verbalen)/8972-8975",
          "Verbalen en rapporten van bezendingen van de Staten-Generaal aan de provincies en Generaliteitslanden (binnenlandse verbalen)/8976",
          "Verbalen en rapporten van bezendingen van de Staten-Generaal aan de provincies en Generaliteitslanden (binnenlandse verbalen)/8977",
          "Verbalen en rapporten van bezendingen van de Staten-Generaal aan de provincies en Generaliteitslanden (binnenlandse verbalen)/8978",
          "Verbalen en rapporten van bezendingen van de Staten-Generaal aan de provincies en Generaliteitslanden (binnenlandse verbalen)/8979",
          "Verbalen en rapporten van bezendingen van de Staten-Generaal aan de provincies en Generaliteitslanden (binnenlandse verbalen)/8980",
          "Verbalen en rapporten van bezendingen van de Staten-Generaal aan de provincies en Generaliteitslanden (binnenlandse verbalen)/8981",
          "Verbalen en rapporten van bezendingen van de Staten-Generaal aan de provincies en Generaliteitslanden (binnenlandse verbalen)/8982",
          "Verbalen en rapporten van bezendingen van de Staten-Generaal aan de provincies en Generaliteitslanden (binnenlandse verbalen)/8983",
          "Verbalen en rapporten van bezendingen van de Staten-Generaal aan de provincies en Generaliteitslanden (binnenlandse verbalen)/8984",
          "Verbalen en rapporten van bezendingen van de Staten-Generaal aan de provincies en Generaliteitslanden (binnenlandse verbalen)/8985",
          "Verbalen en rapporten van bezendingen van de Staten-Generaal aan de provincies en Generaliteitslanden (binnenlandse verbalen)/8986",
          "Verbalen en rapporten van bezendingen van de Staten-Generaal aan de provincies en Generaliteitslanden (binnenlandse verbalen)/8987",
          "Verbalen en rapporten van bezendingen van de Staten-Generaal aan de provincies en Generaliteitslanden (binnenlandse verbalen)/8988",
          "Verbalen en rapporten van bezendingen van de Staten-Generaal aan de provincies en Generaliteitslanden (binnenlandse verbalen)/8989",
          "Verbalen en rapporten van bezendingen van de Staten-Generaal aan de provincies en Generaliteitslanden (binnenlandse verbalen)/8990",
          "Verbalen en rapporten van bezendingen van de Staten-Generaal aan de provincies en Generaliteitslanden (binnenlandse verbalen)/8991",
          "Verbalen en rapporten van bezendingen van de Staten-Generaal aan de provincies en Generaliteitslanden (binnenlandse verbalen)/8992",
          "Verbalen en rapporten van bezendingen van de Staten-Generaal aan de provincies en Generaliteitslanden (binnenlandse verbalen)/8993",
          "Verbalen en rapporten van bezendingen van de Staten-Generaal aan de provincies en Generaliteitslanden (binnenlandse verbalen)/8994",
          "Verbalen en rapporten van bezendingen van de Staten-Generaal aan de provincies en Generaliteitslanden (binnenlandse verbalen)/8995",
          "Verbalen en rapporten van bezendingen van de Staten-Generaal aan de provincies en Generaliteitslanden (binnenlandse verbalen)/8996",
          "Verbalen en rapporten van bezendingen van de Staten-Generaal aan de provincies en Generaliteitslanden (binnenlandse verbalen)/8997",
          "Verbalen en rapporten van bezendingen van de Staten-Generaal aan de provincies en Generaliteitslanden (binnenlandse verbalen)/8998",
          "Verbalen en rapporten van bezendingen van de Staten-Generaal aan de provincies en Generaliteitslanden (binnenlandse verbalen)/8999",
          "Verbalen en rapporten van bezendingen van de Staten-Generaal aan de provincies en Generaliteitslanden (binnenlandse verbalen)/9000-9001",
          "Verbalen en rapporten van bezendingen van de Staten-Generaal aan de provincies en Generaliteitslanden (binnenlandse verbalen)/9002",
          "Verbalen en rapporten van bezendingen van de Staten-Generaal aan de provincies en Generaliteitslanden (binnenlandse verbalen)/9003",
          "Verbalen en rapporten van bezendingen van de Staten-Generaal aan de provincies en Generaliteitslanden (binnenlandse verbalen)/9004",
          "Verbalen en rapporten van bezendingen van de Staten-Generaal aan de provincies en Generaliteitslanden (binnenlandse verbalen)/9005",
          "Verbalen en rapporten van bezendingen van de Staten-Generaal aan de provincies en Generaliteitslanden (binnenlandse verbalen)/9006",
          "Verbalen en rapporten van bezendingen van de Staten-Generaal aan de provincies en Generaliteitslanden (binnenlandse verbalen)/9007",
          "Verbalen en rapporten van bezendingen van de Staten-Generaal aan de provincies en Generaliteitslanden (binnenlandse verbalen)/9008",
          "Verbalen en rapporten van bezendingen van de Staten-Generaal aan de provincies en Generaliteitslanden (binnenlandse verbalen)/9009",
          "Verbalen en rapporten van bezendingen van de Staten-Generaal aan de provincies en Generaliteitslanden (binnenlandse verbalen)/9010",
          "Verbalen en rapporten van bezendingen van de Staten-Generaal aan de provincies en Generaliteitslanden (binnenlandse verbalen)/9011",
          "Verbalen en rapporten van bezendingen van de Staten-Generaal aan de provincies en Generaliteitslanden (binnenlandse verbalen)/9012",
          "Verbalen en rapporten van bezendingen van de Staten-Generaal aan de provincies en Generaliteitslanden (binnenlandse verbalen)/9013",
          "Verbalen en rapporten van bezendingen van de Staten-Generaal aan de provincies en Generaliteitslanden (binnenlandse verbalen)/9014",
          "Verbalen en rapporten van bezendingen van de Staten-Generaal aan de provincies en Generaliteitslanden (binnenlandse verbalen)/9015",
          "Verbalen en rapporten van bezendingen van de Staten-Generaal aan de provincies en Generaliteitslanden (binnenlandse verbalen)/9016",
          "Verbalen en rapporten van bezendingen van de Staten-Generaal aan de provincies en Generaliteitslanden (binnenlandse verbalen)/9017",
          "Verbalen en rapporten van bezendingen van de Staten-Generaal aan de provincies en Generaliteitslanden (binnenlandse verbalen)/9018",
          "Verbalen en rapporten van bezendingen van de Staten-Generaal aan de provincies en Generaliteitslanden (binnenlandse verbalen)/9019",
          "Verbalen en rapporten van bezendingen van de Staten-Generaal aan de provincies en Generaliteitslanden (binnenlandse verbalen)/9020",
          "Verbalen en rapporten van bezendingen van de Staten-Generaal aan de provincies en Generaliteitslanden (binnenlandse verbalen)/9021",
          "Verbalen en rapporten van bezendingen van de Staten-Generaal aan de provincies en Generaliteitslanden (binnenlandse verbalen)/9022",
          "Verbalen en rapporten van bezendingen van de Staten-Generaal aan de provincies en Generaliteitslanden (binnenlandse verbalen)/9023",
          "Verbalen en rapporten van bezendingen van de Staten-Generaal aan de provincies en Generaliteitslanden (binnenlandse verbalen)/9024",
          "Verbalen en rapporten van bezendingen van de Staten-Generaal aan de provincies en Generaliteitslanden (binnenlandse verbalen)/9025",
          "Verbalen en rapporten van bezendingen van de Staten-Generaal aan de provincies en Generaliteitslanden (binnenlandse verbalen)/9026",
          "Verbalen en rapporten van bezendingen van de Staten-Generaal aan de provincies en Generaliteitslanden (binnenlandse verbalen)/9027",
          "Verbalen en rapporten van bezendingen van de Staten-Generaal aan de provincies en Generaliteitslanden (binnenlandse verbalen)/9028",
          "Verbalen en rapporten van bezendingen van de Staten-Generaal aan de provincies en Generaliteitslanden (binnenlandse verbalen)/9029",
          "Verbalen en rapporten van bezendingen van de Staten-Generaal aan de provincies en Generaliteitslanden (binnenlandse verbalen)/9030",
          "Verbalen en rapporten van bezendingen van de Staten-Generaal aan de provincies en Generaliteitslanden (binnenlandse verbalen)/9031",
          "Verbalen en rapporten van bezendingen van de Staten-Generaal aan de provincies en Generaliteitslanden (binnenlandse verbalen)/9032",
          "Verbalen en rapporten van bezendingen van de Staten-Generaal aan de provincies en Generaliteitslanden (binnenlandse verbalen)/9033",
          "Verbalen en rapporten van bezendingen van de Staten-Generaal aan de provincies en Generaliteitslanden (binnenlandse verbalen)/9034",
          "Verbalen en rapporten van bezendingen van de Staten-Generaal aan de provincies en Generaliteitslanden (binnenlandse verbalen)/9035",
          "Verbalen en rapporten van bezendingen van de Staten-Generaal aan de provincies en Generaliteitslanden (binnenlandse verbalen)/9036",
          "Verbalen en rapporten van bezendingen van de Staten-Generaal aan de provincies en Generaliteitslanden (binnenlandse verbalen)/9037",
          "Verbalen en rapporten van bezendingen van de Staten-Generaal aan de provincies en Generaliteitslanden (binnenlandse verbalen)/9038",
          "Verbalen en rapporten van bezendingen van de Staten-Generaal aan de provincies en Generaliteitslanden (binnenlandse verbalen)/9039",
          "Verbalen en rapporten van bezendingen van de Staten-Generaal aan de provincies en Generaliteitslanden (binnenlandse verbalen)/9040",
          "Verbalen en rapporten van bezendingen van de Staten-Generaal aan de provincies en Generaliteitslanden (binnenlandse verbalen)/9041",
          "Verbalen en rapporten van bezendingen van de Staten-Generaal aan de provincies en Generaliteitslanden (binnenlandse verbalen)/9042",
          "Verbalen en rapporten van bezendingen van de Staten-Generaal aan de provincies en Generaliteitslanden (binnenlandse verbalen)/9043",
          "Verbalen en rapporten van bezendingen van de Staten-Generaal aan de provincies en Generaliteitslanden (binnenlandse verbalen)/9044",
          "Verbalen en rapporten van bezendingen van de Staten-Generaal aan de provincies en Generaliteitslanden (binnenlandse verbalen)/9045",
          "Verbalen en rapporten van bezendingen van de Staten-Generaal aan de provincies en Generaliteitslanden (binnenlandse verbalen)/9046",
          "Verbalen en rapporten van bezendingen van de Staten-Generaal aan de provincies en Generaliteitslanden (binnenlandse verbalen)/9047",
          "Verbalen en rapporten van bezendingen van de Staten-Generaal aan de provincies en Generaliteitslanden (binnenlandse verbalen)/9048",
          "Verbalen en rapporten van bezendingen van de Staten-Generaal aan de provincies en Generaliteitslanden (binnenlandse verbalen)/9049",
          "Verbalen en rapporten van bezendingen van de Staten-Generaal aan de provincies en Generaliteitslanden (binnenlandse verbalen)/9050",
          "Verbalen en rapporten van bezendingen van de Staten-Generaal aan de provincies en Generaliteitslanden (binnenlandse verbalen)/9051",
          "Verbalen en rapporten van bezendingen van de Staten-Generaal aan de provincies en Generaliteitslanden (binnenlandse verbalen)/9052",
          "Verbalen en rapporten van bezendingen van de Staten-Generaal aan de provincies en Generaliteitslanden (binnenlandse verbalen)/9053",
          "Verbalen en rapporten van bezendingen van de Staten-Generaal aan de provincies en Generaliteitslanden (binnenlandse verbalen)/9054",
          "Verbalen en rapporten van bezendingen van de Staten-Generaal aan de provincies en Generaliteitslanden (binnenlandse verbalen)/9055",
          "Verbalen en rapporten van bezendingen van de Staten-Generaal aan de provincies en Generaliteitslanden (binnenlandse verbalen)/9056",
          "Verbalen en rapporten van bezendingen van de Staten-Generaal aan de provincies en Generaliteitslanden (binnenlandse verbalen)/9057",
          "Verbalen en rapporten van bezendingen van de Staten-Generaal aan de provincies en Generaliteitslanden (binnenlandse verbalen)/9058",
          "Verbalen en rapporten van bezendingen van de Staten-Generaal aan de provincies en Generaliteitslanden (binnenlandse verbalen)/9059",
          "Verbalen en rapporten van bezendingen van de Staten-Generaal aan de provincies en Generaliteitslanden (binnenlandse verbalen)/9060",
          "Verbalen en rapporten van bezendingen van de Staten-Generaal aan de provincies en Generaliteitslanden (binnenlandse verbalen)/9061",
          "Verbalen en rapporten van bezendingen van de Staten-Generaal aan de provincies en Generaliteitslanden (binnenlandse verbalen)/9062",
          "Verbalen en rapporten van bezendingen van de Staten-Generaal aan de provincies en Generaliteitslanden (binnenlandse verbalen)/9063",
          "Verbalen en rapporten van bezendingen van de Staten-Generaal aan de provincies en Generaliteitslanden (binnenlandse verbalen)/9064",
          "Verbalen en rapporten van bezendingen van de Staten-Generaal aan de provincies en Generaliteitslanden (binnenlandse verbalen)/9065",
          "Verbalen en rapporten van bezendingen van de Staten-Generaal aan de provincies en Generaliteitslanden (binnenlandse verbalen)/9066",
          "Verbalen en rapporten van bezendingen van de Staten-Generaal aan de provincies en Generaliteitslanden (binnenlandse verbalen)/9067",
          "Verbalen en rapporten van bezendingen van de Staten-Generaal aan de provincies en Generaliteitslanden (binnenlandse verbalen)/9068",
          "Verbalen en rapporten van bezendingen van de Staten-Generaal aan de provincies en Generaliteitslanden (binnenlandse verbalen)/9069",
          "Verbalen en rapporten van bezendingen van de Staten-Generaal aan de provincies en Generaliteitslanden (binnenlandse verbalen)/9070",
          "Verbalen en rapporten van bezendingen van de Staten-Generaal aan de provincies en Generaliteitslanden (binnenlandse verbalen)/9071",
          "Verbalen en rapporten van bezendingen van de Staten-Generaal aan de provincies en Generaliteitslanden (binnenlandse verbalen)/9072",
          "Verbalen en rapporten van bezendingen van de Staten-Generaal aan de provincies en Generaliteitslanden (binnenlandse verbalen)/9073",
          "Verbalen en rapporten van bezendingen van de Staten-Generaal aan de provincies en Generaliteitslanden (binnenlandse verbalen)/9074",
          "Verbalen en rapporten van bezendingen van de Staten-Generaal aan de provincies en Generaliteitslanden (binnenlandse verbalen)/9075",
          "Verbalen en rapporten van bezendingen van de Staten-Generaal aan de provincies en Generaliteitslanden (binnenlandse verbalen)/9076",
          "Verbalen en rapporten van bezendingen van de Staten-Generaal aan de provincies en Generaliteitslanden (binnenlandse verbalen)/9077",
          "Verbalen en rapporten van bezendingen van de Staten-Generaal aan de provincies en Generaliteitslanden (binnenlandse verbalen)/9078",
          "Verbalen en rapporten van bezendingen van de Staten-Generaal aan de provincies en Generaliteitslanden (binnenlandse verbalen)/9079",
          "Verbalen en rapporten van bezendingen van de Staten-Generaal aan de provincies en Generaliteitslanden (binnenlandse verbalen)/9080",
          "Verbalen en rapporten van bezendingen van de Staten-Generaal aan de provincies en Generaliteitslanden (binnenlandse verbalen)/9081",
          "Verbalen en rapporten van bezendingen van de Staten-Generaal aan de provincies en Generaliteitslanden (binnenlandse verbalen)/9082",
          "Verbalen en rapporten van bezendingen van de Staten-Generaal aan de provincies en Generaliteitslanden (binnenlandse verbalen)/9083",
          "Verbalen en rapporten van bezendingen van de Staten-Generaal aan de provincies en Generaliteitslanden (binnenlandse verbalen)/9084",
          "Verbalen en rapporten van bezendingen van de Staten-Generaal aan de provincies en Generaliteitslanden (binnenlandse verbalen)/9085",
          "Verbalen en rapporten van bezendingen van de Staten-Generaal aan de provincies en Generaliteitslanden (binnenlandse verbalen)/9086",
          "Verbalen en rapporten van bezendingen van de Staten-Generaal aan de provincies en Generaliteitslanden (binnenlandse verbalen)/9087",
          "Verbalen en rapporten van bezendingen van de Staten-Generaal aan de provincies en Generaliteitslanden (binnenlandse verbalen)/9088",
          "Verbalen en rapporten van bezendingen van de Staten-Generaal aan de provincies en Generaliteitslanden (binnenlandse verbalen)/9089",
          "Verbalen en rapporten van bezendingen van de Staten-Generaal aan de provincies en Generaliteitslanden (binnenlandse verbalen)/9090",
          "Verbalen en rapporten van bezendingen van de Staten-Generaal aan de provincies en Generaliteitslanden (binnenlandse verbalen)/9091",
          "Verbalen en rapporten van bezendingen van de Staten-Generaal aan de provincies en Generaliteitslanden (binnenlandse verbalen)/9092",
          "Verbalen en rapporten van bezendingen van de Staten-Generaal aan de provincies en Generaliteitslanden (binnenlandse verbalen)/9093",
          "Verbalen en rapporten van bezendingen van de Staten-Generaal aan de provincies en Generaliteitslanden (binnenlandse verbalen)/9094",
          "Verbalen en rapporten van bezendingen van de Staten-Generaal aan de provincies en Generaliteitslanden (binnenlandse verbalen)/9095",
          "Verbalen en rapporten van bezendingen van de Staten-Generaal aan de provincies en Generaliteitslanden (binnenlandse verbalen)/9096",
          "Verbalen en rapporten van bezendingen van de Staten-Generaal aan de provincies en Generaliteitslanden (binnenlandse verbalen)/9097",
          "Verbalen en rapporten van bezendingen van de Staten-Generaal aan de provincies en Generaliteitslanden (binnenlandse verbalen)/9098",
          "Verbalen en rapporten van bezendingen van de Staten-Generaal aan de provincies en Generaliteitslanden (binnenlandse verbalen)/9099",
          "Verbalen en rapporten van bezendingen van de Staten-Generaal aan de provincies en Generaliteitslanden (binnenlandse verbalen)/9100",
          "Verbalen en rapporten van bezendingen van de Staten-Generaal aan de provincies en Generaliteitslanden (binnenlandse verbalen)/9101",
          "Verbalen en rapporten van bezendingen van de Staten-Generaal aan de provincies en Generaliteitslanden (binnenlandse verbalen)/9102",
          "Verbalen en rapporten van bezendingen van de Staten-Generaal aan de provincies en Generaliteitslanden (binnenlandse verbalen)/9103",
          "Verbalen en rapporten van bezendingen van de Staten-Generaal aan de provincies en Generaliteitslanden (binnenlandse verbalen)/9104",
          "Verbalen en rapporten van bezendingen van de Staten-Generaal aan de provincies en Generaliteitslanden (binnenlandse verbalen)/9105",
          "Verbalen en rapporten van bezendingen van de Staten-Generaal aan de provincies en Generaliteitslanden (binnenlandse verbalen)/9106",
          "Verbalen en rapporten van bezendingen van de Staten-Generaal aan de provincies en Generaliteitslanden (binnenlandse verbalen)/9107",
          "Verbalen en rapporten van bezendingen van de Staten-Generaal aan de provincies en Generaliteitslanden (binnenlandse verbalen)/9108",
          "Verbalen en rapporten van bezendingen van de Staten-Generaal aan de provincies en Generaliteitslanden (binnenlandse verbalen)/9109",
          "Verbalen en rapporten van bezendingen van de Staten-Generaal aan de provincies en Generaliteitslanden (binnenlandse verbalen)/9110",
          "Verbalen en rapporten van bezendingen van de Staten-Generaal aan de provincies en Generaliteitslanden (binnenlandse verbalen)/9111",
          "Verbalen en rapporten van bezendingen van de Staten-Generaal aan de provincies en Generaliteitslanden (binnenlandse verbalen)/9112",
          "Verbalen en rapporten van bezendingen van de Staten-Generaal aan de provincies en Generaliteitslanden (binnenlandse verbalen)/9113",
          "Verbalen en rapporten van bezendingen van de Staten-Generaal aan de provincies en Generaliteitslanden (binnenlandse verbalen)/9114",
          "Verbalen en rapporten van bezendingen van de Staten-Generaal aan de provincies en Generaliteitslanden (binnenlandse verbalen)/9115",
          "Verbalen en rapporten van bezendingen van de Staten-Generaal aan de provincies en Generaliteitslanden (binnenlandse verbalen)/9116",
          "Verbalen en rapporten van bezendingen van de Staten-Generaal aan de provincies en Generaliteitslanden (binnenlandse verbalen)/9117",
          "Verbalen en rapporten van bezendingen van de Staten-Generaal aan de provincies en Generaliteitslanden (binnenlandse verbalen)/9118",
          "Verbalen en rapporten van bezendingen van de Staten-Generaal aan de provincies en Generaliteitslanden (binnenlandse verbalen)/9119",
          "Verbalen en rapporten van bezendingen van de Staten-Generaal aan de provincies en Generaliteitslanden (binnenlandse verbalen)/9120",
          "Verbalen en rapporten van bezendingen van de Staten-Generaal aan de provincies en Generaliteitslanden (binnenlandse verbalen)/9121",
          "Verbalen en rapporten van bezendingen van de Staten-Generaal aan de provincies en Generaliteitslanden (binnenlandse verbalen)/9122",
          "Verbalen en rapporten van bezendingen van de Staten-Generaal aan de provincies en Generaliteitslanden (binnenlandse verbalen)/9123",
          "Verbalen en rapporten van bezendingen van de Staten-Generaal aan de provincies en Generaliteitslanden (binnenlandse verbalen)/9124",
          "Verbalen en rapporten van bezendingen van de Staten-Generaal aan de provincies en Generaliteitslanden (binnenlandse verbalen)/9125",
          "Verbalen en rapporten van bezendingen van de Staten-Generaal aan de provincies en Generaliteitslanden (binnenlandse verbalen)/9126",
          "Verbalen en rapporten van bezendingen van de Staten-Generaal aan de provincies en Generaliteitslanden (binnenlandse verbalen)/9127",
          "Verbalen en rapporten van bezendingen van de Staten-Generaal aan de provincies en Generaliteitslanden (binnenlandse verbalen)/9128",
          "Verbalen en rapporten van bezendingen van de Staten-Generaal aan de provincies en Generaliteitslanden (binnenlandse verbalen)/9129",
          "Verbalen en rapporten van bezendingen van de Staten-Generaal aan de provincies en Generaliteitslanden (binnenlandse verbalen)/9130",
          "Verbalen en rapporten van bezendingen van de Staten-Generaal aan de provincies en Generaliteitslanden (binnenlandse verbalen)/9131",
          "Verbalen en rapporten van bezendingen van de Staten-Generaal aan de provincies en Generaliteitslanden (binnenlandse verbalen)/9132",
          "Verbalen en rapporten van bezendingen van de Staten-Generaal aan de provincies en Generaliteitslanden (binnenlandse verbalen)/9133",
          "Verbalen en rapporten van bezendingen van de Staten-Generaal aan de provincies en Generaliteitslanden (binnenlandse verbalen)/9133A",
          "Verbalen en rapporten van bezendingen van de Staten-Generaal aan de provincies en Generaliteitslanden (binnenlandse verbalen)/9134",
          "Verbalen en rapporten van bezendingen van de Staten-Generaal aan de provincies en Generaliteitslanden (binnenlandse verbalen)/9135",
          "Verbalen en rapporten van bezendingen van de Staten-Generaal aan de provincies en Generaliteitslanden (binnenlandse verbalen)/9136",
          "Verbalen en rapporten van bezendingen van de Staten-Generaal aan de provincies en Generaliteitslanden (binnenlandse verbalen)/9137",
          "Verbalen en rapporten van bezendingen van de Staten-Generaal aan de provincies en Generaliteitslanden (binnenlandse verbalen)/9138",
          "Verbalen en rapporten van bezendingen van de Staten-Generaal aan de provincies en Generaliteitslanden (binnenlandse verbalen)/9139",
          "Verbalen en rapporten van bezendingen van de Staten-Generaal aan de provincies en Generaliteitslanden (binnenlandse verbalen)/9140",
          "Verbalen en rapporten van bezendingen van de Staten-Generaal aan de provincies en Generaliteitslanden (binnenlandse verbalen)/9141",
          "Verbalen en rapporten van bezendingen van de Staten-Generaal aan de provincies en Generaliteitslanden (binnenlandse verbalen)/9142",
          "Verbalen en rapporten van bezendingen van de Staten-Generaal aan de provincies en Generaliteitslanden (binnenlandse verbalen)/9143",
          "Verbalen en rapporten van bezendingen van de Staten-Generaal aan de provincies en Generaliteitslanden (binnenlandse verbalen)/9144",
          "Verbalen en rapporten van bezendingen van de Staten-Generaal aan de provincies en Generaliteitslanden (binnenlandse verbalen)/9145",
          "Verbalen en rapporten van bezendingen van de Staten-Generaal aan de provincies en Generaliteitslanden (binnenlandse verbalen)/9146",
          "Verbalen en rapporten van bezendingen van de Staten-Generaal aan de provincies en Generaliteitslanden (binnenlandse verbalen)/9147",
          "Verbalen en rapporten van bezendingen van de Staten-Generaal aan de provincies en Generaliteitslanden (binnenlandse verbalen)/9148",
          "Verbalen en rapporten van bezendingen van de Staten-Generaal aan de provincies en Generaliteitslanden (binnenlandse verbalen)/9149",
          "Verbalen en rapporten van bezendingen van de Staten-Generaal aan de provincies en Generaliteitslanden (binnenlandse verbalen)/9150",
          "Verbalen en rapporten van bezendingen van de Staten-Generaal aan de provincies en Generaliteitslanden (binnenlandse verbalen)/9151",
          "Rapporten en memories van advocaten-fiscaal betreffende zaken van verraad in de Republiek/9213-9215",
          "Verbalen, journalen, memories en rapporten betreffende het beleid van de Admiraliteiten en de krijgsverrichtingen van de Staatse vloot/9225",
          "Verbalen, journalen, memories en rapporten betreffende het beleid van de Admiraliteiten en de krijgsverrichtingen van de Staatse vloot/9226",
          "Verbalen, journalen, memories en rapporten betreffende het beleid van de Admiraliteiten en de krijgsverrichtingen van de Staatse vloot/9227",
          "Verbalen, journalen, memories en rapporten betreffende het beleid van de Admiraliteiten en de krijgsverrichtingen van de Staatse vloot/9228",
          "Verbalen, journalen, memories en rapporten betreffende het beleid van de Admiraliteiten en de krijgsverrichtingen van de Staatse vloot/9229",
          "Verbalen, journalen, memories en rapporten betreffende het beleid van de Admiraliteiten en de krijgsverrichtingen van de Staatse vloot/9230",
          "Verbalen, journalen, memories en rapporten betreffende het beleid van de Admiraliteiten en de krijgsverrichtingen van de Staatse vloot/9231-9233",
          "Verbalen, journalen, memories en rapporten betreffende het beleid van de Admiraliteiten en de krijgsverrichtingen van de Staatse vloot/9234",
          "Verbalen, journalen, memories en rapporten betreffende het beleid van de Admiraliteiten en de krijgsverrichtingen van de Staatse vloot/9235",
          "Verbalen, journalen, memories en rapporten betreffende het beleid van de Admiraliteiten en de krijgsverrichtingen van de Staatse vloot/9236",
          "Verbalen, journalen, memories en rapporten betreffende het beleid van de Admiraliteiten en de krijgsverrichtingen van de Staatse vloot/9237",
          "Verbalen, journalen, memories en rapporten betreffende het beleid van de Admiraliteiten en de krijgsverrichtingen van de Staatse vloot/9238-9239",
          "Verbalen, journalen, memories en rapporten betreffende het beleid van de Admiraliteiten en de krijgsverrichtingen van de Staatse vloot/9240-9242",
          "Verbalen, journalen, memories en rapporten betreffende het beleid van de Admiraliteiten en de krijgsverrichtingen van de Staatse vloot/9243",
          "Verbalen, journalen, memories en rapporten betreffende het beleid van de Admiraliteiten en de krijgsverrichtingen van de Staatse vloot/9244",
          "Verbalen, journalen, memories en rapporten betreffende het beleid van de Admiraliteiten en de krijgsverrichtingen van de Staatse vloot/9245",
          "Verbalen, journalen, memories en rapporten betreffende het beleid van de Admiraliteiten en de krijgsverrichtingen van de Staatse vloot/9246",
          "Verbalen, journalen, memories en rapporten betreffende het beleid van de Admiraliteiten en de krijgsverrichtingen van de Staatse vloot/9247",
          "Verbalen, journalen, memories en rapporten betreffende het beleid van de Admiraliteiten en de krijgsverrichtingen van de Staatse vloot/9248",
          "Verbalen, journalen, memories en rapporten betreffende het beleid van de Admiraliteiten en de krijgsverrichtingen van de Staatse vloot/9249",
          "Verbalen, journalen, memories en rapporten betreffende het beleid van de Admiraliteiten en de krijgsverrichtingen van de Staatse vloot/9250",
          "Verbalen, journalen, memories en rapporten betreffende het beleid van de Admiraliteiten en de krijgsverrichtingen van de Staatse vloot/9251",
          "Verbalen, journalen, memories en rapporten betreffende het beleid van de Admiraliteiten en de krijgsverrichtingen van de Staatse vloot/9252",
          "Verbalen, journalen, memories en rapporten betreffende het beleid van de Admiraliteiten en de krijgsverrichtingen van de Staatse vloot/9253",
          "Verbalen, journalen, memories en rapporten betreffende het beleid van de Admiraliteiten en de krijgsverrichtingen van de Staatse vloot/9254",
          "Verbalen, journalen, memories en rapporten betreffende het beleid van de Admiraliteiten en de krijgsverrichtingen van de Staatse vloot/9255",
          "Verbalen, journalen, memories en rapporten betreffende het beleid van de Admiraliteiten en de krijgsverrichtingen van de Staatse vloot/9256",
          "Verbalen, journalen, memories en rapporten betreffende het beleid van de Admiraliteiten en de krijgsverrichtingen van de Staatse vloot/9257",
          "Verbalen, journalen, memories en rapporten betreffende het beleid van de Admiraliteiten en de krijgsverrichtingen van de Staatse vloot/9258",
          "Verbalen, journalen, memories en rapporten betreffende het beleid van de Admiraliteiten en de krijgsverrichtingen van de Staatse vloot/9259",
          "Verbalen, journalen, memories en rapporten betreffende het beleid van de Admiraliteiten en de krijgsverrichtingen van de Staatse vloot/9260",
          "Verbalen, journalen, memories en rapporten betreffende het beleid van de Admiraliteiten en de krijgsverrichtingen van de Staatse vloot/9261",
          "Verbalen, journalen, memories en rapporten betreffende het beleid van de Admiraliteiten en de krijgsverrichtingen van de Staatse vloot/9262",
          "Verbalen, journalen, memories en rapporten betreffende het beleid van de Admiraliteiten en de krijgsverrichtingen van de Staatse vloot/9263",
          "Verbalen, journalen, memories en rapporten betreffende het beleid van de Admiraliteiten en de krijgsverrichtingen van de Staatse vloot/9264",
          "Verbalen, journalen, memories en rapporten betreffende het beleid van de Admiraliteiten en de krijgsverrichtingen van de Staatse vloot/---",
          "Verbalen, journalen, memories en rapporten betreffende het beleid van de Admiraliteiten en de krijgsverrichtingen van de Staatse vloot/9272",
          "Verbalen, journalen, memories en rapporten betreffende het beleid van de Admiraliteiten en de krijgsverrichtingen van de Staatse vloot/9273",
          "Verbalen, journalen, memories en rapporten betreffende het beleid van de Admiraliteiten en de krijgsverrichtingen van de Staatse vloot/9274",
          "Verbalen, journalen, memories en rapporten betreffende het beleid van de Admiraliteiten en de krijgsverrichtingen van de Staatse vloot/9275",
          "Verbalen, journalen, memories en rapporten betreffende het beleid van de Admiraliteiten en de krijgsverrichtingen van de Staatse vloot/9277",
          "Verbalen, journalen, memories en rapporten betreffende het beleid van de Admiraliteiten en de krijgsverrichtingen van de Staatse vloot/9278",
          "Verbalen, journalen, memories en rapporten betreffende het beleid van de Admiraliteiten en de krijgsverrichtingen van de Staatse vloot/9279",
          "Verbalen, journalen, memories en rapporten betreffende het beleid van de Admiraliteiten en de krijgsverrichtingen van de Staatse vloot/9280",
          "Verbalen, journalen, memories en rapporten betreffende het beleid van de Admiraliteiten en de krijgsverrichtingen van de Staatse vloot/9281",
          "Verbalen, journalen, memories en rapporten betreffende het beleid van de Admiraliteiten en de krijgsverrichtingen van de Staatse vloot/9282",
          "Verbalen, journalen, memories en rapporten betreffende het beleid van de Admiraliteiten en de krijgsverrichtingen van de Staatse vloot/9283",
          "Verbalen, journalen, memories en rapporten betreffende het beleid van de Admiraliteiten en de krijgsverrichtingen van de Staatse vloot/9284",
          "Verbalen, journalen, memories en rapporten betreffende het beleid van de Admiraliteiten en de krijgsverrichtingen van de Staatse vloot/9285",
          "Verbalen, journalen, memories en rapporten betreffende het beleid van de Admiraliteiten en de krijgsverrichtingen van de Staatse vloot/9286",
          "Verbalen, journalen, memories en rapporten betreffende het beleid van de Admiraliteiten en de krijgsverrichtingen van de Staatse vloot/9287",
          "Verbalen, journalen, memories en rapporten betreffende het beleid van de Admiraliteiten en de krijgsverrichtingen van de Staatse vloot/9288",
          "Verbalen, journalen, memories en rapporten betreffende het beleid van de Admiraliteiten en de krijgsverrichtingen van de Staatse vloot/9289",
          "Verbalen, journalen, memories en rapporten betreffende het beleid van de Admiraliteiten en de krijgsverrichtingen van de Staatse vloot/9290",
          "Verbalen, journalen, memories en rapporten betreffende het beleid van de Admiraliteiten en de krijgsverrichtingen van de Staatse vloot/9291",
          "Verbalen, journalen, memories en rapporten betreffende het beleid van de Admiraliteiten en de krijgsverrichtingen van de Staatse vloot/9292",
          "Verbalen, journalen, memories en rapporten betreffende het beleid van de Admiraliteiten en de krijgsverrichtingen van de Staatse vloot/9293",
          "Verbalen, journalen, memories en rapporten betreffende het beleid van de Admiraliteiten en de krijgsverrichtingen van de Staatse vloot/9294",
          "Verbalen, journalen, memories en rapporten betreffende het beleid van de Admiraliteiten en de krijgsverrichtingen van de Staatse vloot/9295",
          "Verbalen, journalen, memories en rapporten betreffende het beleid van de Admiraliteiten en de krijgsverrichtingen van de Staatse vloot/9296",
          "Verbalen, journalen, memories en rapporten betreffende het beleid van de Admiraliteiten en de krijgsverrichtingen van de Staatse vloot/9297",
          "Verbalen, journalen, memories en rapporten betreffende het beleid van de Admiraliteiten en de krijgsverrichtingen van de Staatse vloot/9298",
          "Verbalen, journalen, memories en rapporten betreffende het beleid van de Admiraliteiten en de krijgsverrichtingen van de Staatse vloot/9299",
          "Verbalen, journalen, memories en rapporten betreffende het beleid van de Admiraliteiten en de krijgsverrichtingen van de Staatse vloot/9300",
          "Verbalen, journalen, memories en rapporten betreffende het beleid van de Admiraliteiten en de krijgsverrichtingen van de Staatse vloot/9301",
          "Verbalen, journalen, memories en rapporten betreffende het beleid van de Admiraliteiten en de krijgsverrichtingen van de Staatse vloot/9302",
          "Verbalen, journalen, memories en rapporten betreffende het beleid van de Admiraliteiten en de krijgsverrichtingen van de Staatse vloot/9303",
          "Verbalen, journalen, memories en rapporten betreffende het beleid van de Admiraliteiten en de krijgsverrichtingen van de Staatse vloot/9304",
          "Verbalen, journalen, memories en rapporten betreffende het beleid van de Admiraliteiten en de krijgsverrichtingen van de Staatse vloot/9305",
          "Verbalen, journalen, memories en rapporten betreffende het beleid van de Admiraliteiten en de krijgsverrichtingen van de Staatse vloot/9306",
          "Verbalen, journalen, memories en rapporten betreffende het beleid van de Admiraliteiten en de krijgsverrichtingen van de Staatse vloot/9307",
          "Verbalen, journalen, memories en rapporten betreffende het beleid van de Admiraliteiten en de krijgsverrichtingen van de Staatse vloot/9308",
          "Verbalen, journalen, memories en rapporten betreffende het beleid van de Admiraliteiten en de krijgsverrichtingen van de Staatse vloot/9309",
          "Verbalen, journalen, memories en rapporten betreffende het beleid van de Admiraliteiten en de krijgsverrichtingen van de Staatse vloot/9310",
          "Verbalen, journalen, memories en rapporten betreffende het beleid van de Admiraliteiten en de krijgsverrichtingen van de Staatse vloot/9311",
          "Verbalen, journalen, memories en rapporten betreffende het beleid van de Admiraliteiten en de krijgsverrichtingen van de Staatse vloot/9312",
          "Verbalen, journalen, memories en rapporten betreffende het beleid van de Admiraliteiten en de krijgsverrichtingen van de Staatse vloot/9313",
          "Verbalen, journalen, memories en rapporten betreffende het beleid van de Admiraliteiten en de krijgsverrichtingen van de Staatse vloot/9314",
          "Verbalen, journalen, memories en rapporten betreffende het beleid van de Admiraliteiten en de krijgsverrichtingen van de Staatse vloot/9315",
          "Verbalen, journalen, memories en rapporten betreffende het beleid van de Admiraliteiten en de krijgsverrichtingen van de Staatse vloot/9316",
          "Verbalen, journalen, memories en rapporten betreffende het beleid van de Admiraliteiten en de krijgsverrichtingen van de Staatse vloot/9317",
          "Verbalen, journalen, memories en rapporten betreffende het beleid van de Admiraliteiten en de krijgsverrichtingen van de Staatse vloot/9318",
          "Verbalen, journalen, memories en rapporten betreffende het beleid van de Admiraliteiten en de krijgsverrichtingen van de Staatse vloot/9319",
          "Verbalen, journalen, memories en rapporten betreffende het beleid van de Admiraliteiten en de krijgsverrichtingen van de Staatse vloot/9320",
          "Verbalen, journalen, memories en rapporten betreffende het beleid van de Admiraliteiten en de krijgsverrichtingen van de Staatse vloot/9321",
          "Verbalen, journalen, memories en rapporten betreffende het beleid van de Admiraliteiten en de krijgsverrichtingen van de Staatse vloot/9322",
          "Verbalen, journalen, memories en rapporten betreffende het beleid van de Admiraliteiten en de krijgsverrichtingen van de Staatse vloot/9323",
          "Verbalen, journalen, memories en rapporten betreffende het beleid van de Admiraliteiten en de krijgsverrichtingen van de Staatse vloot/9324-9325",
          "Verbalen, journalen, memories en rapporten betreffende het beleid van de Admiraliteiten en de krijgsverrichtingen van de Staatse vloot/9326",
          "Verbalen, journalen, memories en rapporten betreffende het beleid van de Admiraliteiten en de krijgsverrichtingen van de Staatse vloot/9327",
          "Verbalen, journalen, memories en rapporten betreffende het beleid van de Admiraliteiten en de krijgsverrichtingen van de Staatse vloot/9328",
          "Verbalen, journalen, memories en rapporten betreffende het beleid van de Admiraliteiten en de krijgsverrichtingen van de Staatse vloot/9329",
          "Verbalen, journalen, memories en rapporten betreffende het beleid van de Admiraliteiten en de krijgsverrichtingen van de Staatse vloot/9330",
          "Verbalen, journalen, memories en rapporten betreffende het beleid van de Admiraliteiten en de krijgsverrichtingen van de Staatse vloot/9331-9332",
          "Verbalen, journalen, memories en rapporten betreffende het beleid van de Admiraliteiten en de krijgsverrichtingen van de Staatse vloot/9333",
          "Verbalen, journalen, memories en rapporten betreffende het beleid van de Admiraliteiten en de krijgsverrichtingen van de Staatse vloot/9335",
          "Verbalen, journalen, memories en rapporten betreffende het beleid van de Admiraliteiten en de krijgsverrichtingen van de Staatse vloot/9336",
          "Verbalen, journalen, memories en rapporten betreffende het beleid van de Admiraliteiten en de krijgsverrichtingen van de Staatse vloot/9337",
          "Verbalen, journalen, memories en rapporten betreffende het beleid van de Admiraliteiten en de krijgsverrichtingen van de Staatse vloot/9338",
          "Verbalen, journalen, memories en rapporten betreffende het beleid van de Admiraliteiten en de krijgsverrichtingen van de Staatse vloot/9339",
          "Verbalen, journalen, memories en rapporten betreffende het beleid van de Admiraliteiten en de krijgsverrichtingen van de Staatse vloot/9340",
          "Verbalen, journalen, memories en rapporten betreffende het beleid van de Admiraliteiten en de krijgsverrichtingen van de Staatse vloot/9341",
          "Verbalen, journalen, memories en rapporten betreffende het beleid van de Admiraliteiten en de krijgsverrichtingen van de Staatse vloot/9342",
          "Verbalen, journalen, memories en rapporten betreffende het beleid van de Admiraliteiten en de krijgsverrichtingen van de Staatse vloot/9343",
          "Verbalen, journalen, memories en rapporten betreffende het beleid van de Admiraliteiten en de krijgsverrichtingen van de Staatse vloot/9344",
          "Verbalen, journalen, memories en rapporten betreffende het beleid van de Admiraliteiten en de krijgsverrichtingen van de Staatse vloot/9345",
          "Verbalen, journalen, memories en rapporten betreffende het beleid van de Admiraliteiten en de krijgsverrichtingen van de Staatse vloot/9346",
          "Verbalen, journalen, memories en rapporten betreffende het beleid van de Admiraliteiten en de krijgsverrichtingen van de Staatse vloot/9347",
          "Verbalen, journalen, memories en rapporten betreffende het beleid van de Admiraliteiten en de krijgsverrichtingen van de Staatse vloot/9348",
          "Verbalen, journalen, memories en rapporten betreffende het beleid van de Admiraliteiten en de krijgsverrichtingen van de Staatse vloot/9349",
          "Verbalen, journalen, memories en rapporten betreffende het beleid van de Admiraliteiten en de krijgsverrichtingen van de Staatse vloot/9350",
          "Verbalen, journalen, memories en rapporten betreffende het beleid van de Admiraliteiten en de krijgsverrichtingen van de Staatse vloot/9351",
          "Verbalen, journalen, memories en rapporten betreffende het beleid van de Admiraliteiten en de krijgsverrichtingen van de Staatse vloot/9352",
          "Verbalen, journalen, memories en rapporten betreffende het beleid van de Admiraliteiten en de krijgsverrichtingen van de Staatse vloot/9353",
          "Verbalen, journalen, memories en rapporten betreffende het beleid van de Admiraliteiten en de krijgsverrichtingen van de Staatse vloot/9354",
          "Verbalen, journalen, memories en rapporten betreffende het beleid van de Admiraliteiten en de krijgsverrichtingen van de Staatse vloot/9355",
          "Verbalen, journalen, memories en rapporten betreffende het beleid van de Admiraliteiten en de krijgsverrichtingen van de Staatse vloot/9356",
          "Verbalen, journalen, memories en rapporten betreffende het beleid van de Admiraliteiten en de krijgsverrichtingen van de Staatse vloot/9357",
          "Verbalen, journalen, memories en rapporten betreffende het beleid van de Admiraliteiten en de krijgsverrichtingen van de Staatse vloot/9358",
          "Verbalen, journalen, memories en rapporten betreffende het beleid van de Admiraliteiten en de krijgsverrichtingen van de Staatse vloot/9359",
          "Verbalen, journalen, memories en rapporten betreffende het beleid van de Admiraliteiten en de krijgsverrichtingen van de Staatse vloot/9360",
          "Verbalen, journalen, memories en rapporten betreffende het beleid van de Admiraliteiten en de krijgsverrichtingen van de Staatse vloot/9361",
          "Verbalen, journalen, memories en rapporten betreffende het beleid van de Admiraliteiten en de krijgsverrichtingen van de Staatse vloot/9362",
          "Verbalen, journalen, memories en rapporten betreffende het beleid van de Admiraliteiten en de krijgsverrichtingen van de Staatse vloot/9363",
          "Verbalen, journalen, memories en rapporten betreffende het beleid van de Admiraliteiten en de krijgsverrichtingen van de Staatse vloot/9364",
          "Verbalen, journalen, memories en rapporten betreffende het beleid van de Admiraliteiten en de krijgsverrichtingen van de Staatse vloot/9365",
          "Verbalen, journalen, memories en rapporten betreffende het beleid van de Admiraliteiten en de krijgsverrichtingen van de Staatse vloot/9366",
          "Verbalen, journalen, memories en rapporten betreffende het beleid van de Admiraliteiten en de krijgsverrichtingen van de Staatse vloot/9367",
          "Verbalen, journalen, memories en rapporten betreffende het beleid van de Admiraliteiten en de krijgsverrichtingen van de Staatse vloot/9368",
          "Verbalen, journalen, memories en rapporten betreffende het beleid van de Admiraliteiten en de krijgsverrichtingen van de Staatse vloot/9368A",
          "Verbalen, journalen, memories en rapporten betreffende het beleid van de Admiraliteiten en de krijgsverrichtingen van de Staatse vloot/9369",
          "Verbalen, journalen, memories en rapporten betreffende het beleid van de Admiraliteiten en de krijgsverrichtingen van de Staatse vloot/9370",
          "Verbalen, journalen, memories en rapporten betreffende het beleid van de Admiraliteiten en de krijgsverrichtingen van de Staatse vloot/9371",
          "Verbalen, journalen, memories en rapporten betreffende het beleid van de Admiraliteiten en de krijgsverrichtingen van de Staatse vloot/9372",
          "Verbalen, journalen, memories en rapporten betreffende het beleid van de Admiraliteiten en de krijgsverrichtingen van de Staatse vloot/9373",
          "Verbalen, journalen, memories en rapporten betreffende het beleid van de Admiraliteiten en de krijgsverrichtingen van de Staatse vloot/9374",
          "Verbalen, journalen, memories en rapporten betreffende het beleid van de Admiraliteiten en de krijgsverrichtingen van de Staatse vloot/9375",
          "Verbalen, journalen, memories en rapporten betreffende het beleid van de Admiraliteiten en de krijgsverrichtingen van de Staatse vloot/9376",
          "Verbalen, journalen, memories en rapporten betreffende het beleid van de Admiraliteiten en de krijgsverrichtingen van de Staatse vloot/9377",
          "Verbalen, journalen, memories en rapporten betreffende het beleid van de Admiraliteiten en de krijgsverrichtingen van de Staatse vloot/9378",
          "Verbalen, journalen, memories en rapporten betreffende het beleid van de Admiraliteiten en de krijgsverrichtingen van de Staatse vloot/9379",
          "Verbalen, journalen, memories en rapporten betreffende het beleid van de Admiraliteiten en de krijgsverrichtingen van de Staatse vloot/9380",
          "Verbalen, journalen, memories en rapporten betreffende het beleid van de Admiraliteiten en de krijgsverrichtingen van de Staatse vloot/9381",
          "Verbalen, journalen, memories en rapporten betreffende het beleid van de Admiraliteiten en de krijgsverrichtingen van de Staatse vloot/9382",
          "Verbalen, journalen, memories en rapporten betreffende het beleid van de Admiraliteiten en de krijgsverrichtingen van de Staatse vloot/9383",
          "Verbalen, journalen, memories en rapporten betreffende het beleid van de Admiraliteiten en de krijgsverrichtingen van de Staatse vloot/9384",
          "Verbalen, journalen, memories en rapporten betreffende het beleid van de Admiraliteiten en de krijgsverrichtingen van de Staatse vloot/9385",
          "Verbalen, journalen, memories en rapporten betreffende het beleid van de Admiraliteiten en de krijgsverrichtingen van de Staatse vloot/9386",
          "Verbalen, journalen, memories en rapporten betreffende het beleid van de Admiraliteiten en de krijgsverrichtingen van de Staatse vloot/9387",
          "Verbalen, journalen, memories en rapporten betreffende het beleid van de Admiraliteiten en de krijgsverrichtingen van de Staatse vloot/9388",
          "Verbalen, journalen, memories en rapporten betreffende het beleid van de Admiraliteiten en de krijgsverrichtingen van de Staatse vloot/9389",
          "Verbalen, journalen, memories en rapporten betreffende het beleid van de Admiraliteiten en de krijgsverrichtingen van de Staatse vloot/9390-9391",
          "Verbalen, journalen, memories en rapporten betreffende het beleid van de Admiraliteiten en de krijgsverrichtingen van de Staatse vloot/9392",
          "Verbalen, journalen, memories en rapporten betreffende het beleid van de Admiraliteiten en de krijgsverrichtingen van de Staatse vloot/9393-9394",
          "Verbalen, journalen, memories en rapporten betreffende het beleid van de Admiraliteiten en de krijgsverrichtingen van de Staatse vloot/9395-9396",
          "Verbalen, journalen, memories en rapporten betreffende het beleid van de Admiraliteiten en de krijgsverrichtingen van de Staatse vloot/9397",
          "Verbalen, journalen, memories en rapporten betreffende het beleid van de Admiraliteiten en de krijgsverrichtingen van de Staatse vloot/9398",
          "Verbalen, journalen, memories en rapporten betreffende het beleid van de Admiraliteiten en de krijgsverrichtingen van de Staatse vloot/9399",
          "Verbalen, journalen, memories en rapporten betreffende het beleid van de Admiraliteiten en de krijgsverrichtingen van de Staatse vloot/9400",
          "Verbalen, journalen, memories en rapporten betreffende het beleid van de Admiraliteiten en de krijgsverrichtingen van de Staatse vloot/9401",
          "Verbalen, journalen, memories en rapporten betreffende het beleid van de Admiraliteiten en de krijgsverrichtingen van de Staatse vloot/9402",
          "Verbalen, journalen, memories en rapporten betreffende het beleid van de Admiraliteiten en de krijgsverrichtingen van de Staatse vloot/9403",
          "Verbalen, journalen, memories en rapporten betreffende het beleid van de Admiraliteiten en de krijgsverrichtingen van de Staatse vloot/9404",
          "Verbalen, journalen, memories en rapporten betreffende het beleid van de Admiraliteiten en de krijgsverrichtingen van de Staatse vloot/9405",
          "Verbalen, journalen, memories en rapporten betreffende het beleid van de Admiraliteiten en de krijgsverrichtingen van de Staatse vloot/9406",
          "Verbalen, journalen, memories en rapporten betreffende het beleid van de Admiraliteiten en de krijgsverrichtingen van de Staatse vloot/9407",
          "Verbalen, journalen, memories en rapporten betreffende het beleid van de Admiraliteiten en de krijgsverrichtingen van de Staatse vloot/9408",
          "Verbalen, rapporten, memories en andere ingekomen stukken betreffende het beleid van de West-Indische Compagnie/9410-9411",
          "Verbalen, rapporten, memories en andere ingekomen stukken betreffende het beleid van de West-Indische Compagnie/9415-9420",
          "Verbalen, rapporten en andere ingekomen stukken betreffende het beleid van de Oost-Indische Compagnie/9430-9441",
          "Verbalen, rapporten en memories van de commissies van de Staten-Generaal betreffende het Defensie- en Financiewezen van de Staat/9443-9444",
          "Verbalen, rapporten en memories van de commissies van de Staten-Generaal betreffende het Defensie- en Financiewezen van de Staat/9445-9447",
          "Verbalen, rapporten en memories van de commissies van de Staten-Generaal betreffende het Defensie- en Financiewezen van de Staat/9448-9449",
          "Processtukken van de Staten-Generaal/9450-9460",
          "Processtukken van de Staten-Generaal/9450-9485",
          "Processtukken van de Staten-Generaal/9462-9468",
          "Processtukken van de Staten-Generaal/9470-9475",
          "Processtukken van de Staten-Generaal/9476-9481",
          "Processtukken van de Staten-Generaal/9482-9483",
          "Processtukken van de Staten-Generaal/9484-9485",
          "Processtukken van de Staten-Generaal/9486",
          "Processtukken van de Staten-Generaal/9487",
          "Processtukken van de Staten-Generaal/9488",
          "Processtukken van de Staten-Generaal/9489-9490",
          "Processtukken van de Staten-Generaal/9491-9492",
          "Processtukken van de Staten-Generaal/9493",
          "Processtukken van de Staten-Generaal/9494",
          "Processtukken van de Staten-Generaal/9495",
          "Processtukken van de Staten-Generaal/9496",
          "Processtukken van de Staten-Generaal/9497",
          "Processtukken van de Staten-Generaal/9498",
          "Processtukken van de Staten-Generaal/9499",
          "Processtukken van de Staten-Generaal/9500",
          "Processtukken van de Staten-Generaal/9501",
          "Processtukken van de Staten-Generaal/9502",
          "Processtukken van de Staten-Generaal/9503",
          "Processtukken van de Staten-Generaal/9504",
          "Processtukken van de Staten-Generaal/9505",
          "Processtukken van de Staten-Generaal/9506",
          "Processtukken van de Staten-Generaal/9507",
          "Processtukken van de Staten-Generaal/9508-9509",
          "Processtukken van de Staten-Generaal/9510",
          "Processtukken van de Staten-Generaal/9511",
          "Processtukken van de Staten-Generaal/9512",
          "Processtukken van de Staten-Generaal/9513",
          "Processtukken van de Staten-Generaal/9514",
          "Processtukken van de Staten-Generaal/9515",
          "Processtukken van de Staten-Generaal/9516",
          "Processtukken van de Staten-Generaal/9517",
          "Processtukken van de Staten-Generaal/9518",
          "Processtukken van de Staten-Generaal/9519",
          "Processtukken van de Staten-Generaal/9520",
          "Processtukken van de Staten-Generaal/9520A",
          "Processtukken van de Staten-Generaal/9521",
          "Processtukken van de Staten-Generaal/9522",
          "Processtukken van de Staten-Generaal/9523",
          "Processtukken van de Staten-Generaal/9524",
          "Processtukken van de Staten-Generaal/9525",
          "Processtukken van de Staten-Generaal/9526",
          "Processtukken van de Staten-Generaal/9527",
          "Processtukken van de Staten-Generaal/9528",
          "Processtukken van de Staten-Generaal/9529",
          "Processtukken van de Staten-Generaal/9530",
          "Processtukken van de Staten-Generaal/9531",
          "Processtukken van de Staten-Generaal/9532",
          "Processtukken van de Staten-Generaal/9533",
          "Processtukken van de Staten-Generaal/9534",
          "Processtukken van de Staten-Generaal/9535",
          "Processtukken van de Staten-Generaal/9536",
          "Processtukken van de Staten-Generaal/9537",
          "Processtukken van de Staten-Generaal/9538",
          "Processtukken van de Staten-Generaal/9539",
          "Processtukken van de Staten-Generaal/9540",
          "Processtukken van de Staten-Generaal/9541",
          "Processtukken van de Staten-Generaal/9542",
          "Processtukken van de Staten-Generaal/9543",
          "Processtukken van de Staten-Generaal/9543A",
          "Processtukken van de Staten-Generaal/9544",
          "Processtukken van de Staten-Generaal/9545",
          "Processtukken van de Staten-Generaal/9546",
          "Processtukken van de Staten-Generaal/9547",
          "Processtukken van de Staten-Generaal/9548",
          "Processtukken van de Staten-Generaal/9549-9550",
          "Processtukken van de Staten-Generaal/9551",
          "Processtukken van de Staten-Generaal/9552",
          "Processtukken van de Staten-Generaal/9553",
          "Processtukken van de Staten-Generaal/9554",
          "Processtukken van de Staten-Generaal/9555",
          "Processtukken van de Staten-Generaal/9556",
          "Processtukken van de Staten-Generaal/9557",
          "Processtukken van de Staten-Generaal/9558",
          "Processtukken van de Staten-Generaal/9559",
          "Processtukken van de Staten-Generaal/9560-9561",
          "Processtukken van de Staten-Generaal/9562-9563",
          "Processtukken van de Staten-Generaal/9564",
          "Processtukken van de Staten-Generaal/9565",
          "Processtukken van de Staten-Generaal/9566",
          "Processtukken van de Staten-Generaal/9567",
          "Processtukken van de Staten-Generaal/9568-9569",
          "Processtukken van de Staten-Generaal/9570",
          "Processtukken van de Staten-Generaal/9571",
          "Processtukken van de Staten-Generaal/9572",
          "Processtukken van de Staten-Generaal/9573-9574",
          "Processtukken van de Staten-Generaal/9575",
          "Processtukken van de Staten-Generaal/9576",
          "Processtukken van de Staten-Generaal/9577",
          "Processtukken van de Staten-Generaal/9578",
          "Processtukken van de Staten-Generaal/9579",
          "Processtukken van de Staten-Generaal/9580",
          "Processtukken van de Staten-Generaal/9581",
          "Processtukken van de Staten-Generaal/9582",
          "Processtukken van de Staten-Generaal/9583",
          "Processtukken van de Staten-Generaal/9584-9585",
          "Processtukken van de Staten-Generaal/9586",
          "Processtukken van de Staten-Generaal/9587",
          "Processtukken van de Staten-Generaal/9588",
          "Processtukken van de Staten-Generaal/9589-9590",
          "Processtukken van de Staten-Generaal/9591",
          "Processtukken van de Staten-Generaal/9592",
          "Processtukken van de Staten-Generaal/9593",
          "Processtukken van de Staten-Generaal/9594",
          "Processtukken van de Staten-Generaal/9595",
          "Processtukken van de Staten-Generaal/9596-9597",
          "Processtukken van de Staten-Generaal/9598-9599",
          "Processtukken van de Staten-Generaal/9600-9601",
          "Processtukken van de Staten-Generaal/9602-9603",
          "Processtukken van de Staten-Generaal/9604",
          "Processtukken van de Staten-Generaal/9605",
          "Processtukken van de Staten-Generaal/9606",
          "Processtukken van de Staten-Generaal/9607",
          "Processtukken van de Staten-Generaal/9608",
          "Processtukken van de Staten-Generaal/9609",
          "Processtukken van de Staten-Generaal/9610-9611",
          "Processtukken van de Staten-Generaal/9612-9613",
          "Processtukken van de Staten-Generaal/9614",
          "Processtukken van de Staten-Generaal/9615",
          "Processtukken van de Staten-Generaal/9616",
          "Processtukken van de Staten-Generaal/9617",
          "Processtukken van de Staten-Generaal/9618",
          "Processtukken van de Staten-Generaal/9619",
          "Processtukken van de Staten-Generaal/9620",
          "Processtukken van de Staten-Generaal/9621",
          "Processtukken van de Staten-Generaal/9622",
          "Processtukken van de Staten-Generaal/9623-9624",
          "Processtukken van de Staten-Generaal/9625",
          "Processtukken van de Staten-Generaal/9626",
          "Processtukken van de Staten-Generaal/9627",
          "Processtukken van de Staten-Generaal/9628",
          "Rekeningen ingeleverd bij de Staten-Generaal/9642-9649",
          "Rekeningen ingeleverd bij de Staten-Generaal/9650-9652",
          "Rekeningen ingeleverd bij de Staten-Generaal/9653-9755",
          "Rekeningen ingeleverd bij de Staten-Generaal/9756-9759",
          "Rekeningen ingeleverd bij de Staten-Generaal/9760-9763",
          "Rekeningen ingeleverd bij de Staten-Generaal/9764",
          "Rekeningen ingeleverd bij de Staten-Generaal/9765-9864",
          "Rekeningen ingeleverd bij de Staten-Generaal/9865-9883",
          "Rekeningen ingeleverd bij de Staten-Generaal/9884",
          "Rekeningen ingeleverd bij de Staten-Generaal/9885-9969",
          "Rekeningen ingeleverd bij de Staten-Generaal/9970-10097",
          "Rekeningen ingeleverd bij de Staten-Generaal/10098-10223",
          "Rekeningen ingeleverd bij de Staten-Generaal/10224-10225",
          "Rekeningen ingeleverd bij de Staten-Generaal/10226-10322",
          "Rekeningen ingeleverd bij de Staten-Generaal/10323-10337",
          "Rekeningen ingeleverd bij de Staten-Generaal/10338-10421",
          "Rekeningen ingeleverd bij de Staten-Generaal/10422-10532",
          "Rekeningen ingeleverd bij de Staten-Generaal/10534-10538",
          "Rekeningen ingeleverd bij de Staten-Generaal/10539",
          "Rekeningen ingeleverd bij de Staten-Generaal/10540-10632",
          "Rekeningen ingeleverd bij de Staten-Generaal/10634-10649",
          "Rekeningen ingeleverd bij de Staten-Generaal/10650-10753, 10755-10815",
          "Rekeningen ingeleverd bij de Staten-Generaal/10816",
          "Rekeningen ingeleverd bij de Staten-Generaal/10817-10822",
          "Rekeningen ingeleverd bij de Staten-Generaal/10823-10824",
          "Rekeningen ingeleverd bij de Staten-Generaal/10825-10963",
          "Rekeningen ingeleverd bij de Staten-Generaal/10964-11055",
          "Rekeningen ingeleverd bij de Staten-Generaal/11056-11059",
          "Rekeningen ingeleverd bij de Staten-Generaal/11060-11065",
          "Rekeningen ingeleverd bij de Staten-Generaal/11066-11071",
          "Rekeningen ingeleverd bij de Staten-Generaal/11070-11071",
          "De Liassen Binnenland",
          "De Liassen Buitenland",
          "1600-1795",
          "De staten van oorlog te land en ter zee",
          "Verbalen en rapporten van Nederlandse vertegenwoordigers in den vreemde (buitenlandse verbalen)",
          "Verbalen en rapporten van bezendingen van de Staten-Generaal aan de provincies en Generaliteitslanden (binnenlandse verbalen)",
          "Rapporten en memories van advocaten-fiscaal betreffende zaken van verraad in de Republiek",
          "Verbalen, journalen, memories en rapporten betreffende het beleid van de Admiraliteiten en de krijgsverrichtingen van de Staatse vloot",
          "Verbalen, rapporten, memories en andere ingekomen stukken betreffende het beleid van de West-Indische Compagnie",
          "Verbalen, rapporten en andere ingekomen stukken betreffende het beleid van de Oost-Indische Compagnie",
          "Verbalen, rapporten en memories van de commissies van de Staten-Generaal betreffende het Defensie- en Financiewezen van de Staat",
          "Processtukken van de Staten-Generaal",
          "Rekeningen ingeleverd bij de Staten-Generaal"
         ],
         "labels": [
          "4867-5461, ---",
          "5462-5477",
          "5478-5714",
          "5715-5718",
          "5719-5722",
          "5723-5733",
          "5734-5749",
          "5745A-5745B",
          "5750",
          "5751A-5815",
          "5816-5817",
          "5818-5879",
          "5881-6002, ---",
          "6003-6015",
          "6016-6024",
          "6025-6026",
          "6028-6583, ---",
          "6584-6629",
          "6630-6634",
          "6635-6679",
          "6680-6696",
          "6697-6742",
          "6743-6746",
          "6747-6749",
          "6750-6863",
          "6864-6887",
          "6888-6996",
          "6926-6926A",
          "6997-7009",
          "7010-7036",
          "7037-7041",
          "7042-7160",
          "7161-7168",
          "7169-7223",
          "7224-7237",
          "7238-7302",
          "7303-7310",
          "7311-7354",
          "7355-7360",
          "7361-7361.C",
          "7361-7396",
          "7364-7364B",
          "7365-7365C",
          "7366-7366L",
          "7368-7368B",
          "7370A-7370D",
          "7397-7410",
          "7411-7453",
          "7454-7460",
          "7461-7461A",
          "7462A-7462B",
          "7463",
          "7464",
          "7465",
          "7466-7467",
          "7468-7469",
          "7470-7471",
          "7474-8025",
          "8026-8039",
          "8040-8297",
          "8310-8311",
          "8313-8314",
          "8317-8318",
          "8326-8327",
          "8337-8338",
          "8347-8348",
          "8350-8352",
          "8357-8358",
          "8359-8360",
          "8364-8365",
          "8375-8378",
          "8384-8385",
          "8387-8390",
          "8391-8392",
          "8396-8397",
          "8398-8399",
          "8400-8401",
          "8405-8406",
          "8407-8408",
          "8409-8410",
          "8411-8412",
          "8414-8416",
          "8417-8422",
          "8423-8427",
          "8428, 8430",
          "8431-8434",
          "8435-8437",
          "8438-8445",
          "8446-8447",
          "8449-8450",
          "8451-8452",
          "8454-8456",
          "8457-8459",
          "8460-8462",
          "8464-8466",
          "8467-8469",
          "8470-8471",
          "8472-8473",
          "8474-8475",
          "8478-8479",
          "8480-8482",
          "8485-8486",
          "8488-8489",
          "8494-8495",
          "8496-8498",
          "8499-8500",
          "8502-8503",
          "8504-8505",
          "8507-8509",
          "8512-8515",
          "8516-8521",
          "8522-8524",
          "8525-8527",
          "8528-8529",
          "8530-8531",
          "8534-8535",
          "8536-8538",
          "8541-8544",
          "8546-8547",
          "8548-8549",
          "8554-8556",
          "8559-8560",
          "8561-8562",
          "8563-8564",
          "8566-8570",
          "8571-8572",
          "8576-8579",
          "8580-8581",
          "8588-8590",
          "8591-8594",
          "8595-8602",
          "8607-8609",
          "8613-8614",
          "8616-8621",
          "8631-8632",
          "8633-8634",
          "8641-8642",
          "8643-8644",
          "8649-8650",
          "8660-8661",
          "8662-8664",
          "8668-8669",
          "8670-8672",
          "8676-8679",
          "8680-8693",
          "8695-8698",
          "8705-8713",
          "8715-8720",
          "8725-8726",
          "8738-8739",
          "8743-8746",
          "8760-8761",
          "8762-8772",
          "8777-8778",
          "8780-8782",
          "8783-8819",
          "8821-8822",
          "8823-8825",
          "8827-8828",
          "8835-8837",
          "8839-8842",
          "8847-8851",
          "8857",
          "8858",
          "8859",
          "8860",
          "8861",
          "8862",
          "8863",
          "8864",
          "8865",
          "8866",
          "8867",
          "8868",
          "8869",
          "8870",
          "8871",
          "8872",
          "8873",
          "8874",
          "8875",
          "8876",
          "8877",
          "8878",
          "8879",
          "8880",
          "8881",
          "8882",
          "8883",
          "8884",
          "8885",
          "8887",
          "8888",
          "8889",
          "8890",
          "8891",
          "8892",
          "8893",
          "8894",
          "8895-8896",
          "8897",
          "8898",
          "8899",
          "8900",
          "8901",
          "8902",
          "8903",
          "8904-8905",
          "8906",
          "8907",
          "8908",
          "8909",
          "8910",
          "8911-8912",
          "8913",
          "8914-8915",
          "8916",
          "8917",
          "8918",
          "8919",
          "8920",
          "8921",
          "8922-8923",
          "8924",
          "8925",
          "8926",
          "8927",
          "8928",
          "8929",
          "8930",
          "8931",
          "8932",
          "8933",
          "8934",
          "8935",
          "8936",
          "8937",
          "8938",
          "8939",
          "8940",
          "8941",
          "8942",
          "8943",
          "8944",
          "8945",
          "8946-8947",
          "8948",
          "8949",
          "8950",
          "8951",
          "8952",
          "8953",
          "8953A-8953B",
          "8953C",
          "8954",
          "8955",
          "8956",
          "8957",
          "8958",
          "8959",
          "8960",
          "8961",
          "8962-8963",
          "8964",
          "8965",
          "8966",
          "8967",
          "8968",
          "8969",
          "8970",
          "8971",
          "8972-8975",
          "8976",
          "8977",
          "8978",
          "8979",
          "8980",
          "8981",
          "8982",
          "8983",
          "8984",
          "8985",
          "8986",
          "8987",
          "8988",
          "8989",
          "8990",
          "8991",
          "8992",
          "8993",
          "8994",
          "8995",
          "8996",
          "8997",
          "8998",
          "8999",
          "9000-9001",
          "9002",
          "9003",
          "9004",
          "9005",
          "9006",
          "9007",
          "9008",
          "9009",
          "9010",
          "9011",
          "9012",
          "9013",
          "9014",
          "9015",
          "9016",
          "9017",
          "9018",
          "9019",
          "9020",
          "9021",
          "9022",
          "9023",
          "9024",
          "9025",
          "9026",
          "9027",
          "9028",
          "9029",
          "9030",
          "9031",
          "9032",
          "9033",
          "9034",
          "9035",
          "9036",
          "9037",
          "9038",
          "9039",
          "9040",
          "9041",
          "9042",
          "9043",
          "9044",
          "9045",
          "9046",
          "9047",
          "9048",
          "9049",
          "9050",
          "9051",
          "9052",
          "9053",
          "9054",
          "9055",
          "9056",
          "9057",
          "9058",
          "9059",
          "9060",
          "9061",
          "9062",
          "9063",
          "9064",
          "9065",
          "9066",
          "9067",
          "9068",
          "9069",
          "9070",
          "9071",
          "9072",
          "9073",
          "9074",
          "9075",
          "9076",
          "9077",
          "9078",
          "9079",
          "9080",
          "9081",
          "9082",
          "9083",
          "9084",
          "9085",
          "9086",
          "9087",
          "9088",
          "9089",
          "9090",
          "9091",
          "9092",
          "9093",
          "9094",
          "9095",
          "9096",
          "9097",
          "9098",
          "9099",
          "9100",
          "9101",
          "9102",
          "9103",
          "9104",
          "9105",
          "9106",
          "9107",
          "9108",
          "9109",
          "9110",
          "9111",
          "9112",
          "9113",
          "9114",
          "9115",
          "9116",
          "9117",
          "9118",
          "9119",
          "9120",
          "9121",
          "9122",
          "9123",
          "9124",
          "9125",
          "9126",
          "9127",
          "9128",
          "9129",
          "9130",
          "9131",
          "9132",
          "9133",
          "9133A",
          "9134",
          "9135",
          "9136",
          "9137",
          "9138",
          "9139",
          "9140",
          "9141",
          "9142",
          "9143",
          "9144",
          "9145",
          "9146",
          "9147",
          "9148",
          "9149",
          "9150",
          "9151",
          "9213-9215",
          "9225",
          "9226",
          "9227",
          "9228",
          "9229",
          "9230",
          "9231-9233",
          "9234",
          "9235",
          "9236",
          "9237",
          "9238-9239",
          "9240-9242",
          "9243",
          "9244",
          "9245",
          "9246",
          "9247",
          "9248",
          "9249",
          "9250",
          "9251",
          "9252",
          "9253",
          "9254",
          "9255",
          "9256",
          "9257",
          "9258",
          "9259",
          "9260",
          "9261",
          "9262",
          "9263",
          "9264",
          "---",
          "9272",
          "9273",
          "9274",
          "9275",
          "9277",
          "9278",
          "9279",
          "9280",
          "9281",
          "9282",
          "9283",
          "9284",
          "9285",
          "9286",
          "9287",
          "9288",
          "9289",
          "9290",
          "9291",
          "9292",
          "9293",
          "9294",
          "9295",
          "9296",
          "9297",
          "9298",
          "9299",
          "9300",
          "9301",
          "9302",
          "9303",
          "9304",
          "9305",
          "9306",
          "9307",
          "9308",
          "9309",
          "9310",
          "9311",
          "9312",
          "9313",
          "9314",
          "9315",
          "9316",
          "9317",
          "9318",
          "9319",
          "9320",
          "9321",
          "9322",
          "9323",
          "9324-9325",
          "9326",
          "9327",
          "9328",
          "9329",
          "9330",
          "9331-9332",
          "9333",
          "9335",
          "9336",
          "9337",
          "9338",
          "9339",
          "9340",
          "9341",
          "9342",
          "9343",
          "9344",
          "9345",
          "9346",
          "9347",
          "9348",
          "9349",
          "9350",
          "9351",
          "9352",
          "9353",
          "9354",
          "9355",
          "9356",
          "9357",
          "9358",
          "9359",
          "9360",
          "9361",
          "9362",
          "9363",
          "9364",
          "9365",
          "9366",
          "9367",
          "9368",
          "9368A",
          "9369",
          "9370",
          "9371",
          "9372",
          "9373",
          "9374",
          "9375",
          "9376",
          "9377",
          "9378",
          "9379",
          "9380",
          "9381",
          "9382",
          "9383",
          "9384",
          "9385",
          "9386",
          "9387",
          "9388",
          "9389",
          "9390-9391",
          "9392",
          "9393-9394",
          "9395-9396",
          "9397",
          "9398",
          "9399",
          "9400",
          "9401",
          "9402",
          "9403",
          "9404",
          "9405",
          "9406",
          "9407",
          "9408",
          "9410-9411",
          "9415-9420",
          "9430-9441",
          "9443-9444",
          "9445-9447",
          "9448-9449",
          "9450-9460",
          "9450-9485",
          "9462-9468",
          "9470-9475",
          "9476-9481",
          "9482-9483",
          "9484-9485",
          "9486",
          "9487",
          "9488",
          "9489-9490",
          "9491-9492",
          "9493",
          "9494",
          "9495",
          "9496",
          "9497",
          "9498",
          "9499",
          "9500",
          "9501",
          "9502",
          "9503",
          "9504",
          "9505",
          "9506",
          "9507",
          "9508-9509",
          "9510",
          "9511",
          "9512",
          "9513",
          "9514",
          "9515",
          "9516",
          "9517",
          "9518",
          "9519",
          "9520",
          "9520A",
          "9521",
          "9522",
          "9523",
          "9524",
          "9525",
          "9526",
          "9527",
          "9528",
          "9529",
          "9530",
          "9531",
          "9532",
          "9533",
          "9534",
          "9535",
          "9536",
          "9537",
          "9538",
          "9539",
          "9540",
          "9541",
          "9542",
          "9543",
          "9543A",
          "9544",
          "9545",
          "9546",
          "9547",
          "9548",
          "9549-9550",
          "9551",
          "9552",
          "9553",
          "9554",
          "9555",
          "9556",
          "9557",
          "9558",
          "9559",
          "9560-9561",
          "9562-9563",
          "9564",
          "9565",
          "9566",
          "9567",
          "9568-9569",
          "9570",
          "9571",
          "9572",
          "9573-9574",
          "9575",
          "9576",
          "9577",
          "9578",
          "9579",
          "9580",
          "9581",
          "9582",
          "9583",
          "9584-9585",
          "9586",
          "9587",
          "9588",
          "9589-9590",
          "9591",
          "9592",
          "9593",
          "9594",
          "9595",
          "9596-9597",
          "9598-9599",
          "9600-9601",
          "9602-9603",
          "9604",
          "9605",
          "9606",
          "9607",
          "9608",
          "9609",
          "9610-9611",
          "9612-9613",
          "9614",
          "9615",
          "9616",
          "9617",
          "9618",
          "9619",
          "9620",
          "9621",
          "9622",
          "9623-9624",
          "9625",
          "9626",
          "9627",
          "9628",
          "9642-9649",
          "9650-9652",
          "9653-9755",
          "9756-9759",
          "9760-9763",
          "9764",
          "9765-9864",
          "9865-9883",
          "9884",
          "9885-9969",
          "9970-10097",
          "10098-10223",
          "10224-10225",
          "10226-10322",
          "10323-10337",
          "10338-10421",
          "10422-10532",
          "10534-10538",
          "10539",
          "10540-10632",
          "10634-10649",
          "10650-10753, 10755-10815",
          "10816",
          "10817-10822",
          "10823-10824",
          "10825-10963",
          "10964-11055",
          "11056-11059",
          "11060-11065",
          "11066-11071",
          "11070-11071",
          "De Liassen Binnenland",
          "De Liassen Buitenland",
          "1600-1795",
          "De staten van oorlog te land en ter zee",
          "Verbalen en rapporten van Nederlandse vertegenwoordigers in den vreemde (buitenlandse verbalen)",
          "Verbalen en rapporten van bezendingen van de Staten-Generaal aan de provincies en Generaliteitslanden (binnenlandse verbalen)",
          "Rapporten en memories van advocaten-fiscaal betreffende zaken van verraad in de Republiek",
          "Verbalen, journalen, memories en rapporten betreffende het beleid van de Admiraliteiten en de krijgsverrichtingen van de Staatse vloot",
          "Verbalen, rapporten, memories en andere ingekomen stukken betreffende het beleid van de West-Indische Compagnie",
          "Verbalen, rapporten en andere ingekomen stukken betreffende het beleid van de Oost-Indische Compagnie",
          "Verbalen, rapporten en memories van de commissies van de Staten-Generaal betreffende het Defensie- en Financiewezen van de Staat",
          "Processtukken van de Staten-Generaal",
          "Rekeningen ingeleverd bij de Staten-Generaal"
         ],
         "name": "",
         "parents": [
          "De Liassen Binnenland",
          "De Liassen Binnenland",
          "De Liassen Binnenland",
          "De Liassen Binnenland",
          "De Liassen Binnenland",
          "De Liassen Binnenland",
          "De Liassen Binnenland",
          "De Liassen Binnenland",
          "De Liassen Binnenland",
          "De Liassen Binnenland",
          "De Liassen Binnenland",
          "De Liassen Binnenland",
          "De Liassen Buitenland",
          "De Liassen Buitenland",
          "De Liassen Buitenland",
          "De Liassen Buitenland",
          "De Liassen Buitenland",
          "De Liassen Buitenland",
          "De Liassen Buitenland",
          "De Liassen Buitenland",
          "De Liassen Buitenland",
          "De Liassen Buitenland",
          "De Liassen Buitenland",
          "De Liassen Buitenland",
          "De Liassen Buitenland",
          "De Liassen Buitenland",
          "De Liassen Buitenland",
          "De Liassen Buitenland",
          "De Liassen Buitenland",
          "De Liassen Buitenland",
          "De Liassen Buitenland",
          "De Liassen Buitenland",
          "De Liassen Buitenland",
          "De Liassen Buitenland",
          "De Liassen Buitenland",
          "De Liassen Buitenland",
          "De Liassen Buitenland",
          "De Liassen Buitenland",
          "De Liassen Buitenland",
          "De Liassen Buitenland",
          "De Liassen Buitenland",
          "De Liassen Buitenland",
          "De Liassen Buitenland",
          "De Liassen Buitenland",
          "De Liassen Buitenland",
          "De Liassen Buitenland",
          "De Liassen Buitenland",
          "De Liassen Buitenland",
          "De Liassen Buitenland",
          "De Liassen Buitenland",
          "De Liassen Buitenland",
          "De Liassen Buitenland",
          "De Liassen Buitenland",
          "De Liassen Buitenland",
          "De Liassen Buitenland",
          "De Liassen Buitenland",
          "De Liassen Buitenland",
          "1600-1795",
          "1600-1795",
          "De staten van oorlog te land en ter zee",
          "Verbalen en rapporten van Nederlandse vertegenwoordigers in den vreemde (buitenlandse verbalen)",
          "Verbalen en rapporten van Nederlandse vertegenwoordigers in den vreemde (buitenlandse verbalen)",
          "Verbalen en rapporten van Nederlandse vertegenwoordigers in den vreemde (buitenlandse verbalen)",
          "Verbalen en rapporten van Nederlandse vertegenwoordigers in den vreemde (buitenlandse verbalen)",
          "Verbalen en rapporten van Nederlandse vertegenwoordigers in den vreemde (buitenlandse verbalen)",
          "Verbalen en rapporten van Nederlandse vertegenwoordigers in den vreemde (buitenlandse verbalen)",
          "Verbalen en rapporten van Nederlandse vertegenwoordigers in den vreemde (buitenlandse verbalen)",
          "Verbalen en rapporten van Nederlandse vertegenwoordigers in den vreemde (buitenlandse verbalen)",
          "Verbalen en rapporten van Nederlandse vertegenwoordigers in den vreemde (buitenlandse verbalen)",
          "Verbalen en rapporten van Nederlandse vertegenwoordigers in den vreemde (buitenlandse verbalen)",
          "Verbalen en rapporten van Nederlandse vertegenwoordigers in den vreemde (buitenlandse verbalen)",
          "Verbalen en rapporten van Nederlandse vertegenwoordigers in den vreemde (buitenlandse verbalen)",
          "Verbalen en rapporten van Nederlandse vertegenwoordigers in den vreemde (buitenlandse verbalen)",
          "Verbalen en rapporten van Nederlandse vertegenwoordigers in den vreemde (buitenlandse verbalen)",
          "Verbalen en rapporten van Nederlandse vertegenwoordigers in den vreemde (buitenlandse verbalen)",
          "Verbalen en rapporten van Nederlandse vertegenwoordigers in den vreemde (buitenlandse verbalen)",
          "Verbalen en rapporten van Nederlandse vertegenwoordigers in den vreemde (buitenlandse verbalen)",
          "Verbalen en rapporten van Nederlandse vertegenwoordigers in den vreemde (buitenlandse verbalen)",
          "Verbalen en rapporten van Nederlandse vertegenwoordigers in den vreemde (buitenlandse verbalen)",
          "Verbalen en rapporten van Nederlandse vertegenwoordigers in den vreemde (buitenlandse verbalen)",
          "Verbalen en rapporten van Nederlandse vertegenwoordigers in den vreemde (buitenlandse verbalen)",
          "Verbalen en rapporten van Nederlandse vertegenwoordigers in den vreemde (buitenlandse verbalen)",
          "Verbalen en rapporten van Nederlandse vertegenwoordigers in den vreemde (buitenlandse verbalen)",
          "Verbalen en rapporten van Nederlandse vertegenwoordigers in den vreemde (buitenlandse verbalen)",
          "Verbalen en rapporten van Nederlandse vertegenwoordigers in den vreemde (buitenlandse verbalen)",
          "Verbalen en rapporten van Nederlandse vertegenwoordigers in den vreemde (buitenlandse verbalen)",
          "Verbalen en rapporten van Nederlandse vertegenwoordigers in den vreemde (buitenlandse verbalen)",
          "Verbalen en rapporten van Nederlandse vertegenwoordigers in den vreemde (buitenlandse verbalen)",
          "Verbalen en rapporten van Nederlandse vertegenwoordigers in den vreemde (buitenlandse verbalen)",
          "Verbalen en rapporten van Nederlandse vertegenwoordigers in den vreemde (buitenlandse verbalen)",
          "Verbalen en rapporten van Nederlandse vertegenwoordigers in den vreemde (buitenlandse verbalen)",
          "Verbalen en rapporten van Nederlandse vertegenwoordigers in den vreemde (buitenlandse verbalen)",
          "Verbalen en rapporten van Nederlandse vertegenwoordigers in den vreemde (buitenlandse verbalen)",
          "Verbalen en rapporten van Nederlandse vertegenwoordigers in den vreemde (buitenlandse verbalen)",
          "Verbalen en rapporten van Nederlandse vertegenwoordigers in den vreemde (buitenlandse verbalen)",
          "Verbalen en rapporten van Nederlandse vertegenwoordigers in den vreemde (buitenlandse verbalen)",
          "Verbalen en rapporten van Nederlandse vertegenwoordigers in den vreemde (buitenlandse verbalen)",
          "Verbalen en rapporten van Nederlandse vertegenwoordigers in den vreemde (buitenlandse verbalen)",
          "Verbalen en rapporten van Nederlandse vertegenwoordigers in den vreemde (buitenlandse verbalen)",
          "Verbalen en rapporten van Nederlandse vertegenwoordigers in den vreemde (buitenlandse verbalen)",
          "Verbalen en rapporten van Nederlandse vertegenwoordigers in den vreemde (buitenlandse verbalen)",
          "Verbalen en rapporten van Nederlandse vertegenwoordigers in den vreemde (buitenlandse verbalen)",
          "Verbalen en rapporten van Nederlandse vertegenwoordigers in den vreemde (buitenlandse verbalen)",
          "Verbalen en rapporten van Nederlandse vertegenwoordigers in den vreemde (buitenlandse verbalen)",
          "Verbalen en rapporten van Nederlandse vertegenwoordigers in den vreemde (buitenlandse verbalen)",
          "Verbalen en rapporten van Nederlandse vertegenwoordigers in den vreemde (buitenlandse verbalen)",
          "Verbalen en rapporten van Nederlandse vertegenwoordigers in den vreemde (buitenlandse verbalen)",
          "Verbalen en rapporten van Nederlandse vertegenwoordigers in den vreemde (buitenlandse verbalen)",
          "Verbalen en rapporten van Nederlandse vertegenwoordigers in den vreemde (buitenlandse verbalen)",
          "Verbalen en rapporten van Nederlandse vertegenwoordigers in den vreemde (buitenlandse verbalen)",
          "Verbalen en rapporten van Nederlandse vertegenwoordigers in den vreemde (buitenlandse verbalen)",
          "Verbalen en rapporten van Nederlandse vertegenwoordigers in den vreemde (buitenlandse verbalen)",
          "Verbalen en rapporten van Nederlandse vertegenwoordigers in den vreemde (buitenlandse verbalen)",
          "Verbalen en rapporten van Nederlandse vertegenwoordigers in den vreemde (buitenlandse verbalen)",
          "Verbalen en rapporten van Nederlandse vertegenwoordigers in den vreemde (buitenlandse verbalen)",
          "Verbalen en rapporten van Nederlandse vertegenwoordigers in den vreemde (buitenlandse verbalen)",
          "Verbalen en rapporten van Nederlandse vertegenwoordigers in den vreemde (buitenlandse verbalen)",
          "Verbalen en rapporten van Nederlandse vertegenwoordigers in den vreemde (buitenlandse verbalen)",
          "Verbalen en rapporten van Nederlandse vertegenwoordigers in den vreemde (buitenlandse verbalen)",
          "Verbalen en rapporten van Nederlandse vertegenwoordigers in den vreemde (buitenlandse verbalen)",
          "Verbalen en rapporten van Nederlandse vertegenwoordigers in den vreemde (buitenlandse verbalen)",
          "Verbalen en rapporten van Nederlandse vertegenwoordigers in den vreemde (buitenlandse verbalen)",
          "Verbalen en rapporten van Nederlandse vertegenwoordigers in den vreemde (buitenlandse verbalen)",
          "Verbalen en rapporten van Nederlandse vertegenwoordigers in den vreemde (buitenlandse verbalen)",
          "Verbalen en rapporten van Nederlandse vertegenwoordigers in den vreemde (buitenlandse verbalen)",
          "Verbalen en rapporten van Nederlandse vertegenwoordigers in den vreemde (buitenlandse verbalen)",
          "Verbalen en rapporten van Nederlandse vertegenwoordigers in den vreemde (buitenlandse verbalen)",
          "Verbalen en rapporten van Nederlandse vertegenwoordigers in den vreemde (buitenlandse verbalen)",
          "Verbalen en rapporten van Nederlandse vertegenwoordigers in den vreemde (buitenlandse verbalen)",
          "Verbalen en rapporten van Nederlandse vertegenwoordigers in den vreemde (buitenlandse verbalen)",
          "Verbalen en rapporten van Nederlandse vertegenwoordigers in den vreemde (buitenlandse verbalen)",
          "Verbalen en rapporten van Nederlandse vertegenwoordigers in den vreemde (buitenlandse verbalen)",
          "Verbalen en rapporten van Nederlandse vertegenwoordigers in den vreemde (buitenlandse verbalen)",
          "Verbalen en rapporten van Nederlandse vertegenwoordigers in den vreemde (buitenlandse verbalen)",
          "Verbalen en rapporten van Nederlandse vertegenwoordigers in den vreemde (buitenlandse verbalen)",
          "Verbalen en rapporten van Nederlandse vertegenwoordigers in den vreemde (buitenlandse verbalen)",
          "Verbalen en rapporten van Nederlandse vertegenwoordigers in den vreemde (buitenlandse verbalen)",
          "Verbalen en rapporten van Nederlandse vertegenwoordigers in den vreemde (buitenlandse verbalen)",
          "Verbalen en rapporten van Nederlandse vertegenwoordigers in den vreemde (buitenlandse verbalen)",
          "Verbalen en rapporten van Nederlandse vertegenwoordigers in den vreemde (buitenlandse verbalen)",
          "Verbalen en rapporten van Nederlandse vertegenwoordigers in den vreemde (buitenlandse verbalen)",
          "Verbalen en rapporten van Nederlandse vertegenwoordigers in den vreemde (buitenlandse verbalen)",
          "Verbalen en rapporten van Nederlandse vertegenwoordigers in den vreemde (buitenlandse verbalen)",
          "Verbalen en rapporten van Nederlandse vertegenwoordigers in den vreemde (buitenlandse verbalen)",
          "Verbalen en rapporten van Nederlandse vertegenwoordigers in den vreemde (buitenlandse verbalen)",
          "Verbalen en rapporten van Nederlandse vertegenwoordigers in den vreemde (buitenlandse verbalen)",
          "Verbalen en rapporten van Nederlandse vertegenwoordigers in den vreemde (buitenlandse verbalen)",
          "Verbalen en rapporten van Nederlandse vertegenwoordigers in den vreemde (buitenlandse verbalen)",
          "Verbalen en rapporten van Nederlandse vertegenwoordigers in den vreemde (buitenlandse verbalen)",
          "Verbalen en rapporten van Nederlandse vertegenwoordigers in den vreemde (buitenlandse verbalen)",
          "Verbalen en rapporten van Nederlandse vertegenwoordigers in den vreemde (buitenlandse verbalen)",
          "Verbalen en rapporten van Nederlandse vertegenwoordigers in den vreemde (buitenlandse verbalen)",
          "Verbalen en rapporten van Nederlandse vertegenwoordigers in den vreemde (buitenlandse verbalen)",
          "Verbalen en rapporten van Nederlandse vertegenwoordigers in den vreemde (buitenlandse verbalen)",
          "Verbalen en rapporten van Nederlandse vertegenwoordigers in den vreemde (buitenlandse verbalen)",
          "Verbalen en rapporten van Nederlandse vertegenwoordigers in den vreemde (buitenlandse verbalen)",
          "Verbalen en rapporten van Nederlandse vertegenwoordigers in den vreemde (buitenlandse verbalen)",
          "Verbalen en rapporten van Nederlandse vertegenwoordigers in den vreemde (buitenlandse verbalen)",
          "Verbalen en rapporten van Nederlandse vertegenwoordigers in den vreemde (buitenlandse verbalen)",
          "Verbalen en rapporten van Nederlandse vertegenwoordigers in den vreemde (buitenlandse verbalen)",
          "Verbalen en rapporten van Nederlandse vertegenwoordigers in den vreemde (buitenlandse verbalen)",
          "Verbalen en rapporten van Nederlandse vertegenwoordigers in den vreemde (buitenlandse verbalen)",
          "Verbalen en rapporten van bezendingen van de Staten-Generaal aan de provincies en Generaliteitslanden (binnenlandse verbalen)",
          "Verbalen en rapporten van bezendingen van de Staten-Generaal aan de provincies en Generaliteitslanden (binnenlandse verbalen)",
          "Verbalen en rapporten van bezendingen van de Staten-Generaal aan de provincies en Generaliteitslanden (binnenlandse verbalen)",
          "Verbalen en rapporten van bezendingen van de Staten-Generaal aan de provincies en Generaliteitslanden (binnenlandse verbalen)",
          "Verbalen en rapporten van bezendingen van de Staten-Generaal aan de provincies en Generaliteitslanden (binnenlandse verbalen)",
          "Verbalen en rapporten van bezendingen van de Staten-Generaal aan de provincies en Generaliteitslanden (binnenlandse verbalen)",
          "Verbalen en rapporten van bezendingen van de Staten-Generaal aan de provincies en Generaliteitslanden (binnenlandse verbalen)",
          "Verbalen en rapporten van bezendingen van de Staten-Generaal aan de provincies en Generaliteitslanden (binnenlandse verbalen)",
          "Verbalen en rapporten van bezendingen van de Staten-Generaal aan de provincies en Generaliteitslanden (binnenlandse verbalen)",
          "Verbalen en rapporten van bezendingen van de Staten-Generaal aan de provincies en Generaliteitslanden (binnenlandse verbalen)",
          "Verbalen en rapporten van bezendingen van de Staten-Generaal aan de provincies en Generaliteitslanden (binnenlandse verbalen)",
          "Verbalen en rapporten van bezendingen van de Staten-Generaal aan de provincies en Generaliteitslanden (binnenlandse verbalen)",
          "Verbalen en rapporten van bezendingen van de Staten-Generaal aan de provincies en Generaliteitslanden (binnenlandse verbalen)",
          "Verbalen en rapporten van bezendingen van de Staten-Generaal aan de provincies en Generaliteitslanden (binnenlandse verbalen)",
          "Verbalen en rapporten van bezendingen van de Staten-Generaal aan de provincies en Generaliteitslanden (binnenlandse verbalen)",
          "Verbalen en rapporten van bezendingen van de Staten-Generaal aan de provincies en Generaliteitslanden (binnenlandse verbalen)",
          "Verbalen en rapporten van bezendingen van de Staten-Generaal aan de provincies en Generaliteitslanden (binnenlandse verbalen)",
          "Verbalen en rapporten van bezendingen van de Staten-Generaal aan de provincies en Generaliteitslanden (binnenlandse verbalen)",
          "Verbalen en rapporten van bezendingen van de Staten-Generaal aan de provincies en Generaliteitslanden (binnenlandse verbalen)",
          "Verbalen en rapporten van bezendingen van de Staten-Generaal aan de provincies en Generaliteitslanden (binnenlandse verbalen)",
          "Verbalen en rapporten van bezendingen van de Staten-Generaal aan de provincies en Generaliteitslanden (binnenlandse verbalen)",
          "Verbalen en rapporten van bezendingen van de Staten-Generaal aan de provincies en Generaliteitslanden (binnenlandse verbalen)",
          "Verbalen en rapporten van bezendingen van de Staten-Generaal aan de provincies en Generaliteitslanden (binnenlandse verbalen)",
          "Verbalen en rapporten van bezendingen van de Staten-Generaal aan de provincies en Generaliteitslanden (binnenlandse verbalen)",
          "Verbalen en rapporten van bezendingen van de Staten-Generaal aan de provincies en Generaliteitslanden (binnenlandse verbalen)",
          "Verbalen en rapporten van bezendingen van de Staten-Generaal aan de provincies en Generaliteitslanden (binnenlandse verbalen)",
          "Verbalen en rapporten van bezendingen van de Staten-Generaal aan de provincies en Generaliteitslanden (binnenlandse verbalen)",
          "Verbalen en rapporten van bezendingen van de Staten-Generaal aan de provincies en Generaliteitslanden (binnenlandse verbalen)",
          "Verbalen en rapporten van bezendingen van de Staten-Generaal aan de provincies en Generaliteitslanden (binnenlandse verbalen)",
          "Verbalen en rapporten van bezendingen van de Staten-Generaal aan de provincies en Generaliteitslanden (binnenlandse verbalen)",
          "Verbalen en rapporten van bezendingen van de Staten-Generaal aan de provincies en Generaliteitslanden (binnenlandse verbalen)",
          "Verbalen en rapporten van bezendingen van de Staten-Generaal aan de provincies en Generaliteitslanden (binnenlandse verbalen)",
          "Verbalen en rapporten van bezendingen van de Staten-Generaal aan de provincies en Generaliteitslanden (binnenlandse verbalen)",
          "Verbalen en rapporten van bezendingen van de Staten-Generaal aan de provincies en Generaliteitslanden (binnenlandse verbalen)",
          "Verbalen en rapporten van bezendingen van de Staten-Generaal aan de provincies en Generaliteitslanden (binnenlandse verbalen)",
          "Verbalen en rapporten van bezendingen van de Staten-Generaal aan de provincies en Generaliteitslanden (binnenlandse verbalen)",
          "Verbalen en rapporten van bezendingen van de Staten-Generaal aan de provincies en Generaliteitslanden (binnenlandse verbalen)",
          "Verbalen en rapporten van bezendingen van de Staten-Generaal aan de provincies en Generaliteitslanden (binnenlandse verbalen)",
          "Verbalen en rapporten van bezendingen van de Staten-Generaal aan de provincies en Generaliteitslanden (binnenlandse verbalen)",
          "Verbalen en rapporten van bezendingen van de Staten-Generaal aan de provincies en Generaliteitslanden (binnenlandse verbalen)",
          "Verbalen en rapporten van bezendingen van de Staten-Generaal aan de provincies en Generaliteitslanden (binnenlandse verbalen)",
          "Verbalen en rapporten van bezendingen van de Staten-Generaal aan de provincies en Generaliteitslanden (binnenlandse verbalen)",
          "Verbalen en rapporten van bezendingen van de Staten-Generaal aan de provincies en Generaliteitslanden (binnenlandse verbalen)",
          "Verbalen en rapporten van bezendingen van de Staten-Generaal aan de provincies en Generaliteitslanden (binnenlandse verbalen)",
          "Verbalen en rapporten van bezendingen van de Staten-Generaal aan de provincies en Generaliteitslanden (binnenlandse verbalen)",
          "Verbalen en rapporten van bezendingen van de Staten-Generaal aan de provincies en Generaliteitslanden (binnenlandse verbalen)",
          "Verbalen en rapporten van bezendingen van de Staten-Generaal aan de provincies en Generaliteitslanden (binnenlandse verbalen)",
          "Verbalen en rapporten van bezendingen van de Staten-Generaal aan de provincies en Generaliteitslanden (binnenlandse verbalen)",
          "Verbalen en rapporten van bezendingen van de Staten-Generaal aan de provincies en Generaliteitslanden (binnenlandse verbalen)",
          "Verbalen en rapporten van bezendingen van de Staten-Generaal aan de provincies en Generaliteitslanden (binnenlandse verbalen)",
          "Verbalen en rapporten van bezendingen van de Staten-Generaal aan de provincies en Generaliteitslanden (binnenlandse verbalen)",
          "Verbalen en rapporten van bezendingen van de Staten-Generaal aan de provincies en Generaliteitslanden (binnenlandse verbalen)",
          "Verbalen en rapporten van bezendingen van de Staten-Generaal aan de provincies en Generaliteitslanden (binnenlandse verbalen)",
          "Verbalen en rapporten van bezendingen van de Staten-Generaal aan de provincies en Generaliteitslanden (binnenlandse verbalen)",
          "Verbalen en rapporten van bezendingen van de Staten-Generaal aan de provincies en Generaliteitslanden (binnenlandse verbalen)",
          "Verbalen en rapporten van bezendingen van de Staten-Generaal aan de provincies en Generaliteitslanden (binnenlandse verbalen)",
          "Verbalen en rapporten van bezendingen van de Staten-Generaal aan de provincies en Generaliteitslanden (binnenlandse verbalen)",
          "Verbalen en rapporten van bezendingen van de Staten-Generaal aan de provincies en Generaliteitslanden (binnenlandse verbalen)",
          "Verbalen en rapporten van bezendingen van de Staten-Generaal aan de provincies en Generaliteitslanden (binnenlandse verbalen)",
          "Verbalen en rapporten van bezendingen van de Staten-Generaal aan de provincies en Generaliteitslanden (binnenlandse verbalen)",
          "Verbalen en rapporten van bezendingen van de Staten-Generaal aan de provincies en Generaliteitslanden (binnenlandse verbalen)",
          "Verbalen en rapporten van bezendingen van de Staten-Generaal aan de provincies en Generaliteitslanden (binnenlandse verbalen)",
          "Verbalen en rapporten van bezendingen van de Staten-Generaal aan de provincies en Generaliteitslanden (binnenlandse verbalen)",
          "Verbalen en rapporten van bezendingen van de Staten-Generaal aan de provincies en Generaliteitslanden (binnenlandse verbalen)",
          "Verbalen en rapporten van bezendingen van de Staten-Generaal aan de provincies en Generaliteitslanden (binnenlandse verbalen)",
          "Verbalen en rapporten van bezendingen van de Staten-Generaal aan de provincies en Generaliteitslanden (binnenlandse verbalen)",
          "Verbalen en rapporten van bezendingen van de Staten-Generaal aan de provincies en Generaliteitslanden (binnenlandse verbalen)",
          "Verbalen en rapporten van bezendingen van de Staten-Generaal aan de provincies en Generaliteitslanden (binnenlandse verbalen)",
          "Verbalen en rapporten van bezendingen van de Staten-Generaal aan de provincies en Generaliteitslanden (binnenlandse verbalen)",
          "Verbalen en rapporten van bezendingen van de Staten-Generaal aan de provincies en Generaliteitslanden (binnenlandse verbalen)",
          "Verbalen en rapporten van bezendingen van de Staten-Generaal aan de provincies en Generaliteitslanden (binnenlandse verbalen)",
          "Verbalen en rapporten van bezendingen van de Staten-Generaal aan de provincies en Generaliteitslanden (binnenlandse verbalen)",
          "Verbalen en rapporten van bezendingen van de Staten-Generaal aan de provincies en Generaliteitslanden (binnenlandse verbalen)",
          "Verbalen en rapporten van bezendingen van de Staten-Generaal aan de provincies en Generaliteitslanden (binnenlandse verbalen)",
          "Verbalen en rapporten van bezendingen van de Staten-Generaal aan de provincies en Generaliteitslanden (binnenlandse verbalen)",
          "Verbalen en rapporten van bezendingen van de Staten-Generaal aan de provincies en Generaliteitslanden (binnenlandse verbalen)",
          "Verbalen en rapporten van bezendingen van de Staten-Generaal aan de provincies en Generaliteitslanden (binnenlandse verbalen)",
          "Verbalen en rapporten van bezendingen van de Staten-Generaal aan de provincies en Generaliteitslanden (binnenlandse verbalen)",
          "Verbalen en rapporten van bezendingen van de Staten-Generaal aan de provincies en Generaliteitslanden (binnenlandse verbalen)",
          "Verbalen en rapporten van bezendingen van de Staten-Generaal aan de provincies en Generaliteitslanden (binnenlandse verbalen)",
          "Verbalen en rapporten van bezendingen van de Staten-Generaal aan de provincies en Generaliteitslanden (binnenlandse verbalen)",
          "Verbalen en rapporten van bezendingen van de Staten-Generaal aan de provincies en Generaliteitslanden (binnenlandse verbalen)",
          "Verbalen en rapporten van bezendingen van de Staten-Generaal aan de provincies en Generaliteitslanden (binnenlandse verbalen)",
          "Verbalen en rapporten van bezendingen van de Staten-Generaal aan de provincies en Generaliteitslanden (binnenlandse verbalen)",
          "Verbalen en rapporten van bezendingen van de Staten-Generaal aan de provincies en Generaliteitslanden (binnenlandse verbalen)",
          "Verbalen en rapporten van bezendingen van de Staten-Generaal aan de provincies en Generaliteitslanden (binnenlandse verbalen)",
          "Verbalen en rapporten van bezendingen van de Staten-Generaal aan de provincies en Generaliteitslanden (binnenlandse verbalen)",
          "Verbalen en rapporten van bezendingen van de Staten-Generaal aan de provincies en Generaliteitslanden (binnenlandse verbalen)",
          "Verbalen en rapporten van bezendingen van de Staten-Generaal aan de provincies en Generaliteitslanden (binnenlandse verbalen)",
          "Verbalen en rapporten van bezendingen van de Staten-Generaal aan de provincies en Generaliteitslanden (binnenlandse verbalen)",
          "Verbalen en rapporten van bezendingen van de Staten-Generaal aan de provincies en Generaliteitslanden (binnenlandse verbalen)",
          "Verbalen en rapporten van bezendingen van de Staten-Generaal aan de provincies en Generaliteitslanden (binnenlandse verbalen)",
          "Verbalen en rapporten van bezendingen van de Staten-Generaal aan de provincies en Generaliteitslanden (binnenlandse verbalen)",
          "Verbalen en rapporten van bezendingen van de Staten-Generaal aan de provincies en Generaliteitslanden (binnenlandse verbalen)",
          "Verbalen en rapporten van bezendingen van de Staten-Generaal aan de provincies en Generaliteitslanden (binnenlandse verbalen)",
          "Verbalen en rapporten van bezendingen van de Staten-Generaal aan de provincies en Generaliteitslanden (binnenlandse verbalen)",
          "Verbalen en rapporten van bezendingen van de Staten-Generaal aan de provincies en Generaliteitslanden (binnenlandse verbalen)",
          "Verbalen en rapporten van bezendingen van de Staten-Generaal aan de provincies en Generaliteitslanden (binnenlandse verbalen)",
          "Verbalen en rapporten van bezendingen van de Staten-Generaal aan de provincies en Generaliteitslanden (binnenlandse verbalen)",
          "Verbalen en rapporten van bezendingen van de Staten-Generaal aan de provincies en Generaliteitslanden (binnenlandse verbalen)",
          "Verbalen en rapporten van bezendingen van de Staten-Generaal aan de provincies en Generaliteitslanden (binnenlandse verbalen)",
          "Verbalen en rapporten van bezendingen van de Staten-Generaal aan de provincies en Generaliteitslanden (binnenlandse verbalen)",
          "Verbalen en rapporten van bezendingen van de Staten-Generaal aan de provincies en Generaliteitslanden (binnenlandse verbalen)",
          "Verbalen en rapporten van bezendingen van de Staten-Generaal aan de provincies en Generaliteitslanden (binnenlandse verbalen)",
          "Verbalen en rapporten van bezendingen van de Staten-Generaal aan de provincies en Generaliteitslanden (binnenlandse verbalen)",
          "Verbalen en rapporten van bezendingen van de Staten-Generaal aan de provincies en Generaliteitslanden (binnenlandse verbalen)",
          "Verbalen en rapporten van bezendingen van de Staten-Generaal aan de provincies en Generaliteitslanden (binnenlandse verbalen)",
          "Verbalen en rapporten van bezendingen van de Staten-Generaal aan de provincies en Generaliteitslanden (binnenlandse verbalen)",
          "Verbalen en rapporten van bezendingen van de Staten-Generaal aan de provincies en Generaliteitslanden (binnenlandse verbalen)",
          "Verbalen en rapporten van bezendingen van de Staten-Generaal aan de provincies en Generaliteitslanden (binnenlandse verbalen)",
          "Verbalen en rapporten van bezendingen van de Staten-Generaal aan de provincies en Generaliteitslanden (binnenlandse verbalen)",
          "Verbalen en rapporten van bezendingen van de Staten-Generaal aan de provincies en Generaliteitslanden (binnenlandse verbalen)",
          "Verbalen en rapporten van bezendingen van de Staten-Generaal aan de provincies en Generaliteitslanden (binnenlandse verbalen)",
          "Verbalen en rapporten van bezendingen van de Staten-Generaal aan de provincies en Generaliteitslanden (binnenlandse verbalen)",
          "Verbalen en rapporten van bezendingen van de Staten-Generaal aan de provincies en Generaliteitslanden (binnenlandse verbalen)",
          "Verbalen en rapporten van bezendingen van de Staten-Generaal aan de provincies en Generaliteitslanden (binnenlandse verbalen)",
          "Verbalen en rapporten van bezendingen van de Staten-Generaal aan de provincies en Generaliteitslanden (binnenlandse verbalen)",
          "Verbalen en rapporten van bezendingen van de Staten-Generaal aan de provincies en Generaliteitslanden (binnenlandse verbalen)",
          "Verbalen en rapporten van bezendingen van de Staten-Generaal aan de provincies en Generaliteitslanden (binnenlandse verbalen)",
          "Verbalen en rapporten van bezendingen van de Staten-Generaal aan de provincies en Generaliteitslanden (binnenlandse verbalen)",
          "Verbalen en rapporten van bezendingen van de Staten-Generaal aan de provincies en Generaliteitslanden (binnenlandse verbalen)",
          "Verbalen en rapporten van bezendingen van de Staten-Generaal aan de provincies en Generaliteitslanden (binnenlandse verbalen)",
          "Verbalen en rapporten van bezendingen van de Staten-Generaal aan de provincies en Generaliteitslanden (binnenlandse verbalen)",
          "Verbalen en rapporten van bezendingen van de Staten-Generaal aan de provincies en Generaliteitslanden (binnenlandse verbalen)",
          "Verbalen en rapporten van bezendingen van de Staten-Generaal aan de provincies en Generaliteitslanden (binnenlandse verbalen)",
          "Verbalen en rapporten van bezendingen van de Staten-Generaal aan de provincies en Generaliteitslanden (binnenlandse verbalen)",
          "Verbalen en rapporten van bezendingen van de Staten-Generaal aan de provincies en Generaliteitslanden (binnenlandse verbalen)",
          "Verbalen en rapporten van bezendingen van de Staten-Generaal aan de provincies en Generaliteitslanden (binnenlandse verbalen)",
          "Verbalen en rapporten van bezendingen van de Staten-Generaal aan de provincies en Generaliteitslanden (binnenlandse verbalen)",
          "Verbalen en rapporten van bezendingen van de Staten-Generaal aan de provincies en Generaliteitslanden (binnenlandse verbalen)",
          "Verbalen en rapporten van bezendingen van de Staten-Generaal aan de provincies en Generaliteitslanden (binnenlandse verbalen)",
          "Verbalen en rapporten van bezendingen van de Staten-Generaal aan de provincies en Generaliteitslanden (binnenlandse verbalen)",
          "Verbalen en rapporten van bezendingen van de Staten-Generaal aan de provincies en Generaliteitslanden (binnenlandse verbalen)",
          "Verbalen en rapporten van bezendingen van de Staten-Generaal aan de provincies en Generaliteitslanden (binnenlandse verbalen)",
          "Verbalen en rapporten van bezendingen van de Staten-Generaal aan de provincies en Generaliteitslanden (binnenlandse verbalen)",
          "Verbalen en rapporten van bezendingen van de Staten-Generaal aan de provincies en Generaliteitslanden (binnenlandse verbalen)",
          "Verbalen en rapporten van bezendingen van de Staten-Generaal aan de provincies en Generaliteitslanden (binnenlandse verbalen)",
          "Verbalen en rapporten van bezendingen van de Staten-Generaal aan de provincies en Generaliteitslanden (binnenlandse verbalen)",
          "Verbalen en rapporten van bezendingen van de Staten-Generaal aan de provincies en Generaliteitslanden (binnenlandse verbalen)",
          "Verbalen en rapporten van bezendingen van de Staten-Generaal aan de provincies en Generaliteitslanden (binnenlandse verbalen)",
          "Verbalen en rapporten van bezendingen van de Staten-Generaal aan de provincies en Generaliteitslanden (binnenlandse verbalen)",
          "Verbalen en rapporten van bezendingen van de Staten-Generaal aan de provincies en Generaliteitslanden (binnenlandse verbalen)",
          "Verbalen en rapporten van bezendingen van de Staten-Generaal aan de provincies en Generaliteitslanden (binnenlandse verbalen)",
          "Verbalen en rapporten van bezendingen van de Staten-Generaal aan de provincies en Generaliteitslanden (binnenlandse verbalen)",
          "Verbalen en rapporten van bezendingen van de Staten-Generaal aan de provincies en Generaliteitslanden (binnenlandse verbalen)",
          "Verbalen en rapporten van bezendingen van de Staten-Generaal aan de provincies en Generaliteitslanden (binnenlandse verbalen)",
          "Verbalen en rapporten van bezendingen van de Staten-Generaal aan de provincies en Generaliteitslanden (binnenlandse verbalen)",
          "Verbalen en rapporten van bezendingen van de Staten-Generaal aan de provincies en Generaliteitslanden (binnenlandse verbalen)",
          "Verbalen en rapporten van bezendingen van de Staten-Generaal aan de provincies en Generaliteitslanden (binnenlandse verbalen)",
          "Verbalen en rapporten van bezendingen van de Staten-Generaal aan de provincies en Generaliteitslanden (binnenlandse verbalen)",
          "Verbalen en rapporten van bezendingen van de Staten-Generaal aan de provincies en Generaliteitslanden (binnenlandse verbalen)",
          "Verbalen en rapporten van bezendingen van de Staten-Generaal aan de provincies en Generaliteitslanden (binnenlandse verbalen)",
          "Verbalen en rapporten van bezendingen van de Staten-Generaal aan de provincies en Generaliteitslanden (binnenlandse verbalen)",
          "Verbalen en rapporten van bezendingen van de Staten-Generaal aan de provincies en Generaliteitslanden (binnenlandse verbalen)",
          "Verbalen en rapporten van bezendingen van de Staten-Generaal aan de provincies en Generaliteitslanden (binnenlandse verbalen)",
          "Verbalen en rapporten van bezendingen van de Staten-Generaal aan de provincies en Generaliteitslanden (binnenlandse verbalen)",
          "Verbalen en rapporten van bezendingen van de Staten-Generaal aan de provincies en Generaliteitslanden (binnenlandse verbalen)",
          "Verbalen en rapporten van bezendingen van de Staten-Generaal aan de provincies en Generaliteitslanden (binnenlandse verbalen)",
          "Verbalen en rapporten van bezendingen van de Staten-Generaal aan de provincies en Generaliteitslanden (binnenlandse verbalen)",
          "Verbalen en rapporten van bezendingen van de Staten-Generaal aan de provincies en Generaliteitslanden (binnenlandse verbalen)",
          "Verbalen en rapporten van bezendingen van de Staten-Generaal aan de provincies en Generaliteitslanden (binnenlandse verbalen)",
          "Verbalen en rapporten van bezendingen van de Staten-Generaal aan de provincies en Generaliteitslanden (binnenlandse verbalen)",
          "Verbalen en rapporten van bezendingen van de Staten-Generaal aan de provincies en Generaliteitslanden (binnenlandse verbalen)",
          "Verbalen en rapporten van bezendingen van de Staten-Generaal aan de provincies en Generaliteitslanden (binnenlandse verbalen)",
          "Verbalen en rapporten van bezendingen van de Staten-Generaal aan de provincies en Generaliteitslanden (binnenlandse verbalen)",
          "Verbalen en rapporten van bezendingen van de Staten-Generaal aan de provincies en Generaliteitslanden (binnenlandse verbalen)",
          "Verbalen en rapporten van bezendingen van de Staten-Generaal aan de provincies en Generaliteitslanden (binnenlandse verbalen)",
          "Verbalen en rapporten van bezendingen van de Staten-Generaal aan de provincies en Generaliteitslanden (binnenlandse verbalen)",
          "Verbalen en rapporten van bezendingen van de Staten-Generaal aan de provincies en Generaliteitslanden (binnenlandse verbalen)",
          "Verbalen en rapporten van bezendingen van de Staten-Generaal aan de provincies en Generaliteitslanden (binnenlandse verbalen)",
          "Verbalen en rapporten van bezendingen van de Staten-Generaal aan de provincies en Generaliteitslanden (binnenlandse verbalen)",
          "Verbalen en rapporten van bezendingen van de Staten-Generaal aan de provincies en Generaliteitslanden (binnenlandse verbalen)",
          "Verbalen en rapporten van bezendingen van de Staten-Generaal aan de provincies en Generaliteitslanden (binnenlandse verbalen)",
          "Verbalen en rapporten van bezendingen van de Staten-Generaal aan de provincies en Generaliteitslanden (binnenlandse verbalen)",
          "Verbalen en rapporten van bezendingen van de Staten-Generaal aan de provincies en Generaliteitslanden (binnenlandse verbalen)",
          "Verbalen en rapporten van bezendingen van de Staten-Generaal aan de provincies en Generaliteitslanden (binnenlandse verbalen)",
          "Verbalen en rapporten van bezendingen van de Staten-Generaal aan de provincies en Generaliteitslanden (binnenlandse verbalen)",
          "Verbalen en rapporten van bezendingen van de Staten-Generaal aan de provincies en Generaliteitslanden (binnenlandse verbalen)",
          "Verbalen en rapporten van bezendingen van de Staten-Generaal aan de provincies en Generaliteitslanden (binnenlandse verbalen)",
          "Verbalen en rapporten van bezendingen van de Staten-Generaal aan de provincies en Generaliteitslanden (binnenlandse verbalen)",
          "Verbalen en rapporten van bezendingen van de Staten-Generaal aan de provincies en Generaliteitslanden (binnenlandse verbalen)",
          "Verbalen en rapporten van bezendingen van de Staten-Generaal aan de provincies en Generaliteitslanden (binnenlandse verbalen)",
          "Verbalen en rapporten van bezendingen van de Staten-Generaal aan de provincies en Generaliteitslanden (binnenlandse verbalen)",
          "Verbalen en rapporten van bezendingen van de Staten-Generaal aan de provincies en Generaliteitslanden (binnenlandse verbalen)",
          "Verbalen en rapporten van bezendingen van de Staten-Generaal aan de provincies en Generaliteitslanden (binnenlandse verbalen)",
          "Verbalen en rapporten van bezendingen van de Staten-Generaal aan de provincies en Generaliteitslanden (binnenlandse verbalen)",
          "Verbalen en rapporten van bezendingen van de Staten-Generaal aan de provincies en Generaliteitslanden (binnenlandse verbalen)",
          "Verbalen en rapporten van bezendingen van de Staten-Generaal aan de provincies en Generaliteitslanden (binnenlandse verbalen)",
          "Verbalen en rapporten van bezendingen van de Staten-Generaal aan de provincies en Generaliteitslanden (binnenlandse verbalen)",
          "Verbalen en rapporten van bezendingen van de Staten-Generaal aan de provincies en Generaliteitslanden (binnenlandse verbalen)",
          "Verbalen en rapporten van bezendingen van de Staten-Generaal aan de provincies en Generaliteitslanden (binnenlandse verbalen)",
          "Verbalen en rapporten van bezendingen van de Staten-Generaal aan de provincies en Generaliteitslanden (binnenlandse verbalen)",
          "Verbalen en rapporten van bezendingen van de Staten-Generaal aan de provincies en Generaliteitslanden (binnenlandse verbalen)",
          "Verbalen en rapporten van bezendingen van de Staten-Generaal aan de provincies en Generaliteitslanden (binnenlandse verbalen)",
          "Verbalen en rapporten van bezendingen van de Staten-Generaal aan de provincies en Generaliteitslanden (binnenlandse verbalen)",
          "Verbalen en rapporten van bezendingen van de Staten-Generaal aan de provincies en Generaliteitslanden (binnenlandse verbalen)",
          "Verbalen en rapporten van bezendingen van de Staten-Generaal aan de provincies en Generaliteitslanden (binnenlandse verbalen)",
          "Verbalen en rapporten van bezendingen van de Staten-Generaal aan de provincies en Generaliteitslanden (binnenlandse verbalen)",
          "Verbalen en rapporten van bezendingen van de Staten-Generaal aan de provincies en Generaliteitslanden (binnenlandse verbalen)",
          "Verbalen en rapporten van bezendingen van de Staten-Generaal aan de provincies en Generaliteitslanden (binnenlandse verbalen)",
          "Verbalen en rapporten van bezendingen van de Staten-Generaal aan de provincies en Generaliteitslanden (binnenlandse verbalen)",
          "Verbalen en rapporten van bezendingen van de Staten-Generaal aan de provincies en Generaliteitslanden (binnenlandse verbalen)",
          "Verbalen en rapporten van bezendingen van de Staten-Generaal aan de provincies en Generaliteitslanden (binnenlandse verbalen)",
          "Verbalen en rapporten van bezendingen van de Staten-Generaal aan de provincies en Generaliteitslanden (binnenlandse verbalen)",
          "Verbalen en rapporten van bezendingen van de Staten-Generaal aan de provincies en Generaliteitslanden (binnenlandse verbalen)",
          "Verbalen en rapporten van bezendingen van de Staten-Generaal aan de provincies en Generaliteitslanden (binnenlandse verbalen)",
          "Verbalen en rapporten van bezendingen van de Staten-Generaal aan de provincies en Generaliteitslanden (binnenlandse verbalen)",
          "Verbalen en rapporten van bezendingen van de Staten-Generaal aan de provincies en Generaliteitslanden (binnenlandse verbalen)",
          "Verbalen en rapporten van bezendingen van de Staten-Generaal aan de provincies en Generaliteitslanden (binnenlandse verbalen)",
          "Verbalen en rapporten van bezendingen van de Staten-Generaal aan de provincies en Generaliteitslanden (binnenlandse verbalen)",
          "Verbalen en rapporten van bezendingen van de Staten-Generaal aan de provincies en Generaliteitslanden (binnenlandse verbalen)",
          "Verbalen en rapporten van bezendingen van de Staten-Generaal aan de provincies en Generaliteitslanden (binnenlandse verbalen)",
          "Verbalen en rapporten van bezendingen van de Staten-Generaal aan de provincies en Generaliteitslanden (binnenlandse verbalen)",
          "Verbalen en rapporten van bezendingen van de Staten-Generaal aan de provincies en Generaliteitslanden (binnenlandse verbalen)",
          "Verbalen en rapporten van bezendingen van de Staten-Generaal aan de provincies en Generaliteitslanden (binnenlandse verbalen)",
          "Verbalen en rapporten van bezendingen van de Staten-Generaal aan de provincies en Generaliteitslanden (binnenlandse verbalen)",
          "Verbalen en rapporten van bezendingen van de Staten-Generaal aan de provincies en Generaliteitslanden (binnenlandse verbalen)",
          "Verbalen en rapporten van bezendingen van de Staten-Generaal aan de provincies en Generaliteitslanden (binnenlandse verbalen)",
          "Verbalen en rapporten van bezendingen van de Staten-Generaal aan de provincies en Generaliteitslanden (binnenlandse verbalen)",
          "Verbalen en rapporten van bezendingen van de Staten-Generaal aan de provincies en Generaliteitslanden (binnenlandse verbalen)",
          "Verbalen en rapporten van bezendingen van de Staten-Generaal aan de provincies en Generaliteitslanden (binnenlandse verbalen)",
          "Verbalen en rapporten van bezendingen van de Staten-Generaal aan de provincies en Generaliteitslanden (binnenlandse verbalen)",
          "Verbalen en rapporten van bezendingen van de Staten-Generaal aan de provincies en Generaliteitslanden (binnenlandse verbalen)",
          "Verbalen en rapporten van bezendingen van de Staten-Generaal aan de provincies en Generaliteitslanden (binnenlandse verbalen)",
          "Verbalen en rapporten van bezendingen van de Staten-Generaal aan de provincies en Generaliteitslanden (binnenlandse verbalen)",
          "Verbalen en rapporten van bezendingen van de Staten-Generaal aan de provincies en Generaliteitslanden (binnenlandse verbalen)",
          "Verbalen en rapporten van bezendingen van de Staten-Generaal aan de provincies en Generaliteitslanden (binnenlandse verbalen)",
          "Verbalen en rapporten van bezendingen van de Staten-Generaal aan de provincies en Generaliteitslanden (binnenlandse verbalen)",
          "Verbalen en rapporten van bezendingen van de Staten-Generaal aan de provincies en Generaliteitslanden (binnenlandse verbalen)",
          "Verbalen en rapporten van bezendingen van de Staten-Generaal aan de provincies en Generaliteitslanden (binnenlandse verbalen)",
          "Verbalen en rapporten van bezendingen van de Staten-Generaal aan de provincies en Generaliteitslanden (binnenlandse verbalen)",
          "Verbalen en rapporten van bezendingen van de Staten-Generaal aan de provincies en Generaliteitslanden (binnenlandse verbalen)",
          "Verbalen en rapporten van bezendingen van de Staten-Generaal aan de provincies en Generaliteitslanden (binnenlandse verbalen)",
          "Verbalen en rapporten van bezendingen van de Staten-Generaal aan de provincies en Generaliteitslanden (binnenlandse verbalen)",
          "Verbalen en rapporten van bezendingen van de Staten-Generaal aan de provincies en Generaliteitslanden (binnenlandse verbalen)",
          "Verbalen en rapporten van bezendingen van de Staten-Generaal aan de provincies en Generaliteitslanden (binnenlandse verbalen)",
          "Verbalen en rapporten van bezendingen van de Staten-Generaal aan de provincies en Generaliteitslanden (binnenlandse verbalen)",
          "Verbalen en rapporten van bezendingen van de Staten-Generaal aan de provincies en Generaliteitslanden (binnenlandse verbalen)",
          "Verbalen en rapporten van bezendingen van de Staten-Generaal aan de provincies en Generaliteitslanden (binnenlandse verbalen)",
          "Verbalen en rapporten van bezendingen van de Staten-Generaal aan de provincies en Generaliteitslanden (binnenlandse verbalen)",
          "Verbalen en rapporten van bezendingen van de Staten-Generaal aan de provincies en Generaliteitslanden (binnenlandse verbalen)",
          "Verbalen en rapporten van bezendingen van de Staten-Generaal aan de provincies en Generaliteitslanden (binnenlandse verbalen)",
          "Verbalen en rapporten van bezendingen van de Staten-Generaal aan de provincies en Generaliteitslanden (binnenlandse verbalen)",
          "Verbalen en rapporten van bezendingen van de Staten-Generaal aan de provincies en Generaliteitslanden (binnenlandse verbalen)",
          "Verbalen en rapporten van bezendingen van de Staten-Generaal aan de provincies en Generaliteitslanden (binnenlandse verbalen)",
          "Verbalen en rapporten van bezendingen van de Staten-Generaal aan de provincies en Generaliteitslanden (binnenlandse verbalen)",
          "Verbalen en rapporten van bezendingen van de Staten-Generaal aan de provincies en Generaliteitslanden (binnenlandse verbalen)",
          "Verbalen en rapporten van bezendingen van de Staten-Generaal aan de provincies en Generaliteitslanden (binnenlandse verbalen)",
          "Verbalen en rapporten van bezendingen van de Staten-Generaal aan de provincies en Generaliteitslanden (binnenlandse verbalen)",
          "Verbalen en rapporten van bezendingen van de Staten-Generaal aan de provincies en Generaliteitslanden (binnenlandse verbalen)",
          "Verbalen en rapporten van bezendingen van de Staten-Generaal aan de provincies en Generaliteitslanden (binnenlandse verbalen)",
          "Verbalen en rapporten van bezendingen van de Staten-Generaal aan de provincies en Generaliteitslanden (binnenlandse verbalen)",
          "Verbalen en rapporten van bezendingen van de Staten-Generaal aan de provincies en Generaliteitslanden (binnenlandse verbalen)",
          "Verbalen en rapporten van bezendingen van de Staten-Generaal aan de provincies en Generaliteitslanden (binnenlandse verbalen)",
          "Verbalen en rapporten van bezendingen van de Staten-Generaal aan de provincies en Generaliteitslanden (binnenlandse verbalen)",
          "Verbalen en rapporten van bezendingen van de Staten-Generaal aan de provincies en Generaliteitslanden (binnenlandse verbalen)",
          "Verbalen en rapporten van bezendingen van de Staten-Generaal aan de provincies en Generaliteitslanden (binnenlandse verbalen)",
          "Verbalen en rapporten van bezendingen van de Staten-Generaal aan de provincies en Generaliteitslanden (binnenlandse verbalen)",
          "Verbalen en rapporten van bezendingen van de Staten-Generaal aan de provincies en Generaliteitslanden (binnenlandse verbalen)",
          "Verbalen en rapporten van bezendingen van de Staten-Generaal aan de provincies en Generaliteitslanden (binnenlandse verbalen)",
          "Verbalen en rapporten van bezendingen van de Staten-Generaal aan de provincies en Generaliteitslanden (binnenlandse verbalen)",
          "Verbalen en rapporten van bezendingen van de Staten-Generaal aan de provincies en Generaliteitslanden (binnenlandse verbalen)",
          "Verbalen en rapporten van bezendingen van de Staten-Generaal aan de provincies en Generaliteitslanden (binnenlandse verbalen)",
          "Verbalen en rapporten van bezendingen van de Staten-Generaal aan de provincies en Generaliteitslanden (binnenlandse verbalen)",
          "Verbalen en rapporten van bezendingen van de Staten-Generaal aan de provincies en Generaliteitslanden (binnenlandse verbalen)",
          "Verbalen en rapporten van bezendingen van de Staten-Generaal aan de provincies en Generaliteitslanden (binnenlandse verbalen)",
          "Verbalen en rapporten van bezendingen van de Staten-Generaal aan de provincies en Generaliteitslanden (binnenlandse verbalen)",
          "Verbalen en rapporten van bezendingen van de Staten-Generaal aan de provincies en Generaliteitslanden (binnenlandse verbalen)",
          "Verbalen en rapporten van bezendingen van de Staten-Generaal aan de provincies en Generaliteitslanden (binnenlandse verbalen)",
          "Verbalen en rapporten van bezendingen van de Staten-Generaal aan de provincies en Generaliteitslanden (binnenlandse verbalen)",
          "Verbalen en rapporten van bezendingen van de Staten-Generaal aan de provincies en Generaliteitslanden (binnenlandse verbalen)",
          "Verbalen en rapporten van bezendingen van de Staten-Generaal aan de provincies en Generaliteitslanden (binnenlandse verbalen)",
          "Verbalen en rapporten van bezendingen van de Staten-Generaal aan de provincies en Generaliteitslanden (binnenlandse verbalen)",
          "Verbalen en rapporten van bezendingen van de Staten-Generaal aan de provincies en Generaliteitslanden (binnenlandse verbalen)",
          "Verbalen en rapporten van bezendingen van de Staten-Generaal aan de provincies en Generaliteitslanden (binnenlandse verbalen)",
          "Verbalen en rapporten van bezendingen van de Staten-Generaal aan de provincies en Generaliteitslanden (binnenlandse verbalen)",
          "Verbalen en rapporten van bezendingen van de Staten-Generaal aan de provincies en Generaliteitslanden (binnenlandse verbalen)",
          "Verbalen en rapporten van bezendingen van de Staten-Generaal aan de provincies en Generaliteitslanden (binnenlandse verbalen)",
          "Verbalen en rapporten van bezendingen van de Staten-Generaal aan de provincies en Generaliteitslanden (binnenlandse verbalen)",
          "Verbalen en rapporten van bezendingen van de Staten-Generaal aan de provincies en Generaliteitslanden (binnenlandse verbalen)",
          "Verbalen en rapporten van bezendingen van de Staten-Generaal aan de provincies en Generaliteitslanden (binnenlandse verbalen)",
          "Verbalen en rapporten van bezendingen van de Staten-Generaal aan de provincies en Generaliteitslanden (binnenlandse verbalen)",
          "Verbalen en rapporten van bezendingen van de Staten-Generaal aan de provincies en Generaliteitslanden (binnenlandse verbalen)",
          "Verbalen en rapporten van bezendingen van de Staten-Generaal aan de provincies en Generaliteitslanden (binnenlandse verbalen)",
          "Verbalen en rapporten van bezendingen van de Staten-Generaal aan de provincies en Generaliteitslanden (binnenlandse verbalen)",
          "Verbalen en rapporten van bezendingen van de Staten-Generaal aan de provincies en Generaliteitslanden (binnenlandse verbalen)",
          "Rapporten en memories van advocaten-fiscaal betreffende zaken van verraad in de Republiek",
          "Verbalen, journalen, memories en rapporten betreffende het beleid van de Admiraliteiten en de krijgsverrichtingen van de Staatse vloot",
          "Verbalen, journalen, memories en rapporten betreffende het beleid van de Admiraliteiten en de krijgsverrichtingen van de Staatse vloot",
          "Verbalen, journalen, memories en rapporten betreffende het beleid van de Admiraliteiten en de krijgsverrichtingen van de Staatse vloot",
          "Verbalen, journalen, memories en rapporten betreffende het beleid van de Admiraliteiten en de krijgsverrichtingen van de Staatse vloot",
          "Verbalen, journalen, memories en rapporten betreffende het beleid van de Admiraliteiten en de krijgsverrichtingen van de Staatse vloot",
          "Verbalen, journalen, memories en rapporten betreffende het beleid van de Admiraliteiten en de krijgsverrichtingen van de Staatse vloot",
          "Verbalen, journalen, memories en rapporten betreffende het beleid van de Admiraliteiten en de krijgsverrichtingen van de Staatse vloot",
          "Verbalen, journalen, memories en rapporten betreffende het beleid van de Admiraliteiten en de krijgsverrichtingen van de Staatse vloot",
          "Verbalen, journalen, memories en rapporten betreffende het beleid van de Admiraliteiten en de krijgsverrichtingen van de Staatse vloot",
          "Verbalen, journalen, memories en rapporten betreffende het beleid van de Admiraliteiten en de krijgsverrichtingen van de Staatse vloot",
          "Verbalen, journalen, memories en rapporten betreffende het beleid van de Admiraliteiten en de krijgsverrichtingen van de Staatse vloot",
          "Verbalen, journalen, memories en rapporten betreffende het beleid van de Admiraliteiten en de krijgsverrichtingen van de Staatse vloot",
          "Verbalen, journalen, memories en rapporten betreffende het beleid van de Admiraliteiten en de krijgsverrichtingen van de Staatse vloot",
          "Verbalen, journalen, memories en rapporten betreffende het beleid van de Admiraliteiten en de krijgsverrichtingen van de Staatse vloot",
          "Verbalen, journalen, memories en rapporten betreffende het beleid van de Admiraliteiten en de krijgsverrichtingen van de Staatse vloot",
          "Verbalen, journalen, memories en rapporten betreffende het beleid van de Admiraliteiten en de krijgsverrichtingen van de Staatse vloot",
          "Verbalen, journalen, memories en rapporten betreffende het beleid van de Admiraliteiten en de krijgsverrichtingen van de Staatse vloot",
          "Verbalen, journalen, memories en rapporten betreffende het beleid van de Admiraliteiten en de krijgsverrichtingen van de Staatse vloot",
          "Verbalen, journalen, memories en rapporten betreffende het beleid van de Admiraliteiten en de krijgsverrichtingen van de Staatse vloot",
          "Verbalen, journalen, memories en rapporten betreffende het beleid van de Admiraliteiten en de krijgsverrichtingen van de Staatse vloot",
          "Verbalen, journalen, memories en rapporten betreffende het beleid van de Admiraliteiten en de krijgsverrichtingen van de Staatse vloot",
          "Verbalen, journalen, memories en rapporten betreffende het beleid van de Admiraliteiten en de krijgsverrichtingen van de Staatse vloot",
          "Verbalen, journalen, memories en rapporten betreffende het beleid van de Admiraliteiten en de krijgsverrichtingen van de Staatse vloot",
          "Verbalen, journalen, memories en rapporten betreffende het beleid van de Admiraliteiten en de krijgsverrichtingen van de Staatse vloot",
          "Verbalen, journalen, memories en rapporten betreffende het beleid van de Admiraliteiten en de krijgsverrichtingen van de Staatse vloot",
          "Verbalen, journalen, memories en rapporten betreffende het beleid van de Admiraliteiten en de krijgsverrichtingen van de Staatse vloot",
          "Verbalen, journalen, memories en rapporten betreffende het beleid van de Admiraliteiten en de krijgsverrichtingen van de Staatse vloot",
          "Verbalen, journalen, memories en rapporten betreffende het beleid van de Admiraliteiten en de krijgsverrichtingen van de Staatse vloot",
          "Verbalen, journalen, memories en rapporten betreffende het beleid van de Admiraliteiten en de krijgsverrichtingen van de Staatse vloot",
          "Verbalen, journalen, memories en rapporten betreffende het beleid van de Admiraliteiten en de krijgsverrichtingen van de Staatse vloot",
          "Verbalen, journalen, memories en rapporten betreffende het beleid van de Admiraliteiten en de krijgsverrichtingen van de Staatse vloot",
          "Verbalen, journalen, memories en rapporten betreffende het beleid van de Admiraliteiten en de krijgsverrichtingen van de Staatse vloot",
          "Verbalen, journalen, memories en rapporten betreffende het beleid van de Admiraliteiten en de krijgsverrichtingen van de Staatse vloot",
          "Verbalen, journalen, memories en rapporten betreffende het beleid van de Admiraliteiten en de krijgsverrichtingen van de Staatse vloot",
          "Verbalen, journalen, memories en rapporten betreffende het beleid van de Admiraliteiten en de krijgsverrichtingen van de Staatse vloot",
          "Verbalen, journalen, memories en rapporten betreffende het beleid van de Admiraliteiten en de krijgsverrichtingen van de Staatse vloot",
          "Verbalen, journalen, memories en rapporten betreffende het beleid van de Admiraliteiten en de krijgsverrichtingen van de Staatse vloot",
          "Verbalen, journalen, memories en rapporten betreffende het beleid van de Admiraliteiten en de krijgsverrichtingen van de Staatse vloot",
          "Verbalen, journalen, memories en rapporten betreffende het beleid van de Admiraliteiten en de krijgsverrichtingen van de Staatse vloot",
          "Verbalen, journalen, memories en rapporten betreffende het beleid van de Admiraliteiten en de krijgsverrichtingen van de Staatse vloot",
          "Verbalen, journalen, memories en rapporten betreffende het beleid van de Admiraliteiten en de krijgsverrichtingen van de Staatse vloot",
          "Verbalen, journalen, memories en rapporten betreffende het beleid van de Admiraliteiten en de krijgsverrichtingen van de Staatse vloot",
          "Verbalen, journalen, memories en rapporten betreffende het beleid van de Admiraliteiten en de krijgsverrichtingen van de Staatse vloot",
          "Verbalen, journalen, memories en rapporten betreffende het beleid van de Admiraliteiten en de krijgsverrichtingen van de Staatse vloot",
          "Verbalen, journalen, memories en rapporten betreffende het beleid van de Admiraliteiten en de krijgsverrichtingen van de Staatse vloot",
          "Verbalen, journalen, memories en rapporten betreffende het beleid van de Admiraliteiten en de krijgsverrichtingen van de Staatse vloot",
          "Verbalen, journalen, memories en rapporten betreffende het beleid van de Admiraliteiten en de krijgsverrichtingen van de Staatse vloot",
          "Verbalen, journalen, memories en rapporten betreffende het beleid van de Admiraliteiten en de krijgsverrichtingen van de Staatse vloot",
          "Verbalen, journalen, memories en rapporten betreffende het beleid van de Admiraliteiten en de krijgsverrichtingen van de Staatse vloot",
          "Verbalen, journalen, memories en rapporten betreffende het beleid van de Admiraliteiten en de krijgsverrichtingen van de Staatse vloot",
          "Verbalen, journalen, memories en rapporten betreffende het beleid van de Admiraliteiten en de krijgsverrichtingen van de Staatse vloot",
          "Verbalen, journalen, memories en rapporten betreffende het beleid van de Admiraliteiten en de krijgsverrichtingen van de Staatse vloot",
          "Verbalen, journalen, memories en rapporten betreffende het beleid van de Admiraliteiten en de krijgsverrichtingen van de Staatse vloot",
          "Verbalen, journalen, memories en rapporten betreffende het beleid van de Admiraliteiten en de krijgsverrichtingen van de Staatse vloot",
          "Verbalen, journalen, memories en rapporten betreffende het beleid van de Admiraliteiten en de krijgsverrichtingen van de Staatse vloot",
          "Verbalen, journalen, memories en rapporten betreffende het beleid van de Admiraliteiten en de krijgsverrichtingen van de Staatse vloot",
          "Verbalen, journalen, memories en rapporten betreffende het beleid van de Admiraliteiten en de krijgsverrichtingen van de Staatse vloot",
          "Verbalen, journalen, memories en rapporten betreffende het beleid van de Admiraliteiten en de krijgsverrichtingen van de Staatse vloot",
          "Verbalen, journalen, memories en rapporten betreffende het beleid van de Admiraliteiten en de krijgsverrichtingen van de Staatse vloot",
          "Verbalen, journalen, memories en rapporten betreffende het beleid van de Admiraliteiten en de krijgsverrichtingen van de Staatse vloot",
          "Verbalen, journalen, memories en rapporten betreffende het beleid van de Admiraliteiten en de krijgsverrichtingen van de Staatse vloot",
          "Verbalen, journalen, memories en rapporten betreffende het beleid van de Admiraliteiten en de krijgsverrichtingen van de Staatse vloot",
          "Verbalen, journalen, memories en rapporten betreffende het beleid van de Admiraliteiten en de krijgsverrichtingen van de Staatse vloot",
          "Verbalen, journalen, memories en rapporten betreffende het beleid van de Admiraliteiten en de krijgsverrichtingen van de Staatse vloot",
          "Verbalen, journalen, memories en rapporten betreffende het beleid van de Admiraliteiten en de krijgsverrichtingen van de Staatse vloot",
          "Verbalen, journalen, memories en rapporten betreffende het beleid van de Admiraliteiten en de krijgsverrichtingen van de Staatse vloot",
          "Verbalen, journalen, memories en rapporten betreffende het beleid van de Admiraliteiten en de krijgsverrichtingen van de Staatse vloot",
          "Verbalen, journalen, memories en rapporten betreffende het beleid van de Admiraliteiten en de krijgsverrichtingen van de Staatse vloot",
          "Verbalen, journalen, memories en rapporten betreffende het beleid van de Admiraliteiten en de krijgsverrichtingen van de Staatse vloot",
          "Verbalen, journalen, memories en rapporten betreffende het beleid van de Admiraliteiten en de krijgsverrichtingen van de Staatse vloot",
          "Verbalen, journalen, memories en rapporten betreffende het beleid van de Admiraliteiten en de krijgsverrichtingen van de Staatse vloot",
          "Verbalen, journalen, memories en rapporten betreffende het beleid van de Admiraliteiten en de krijgsverrichtingen van de Staatse vloot",
          "Verbalen, journalen, memories en rapporten betreffende het beleid van de Admiraliteiten en de krijgsverrichtingen van de Staatse vloot",
          "Verbalen, journalen, memories en rapporten betreffende het beleid van de Admiraliteiten en de krijgsverrichtingen van de Staatse vloot",
          "Verbalen, journalen, memories en rapporten betreffende het beleid van de Admiraliteiten en de krijgsverrichtingen van de Staatse vloot",
          "Verbalen, journalen, memories en rapporten betreffende het beleid van de Admiraliteiten en de krijgsverrichtingen van de Staatse vloot",
          "Verbalen, journalen, memories en rapporten betreffende het beleid van de Admiraliteiten en de krijgsverrichtingen van de Staatse vloot",
          "Verbalen, journalen, memories en rapporten betreffende het beleid van de Admiraliteiten en de krijgsverrichtingen van de Staatse vloot",
          "Verbalen, journalen, memories en rapporten betreffende het beleid van de Admiraliteiten en de krijgsverrichtingen van de Staatse vloot",
          "Verbalen, journalen, memories en rapporten betreffende het beleid van de Admiraliteiten en de krijgsverrichtingen van de Staatse vloot",
          "Verbalen, journalen, memories en rapporten betreffende het beleid van de Admiraliteiten en de krijgsverrichtingen van de Staatse vloot",
          "Verbalen, journalen, memories en rapporten betreffende het beleid van de Admiraliteiten en de krijgsverrichtingen van de Staatse vloot",
          "Verbalen, journalen, memories en rapporten betreffende het beleid van de Admiraliteiten en de krijgsverrichtingen van de Staatse vloot",
          "Verbalen, journalen, memories en rapporten betreffende het beleid van de Admiraliteiten en de krijgsverrichtingen van de Staatse vloot",
          "Verbalen, journalen, memories en rapporten betreffende het beleid van de Admiraliteiten en de krijgsverrichtingen van de Staatse vloot",
          "Verbalen, journalen, memories en rapporten betreffende het beleid van de Admiraliteiten en de krijgsverrichtingen van de Staatse vloot",
          "Verbalen, journalen, memories en rapporten betreffende het beleid van de Admiraliteiten en de krijgsverrichtingen van de Staatse vloot",
          "Verbalen, journalen, memories en rapporten betreffende het beleid van de Admiraliteiten en de krijgsverrichtingen van de Staatse vloot",
          "Verbalen, journalen, memories en rapporten betreffende het beleid van de Admiraliteiten en de krijgsverrichtingen van de Staatse vloot",
          "Verbalen, journalen, memories en rapporten betreffende het beleid van de Admiraliteiten en de krijgsverrichtingen van de Staatse vloot",
          "Verbalen, journalen, memories en rapporten betreffende het beleid van de Admiraliteiten en de krijgsverrichtingen van de Staatse vloot",
          "Verbalen, journalen, memories en rapporten betreffende het beleid van de Admiraliteiten en de krijgsverrichtingen van de Staatse vloot",
          "Verbalen, journalen, memories en rapporten betreffende het beleid van de Admiraliteiten en de krijgsverrichtingen van de Staatse vloot",
          "Verbalen, journalen, memories en rapporten betreffende het beleid van de Admiraliteiten en de krijgsverrichtingen van de Staatse vloot",
          "Verbalen, journalen, memories en rapporten betreffende het beleid van de Admiraliteiten en de krijgsverrichtingen van de Staatse vloot",
          "Verbalen, journalen, memories en rapporten betreffende het beleid van de Admiraliteiten en de krijgsverrichtingen van de Staatse vloot",
          "Verbalen, journalen, memories en rapporten betreffende het beleid van de Admiraliteiten en de krijgsverrichtingen van de Staatse vloot",
          "Verbalen, journalen, memories en rapporten betreffende het beleid van de Admiraliteiten en de krijgsverrichtingen van de Staatse vloot",
          "Verbalen, journalen, memories en rapporten betreffende het beleid van de Admiraliteiten en de krijgsverrichtingen van de Staatse vloot",
          "Verbalen, journalen, memories en rapporten betreffende het beleid van de Admiraliteiten en de krijgsverrichtingen van de Staatse vloot",
          "Verbalen, journalen, memories en rapporten betreffende het beleid van de Admiraliteiten en de krijgsverrichtingen van de Staatse vloot",
          "Verbalen, journalen, memories en rapporten betreffende het beleid van de Admiraliteiten en de krijgsverrichtingen van de Staatse vloot",
          "Verbalen, journalen, memories en rapporten betreffende het beleid van de Admiraliteiten en de krijgsverrichtingen van de Staatse vloot",
          "Verbalen, journalen, memories en rapporten betreffende het beleid van de Admiraliteiten en de krijgsverrichtingen van de Staatse vloot",
          "Verbalen, journalen, memories en rapporten betreffende het beleid van de Admiraliteiten en de krijgsverrichtingen van de Staatse vloot",
          "Verbalen, journalen, memories en rapporten betreffende het beleid van de Admiraliteiten en de krijgsverrichtingen van de Staatse vloot",
          "Verbalen, journalen, memories en rapporten betreffende het beleid van de Admiraliteiten en de krijgsverrichtingen van de Staatse vloot",
          "Verbalen, journalen, memories en rapporten betreffende het beleid van de Admiraliteiten en de krijgsverrichtingen van de Staatse vloot",
          "Verbalen, journalen, memories en rapporten betreffende het beleid van de Admiraliteiten en de krijgsverrichtingen van de Staatse vloot",
          "Verbalen, journalen, memories en rapporten betreffende het beleid van de Admiraliteiten en de krijgsverrichtingen van de Staatse vloot",
          "Verbalen, journalen, memories en rapporten betreffende het beleid van de Admiraliteiten en de krijgsverrichtingen van de Staatse vloot",
          "Verbalen, journalen, memories en rapporten betreffende het beleid van de Admiraliteiten en de krijgsverrichtingen van de Staatse vloot",
          "Verbalen, journalen, memories en rapporten betreffende het beleid van de Admiraliteiten en de krijgsverrichtingen van de Staatse vloot",
          "Verbalen, journalen, memories en rapporten betreffende het beleid van de Admiraliteiten en de krijgsverrichtingen van de Staatse vloot",
          "Verbalen, journalen, memories en rapporten betreffende het beleid van de Admiraliteiten en de krijgsverrichtingen van de Staatse vloot",
          "Verbalen, journalen, memories en rapporten betreffende het beleid van de Admiraliteiten en de krijgsverrichtingen van de Staatse vloot",
          "Verbalen, journalen, memories en rapporten betreffende het beleid van de Admiraliteiten en de krijgsverrichtingen van de Staatse vloot",
          "Verbalen, journalen, memories en rapporten betreffende het beleid van de Admiraliteiten en de krijgsverrichtingen van de Staatse vloot",
          "Verbalen, journalen, memories en rapporten betreffende het beleid van de Admiraliteiten en de krijgsverrichtingen van de Staatse vloot",
          "Verbalen, journalen, memories en rapporten betreffende het beleid van de Admiraliteiten en de krijgsverrichtingen van de Staatse vloot",
          "Verbalen, journalen, memories en rapporten betreffende het beleid van de Admiraliteiten en de krijgsverrichtingen van de Staatse vloot",
          "Verbalen, journalen, memories en rapporten betreffende het beleid van de Admiraliteiten en de krijgsverrichtingen van de Staatse vloot",
          "Verbalen, journalen, memories en rapporten betreffende het beleid van de Admiraliteiten en de krijgsverrichtingen van de Staatse vloot",
          "Verbalen, journalen, memories en rapporten betreffende het beleid van de Admiraliteiten en de krijgsverrichtingen van de Staatse vloot",
          "Verbalen, journalen, memories en rapporten betreffende het beleid van de Admiraliteiten en de krijgsverrichtingen van de Staatse vloot",
          "Verbalen, journalen, memories en rapporten betreffende het beleid van de Admiraliteiten en de krijgsverrichtingen van de Staatse vloot",
          "Verbalen, journalen, memories en rapporten betreffende het beleid van de Admiraliteiten en de krijgsverrichtingen van de Staatse vloot",
          "Verbalen, journalen, memories en rapporten betreffende het beleid van de Admiraliteiten en de krijgsverrichtingen van de Staatse vloot",
          "Verbalen, journalen, memories en rapporten betreffende het beleid van de Admiraliteiten en de krijgsverrichtingen van de Staatse vloot",
          "Verbalen, journalen, memories en rapporten betreffende het beleid van de Admiraliteiten en de krijgsverrichtingen van de Staatse vloot",
          "Verbalen, journalen, memories en rapporten betreffende het beleid van de Admiraliteiten en de krijgsverrichtingen van de Staatse vloot",
          "Verbalen, journalen, memories en rapporten betreffende het beleid van de Admiraliteiten en de krijgsverrichtingen van de Staatse vloot",
          "Verbalen, journalen, memories en rapporten betreffende het beleid van de Admiraliteiten en de krijgsverrichtingen van de Staatse vloot",
          "Verbalen, journalen, memories en rapporten betreffende het beleid van de Admiraliteiten en de krijgsverrichtingen van de Staatse vloot",
          "Verbalen, journalen, memories en rapporten betreffende het beleid van de Admiraliteiten en de krijgsverrichtingen van de Staatse vloot",
          "Verbalen, journalen, memories en rapporten betreffende het beleid van de Admiraliteiten en de krijgsverrichtingen van de Staatse vloot",
          "Verbalen, journalen, memories en rapporten betreffende het beleid van de Admiraliteiten en de krijgsverrichtingen van de Staatse vloot",
          "Verbalen, journalen, memories en rapporten betreffende het beleid van de Admiraliteiten en de krijgsverrichtingen van de Staatse vloot",
          "Verbalen, journalen, memories en rapporten betreffende het beleid van de Admiraliteiten en de krijgsverrichtingen van de Staatse vloot",
          "Verbalen, journalen, memories en rapporten betreffende het beleid van de Admiraliteiten en de krijgsverrichtingen van de Staatse vloot",
          "Verbalen, journalen, memories en rapporten betreffende het beleid van de Admiraliteiten en de krijgsverrichtingen van de Staatse vloot",
          "Verbalen, journalen, memories en rapporten betreffende het beleid van de Admiraliteiten en de krijgsverrichtingen van de Staatse vloot",
          "Verbalen, journalen, memories en rapporten betreffende het beleid van de Admiraliteiten en de krijgsverrichtingen van de Staatse vloot",
          "Verbalen, journalen, memories en rapporten betreffende het beleid van de Admiraliteiten en de krijgsverrichtingen van de Staatse vloot",
          "Verbalen, journalen, memories en rapporten betreffende het beleid van de Admiraliteiten en de krijgsverrichtingen van de Staatse vloot",
          "Verbalen, journalen, memories en rapporten betreffende het beleid van de Admiraliteiten en de krijgsverrichtingen van de Staatse vloot",
          "Verbalen, journalen, memories en rapporten betreffende het beleid van de Admiraliteiten en de krijgsverrichtingen van de Staatse vloot",
          "Verbalen, journalen, memories en rapporten betreffende het beleid van de Admiraliteiten en de krijgsverrichtingen van de Staatse vloot",
          "Verbalen, journalen, memories en rapporten betreffende het beleid van de Admiraliteiten en de krijgsverrichtingen van de Staatse vloot",
          "Verbalen, journalen, memories en rapporten betreffende het beleid van de Admiraliteiten en de krijgsverrichtingen van de Staatse vloot",
          "Verbalen, journalen, memories en rapporten betreffende het beleid van de Admiraliteiten en de krijgsverrichtingen van de Staatse vloot",
          "Verbalen, journalen, memories en rapporten betreffende het beleid van de Admiraliteiten en de krijgsverrichtingen van de Staatse vloot",
          "Verbalen, journalen, memories en rapporten betreffende het beleid van de Admiraliteiten en de krijgsverrichtingen van de Staatse vloot",
          "Verbalen, journalen, memories en rapporten betreffende het beleid van de Admiraliteiten en de krijgsverrichtingen van de Staatse vloot",
          "Verbalen, journalen, memories en rapporten betreffende het beleid van de Admiraliteiten en de krijgsverrichtingen van de Staatse vloot",
          "Verbalen, journalen, memories en rapporten betreffende het beleid van de Admiraliteiten en de krijgsverrichtingen van de Staatse vloot",
          "Verbalen, journalen, memories en rapporten betreffende het beleid van de Admiraliteiten en de krijgsverrichtingen van de Staatse vloot",
          "Verbalen, journalen, memories en rapporten betreffende het beleid van de Admiraliteiten en de krijgsverrichtingen van de Staatse vloot",
          "Verbalen, journalen, memories en rapporten betreffende het beleid van de Admiraliteiten en de krijgsverrichtingen van de Staatse vloot",
          "Verbalen, journalen, memories en rapporten betreffende het beleid van de Admiraliteiten en de krijgsverrichtingen van de Staatse vloot",
          "Verbalen, journalen, memories en rapporten betreffende het beleid van de Admiraliteiten en de krijgsverrichtingen van de Staatse vloot",
          "Verbalen, journalen, memories en rapporten betreffende het beleid van de Admiraliteiten en de krijgsverrichtingen van de Staatse vloot",
          "Verbalen, journalen, memories en rapporten betreffende het beleid van de Admiraliteiten en de krijgsverrichtingen van de Staatse vloot",
          "Verbalen, journalen, memories en rapporten betreffende het beleid van de Admiraliteiten en de krijgsverrichtingen van de Staatse vloot",
          "Verbalen, journalen, memories en rapporten betreffende het beleid van de Admiraliteiten en de krijgsverrichtingen van de Staatse vloot",
          "Verbalen, journalen, memories en rapporten betreffende het beleid van de Admiraliteiten en de krijgsverrichtingen van de Staatse vloot",
          "Verbalen, journalen, memories en rapporten betreffende het beleid van de Admiraliteiten en de krijgsverrichtingen van de Staatse vloot",
          "Verbalen, rapporten, memories en andere ingekomen stukken betreffende het beleid van de West-Indische Compagnie",
          "Verbalen, rapporten, memories en andere ingekomen stukken betreffende het beleid van de West-Indische Compagnie",
          "Verbalen, rapporten en andere ingekomen stukken betreffende het beleid van de Oost-Indische Compagnie",
          "Verbalen, rapporten en memories van de commissies van de Staten-Generaal betreffende het Defensie- en Financiewezen van de Staat",
          "Verbalen, rapporten en memories van de commissies van de Staten-Generaal betreffende het Defensie- en Financiewezen van de Staat",
          "Verbalen, rapporten en memories van de commissies van de Staten-Generaal betreffende het Defensie- en Financiewezen van de Staat",
          "Processtukken van de Staten-Generaal",
          "Processtukken van de Staten-Generaal",
          "Processtukken van de Staten-Generaal",
          "Processtukken van de Staten-Generaal",
          "Processtukken van de Staten-Generaal",
          "Processtukken van de Staten-Generaal",
          "Processtukken van de Staten-Generaal",
          "Processtukken van de Staten-Generaal",
          "Processtukken van de Staten-Generaal",
          "Processtukken van de Staten-Generaal",
          "Processtukken van de Staten-Generaal",
          "Processtukken van de Staten-Generaal",
          "Processtukken van de Staten-Generaal",
          "Processtukken van de Staten-Generaal",
          "Processtukken van de Staten-Generaal",
          "Processtukken van de Staten-Generaal",
          "Processtukken van de Staten-Generaal",
          "Processtukken van de Staten-Generaal",
          "Processtukken van de Staten-Generaal",
          "Processtukken van de Staten-Generaal",
          "Processtukken van de Staten-Generaal",
          "Processtukken van de Staten-Generaal",
          "Processtukken van de Staten-Generaal",
          "Processtukken van de Staten-Generaal",
          "Processtukken van de Staten-Generaal",
          "Processtukken van de Staten-Generaal",
          "Processtukken van de Staten-Generaal",
          "Processtukken van de Staten-Generaal",
          "Processtukken van de Staten-Generaal",
          "Processtukken van de Staten-Generaal",
          "Processtukken van de Staten-Generaal",
          "Processtukken van de Staten-Generaal",
          "Processtukken van de Staten-Generaal",
          "Processtukken van de Staten-Generaal",
          "Processtukken van de Staten-Generaal",
          "Processtukken van de Staten-Generaal",
          "Processtukken van de Staten-Generaal",
          "Processtukken van de Staten-Generaal",
          "Processtukken van de Staten-Generaal",
          "Processtukken van de Staten-Generaal",
          "Processtukken van de Staten-Generaal",
          "Processtukken van de Staten-Generaal",
          "Processtukken van de Staten-Generaal",
          "Processtukken van de Staten-Generaal",
          "Processtukken van de Staten-Generaal",
          "Processtukken van de Staten-Generaal",
          "Processtukken van de Staten-Generaal",
          "Processtukken van de Staten-Generaal",
          "Processtukken van de Staten-Generaal",
          "Processtukken van de Staten-Generaal",
          "Processtukken van de Staten-Generaal",
          "Processtukken van de Staten-Generaal",
          "Processtukken van de Staten-Generaal",
          "Processtukken van de Staten-Generaal",
          "Processtukken van de Staten-Generaal",
          "Processtukken van de Staten-Generaal",
          "Processtukken van de Staten-Generaal",
          "Processtukken van de Staten-Generaal",
          "Processtukken van de Staten-Generaal",
          "Processtukken van de Staten-Generaal",
          "Processtukken van de Staten-Generaal",
          "Processtukken van de Staten-Generaal",
          "Processtukken van de Staten-Generaal",
          "Processtukken van de Staten-Generaal",
          "Processtukken van de Staten-Generaal",
          "Processtukken van de Staten-Generaal",
          "Processtukken van de Staten-Generaal",
          "Processtukken van de Staten-Generaal",
          "Processtukken van de Staten-Generaal",
          "Processtukken van de Staten-Generaal",
          "Processtukken van de Staten-Generaal",
          "Processtukken van de Staten-Generaal",
          "Processtukken van de Staten-Generaal",
          "Processtukken van de Staten-Generaal",
          "Processtukken van de Staten-Generaal",
          "Processtukken van de Staten-Generaal",
          "Processtukken van de Staten-Generaal",
          "Processtukken van de Staten-Generaal",
          "Processtukken van de Staten-Generaal",
          "Processtukken van de Staten-Generaal",
          "Processtukken van de Staten-Generaal",
          "Processtukken van de Staten-Generaal",
          "Processtukken van de Staten-Generaal",
          "Processtukken van de Staten-Generaal",
          "Processtukken van de Staten-Generaal",
          "Processtukken van de Staten-Generaal",
          "Processtukken van de Staten-Generaal",
          "Processtukken van de Staten-Generaal",
          "Processtukken van de Staten-Generaal",
          "Processtukken van de Staten-Generaal",
          "Processtukken van de Staten-Generaal",
          "Processtukken van de Staten-Generaal",
          "Processtukken van de Staten-Generaal",
          "Processtukken van de Staten-Generaal",
          "Processtukken van de Staten-Generaal",
          "Processtukken van de Staten-Generaal",
          "Processtukken van de Staten-Generaal",
          "Processtukken van de Staten-Generaal",
          "Processtukken van de Staten-Generaal",
          "Processtukken van de Staten-Generaal",
          "Processtukken van de Staten-Generaal",
          "Processtukken van de Staten-Generaal",
          "Processtukken van de Staten-Generaal",
          "Processtukken van de Staten-Generaal",
          "Processtukken van de Staten-Generaal",
          "Processtukken van de Staten-Generaal",
          "Processtukken van de Staten-Generaal",
          "Processtukken van de Staten-Generaal",
          "Processtukken van de Staten-Generaal",
          "Processtukken van de Staten-Generaal",
          "Processtukken van de Staten-Generaal",
          "Processtukken van de Staten-Generaal",
          "Processtukken van de Staten-Generaal",
          "Processtukken van de Staten-Generaal",
          "Processtukken van de Staten-Generaal",
          "Processtukken van de Staten-Generaal",
          "Processtukken van de Staten-Generaal",
          "Processtukken van de Staten-Generaal",
          "Processtukken van de Staten-Generaal",
          "Processtukken van de Staten-Generaal",
          "Processtukken van de Staten-Generaal",
          "Processtukken van de Staten-Generaal",
          "Processtukken van de Staten-Generaal",
          "Processtukken van de Staten-Generaal",
          "Processtukken van de Staten-Generaal",
          "Processtukken van de Staten-Generaal",
          "Processtukken van de Staten-Generaal",
          "Processtukken van de Staten-Generaal",
          "Processtukken van de Staten-Generaal",
          "Processtukken van de Staten-Generaal",
          "Processtukken van de Staten-Generaal",
          "Processtukken van de Staten-Generaal",
          "Processtukken van de Staten-Generaal",
          "Processtukken van de Staten-Generaal",
          "Processtukken van de Staten-Generaal",
          "Rekeningen ingeleverd bij de Staten-Generaal",
          "Rekeningen ingeleverd bij de Staten-Generaal",
          "Rekeningen ingeleverd bij de Staten-Generaal",
          "Rekeningen ingeleverd bij de Staten-Generaal",
          "Rekeningen ingeleverd bij de Staten-Generaal",
          "Rekeningen ingeleverd bij de Staten-Generaal",
          "Rekeningen ingeleverd bij de Staten-Generaal",
          "Rekeningen ingeleverd bij de Staten-Generaal",
          "Rekeningen ingeleverd bij de Staten-Generaal",
          "Rekeningen ingeleverd bij de Staten-Generaal",
          "Rekeningen ingeleverd bij de Staten-Generaal",
          "Rekeningen ingeleverd bij de Staten-Generaal",
          "Rekeningen ingeleverd bij de Staten-Generaal",
          "Rekeningen ingeleverd bij de Staten-Generaal",
          "Rekeningen ingeleverd bij de Staten-Generaal",
          "Rekeningen ingeleverd bij de Staten-Generaal",
          "Rekeningen ingeleverd bij de Staten-Generaal",
          "Rekeningen ingeleverd bij de Staten-Generaal",
          "Rekeningen ingeleverd bij de Staten-Generaal",
          "Rekeningen ingeleverd bij de Staten-Generaal",
          "Rekeningen ingeleverd bij de Staten-Generaal",
          "Rekeningen ingeleverd bij de Staten-Generaal",
          "Rekeningen ingeleverd bij de Staten-Generaal",
          "Rekeningen ingeleverd bij de Staten-Generaal",
          "Rekeningen ingeleverd bij de Staten-Generaal",
          "Rekeningen ingeleverd bij de Staten-Generaal",
          "Rekeningen ingeleverd bij de Staten-Generaal",
          "Rekeningen ingeleverd bij de Staten-Generaal",
          "Rekeningen ingeleverd bij de Staten-Generaal",
          "Rekeningen ingeleverd bij de Staten-Generaal",
          "Rekeningen ingeleverd bij de Staten-Generaal",
          "",
          "",
          "",
          "",
          "",
          "",
          "",
          "",
          "",
          "",
          "",
          "",
          ""
         ],
         "type": "sunburst",
         "values": {
          "bdata": "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",
          "dtype": "f8"
         }
        }
       ],
       "layout": {
        "legend": {
         "tracegroupgap": 0
        },
        "margin": {
         "b": 25,
         "l": 25,
         "r": 25,
         "t": 50
        },
        "template": {
         "data": {
          "bar": [
           {
            "error_x": {
             "color": "#2a3f5f"
            },
            "error_y": {
             "color": "#2a3f5f"
            },
            "marker": {
             "line": {
              "color": "#E5ECF6",
              "width": 0.5
             },
             "pattern": {
              "fillmode": "overlay",
              "size": 10,
              "solidity": 0.2
             }
            },
            "type": "bar"
           }
          ],
          "barpolar": [
           {
            "marker": {
             "line": {
              "color": "#E5ECF6",
              "width": 0.5
             },
             "pattern": {
              "fillmode": "overlay",
              "size": 10,
              "solidity": 0.2
             }
            },
            "type": "barpolar"
           }
          ],
          "carpet": [
           {
            "aaxis": {
             "endlinecolor": "#2a3f5f",
             "gridcolor": "white",
             "linecolor": "white",
             "minorgridcolor": "white",
             "startlinecolor": "#2a3f5f"
            },
            "baxis": {
             "endlinecolor": "#2a3f5f",
             "gridcolor": "white",
             "linecolor": "white",
             "minorgridcolor": "white",
             "startlinecolor": "#2a3f5f"
            },
            "type": "carpet"
           }
          ],
          "choropleth": [
           {
            "colorbar": {
             "outlinewidth": 0,
             "ticks": ""
            },
            "type": "choropleth"
           }
          ],
          "contour": [
           {
            "colorbar": {
             "outlinewidth": 0,
             "ticks": ""
            },
            "colorscale": [
             [
              0,
              "#0d0887"
             ],
             [
              0.1111111111111111,
              "#46039f"
             ],
             [
              0.2222222222222222,
              "#7201a8"
             ],
             [
              0.3333333333333333,
              "#9c179e"
             ],
             [
              0.4444444444444444,
              "#bd3786"
             ],
             [
              0.5555555555555556,
              "#d8576b"
             ],
             [
              0.6666666666666666,
              "#ed7953"
             ],
             [
              0.7777777777777778,
              "#fb9f3a"
             ],
             [
              0.8888888888888888,
              "#fdca26"
             ],
             [
              1,
              "#f0f921"
             ]
            ],
            "type": "contour"
           }
          ],
          "contourcarpet": [
           {
            "colorbar": {
             "outlinewidth": 0,
             "ticks": ""
            },
            "type": "contourcarpet"
           }
          ],
          "heatmap": [
           {
            "colorbar": {
             "outlinewidth": 0,
             "ticks": ""
            },
            "colorscale": [
             [
              0,
              "#0d0887"
             ],
             [
              0.1111111111111111,
              "#46039f"
             ],
             [
              0.2222222222222222,
              "#7201a8"
             ],
             [
              0.3333333333333333,
              "#9c179e"
             ],
             [
              0.4444444444444444,
              "#bd3786"
             ],
             [
              0.5555555555555556,
              "#d8576b"
             ],
             [
              0.6666666666666666,
              "#ed7953"
             ],
             [
              0.7777777777777778,
              "#fb9f3a"
             ],
             [
              0.8888888888888888,
              "#fdca26"
             ],
             [
              1,
              "#f0f921"
             ]
            ],
            "type": "heatmap"
           }
          ],
          "histogram": [
           {
            "marker": {
             "pattern": {
              "fillmode": "overlay",
              "size": 10,
              "solidity": 0.2
             }
            },
            "type": "histogram"
           }
          ],
          "histogram2d": [
           {
            "colorbar": {
             "outlinewidth": 0,
             "ticks": ""
            },
            "colorscale": [
             [
              0,
              "#0d0887"
             ],
             [
              0.1111111111111111,
              "#46039f"
             ],
             [
              0.2222222222222222,
              "#7201a8"
             ],
             [
              0.3333333333333333,
              "#9c179e"
             ],
             [
              0.4444444444444444,
              "#bd3786"
             ],
             [
              0.5555555555555556,
              "#d8576b"
             ],
             [
              0.6666666666666666,
              "#ed7953"
             ],
             [
              0.7777777777777778,
              "#fb9f3a"
             ],
             [
              0.8888888888888888,
              "#fdca26"
             ],
             [
              1,
              "#f0f921"
             ]
            ],
            "type": "histogram2d"
           }
          ],
          "histogram2dcontour": [
           {
            "colorbar": {
             "outlinewidth": 0,
             "ticks": ""
            },
            "colorscale": [
             [
              0,
              "#0d0887"
             ],
             [
              0.1111111111111111,
              "#46039f"
             ],
             [
              0.2222222222222222,
              "#7201a8"
             ],
             [
              0.3333333333333333,
              "#9c179e"
             ],
             [
              0.4444444444444444,
              "#bd3786"
             ],
             [
              0.5555555555555556,
              "#d8576b"
             ],
             [
              0.6666666666666666,
              "#ed7953"
             ],
             [
              0.7777777777777778,
              "#fb9f3a"
             ],
             [
              0.8888888888888888,
              "#fdca26"
             ],
             [
              1,
              "#f0f921"
             ]
            ],
            "type": "histogram2dcontour"
           }
          ],
          "mesh3d": [
           {
            "colorbar": {
             "outlinewidth": 0,
             "ticks": ""
            },
            "type": "mesh3d"
           }
          ],
          "parcoords": [
           {
            "line": {
             "colorbar": {
              "outlinewidth": 0,
              "ticks": ""
             }
            },
            "type": "parcoords"
           }
          ],
          "pie": [
           {
            "automargin": true,
            "type": "pie"
           }
          ],
          "scatter": [
           {
            "fillpattern": {
             "fillmode": "overlay",
             "size": 10,
             "solidity": 0.2
            },
            "type": "scatter"
           }
          ],
          "scatter3d": [
           {
            "line": {
             "colorbar": {
              "outlinewidth": 0,
              "ticks": ""
             }
            },
            "marker": {
             "colorbar": {
              "outlinewidth": 0,
              "ticks": ""
             }
            },
            "type": "scatter3d"
           }
          ],
          "scattercarpet": [
           {
            "marker": {
             "colorbar": {
              "outlinewidth": 0,
              "ticks": ""
             }
            },
            "type": "scattercarpet"
           }
          ],
          "scattergeo": [
           {
            "marker": {
             "colorbar": {
              "outlinewidth": 0,
              "ticks": ""
             }
            },
            "type": "scattergeo"
           }
          ],
          "scattergl": [
           {
            "marker": {
             "colorbar": {
              "outlinewidth": 0,
              "ticks": ""
             }
            },
            "type": "scattergl"
           }
          ],
          "scattermap": [
           {
            "marker": {
             "colorbar": {
              "outlinewidth": 0,
              "ticks": ""
             }
            },
            "type": "scattermap"
           }
          ],
          "scattermapbox": [
           {
            "marker": {
             "colorbar": {
              "outlinewidth": 0,
              "ticks": ""
             }
            },
            "type": "scattermapbox"
           }
          ],
          "scatterpolar": [
           {
            "marker": {
             "colorbar": {
              "outlinewidth": 0,
              "ticks": ""
             }
            },
            "type": "scatterpolar"
           }
          ],
          "scatterpolargl": [
           {
            "marker": {
             "colorbar": {
              "outlinewidth": 0,
              "ticks": ""
             }
            },
            "type": "scatterpolargl"
           }
          ],
          "scatterternary": [
           {
            "marker": {
             "colorbar": {
              "outlinewidth": 0,
              "ticks": ""
             }
            },
            "type": "scatterternary"
           }
          ],
          "surface": [
           {
            "colorbar": {
             "outlinewidth": 0,
             "ticks": ""
            },
            "colorscale": [
             [
              0,
              "#0d0887"
             ],
             [
              0.1111111111111111,
              "#46039f"
             ],
             [
              0.2222222222222222,
              "#7201a8"
             ],
             [
              0.3333333333333333,
              "#9c179e"
             ],
             [
              0.4444444444444444,
              "#bd3786"
             ],
             [
              0.5555555555555556,
              "#d8576b"
             ],
             [
              0.6666666666666666,
              "#ed7953"
             ],
             [
              0.7777777777777778,
              "#fb9f3a"
             ],
             [
              0.8888888888888888,
              "#fdca26"
             ],
             [
              1,
              "#f0f921"
             ]
            ],
            "type": "surface"
           }
          ],
          "table": [
           {
            "cells": {
             "fill": {
              "color": "#EBF0F8"
             },
             "line": {
              "color": "white"
             }
            },
            "header": {
             "fill": {
              "color": "#C8D4E3"
             },
             "line": {
              "color": "white"
             }
            },
            "type": "table"
           }
          ]
         },
         "layout": {
          "annotationdefaults": {
           "arrowcolor": "#2a3f5f",
           "arrowhead": 0,
           "arrowwidth": 1
          },
          "autotypenumbers": "strict",
          "coloraxis": {
           "colorbar": {
            "outlinewidth": 0,
            "ticks": ""
           }
          },
          "colorscale": {
           "diverging": [
            [
             0,
             "#8e0152"
            ],
            [
             0.1,
             "#c51b7d"
            ],
            [
             0.2,
             "#de77ae"
            ],
            [
             0.3,
             "#f1b6da"
            ],
            [
             0.4,
             "#fde0ef"
            ],
            [
             0.5,
             "#f7f7f7"
            ],
            [
             0.6,
             "#e6f5d0"
            ],
            [
             0.7,
             "#b8e186"
            ],
            [
             0.8,
             "#7fbc41"
            ],
            [
             0.9,
             "#4d9221"
            ],
            [
             1,
             "#276419"
            ]
           ],
           "sequential": [
            [
             0,
             "#0d0887"
            ],
            [
             0.1111111111111111,
             "#46039f"
            ],
            [
             0.2222222222222222,
             "#7201a8"
            ],
            [
             0.3333333333333333,
             "#9c179e"
            ],
            [
             0.4444444444444444,
             "#bd3786"
            ],
            [
             0.5555555555555556,
             "#d8576b"
            ],
            [
             0.6666666666666666,
             "#ed7953"
            ],
            [
             0.7777777777777778,
             "#fb9f3a"
            ],
            [
             0.8888888888888888,
             "#fdca26"
            ],
            [
             1,
             "#f0f921"
            ]
           ],
           "sequentialminus": [
            [
             0,
             "#0d0887"
            ],
            [
             0.1111111111111111,
             "#46039f"
            ],
            [
             0.2222222222222222,
             "#7201a8"
            ],
            [
             0.3333333333333333,
             "#9c179e"
            ],
            [
             0.4444444444444444,
             "#bd3786"
            ],
            [
             0.5555555555555556,
             "#d8576b"
            ],
            [
             0.6666666666666666,
             "#ed7953"
            ],
            [
             0.7777777777777778,
             "#fb9f3a"
            ],
            [
             0.8888888888888888,
             "#fdca26"
            ],
            [
             1,
             "#f0f921"
            ]
           ]
          },
          "colorway": [
           "#636efa",
           "#EF553B",
           "#00cc96",
           "#ab63fa",
           "#FFA15A",
           "#19d3f3",
           "#FF6692",
           "#B6E880",
           "#FF97FF",
           "#FECB52"
          ],
          "font": {
           "color": "#2a3f5f"
          },
          "geo": {
           "bgcolor": "white",
           "lakecolor": "white",
           "landcolor": "#E5ECF6",
           "showlakes": true,
           "showland": true,
           "subunitcolor": "white"
          },
          "hoverlabel": {
           "align": "left"
          },
          "hovermode": "closest",
          "mapbox": {
           "style": "light"
          },
          "paper_bgcolor": "white",
          "plot_bgcolor": "#E5ECF6",
          "polar": {
           "angularaxis": {
            "gridcolor": "white",
            "linecolor": "white",
            "ticks": ""
           },
           "bgcolor": "#E5ECF6",
           "radialaxis": {
            "gridcolor": "white",
            "linecolor": "white",
            "ticks": ""
           }
          },
          "scene": {
           "xaxis": {
            "backgroundcolor": "#E5ECF6",
            "gridcolor": "white",
            "gridwidth": 2,
            "linecolor": "white",
            "showbackground": true,
            "ticks": "",
            "zerolinecolor": "white"
           },
           "yaxis": {
            "backgroundcolor": "#E5ECF6",
            "gridcolor": "white",
            "gridwidth": 2,
            "linecolor": "white",
            "showbackground": true,
            "ticks": "",
            "zerolinecolor": "white"
           },
           "zaxis": {
            "backgroundcolor": "#E5ECF6",
            "gridcolor": "white",
            "gridwidth": 2,
            "linecolor": "white",
            "showbackground": true,
            "ticks": "",
            "zerolinecolor": "white"
           }
          },
          "shapedefaults": {
           "line": {
            "color": "#2a3f5f"
           }
          },
          "ternary": {
           "aaxis": {
            "gridcolor": "white",
            "linecolor": "white",
            "ticks": ""
           },
           "baxis": {
            "gridcolor": "white",
            "linecolor": "white",
            "ticks": ""
           },
           "bgcolor": "#E5ECF6",
           "caxis": {
            "gridcolor": "white",
            "linecolor": "white",
            "ticks": ""
           }
          },
          "title": {
           "x": 0.05
          },
          "xaxis": {
           "automargin": true,
           "gridcolor": "white",
           "linecolor": "white",
           "ticks": "",
           "title": {
            "standoff": 15
           },
           "zerolinecolor": "white",
           "zerolinewidth": 2
          },
          "yaxis": {
           "automargin": true,
           "gridcolor": "white",
           "linecolor": "white",
           "ticks": "",
           "title": {
            "standoff": 15
           },
           "zerolinecolor": "white",
           "zerolinewidth": 2
          }
         }
        },
        "title": {
         "text": "Inkomende Hierarchy Distribution"
        }
       }
      }
     },
     "metadata": {},
     "output_type": "display_data"
    }
   ],
   "source": [
    "\n",
    "# Make a copy to avoid modifying the original DataFrame\n",
    "df_ink_plot = ink.copy()\n",
    "\n",
    "# Fill potential NaN/None values with a placeholder string for clarity in the plot\n",
    "# Ensure consistent data types (string) for path columns\n",
    "df_ink_plot['subsubseries'] = df_ink_plot['subsubseries'].fillna('N/A').astype(str)\n",
    "df_ink_plot['inventory_range'] = df_ink_plot['inventory_range'].fillna('N/A').astype(str)\n",
    "\n",
    "# Add a count column, assuming each row represents one item\n",
    "df_ink_plot['count'] = 1\n",
    "\n",
    "# Create the sunburst chart using Plotly Express\n",
    "# The 'path' argument defines the hierarchy from center outwards\n",
    "fig_ink = px.sunburst(df_ink_plot,\n",
    "                      path=['subsubseries', 'inventory_range'],\n",
    "                      values='count',\n",
    "                      title=\"Inkomende Hierarchy Distribution\",\n",
    "                      # Optional: Limit depth if it gets too crowded\n",
    "                      # maxdepth=2\n",
    "                     )\n",
    "\n",
    "# Improve layout for better readability\n",
    "fig_ink.update_layout(margin = dict(t=50, l=25, r=25, b=25))\n",
    "\n",
    "fig_ink.show()"
   ]
  },
  {
   "cell_type": "code",
   "execution_count": null,
   "id": "5c3e5385",
   "metadata": {},
   "outputs": [],
   "source": []
  },
  {
   "cell_type": "code",
   "execution_count": null,
   "id": "54c1c112",
   "metadata": {},
   "outputs": [],
   "source": []
  }
 ],
 "metadata": {
  "kernelspec": {
   "display_name": "republic-project",
   "language": "python",
   "name": "python3"
  },
  "language_info": {
   "codemirror_mode": {
    "name": "ipython",
    "version": 3
   },
   "file_extension": ".py",
   "mimetype": "text/x-python",
   "name": "python",
   "nbconvert_exporter": "python",
   "pygments_lexer": "ipython3",
   "version": "3.13.1"
  }
 },
 "nbformat": 4,
 "nbformat_minor": 5
}
