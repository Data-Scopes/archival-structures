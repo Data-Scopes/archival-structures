{
 "cells": [
  {
   "cell_type": "markdown",
   "id": "d14b3515-2a05-49c4-b53d-8951dc457cf6",
   "metadata": {},
   "source": [
    "# Combining EAD Metadata and Scan Statistics"
   ]
  },
  {
   "cell_type": "code",
   "execution_count": 1,
   "id": "ae87530b-3d79-4d9c-9062-30c61b2068a9",
   "metadata": {},
   "outputs": [
    {
     "name": "stdout",
     "output_type": "stream",
     "text": [
      "adding project dir to path: /Users/rikhoekstra/develop/archival-structures\n"
     ]
    }
   ],
   "source": [
    "%load_ext autoreload\n",
    "%autoreload 2\n",
    "\n",
    "import os\n",
    "import sys\n",
    "\n",
    "repo_name = 'archival-structures'\n",
    "repo_dir = os.path.split(os.getcwd())[0].split(repo_name)[0] + repo_name\n",
    "repo_dir = os.path.split(os.getcwd())[0].split(repo_name)[0] + repo_name\n",
    "\n",
    "print(\"adding project dir to path:\", repo_dir)\n",
    "\n",
    "if repo_dir not in sys.path:\n",
    "    sys.path = [repo_dir] + sys.path\n",
    "else:\n",
    "    sys.path.remove(repo_dir)\n",
    "    sys.path = [repo_dir] + sys.path"
   ]
  },
  {
   "cell_type": "code",
   "execution_count": 2,
   "id": "2d687e7c",
   "metadata": {},
   "outputs": [
    {
     "name": "stdout",
     "output_type": "stream",
     "text": [
      "Requirement already satisfied: pandas in /Users/rikhoekstra/develop/archival-structures/.venv/lib/python3.13/site-packages (2.2.3)\n",
      "Requirement already satisfied: numpy>=1.26.0 in /Users/rikhoekstra/develop/archival-structures/.venv/lib/python3.13/site-packages (from pandas) (2.2.5)\n",
      "Requirement already satisfied: python-dateutil>=2.8.2 in /Users/rikhoekstra/develop/archival-structures/.venv/lib/python3.13/site-packages (from pandas) (2.9.0.post0)\n",
      "Requirement already satisfied: pytz>=2020.1 in /Users/rikhoekstra/develop/archival-structures/.venv/lib/python3.13/site-packages (from pandas) (2025.2)\n",
      "Requirement already satisfied: tzdata>=2022.7 in /Users/rikhoekstra/develop/archival-structures/.venv/lib/python3.13/site-packages (from pandas) (2025.2)\n",
      "Requirement already satisfied: six>=1.5 in /Users/rikhoekstra/develop/archival-structures/.venv/lib/python3.13/site-packages (from python-dateutil>=2.8.2->pandas) (1.17.0)\n",
      "Note: you may need to restart the kernel to use updated packages.\n",
      "Requirement already satisfied: matplotlib in /Users/rikhoekstra/develop/archival-structures/.venv/lib/python3.13/site-packages (3.10.1)\n",
      "Requirement already satisfied: contourpy>=1.0.1 in /Users/rikhoekstra/develop/archival-structures/.venv/lib/python3.13/site-packages (from matplotlib) (1.3.2)\n",
      "Requirement already satisfied: cycler>=0.10 in /Users/rikhoekstra/develop/archival-structures/.venv/lib/python3.13/site-packages (from matplotlib) (0.12.1)\n",
      "Requirement already satisfied: fonttools>=4.22.0 in /Users/rikhoekstra/develop/archival-structures/.venv/lib/python3.13/site-packages (from matplotlib) (4.57.0)\n",
      "Requirement already satisfied: kiwisolver>=1.3.1 in /Users/rikhoekstra/develop/archival-structures/.venv/lib/python3.13/site-packages (from matplotlib) (1.4.8)\n",
      "Requirement already satisfied: numpy>=1.23 in /Users/rikhoekstra/develop/archival-structures/.venv/lib/python3.13/site-packages (from matplotlib) (2.2.5)\n",
      "Requirement already satisfied: packaging>=20.0 in /Users/rikhoekstra/develop/archival-structures/.venv/lib/python3.13/site-packages (from matplotlib) (25.0)\n",
      "Requirement already satisfied: pillow>=8 in /Users/rikhoekstra/develop/archival-structures/.venv/lib/python3.13/site-packages (from matplotlib) (11.2.1)\n",
      "Requirement already satisfied: pyparsing>=2.3.1 in /Users/rikhoekstra/develop/archival-structures/.venv/lib/python3.13/site-packages (from matplotlib) (3.2.3)\n",
      "Requirement already satisfied: python-dateutil>=2.7 in /Users/rikhoekstra/develop/archival-structures/.venv/lib/python3.13/site-packages (from matplotlib) (2.9.0.post0)\n",
      "Requirement already satisfied: six>=1.5 in /Users/rikhoekstra/develop/archival-structures/.venv/lib/python3.13/site-packages (from python-dateutil>=2.7->matplotlib) (1.17.0)\n",
      "Note: you may need to restart the kernel to use updated packages.\n",
      "Requirement already satisfied: seaborn in /Users/rikhoekstra/develop/archival-structures/.venv/lib/python3.13/site-packages (0.13.2)\n",
      "Requirement already satisfied: numpy!=1.24.0,>=1.20 in /Users/rikhoekstra/develop/archival-structures/.venv/lib/python3.13/site-packages (from seaborn) (2.2.5)\n",
      "Requirement already satisfied: pandas>=1.2 in /Users/rikhoekstra/develop/archival-structures/.venv/lib/python3.13/site-packages (from seaborn) (2.2.3)\n",
      "Requirement already satisfied: matplotlib!=3.6.1,>=3.4 in /Users/rikhoekstra/develop/archival-structures/.venv/lib/python3.13/site-packages (from seaborn) (3.10.1)\n",
      "Requirement already satisfied: contourpy>=1.0.1 in /Users/rikhoekstra/develop/archival-structures/.venv/lib/python3.13/site-packages (from matplotlib!=3.6.1,>=3.4->seaborn) (1.3.2)\n",
      "Requirement already satisfied: cycler>=0.10 in /Users/rikhoekstra/develop/archival-structures/.venv/lib/python3.13/site-packages (from matplotlib!=3.6.1,>=3.4->seaborn) (0.12.1)\n",
      "Requirement already satisfied: fonttools>=4.22.0 in /Users/rikhoekstra/develop/archival-structures/.venv/lib/python3.13/site-packages (from matplotlib!=3.6.1,>=3.4->seaborn) (4.57.0)\n",
      "Requirement already satisfied: kiwisolver>=1.3.1 in /Users/rikhoekstra/develop/archival-structures/.venv/lib/python3.13/site-packages (from matplotlib!=3.6.1,>=3.4->seaborn) (1.4.8)\n",
      "Requirement already satisfied: packaging>=20.0 in /Users/rikhoekstra/develop/archival-structures/.venv/lib/python3.13/site-packages (from matplotlib!=3.6.1,>=3.4->seaborn) (25.0)\n",
      "Requirement already satisfied: pillow>=8 in /Users/rikhoekstra/develop/archival-structures/.venv/lib/python3.13/site-packages (from matplotlib!=3.6.1,>=3.4->seaborn) (11.2.1)\n",
      "Requirement already satisfied: pyparsing>=2.3.1 in /Users/rikhoekstra/develop/archival-structures/.venv/lib/python3.13/site-packages (from matplotlib!=3.6.1,>=3.4->seaborn) (3.2.3)\n",
      "Requirement already satisfied: python-dateutil>=2.7 in /Users/rikhoekstra/develop/archival-structures/.venv/lib/python3.13/site-packages (from matplotlib!=3.6.1,>=3.4->seaborn) (2.9.0.post0)\n",
      "Requirement already satisfied: pytz>=2020.1 in /Users/rikhoekstra/develop/archival-structures/.venv/lib/python3.13/site-packages (from pandas>=1.2->seaborn) (2025.2)\n",
      "Requirement already satisfied: tzdata>=2022.7 in /Users/rikhoekstra/develop/archival-structures/.venv/lib/python3.13/site-packages (from pandas>=1.2->seaborn) (2025.2)\n",
      "Requirement already satisfied: six>=1.5 in /Users/rikhoekstra/develop/archival-structures/.venv/lib/python3.13/site-packages (from python-dateutil>=2.7->matplotlib!=3.6.1,>=3.4->seaborn) (1.17.0)\n",
      "Note: you may need to restart the kernel to use updated packages.\n"
     ]
    }
   ],
   "source": [
    "%pip install pandas\n",
    "%pip install matplotlib\n",
    "%pip install seaborn"
   ]
  },
  {
   "cell_type": "code",
   "execution_count": 3,
   "id": "a683236a-d543-4c21-874a-e1a40ea1f4fd",
   "metadata": {},
   "outputs": [
    {
     "data": {
      "application/vnd.microsoft.datawrangler.viewer.v0+json": {
       "columns": [
        {
         "name": "index",
         "rawType": "int64",
         "type": "integer"
        },
        {
         "name": "series",
         "rawType": "object",
         "type": "string"
        },
        {
         "name": "subseries_1",
         "rawType": "object",
         "type": "string"
        },
        {
         "name": "subseries_2",
         "rawType": "object",
         "type": "string"
        },
        {
         "name": "subseries_3",
         "rawType": "object",
         "type": "unknown"
        },
        {
         "name": "subseries_4",
         "rawType": "object",
         "type": "unknown"
        },
        {
         "name": "filegroup",
         "rawType": "object",
         "type": "string"
        },
        {
         "name": "inventory_range",
         "rawType": "object",
         "type": "string"
        },
        {
         "name": "file",
         "rawType": "object",
         "type": "string"
        },
        {
         "name": "unitdate",
         "rawType": "object",
         "type": "string"
        },
        {
         "name": "inventory_num",
         "rawType": "object",
         "type": "string"
        },
        {
         "name": "mets_file",
         "rawType": "object",
         "type": "string"
        }
       ],
       "conversionMethod": "pd.DataFrame",
       "ref": "7b6b27d0-3369-41ef-acd9-871c7754dcf1",
       "rows": [
        [
         "0",
         "Resoluties van de Staten-Generaal",
         "De ordinaris resoluties.",
         "De minuten van de notulen van de vergaderingen van de Staten-Generaal, 1576-1684.",
         null,
         null,
         "Registers van ordinaris minuut-resoluties,",
         "1-257",
         "1576 oktober 1 - 1577 mei  18",
         "1576 oktober 1 - 1577 mei  18",
         "1",
         "https://service.archief.nl/gaf/api/mets/v1/86e5c8a0-2f84-47b6-8fc5-45a665943314"
        ],
        [
         "1",
         "Resoluties van de Staten-Generaal",
         "De ordinaris resoluties.",
         "De minuten van de notulen van de vergaderingen van de Staten-Generaal, 1576-1684.",
         null,
         null,
         "Registers van ordinaris minuut-resoluties,",
         "1-257",
         "1577 mei 20 - 1577 november  21",
         "1577 mei 20 - 1577 november  21",
         "2",
         "https://service.archief.nl/gaf/api/mets/v1/8dd28b90-5d2e-4f49-ac04-f9653518c01b"
        ]
       ],
       "shape": {
        "columns": 11,
        "rows": 2
       }
      },
      "text/html": [
       "<div>\n",
       "<style scoped>\n",
       "    .dataframe tbody tr th:only-of-type {\n",
       "        vertical-align: middle;\n",
       "    }\n",
       "\n",
       "    .dataframe tbody tr th {\n",
       "        vertical-align: top;\n",
       "    }\n",
       "\n",
       "    .dataframe thead th {\n",
       "        text-align: right;\n",
       "    }\n",
       "</style>\n",
       "<table border=\"1\" class=\"dataframe\">\n",
       "  <thead>\n",
       "    <tr style=\"text-align: right;\">\n",
       "      <th></th>\n",
       "      <th>series</th>\n",
       "      <th>subseries_1</th>\n",
       "      <th>subseries_2</th>\n",
       "      <th>subseries_3</th>\n",
       "      <th>subseries_4</th>\n",
       "      <th>filegroup</th>\n",
       "      <th>inventory_range</th>\n",
       "      <th>file</th>\n",
       "      <th>unitdate</th>\n",
       "      <th>inventory_num</th>\n",
       "      <th>mets_file</th>\n",
       "    </tr>\n",
       "  </thead>\n",
       "  <tbody>\n",
       "    <tr>\n",
       "      <th>0</th>\n",
       "      <td>Resoluties van de Staten-Generaal</td>\n",
       "      <td>De ordinaris resoluties.</td>\n",
       "      <td>De minuten van de notulen van de vergaderingen...</td>\n",
       "      <td>NaN</td>\n",
       "      <td>NaN</td>\n",
       "      <td>Registers van ordinaris minuut-resoluties,</td>\n",
       "      <td>1-257</td>\n",
       "      <td>1576 oktober 1 - 1577 mei  18</td>\n",
       "      <td>1576 oktober 1 - 1577 mei  18</td>\n",
       "      <td>1</td>\n",
       "      <td>https://service.archief.nl/gaf/api/mets/v1/86e...</td>\n",
       "    </tr>\n",
       "    <tr>\n",
       "      <th>1</th>\n",
       "      <td>Resoluties van de Staten-Generaal</td>\n",
       "      <td>De ordinaris resoluties.</td>\n",
       "      <td>De minuten van de notulen van de vergaderingen...</td>\n",
       "      <td>NaN</td>\n",
       "      <td>NaN</td>\n",
       "      <td>Registers van ordinaris minuut-resoluties,</td>\n",
       "      <td>1-257</td>\n",
       "      <td>1577 mei 20 - 1577 november  21</td>\n",
       "      <td>1577 mei 20 - 1577 november  21</td>\n",
       "      <td>2</td>\n",
       "      <td>https://service.archief.nl/gaf/api/mets/v1/8dd...</td>\n",
       "    </tr>\n",
       "  </tbody>\n",
       "</table>\n",
       "</div>"
      ],
      "text/plain": [
       "                              series               subseries_1  \\\n",
       "0  Resoluties van de Staten-Generaal  De ordinaris resoluties.   \n",
       "1  Resoluties van de Staten-Generaal  De ordinaris resoluties.   \n",
       "\n",
       "                                         subseries_2 subseries_3 subseries_4  \\\n",
       "0  De minuten van de notulen van de vergaderingen...         NaN         NaN   \n",
       "1  De minuten van de notulen van de vergaderingen...         NaN         NaN   \n",
       "\n",
       "                                    filegroup inventory_range  \\\n",
       "0  Registers van ordinaris minuut-resoluties,           1-257   \n",
       "1  Registers van ordinaris minuut-resoluties,           1-257   \n",
       "\n",
       "                              file                         unitdate  \\\n",
       "0    1576 oktober 1 - 1577 mei  18    1576 oktober 1 - 1577 mei  18   \n",
       "1  1577 mei 20 - 1577 november  21  1577 mei 20 - 1577 november  21   \n",
       "\n",
       "  inventory_num                                          mets_file  \n",
       "0             1  https://service.archief.nl/gaf/api/mets/v1/86e...  \n",
       "1             2  https://service.archief.nl/gaf/api/mets/v1/8dd...  "
      ]
     },
     "execution_count": 3,
     "metadata": {},
     "output_type": "execute_result"
    }
   ],
   "source": [
    "import glob\n",
    "import os\n",
    "\n",
    "import pandas as pd\n",
    "import archival_structures.ead_parser as ead_parser\n",
    "\n",
    "ead_file = '../data/metadata/ead_metadata.tsv'\n",
    "ead = pd.read_csv(ead_file, sep='\\t', dtype={'inventory_num': str})\n",
    "ead.head(2)"
   ]
  },
  {
   "cell_type": "markdown",
   "id": "0e688bcb-be68-4ed2-8bef-9d9fff34e15f",
   "metadata": {},
   "source": [
    "The EAD metadata contains a row per inventory number (corresponding to a `file` in the EAD XML file), including the `series`, `subseries` and `filegroup` it belongs to, and any date information that is associated with the file. Finally, in the case of the National Archives of the Netherlands, EADs can contain a link to a METS metadata file describing the digitised version of the file, but only in the case it has been digitised. This means that the presence of a METS file is also an indicator whether an inventory number has been digitised. "
   ]
  },
  {
   "cell_type": "code",
   "execution_count": 4,
   "id": "c457b434-5dfa-40ba-a114-5d7805781a5a",
   "metadata": {},
   "outputs": [
    {
     "data": {
      "text/plain": [
       "((17899, 11), (9832, 11))"
      ]
     },
     "execution_count": 4,
     "metadata": {},
     "output_type": "execute_result"
    }
   ],
   "source": [
    "ead.shape, ead[ead.mets_file.notna()].shape"
   ]
  },
  {
   "cell_type": "markdown",
   "id": "9fce943b-3a5d-49ac-8607-92ddfe745deb",
   "metadata": {},
   "source": [
    "Just over half of the entire States General archive has been digitised."
   ]
  },
  {
   "cell_type": "code",
   "execution_count": 5,
   "id": "36ce47af-a97f-4b71-959b-524cf5bd2bfd",
   "metadata": {},
   "outputs": [
    {
     "data": {
      "application/vnd.microsoft.datawrangler.viewer.v0+json": {
       "columns": [
        {
         "name": "index",
         "rawType": "int64",
         "type": "integer"
        },
        {
         "name": "series",
         "rawType": "object",
         "type": "string"
        },
        {
         "name": "subseries_1",
         "rawType": "object",
         "type": "string"
        },
        {
         "name": "subseries_2",
         "rawType": "object",
         "type": "string"
        },
        {
         "name": "subseries_3",
         "rawType": "object",
         "type": "string"
        },
        {
         "name": "subseries_4",
         "rawType": "object",
         "type": "string"
        },
        {
         "name": "filegroup",
         "rawType": "object",
         "type": "string"
        },
        {
         "name": "inventory_range",
         "rawType": "object",
         "type": "string"
        },
        {
         "name": "file",
         "rawType": "object",
         "type": "string"
        },
        {
         "name": "unitdate",
         "rawType": "object",
         "type": "string"
        },
        {
         "name": "inventory_num",
         "rawType": "object",
         "type": "string"
        },
        {
         "name": "mets_file",
         "rawType": "object",
         "type": "unknown"
        }
       ],
       "conversionMethod": "pd.DataFrame",
       "ref": "3239dde7-d11b-4373-91ea-ec4c923f237e",
       "rows": [
        [
         "4805",
         "De bijlagen bij de resoluties van de Staten-Generaal",
         "De ingekomen brieven en stukken en minuten van uitgaande brieven, verzameld in de \"liassen\"",
         "De Liassen Binnenland",
         "1550-1796",
         " 1550-1796.",
         "Ingekomen ordinaris brieven en stukken van algemene aard,",
         "4867-5461, ---",
         "1588",
         "1588",
         "4867",
         null
        ],
        [
         "4806",
         "De bijlagen bij de resoluties van de Staten-Generaal",
         "De ingekomen brieven en stukken en minuten van uitgaande brieven, verzameld in de \"liassen\"",
         "De Liassen Binnenland",
         "1550-1796",
         " 1550-1796.",
         "Ingekomen ordinaris brieven en stukken van algemene aard,",
         "4867-5461, ---",
         "1589 - 1590 juli",
         "1589 - 1590 juli",
         "4868",
         null
        ]
       ],
       "shape": {
        "columns": 11,
        "rows": 2
       }
      },
      "text/html": [
       "<div>\n",
       "<style scoped>\n",
       "    .dataframe tbody tr th:only-of-type {\n",
       "        vertical-align: middle;\n",
       "    }\n",
       "\n",
       "    .dataframe tbody tr th {\n",
       "        vertical-align: top;\n",
       "    }\n",
       "\n",
       "    .dataframe thead th {\n",
       "        text-align: right;\n",
       "    }\n",
       "</style>\n",
       "<table border=\"1\" class=\"dataframe\">\n",
       "  <thead>\n",
       "    <tr style=\"text-align: right;\">\n",
       "      <th></th>\n",
       "      <th>series</th>\n",
       "      <th>subseries_1</th>\n",
       "      <th>subseries_2</th>\n",
       "      <th>subseries_3</th>\n",
       "      <th>subseries_4</th>\n",
       "      <th>filegroup</th>\n",
       "      <th>inventory_range</th>\n",
       "      <th>file</th>\n",
       "      <th>unitdate</th>\n",
       "      <th>inventory_num</th>\n",
       "      <th>mets_file</th>\n",
       "    </tr>\n",
       "  </thead>\n",
       "  <tbody>\n",
       "    <tr>\n",
       "      <th>4805</th>\n",
       "      <td>De bijlagen bij de resoluties van de Staten-Ge...</td>\n",
       "      <td>De ingekomen brieven en stukken en minuten van...</td>\n",
       "      <td>De Liassen Binnenland</td>\n",
       "      <td>1550-1796</td>\n",
       "      <td>1550-1796.</td>\n",
       "      <td>Ingekomen ordinaris brieven en stukken van alg...</td>\n",
       "      <td>4867-5461, ---</td>\n",
       "      <td>1588</td>\n",
       "      <td>1588</td>\n",
       "      <td>4867</td>\n",
       "      <td>NaN</td>\n",
       "    </tr>\n",
       "    <tr>\n",
       "      <th>4806</th>\n",
       "      <td>De bijlagen bij de resoluties van de Staten-Ge...</td>\n",
       "      <td>De ingekomen brieven en stukken en minuten van...</td>\n",
       "      <td>De Liassen Binnenland</td>\n",
       "      <td>1550-1796</td>\n",
       "      <td>1550-1796.</td>\n",
       "      <td>Ingekomen ordinaris brieven en stukken van alg...</td>\n",
       "      <td>4867-5461, ---</td>\n",
       "      <td>1589 - 1590 juli</td>\n",
       "      <td>1589 - 1590 juli</td>\n",
       "      <td>4868</td>\n",
       "      <td>NaN</td>\n",
       "    </tr>\n",
       "  </tbody>\n",
       "</table>\n",
       "</div>"
      ],
      "text/plain": [
       "                                                 series  \\\n",
       "4805  De bijlagen bij de resoluties van de Staten-Ge...   \n",
       "4806  De bijlagen bij de resoluties van de Staten-Ge...   \n",
       "\n",
       "                                            subseries_1  \\\n",
       "4805  De ingekomen brieven en stukken en minuten van...   \n",
       "4806  De ingekomen brieven en stukken en minuten van...   \n",
       "\n",
       "                subseries_2 subseries_3  subseries_4  \\\n",
       "4805  De Liassen Binnenland   1550-1796   1550-1796.   \n",
       "4806  De Liassen Binnenland   1550-1796   1550-1796.   \n",
       "\n",
       "                                              filegroup inventory_range  \\\n",
       "4805  Ingekomen ordinaris brieven en stukken van alg...  4867-5461, ---   \n",
       "4806  Ingekomen ordinaris brieven en stukken van alg...  4867-5461, ---   \n",
       "\n",
       "                  file          unitdate inventory_num mets_file  \n",
       "4805              1588              1588          4867       NaN  \n",
       "4806  1589 - 1590 juli  1589 - 1590 juli          4868       NaN  "
      ]
     },
     "execution_count": 5,
     "metadata": {},
     "output_type": "execute_result"
    }
   ],
   "source": [
    "ead[ead.subseries_3.notna()].head(2)"
   ]
  },
  {
   "cell_type": "code",
   "execution_count": 6,
   "id": "51f6c333-7176-4665-8aa1-87851f4b0204",
   "metadata": {},
   "outputs": [
    {
     "data": {
      "text/plain": [
       "(9122, '../data/scan_stats-1.01.02/scan_stats-inv_9348.tsv.gz')"
      ]
     },
     "execution_count": 6,
     "metadata": {},
     "output_type": "execute_result"
    }
   ],
   "source": [
    "scan_stats_dir = '../data/scan_stats-1.01.02/'\n",
    "scan_stats_files = glob.glob(os.path.join(scan_stats_dir, '*'))\n",
    "len(scan_stats_files), scan_stats_files[0]"
   ]
  },
  {
   "cell_type": "code",
   "execution_count": 7,
   "id": "0d1bb63b-1d75-4072-a976-23cc689b6e1d",
   "metadata": {},
   "outputs": [
    {
     "data": {
      "text/plain": [
       "(2528802, 56)"
      ]
     },
     "execution_count": 7,
     "metadata": {},
     "output_type": "execute_result"
    }
   ],
   "source": [
    "scan_stats = pd.concat([pd.read_csv(ssf, sep='\\t', compression='gzip') for ssf in scan_stats_files])\n",
    "scan_stats.shape"
   ]
  },
  {
   "cell_type": "code",
   "execution_count": 8,
   "id": "85eda329-1a39-44a4-8c88-87d8a183d9d6",
   "metadata": {},
   "outputs": [],
   "source": [
    "import re\n",
    "\n",
    "scan_stats['inventory_id'] = scan_stats.doc_id.apply(lambda x: re.sub(r\"^(NL-HaNA_1.01.02_\\w+)_\\d+\\.jpg\", r\"\\1\", x))\n",
    "scan_stats['inventory_num'] = scan_stats.inventory_id.apply(lambda x: x.split('_')[-1])"
   ]
  },
  {
   "cell_type": "code",
   "execution_count": 9,
   "id": "30b18c9b-abd1-473e-8aa9-736d40354fba",
   "metadata": {},
   "outputs": [
    {
     "data": {
      "application/vnd.microsoft.datawrangler.viewer.v0+json": {
       "columns": [
        {
         "name": "index",
         "rawType": "int64",
         "type": "integer"
        },
        {
         "name": "series",
         "rawType": "object",
         "type": "string"
        },
        {
         "name": "subseries_1",
         "rawType": "object",
         "type": "string"
        },
        {
         "name": "subseries_2",
         "rawType": "object",
         "type": "string"
        },
        {
         "name": "subseries_3",
         "rawType": "object",
         "type": "string"
        },
        {
         "name": "subseries_4",
         "rawType": "object",
         "type": "unknown"
        },
        {
         "name": "filegroup",
         "rawType": "object",
         "type": "unknown"
        },
        {
         "name": "inventory_range",
         "rawType": "object",
         "type": "unknown"
        },
        {
         "name": "file",
         "rawType": "object",
         "type": "string"
        },
        {
         "name": "unitdate",
         "rawType": "object",
         "type": "string"
        },
        {
         "name": "inventory_num",
         "rawType": "object",
         "type": "string"
        },
        {
         "name": "mets_file",
         "rawType": "object",
         "type": "string"
        },
        {
         "name": "doc_id",
         "rawType": "object",
         "type": "string"
        },
        {
         "name": "doc_num",
         "rawType": "int64",
         "type": "integer"
        },
        {
         "name": "doc_width",
         "rawType": "int64",
         "type": "integer"
        },
        {
         "name": "doc_height",
         "rawType": "int64",
         "type": "integer"
        },
        {
         "name": "lines",
         "rawType": "int64",
         "type": "integer"
        },
        {
         "name": "words",
         "rawType": "int64",
         "type": "integer"
        },
        {
         "name": "text_regions",
         "rawType": "int64",
         "type": "integer"
        },
        {
         "name": "columns",
         "rawType": "int64",
         "type": "integer"
        },
        {
         "name": "extra",
         "rawType": "int64",
         "type": "integer"
        },
        {
         "name": "pages",
         "rawType": "int64",
         "type": "integer"
        },
        {
         "name": "num_words",
         "rawType": "int64",
         "type": "integer"
        },
        {
         "name": "num_alpha_words",
         "rawType": "int64",
         "type": "integer"
        },
        {
         "name": "num_number_words",
         "rawType": "int64",
         "type": "integer"
        },
        {
         "name": "num_title_words",
         "rawType": "int64",
         "type": "integer"
        },
        {
         "name": "num_non_title_words",
         "rawType": "int64",
         "type": "integer"
        },
        {
         "name": "num_stop_words",
         "rawType": "float64",
         "type": "float"
        },
        {
         "name": "num_punctuation_words",
         "rawType": "int64",
         "type": "integer"
        },
        {
         "name": "num_oversized_words",
         "rawType": "int64",
         "type": "integer"
        },
        {
         "name": "words_per_line_0-0",
         "rawType": "int64",
         "type": "integer"
        },
        {
         "name": "words_per_line_1-1",
         "rawType": "int64",
         "type": "integer"
        },
        {
         "name": "words_per_line_2-2",
         "rawType": "int64",
         "type": "integer"
        },
        {
         "name": "words_per_line_3-3",
         "rawType": "int64",
         "type": "integer"
        },
        {
         "name": "words_per_line_4-5",
         "rawType": "int64",
         "type": "integer"
        },
        {
         "name": "words_per_line_6-9",
         "rawType": "int64",
         "type": "integer"
        },
        {
         "name": "words_per_line_10-15",
         "rawType": "int64",
         "type": "integer"
        },
        {
         "name": "words_per_line_16-25",
         "rawType": "int64",
         "type": "integer"
        },
        {
         "name": "words_per_line_26-42",
         "rawType": "int64",
         "type": "integer"
        },
        {
         "name": "words_per_line_43-70",
         "rawType": "int64",
         "type": "integer"
        },
        {
         "name": "words_per_line_71-100",
         "rawType": "int64",
         "type": "integer"
        },
        {
         "name": "alpha_words_per_line_0-0",
         "rawType": "int64",
         "type": "integer"
        },
        {
         "name": "alpha_words_per_line_1-1",
         "rawType": "int64",
         "type": "integer"
        },
        {
         "name": "alpha_words_per_line_2-2",
         "rawType": "int64",
         "type": "integer"
        },
        {
         "name": "alpha_words_per_line_3-3",
         "rawType": "int64",
         "type": "integer"
        },
        {
         "name": "alpha_words_per_line_4-5",
         "rawType": "int64",
         "type": "integer"
        },
        {
         "name": "alpha_words_per_line_6-9",
         "rawType": "int64",
         "type": "integer"
        },
        {
         "name": "alpha_words_per_line_10-15",
         "rawType": "int64",
         "type": "integer"
        },
        {
         "name": "alpha_words_per_line_16-25",
         "rawType": "int64",
         "type": "integer"
        },
        {
         "name": "alpha_words_per_line_26-42",
         "rawType": "int64",
         "type": "integer"
        },
        {
         "name": "alpha_words_per_line_43-70",
         "rawType": "int64",
         "type": "integer"
        },
        {
         "name": "alpha_words_per_line_71-100",
         "rawType": "int64",
         "type": "integer"
        },
        {
         "name": "num_words_length_5",
         "rawType": "int64",
         "type": "integer"
        },
        {
         "name": "num_words_length_10",
         "rawType": "int64",
         "type": "integer"
        },
        {
         "name": "num_words_length_15",
         "rawType": "int64",
         "type": "integer"
        },
        {
         "name": "num_words_length_20",
         "rawType": "int64",
         "type": "integer"
        },
        {
         "name": "num_words_length_25",
         "rawType": "int64",
         "type": "integer"
        },
        {
         "name": "num_words_length_30",
         "rawType": "int64",
         "type": "integer"
        },
        {
         "name": "line_width_range_0-300",
         "rawType": "int64",
         "type": "integer"
        },
        {
         "name": "line_width_range_300-600",
         "rawType": "int64",
         "type": "integer"
        },
        {
         "name": "line_width_range_600-900",
         "rawType": "int64",
         "type": "integer"
        },
        {
         "name": "line_width_range_900-1200",
         "rawType": "int64",
         "type": "integer"
        },
        {
         "name": "line_width_range_1200-1500",
         "rawType": "int64",
         "type": "integer"
        },
        {
         "name": "line_width_range_1500-1800",
         "rawType": "int64",
         "type": "integer"
        },
        {
         "name": "line_width_range_1800-2100",
         "rawType": "int64",
         "type": "integer"
        },
        {
         "name": "line_width_range_2100-2400",
         "rawType": "int64",
         "type": "integer"
        },
        {
         "name": "line_width_range_2400-2700",
         "rawType": "int64",
         "type": "integer"
        },
        {
         "name": "line_width_range_2700-",
         "rawType": "int64",
         "type": "integer"
        },
        {
         "name": "inventory_id",
         "rawType": "object",
         "type": "string"
        }
       ],
       "conversionMethod": "pd.DataFrame",
       "ref": "9f1e1e8f-cf91-491f-8058-c028fa10be0b",
       "rows": [
        [
         "0",
         "De bijlagen bij de resoluties van de Staten-Generaal",
         "De ingekomen delen en dossiers, afzonderlijk verzameld in series",
         "Verbalen, journalen, memories en rapporten betreffende het beleid van de Admiraliteiten en de krijgsverrichtingen van de Staatse vloot",
         "Verbalen en journalen van zee-officieren betreffende hun zeereizen in opdracht van de Staten-Generaal",
         null,
         null,
         null,
         "Rapport aan de Staten-Generaal van vice-admiraal François van Aerssen van Sommelsdijk over de door hem gecommandeerde expeditie tegen de zeerovers van Algiers en Marokko in 1721. Met enige kopieresoluties gedurende die tijd door de krijgsraad van zijn smaldeel genomen, en een paar brieven door hem op die tocht ontvangen.",
         "1721",
         "9348",
         "https://service.archief.nl/gaf/api/mets/v1/c1def428-6af8-4469-a0ef-a75a185ae47f",
         "NL-HaNA_1.01.02_9348_0001.jpg",
         "1",
         "2661",
         "3964",
         "8",
         "18",
         "5",
         "0",
         "0",
         "0",
         "18",
         "15",
         "1",
         "6",
         "12",
         null,
         "0",
         "0",
         "0",
         "4",
         "1",
         "1",
         "2",
         "0",
         "0",
         "0",
         "0",
         "0",
         "0",
         "1",
         "4",
         "1",
         "0",
         "2",
         "0",
         "0",
         "0",
         "0",
         "0",
         "0",
         "12",
         "4",
         "2",
         "0",
         "0",
         "0",
         "1",
         "4",
         "0",
         "0",
         "0",
         "1",
         "1",
         "1",
         "0",
         "0",
         "NL-HaNA_1.01.02_9348"
        ],
        [
         "1",
         "De bijlagen bij de resoluties van de Staten-Generaal",
         "De ingekomen delen en dossiers, afzonderlijk verzameld in series",
         "Verbalen, journalen, memories en rapporten betreffende het beleid van de Admiraliteiten en de krijgsverrichtingen van de Staatse vloot",
         "Verbalen en journalen van zee-officieren betreffende hun zeereizen in opdracht van de Staten-Generaal",
         null,
         null,
         null,
         "Rapport aan de Staten-Generaal van vice-admiraal François van Aerssen van Sommelsdijk over de door hem gecommandeerde expeditie tegen de zeerovers van Algiers en Marokko in 1721. Met enige kopieresoluties gedurende die tijd door de krijgsraad van zijn smaldeel genomen, en een paar brieven door hem op die tocht ontvangen.",
         "1721",
         "9348",
         "https://service.archief.nl/gaf/api/mets/v1/c1def428-6af8-4469-a0ef-a75a185ae47f",
         "NL-HaNA_1.01.02_9348_0002.jpg",
         "2",
         "4982",
         "3951",
         "0",
         "0",
         "0",
         "0",
         "0",
         "0",
         "0",
         "0",
         "0",
         "0",
         "0",
         null,
         "0",
         "0",
         "0",
         "0",
         "0",
         "0",
         "0",
         "0",
         "0",
         "0",
         "0",
         "0",
         "0",
         "0",
         "0",
         "0",
         "0",
         "0",
         "0",
         "0",
         "0",
         "0",
         "0",
         "0",
         "0",
         "0",
         "0",
         "0",
         "0",
         "0",
         "0",
         "0",
         "0",
         "0",
         "0",
         "0",
         "0",
         "0",
         "0",
         "0",
         "NL-HaNA_1.01.02_9348"
        ]
       ],
       "shape": {
        "columns": 68,
        "rows": 2
       }
      },
      "text/html": [
       "<div>\n",
       "<style scoped>\n",
       "    .dataframe tbody tr th:only-of-type {\n",
       "        vertical-align: middle;\n",
       "    }\n",
       "\n",
       "    .dataframe tbody tr th {\n",
       "        vertical-align: top;\n",
       "    }\n",
       "\n",
       "    .dataframe thead th {\n",
       "        text-align: right;\n",
       "    }\n",
       "</style>\n",
       "<table border=\"1\" class=\"dataframe\">\n",
       "  <thead>\n",
       "    <tr style=\"text-align: right;\">\n",
       "      <th></th>\n",
       "      <th>series</th>\n",
       "      <th>subseries_1</th>\n",
       "      <th>subseries_2</th>\n",
       "      <th>subseries_3</th>\n",
       "      <th>subseries_4</th>\n",
       "      <th>filegroup</th>\n",
       "      <th>inventory_range</th>\n",
       "      <th>file</th>\n",
       "      <th>unitdate</th>\n",
       "      <th>inventory_num</th>\n",
       "      <th>...</th>\n",
       "      <th>line_width_range_300-600</th>\n",
       "      <th>line_width_range_600-900</th>\n",
       "      <th>line_width_range_900-1200</th>\n",
       "      <th>line_width_range_1200-1500</th>\n",
       "      <th>line_width_range_1500-1800</th>\n",
       "      <th>line_width_range_1800-2100</th>\n",
       "      <th>line_width_range_2100-2400</th>\n",
       "      <th>line_width_range_2400-2700</th>\n",
       "      <th>line_width_range_2700-</th>\n",
       "      <th>inventory_id</th>\n",
       "    </tr>\n",
       "  </thead>\n",
       "  <tbody>\n",
       "    <tr>\n",
       "      <th>0</th>\n",
       "      <td>De bijlagen bij de resoluties van de Staten-Ge...</td>\n",
       "      <td>De ingekomen delen en dossiers, afzonderlijk v...</td>\n",
       "      <td>Verbalen, journalen, memories en rapporten bet...</td>\n",
       "      <td>Verbalen en journalen van zee-officieren betre...</td>\n",
       "      <td>NaN</td>\n",
       "      <td>NaN</td>\n",
       "      <td>NaN</td>\n",
       "      <td>Rapport aan de Staten-Generaal van vice-admira...</td>\n",
       "      <td>1721</td>\n",
       "      <td>9348</td>\n",
       "      <td>...</td>\n",
       "      <td>4</td>\n",
       "      <td>0</td>\n",
       "      <td>0</td>\n",
       "      <td>0</td>\n",
       "      <td>1</td>\n",
       "      <td>1</td>\n",
       "      <td>1</td>\n",
       "      <td>0</td>\n",
       "      <td>0</td>\n",
       "      <td>NL-HaNA_1.01.02_9348</td>\n",
       "    </tr>\n",
       "    <tr>\n",
       "      <th>1</th>\n",
       "      <td>De bijlagen bij de resoluties van de Staten-Ge...</td>\n",
       "      <td>De ingekomen delen en dossiers, afzonderlijk v...</td>\n",
       "      <td>Verbalen, journalen, memories en rapporten bet...</td>\n",
       "      <td>Verbalen en journalen van zee-officieren betre...</td>\n",
       "      <td>NaN</td>\n",
       "      <td>NaN</td>\n",
       "      <td>NaN</td>\n",
       "      <td>Rapport aan de Staten-Generaal van vice-admira...</td>\n",
       "      <td>1721</td>\n",
       "      <td>9348</td>\n",
       "      <td>...</td>\n",
       "      <td>0</td>\n",
       "      <td>0</td>\n",
       "      <td>0</td>\n",
       "      <td>0</td>\n",
       "      <td>0</td>\n",
       "      <td>0</td>\n",
       "      <td>0</td>\n",
       "      <td>0</td>\n",
       "      <td>0</td>\n",
       "      <td>NL-HaNA_1.01.02_9348</td>\n",
       "    </tr>\n",
       "  </tbody>\n",
       "</table>\n",
       "<p>2 rows × 68 columns</p>\n",
       "</div>"
      ],
      "text/plain": [
       "                                              series  \\\n",
       "0  De bijlagen bij de resoluties van de Staten-Ge...   \n",
       "1  De bijlagen bij de resoluties van de Staten-Ge...   \n",
       "\n",
       "                                         subseries_1  \\\n",
       "0  De ingekomen delen en dossiers, afzonderlijk v...   \n",
       "1  De ingekomen delen en dossiers, afzonderlijk v...   \n",
       "\n",
       "                                         subseries_2  \\\n",
       "0  Verbalen, journalen, memories en rapporten bet...   \n",
       "1  Verbalen, journalen, memories en rapporten bet...   \n",
       "\n",
       "                                         subseries_3 subseries_4 filegroup  \\\n",
       "0  Verbalen en journalen van zee-officieren betre...         NaN       NaN   \n",
       "1  Verbalen en journalen van zee-officieren betre...         NaN       NaN   \n",
       "\n",
       "  inventory_range                                               file unitdate  \\\n",
       "0             NaN  Rapport aan de Staten-Generaal van vice-admira...     1721   \n",
       "1             NaN  Rapport aan de Staten-Generaal van vice-admira...     1721   \n",
       "\n",
       "  inventory_num  ... line_width_range_300-600 line_width_range_600-900  \\\n",
       "0          9348  ...                        4                        0   \n",
       "1          9348  ...                        0                        0   \n",
       "\n",
       "   line_width_range_900-1200  line_width_range_1200-1500  \\\n",
       "0                          0                           0   \n",
       "1                          0                           0   \n",
       "\n",
       "   line_width_range_1500-1800  line_width_range_1800-2100  \\\n",
       "0                           1                           1   \n",
       "1                           0                           0   \n",
       "\n",
       "   line_width_range_2100-2400  line_width_range_2400-2700  \\\n",
       "0                           1                           0   \n",
       "1                           0                           0   \n",
       "\n",
       "   line_width_range_2700-          inventory_id  \n",
       "0                       0  NL-HaNA_1.01.02_9348  \n",
       "1                       0  NL-HaNA_1.01.02_9348  \n",
       "\n",
       "[2 rows x 68 columns]"
      ]
     },
     "execution_count": 9,
     "metadata": {},
     "output_type": "execute_result"
    }
   ],
   "source": [
    "ead_scans = pd.merge(ead, scan_stats, on='inventory_num', how='right')\n",
    "ead_scans.head(2)"
   ]
  },
  {
   "cell_type": "markdown",
   "id": "1de1856f-f9dc-4e86-8970-09c71c27d6fc",
   "metadata": {},
   "source": [
    "## Sanity check\n",
    "\n",
    "All inventory numbers for which we have scan stats should have series information:"
   ]
  },
  {
   "cell_type": "code",
   "execution_count": 10,
   "id": "ea2eee53-2ce9-4dab-bd81-a95d4dfb5eef",
   "metadata": {},
   "outputs": [
    {
     "data": {
      "application/vnd.microsoft.datawrangler.viewer.v0+json": {
       "columns": [
        {
         "name": "index",
         "rawType": "int64",
         "type": "integer"
        },
        {
         "name": "series",
         "rawType": "object",
         "type": "unknown"
        },
        {
         "name": "subseries_1",
         "rawType": "object",
         "type": "unknown"
        },
        {
         "name": "subseries_2",
         "rawType": "object",
         "type": "unknown"
        },
        {
         "name": "subseries_3",
         "rawType": "object",
         "type": "unknown"
        },
        {
         "name": "subseries_4",
         "rawType": "object",
         "type": "unknown"
        },
        {
         "name": "filegroup",
         "rawType": "object",
         "type": "unknown"
        },
        {
         "name": "inventory_range",
         "rawType": "object",
         "type": "unknown"
        },
        {
         "name": "file",
         "rawType": "object",
         "type": "unknown"
        },
        {
         "name": "unitdate",
         "rawType": "object",
         "type": "unknown"
        },
        {
         "name": "inventory_num",
         "rawType": "object",
         "type": "string"
        },
        {
         "name": "mets_file",
         "rawType": "object",
         "type": "unknown"
        },
        {
         "name": "doc_id",
         "rawType": "object",
         "type": "string"
        },
        {
         "name": "doc_num",
         "rawType": "int64",
         "type": "integer"
        },
        {
         "name": "doc_width",
         "rawType": "int64",
         "type": "integer"
        },
        {
         "name": "doc_height",
         "rawType": "int64",
         "type": "integer"
        },
        {
         "name": "lines",
         "rawType": "int64",
         "type": "integer"
        },
        {
         "name": "words",
         "rawType": "int64",
         "type": "integer"
        },
        {
         "name": "text_regions",
         "rawType": "int64",
         "type": "integer"
        },
        {
         "name": "columns",
         "rawType": "int64",
         "type": "integer"
        },
        {
         "name": "extra",
         "rawType": "int64",
         "type": "integer"
        },
        {
         "name": "pages",
         "rawType": "int64",
         "type": "integer"
        },
        {
         "name": "num_words",
         "rawType": "int64",
         "type": "integer"
        },
        {
         "name": "num_alpha_words",
         "rawType": "int64",
         "type": "integer"
        },
        {
         "name": "num_number_words",
         "rawType": "int64",
         "type": "integer"
        },
        {
         "name": "num_title_words",
         "rawType": "int64",
         "type": "integer"
        },
        {
         "name": "num_non_title_words",
         "rawType": "int64",
         "type": "integer"
        },
        {
         "name": "num_stop_words",
         "rawType": "float64",
         "type": "float"
        },
        {
         "name": "num_punctuation_words",
         "rawType": "int64",
         "type": "integer"
        },
        {
         "name": "num_oversized_words",
         "rawType": "int64",
         "type": "integer"
        },
        {
         "name": "words_per_line_0-0",
         "rawType": "int64",
         "type": "integer"
        },
        {
         "name": "words_per_line_1-1",
         "rawType": "int64",
         "type": "integer"
        },
        {
         "name": "words_per_line_2-2",
         "rawType": "int64",
         "type": "integer"
        },
        {
         "name": "words_per_line_3-3",
         "rawType": "int64",
         "type": "integer"
        },
        {
         "name": "words_per_line_4-5",
         "rawType": "int64",
         "type": "integer"
        },
        {
         "name": "words_per_line_6-9",
         "rawType": "int64",
         "type": "integer"
        },
        {
         "name": "words_per_line_10-15",
         "rawType": "int64",
         "type": "integer"
        },
        {
         "name": "words_per_line_16-25",
         "rawType": "int64",
         "type": "integer"
        },
        {
         "name": "words_per_line_26-42",
         "rawType": "int64",
         "type": "integer"
        },
        {
         "name": "words_per_line_43-70",
         "rawType": "int64",
         "type": "integer"
        },
        {
         "name": "words_per_line_71-100",
         "rawType": "int64",
         "type": "integer"
        },
        {
         "name": "alpha_words_per_line_0-0",
         "rawType": "int64",
         "type": "integer"
        },
        {
         "name": "alpha_words_per_line_1-1",
         "rawType": "int64",
         "type": "integer"
        },
        {
         "name": "alpha_words_per_line_2-2",
         "rawType": "int64",
         "type": "integer"
        },
        {
         "name": "alpha_words_per_line_3-3",
         "rawType": "int64",
         "type": "integer"
        },
        {
         "name": "alpha_words_per_line_4-5",
         "rawType": "int64",
         "type": "integer"
        },
        {
         "name": "alpha_words_per_line_6-9",
         "rawType": "int64",
         "type": "integer"
        },
        {
         "name": "alpha_words_per_line_10-15",
         "rawType": "int64",
         "type": "integer"
        },
        {
         "name": "alpha_words_per_line_16-25",
         "rawType": "int64",
         "type": "integer"
        },
        {
         "name": "alpha_words_per_line_26-42",
         "rawType": "int64",
         "type": "integer"
        },
        {
         "name": "alpha_words_per_line_43-70",
         "rawType": "int64",
         "type": "integer"
        },
        {
         "name": "alpha_words_per_line_71-100",
         "rawType": "int64",
         "type": "integer"
        },
        {
         "name": "num_words_length_5",
         "rawType": "int64",
         "type": "integer"
        },
        {
         "name": "num_words_length_10",
         "rawType": "int64",
         "type": "integer"
        },
        {
         "name": "num_words_length_15",
         "rawType": "int64",
         "type": "integer"
        },
        {
         "name": "num_words_length_20",
         "rawType": "int64",
         "type": "integer"
        },
        {
         "name": "num_words_length_25",
         "rawType": "int64",
         "type": "integer"
        },
        {
         "name": "num_words_length_30",
         "rawType": "int64",
         "type": "integer"
        },
        {
         "name": "line_width_range_0-300",
         "rawType": "int64",
         "type": "integer"
        },
        {
         "name": "line_width_range_300-600",
         "rawType": "int64",
         "type": "integer"
        },
        {
         "name": "line_width_range_600-900",
         "rawType": "int64",
         "type": "integer"
        },
        {
         "name": "line_width_range_900-1200",
         "rawType": "int64",
         "type": "integer"
        },
        {
         "name": "line_width_range_1200-1500",
         "rawType": "int64",
         "type": "integer"
        },
        {
         "name": "line_width_range_1500-1800",
         "rawType": "int64",
         "type": "integer"
        },
        {
         "name": "line_width_range_1800-2100",
         "rawType": "int64",
         "type": "integer"
        },
        {
         "name": "line_width_range_2100-2400",
         "rawType": "int64",
         "type": "integer"
        },
        {
         "name": "line_width_range_2400-2700",
         "rawType": "int64",
         "type": "integer"
        },
        {
         "name": "line_width_range_2700-",
         "rawType": "int64",
         "type": "integer"
        },
        {
         "name": "inventory_id",
         "rawType": "object",
         "type": "string"
        }
       ],
       "conversionMethod": "pd.DataFrame",
       "ref": "f2034955-13b5-45b3-84bb-5fbf1200d994",
       "rows": [
        [
         "58582",
         null,
         null,
         null,
         null,
         null,
         null,
         null,
         null,
         null,
         "4848",
         null,
         "NL-HaNA_1.01.02_4848_0001.jpg",
         "1",
         "2493",
         "3875",
         "0",
         "0",
         "0",
         "0",
         "0",
         "0",
         "0",
         "0",
         "0",
         "0",
         "0",
         null,
         "0",
         "0",
         "0",
         "0",
         "0",
         "0",
         "0",
         "0",
         "0",
         "0",
         "0",
         "0",
         "0",
         "0",
         "0",
         "0",
         "0",
         "0",
         "0",
         "0",
         "0",
         "0",
         "0",
         "0",
         "0",
         "0",
         "0",
         "0",
         "0",
         "0",
         "0",
         "0",
         "0",
         "0",
         "0",
         "0",
         "0",
         "0",
         "0",
         "0",
         "NL-HaNA_1.01.02_4848"
        ],
        [
         "58583",
         null,
         null,
         null,
         null,
         null,
         null,
         null,
         null,
         null,
         "4848",
         null,
         "NL-HaNA_1.01.02_4848_0002.jpg",
         "2",
         "4955",
         "4014",
         "2",
         "3",
         "1",
         "0",
         "0",
         "0",
         "3",
         "1",
         "0",
         "2",
         "1",
         null,
         "0",
         "0",
         "0",
         "1",
         "1",
         "0",
         "0",
         "0",
         "0",
         "0",
         "0",
         "0",
         "0",
         "1",
         "1",
         "0",
         "0",
         "0",
         "0",
         "0",
         "0",
         "0",
         "0",
         "0",
         "1",
         "1",
         "1",
         "0",
         "0",
         "0",
         "0",
         "0",
         "2",
         "0",
         "0",
         "0",
         "0",
         "0",
         "0",
         "0",
         "NL-HaNA_1.01.02_4848"
        ],
        [
         "58584",
         null,
         null,
         null,
         null,
         null,
         null,
         null,
         null,
         null,
         "4848",
         null,
         "NL-HaNA_1.01.02_4848_0003.jpg",
         "3",
         "5045",
         "4012",
         "0",
         "0",
         "0",
         "0",
         "0",
         "0",
         "0",
         "0",
         "0",
         "0",
         "0",
         null,
         "0",
         "0",
         "0",
         "0",
         "0",
         "0",
         "0",
         "0",
         "0",
         "0",
         "0",
         "0",
         "0",
         "0",
         "0",
         "0",
         "0",
         "0",
         "0",
         "0",
         "0",
         "0",
         "0",
         "0",
         "0",
         "0",
         "0",
         "0",
         "0",
         "0",
         "0",
         "0",
         "0",
         "0",
         "0",
         "0",
         "0",
         "0",
         "0",
         "0",
         "NL-HaNA_1.01.02_4848"
        ],
        [
         "58585",
         null,
         null,
         null,
         null,
         null,
         null,
         null,
         null,
         null,
         "4848",
         null,
         "NL-HaNA_1.01.02_4848_0004.jpg",
         "4",
         "4977",
         "4028",
         "6",
         "24",
         "2",
         "0",
         "0",
         "0",
         "24",
         "16",
         "3",
         "9",
         "15",
         null,
         "1",
         "0",
         "0",
         "1",
         "0",
         "0",
         "2",
         "2",
         "0",
         "0",
         "0",
         "0",
         "0",
         "1",
         "0",
         "0",
         "1",
         "3",
         "0",
         "0",
         "0",
         "0",
         "0",
         "0",
         "17",
         "7",
         "0",
         "0",
         "0",
         "0",
         "1",
         "0",
         "0",
         "0",
         "4",
         "0",
         "0",
         "0",
         "0",
         "0",
         "NL-HaNA_1.01.02_4848"
        ],
        [
         "58586",
         null,
         null,
         null,
         null,
         null,
         null,
         null,
         null,
         null,
         "4848",
         null,
         "NL-HaNA_1.01.02_4848_0005.jpg",
         "5",
         "4939",
         "3978",
         "14",
         "11",
         "13",
         "0",
         "0",
         "0",
         "11",
         "5",
         "0",
         "5",
         "6",
         null,
         "0",
         "0",
         "0",
         "1",
         "1",
         "0",
         "2",
         "0",
         "0",
         "0",
         "0",
         "0",
         "0",
         "1",
         "1",
         "2",
         "0",
         "0",
         "0",
         "0",
         "0",
         "0",
         "0",
         "0",
         "4",
         "6",
         "1",
         "0",
         "0",
         "0",
         "0",
         "1",
         "1",
         "2",
         "0",
         "0",
         "0",
         "0",
         "0",
         "0",
         "NL-HaNA_1.01.02_4848"
        ],
        [
         "58587",
         null,
         null,
         null,
         null,
         null,
         null,
         null,
         null,
         null,
         "4848",
         null,
         "NL-HaNA_1.01.02_4848_0006.jpg",
         "6",
         "5089",
         "3982",
         "4",
         "0",
         "4",
         "0",
         "0",
         "0",
         "0",
         "0",
         "0",
         "0",
         "0",
         null,
         "0",
         "0",
         "0",
         "0",
         "0",
         "0",
         "0",
         "0",
         "0",
         "0",
         "0",
         "0",
         "0",
         "0",
         "0",
         "0",
         "0",
         "0",
         "0",
         "0",
         "0",
         "0",
         "0",
         "0",
         "0",
         "0",
         "0",
         "0",
         "0",
         "0",
         "0",
         "0",
         "0",
         "0",
         "0",
         "0",
         "0",
         "0",
         "0",
         "0",
         "NL-HaNA_1.01.02_4848"
        ],
        [
         "58588",
         null,
         null,
         null,
         null,
         null,
         null,
         null,
         null,
         null,
         "4848",
         null,
         "NL-HaNA_1.01.02_4848_0007.jpg",
         "7",
         "5000",
         "3920",
         "45",
         "353",
         "3",
         "0",
         "0",
         "0",
         "353",
         "270",
         "0",
         "45",
         "308",
         null,
         "0",
         "0",
         "0",
         "2",
         "1",
         "0",
         "5",
         "24",
         "13",
         "0",
         "0",
         "0",
         "0",
         "3",
         "0",
         "0",
         "1",
         "13",
         "27",
         "1",
         "0",
         "0",
         "0",
         "0",
         "195",
         "131",
         "26",
         "1",
         "0",
         "0",
         "2",
         "2",
         "0",
         "4",
         "0",
         "37",
         "0",
         "0",
         "0",
         "0",
         "NL-HaNA_1.01.02_4848"
        ],
        [
         "58589",
         null,
         null,
         null,
         null,
         null,
         null,
         null,
         null,
         null,
         "4848",
         null,
         "NL-HaNA_1.01.02_4848_0008.jpg",
         "8",
         "5142",
         "4014",
         "93",
         "729",
         "8",
         "0",
         "0",
         "0",
         "729",
         "530",
         "1",
         "90",
         "639",
         null,
         "2",
         "0",
         "0",
         "4",
         "4",
         "2",
         "2",
         "58",
         "23",
         "0",
         "0",
         "0",
         "0",
         "5",
         "4",
         "1",
         "5",
         "18",
         "59",
         "1",
         "0",
         "0",
         "0",
         "0",
         "382",
         "296",
         "49",
         "2",
         "0",
         "0",
         "2",
         "7",
         "1",
         "1",
         "1",
         "65",
         "15",
         "0",
         "1",
         "0",
         "NL-HaNA_1.01.02_4848"
        ],
        [
         "58590",
         null,
         null,
         null,
         null,
         null,
         null,
         null,
         null,
         null,
         "4848",
         null,
         "NL-HaNA_1.01.02_4848_0009.jpg",
         "9",
         "5000",
         "3905",
         "95",
         "730",
         "6",
         "0",
         "0",
         "0",
         "730",
         "581",
         "0",
         "65",
         "665",
         null,
         "1",
         "0",
         "0",
         "4",
         "2",
         "1",
         "7",
         "60",
         "19",
         "0",
         "0",
         "0",
         "0",
         "4",
         "0",
         "4",
         "2",
         "20",
         "60",
         "3",
         "0",
         "0",
         "0",
         "0",
         "394",
         "287",
         "48",
         "1",
         "0",
         "0",
         "4",
         "1",
         "5",
         "3",
         "1",
         "77",
         "2",
         "0",
         "0",
         "0",
         "NL-HaNA_1.01.02_4848"
        ],
        [
         "58591",
         null,
         null,
         null,
         null,
         null,
         null,
         null,
         null,
         null,
         "4848",
         null,
         "NL-HaNA_1.01.02_4848_0010.jpg",
         "10",
         "5147",
         "4016",
         "95",
         "728",
         "4",
         "0",
         "0",
         "0",
         "728",
         "530",
         "1",
         "110",
         "618",
         null,
         "2",
         "0",
         "0",
         "5",
         "0",
         "5",
         "4",
         "66",
         "15",
         "0",
         "0",
         "0",
         "0",
         "5",
         "1",
         "6",
         "1",
         "23",
         "57",
         "2",
         "0",
         "0",
         "0",
         "0",
         "387",
         "275",
         "64",
         "2",
         "0",
         "0",
         "3",
         "3",
         "5",
         "0",
         "1",
         "65",
         "16",
         "0",
         "2",
         "0",
         "NL-HaNA_1.01.02_4848"
        ],
        [
         "58592",
         null,
         null,
         null,
         null,
         null,
         null,
         null,
         null,
         null,
         "4848",
         null,
         "NL-HaNA_1.01.02_4848_0011.jpg",
         "11",
         "5150",
         "4017",
         "103",
         "733",
         "11",
         "0",
         "0",
         "0",
         "733",
         "529",
         "2",
         "94",
         "639",
         null,
         "1",
         "0",
         "0",
         "9",
         "2",
         "6",
         "5",
         "67",
         "14",
         "0",
         "0",
         "0",
         "0",
         "9",
         "1",
         "6",
         "5",
         "23",
         "59",
         "0",
         "0",
         "0",
         "0",
         "0",
         "377",
         "295",
         "60",
         "1",
         "0",
         "0",
         "4",
         "6",
         "9",
         "1",
         "2",
         "70",
         "11",
         "0",
         "0",
         "0",
         "NL-HaNA_1.01.02_4848"
        ],
        [
         "58593",
         null,
         null,
         null,
         null,
         null,
         null,
         null,
         null,
         null,
         "4848",
         null,
         "NL-HaNA_1.01.02_4848_0012.jpg",
         "12",
         "5155",
         "4020",
         "122",
         "873",
         "4",
         "0",
         "0",
         "0",
         "873",
         "641",
         "2",
         "127",
         "746",
         null,
         "5",
         "0",
         "0",
         "15",
         "5",
         "5",
         "8",
         "62",
         "24",
         "2",
         "0",
         "0",
         "0",
         "16",
         "5",
         "2",
         "8",
         "22",
         "61",
         "7",
         "0",
         "0",
         "0",
         "0",
         "433",
         "368",
         "69",
         "3",
         "0",
         "0",
         "12",
         "12",
         "11",
         "2",
         "2",
         "54",
         "15",
         "4",
         "9",
         "0",
         "NL-HaNA_1.01.02_4848"
        ],
        [
         "58594",
         null,
         null,
         null,
         null,
         null,
         null,
         null,
         null,
         null,
         "4848",
         null,
         "NL-HaNA_1.01.02_4848_0013.jpg",
         "13",
         "5000",
         "3897",
         "99",
         "749",
         "4",
         "0",
         "0",
         "0",
         "749",
         "572",
         "1",
         "98",
         "651",
         null,
         "1",
         "0",
         "0",
         "8",
         "2",
         "0",
         "1",
         "71",
         "17",
         "0",
         "0",
         "0",
         "0",
         "9",
         "1",
         "0",
         "3",
         "23",
         "63",
         "0",
         "0",
         "0",
         "0",
         "0",
         "385",
         "295",
         "68",
         "1",
         "0",
         "0",
         "5",
         "5",
         "0",
         "0",
         "2",
         "83",
         "2",
         "2",
         "0",
         "0",
         "NL-HaNA_1.01.02_4848"
        ],
        [
         "58595",
         null,
         null,
         null,
         null,
         null,
         null,
         null,
         null,
         null,
         "4848",
         null,
         "NL-HaNA_1.01.02_4848_0014.jpg",
         "14",
         "5161",
         "4025",
         "111",
         "779",
         "8",
         "0",
         "0",
         "0",
         "779",
         "575",
         "0",
         "109",
         "670",
         null,
         "3",
         "0",
         "0",
         "11",
         "4",
         "6",
         "4",
         "71",
         "15",
         "0",
         "0",
         "0",
         "0",
         "12",
         "2",
         "6",
         "4",
         "30",
         "56",
         "1",
         "0",
         "0",
         "0",
         "0",
         "391",
         "314",
         "67",
         "7",
         "0",
         "0",
         "6",
         "11",
         "6",
         "1",
         "1",
         "78",
         "7",
         "0",
         "1",
         "0",
         "NL-HaNA_1.01.02_4848"
        ],
        [
         "58596",
         null,
         null,
         null,
         null,
         null,
         null,
         null,
         null,
         null,
         "4848",
         null,
         "NL-HaNA_1.01.02_4848_0015.jpg",
         "15",
         "5167",
         "4029",
         "101",
         "788",
         "11",
         "0",
         "0",
         "0",
         "788",
         "591",
         "0",
         "90",
         "698",
         null,
         "0",
         "0",
         "0",
         "4",
         "5",
         "3",
         "5",
         "59",
         "24",
         "0",
         "0",
         "0",
         "0",
         "4",
         "4",
         "5",
         "4",
         "17",
         "62",
         "4",
         "0",
         "0",
         "0",
         "0",
         "426",
         "299",
         "59",
         "4",
         "0",
         "0",
         "3",
         "5",
         "8",
         "0",
         "0",
         "73",
         "8",
         "0",
         "3",
         "0",
         "NL-HaNA_1.01.02_4848"
        ],
        [
         "58597",
         null,
         null,
         null,
         null,
         null,
         null,
         null,
         null,
         null,
         "4848",
         null,
         "NL-HaNA_1.01.02_4848_0016.jpg",
         "16",
         "5168",
         "4032",
         "96",
         "794",
         "12",
         "0",
         "0",
         "0",
         "794",
         "589",
         "0",
         "95",
         "699",
         null,
         "0",
         "0",
         "0",
         "1",
         "2",
         "5",
         "0",
         "61",
         "27",
         "0",
         "0",
         "0",
         "0",
         "1",
         "2",
         "2",
         "6",
         "21",
         "61",
         "3",
         "0",
         "0",
         "0",
         "0",
         "420",
         "296",
         "75",
         "3",
         "0",
         "0",
         "0",
         "4",
         "5",
         "1",
         "1",
         "71",
         "14",
         "0",
         "0",
         "0",
         "NL-HaNA_1.01.02_4848"
        ],
        [
         "58598",
         null,
         null,
         null,
         null,
         null,
         null,
         null,
         null,
         null,
         "4848",
         null,
         "NL-HaNA_1.01.02_4848_0017.jpg",
         "17",
         "5158",
         "4037",
         "100",
         "828",
         "7",
         "0",
         "0",
         "0",
         "828",
         "627",
         "1",
         "127",
         "701",
         null,
         "0",
         "0",
         "0",
         "5",
         "1",
         "2",
         "6",
         "53",
         "33",
         "0",
         "0",
         "0",
         "0",
         "5",
         "0",
         "4",
         "3",
         "16",
         "67",
         "5",
         "0",
         "0",
         "0",
         "0",
         "465",
         "313",
         "49",
         "1",
         "0",
         "0",
         "2",
         "5",
         "5",
         "1",
         "2",
         "70",
         "14",
         "0",
         "1",
         "0",
         "NL-HaNA_1.01.02_4848"
        ],
        [
         "58599",
         null,
         null,
         null,
         null,
         null,
         null,
         null,
         null,
         null,
         "4848",
         null,
         "NL-HaNA_1.01.02_4848_0018.jpg",
         "18",
         "5000",
         "3928",
         "120",
         "843",
         "14",
         "0",
         "0",
         "0",
         "843",
         "621",
         "1",
         "143",
         "700",
         null,
         "2",
         "0",
         "0",
         "15",
         "3",
         "4",
         "7",
         "69",
         "21",
         "0",
         "0",
         "0",
         "0",
         "13",
         "6",
         "1",
         "8",
         "26",
         "62",
         "3",
         "0",
         "0",
         "0",
         "0",
         "443",
         "331",
         "65",
         "4",
         "0",
         "0",
         "7",
         "13",
         "8",
         "4",
         "1",
         "84",
         "2",
         "0",
         "0",
         "0",
         "NL-HaNA_1.01.02_4848"
        ],
        [
         "58600",
         null,
         null,
         null,
         null,
         null,
         null,
         null,
         null,
         null,
         "4848",
         null,
         "NL-HaNA_1.01.02_4848_0019.jpg",
         "19",
         "5138",
         "4041",
         "113",
         "815",
         "9",
         "0",
         "0",
         "0",
         "815",
         "604",
         "2",
         "124",
         "691",
         null,
         "0",
         "0",
         "0",
         "12",
         "2",
         "5",
         "6",
         "65",
         "23",
         "0",
         "0",
         "0",
         "0",
         "11",
         "3",
         "4",
         "6",
         "27",
         "61",
         "1",
         "0",
         "0",
         "0",
         "0",
         "412",
         "327",
         "76",
         "0",
         "0",
         "0",
         "8",
         "10",
         "4",
         "0",
         "1",
         "66",
         "23",
         "1",
         "0",
         "0",
         "NL-HaNA_1.01.02_4848"
        ],
        [
         "58601",
         null,
         null,
         null,
         null,
         null,
         null,
         null,
         null,
         null,
         "4848",
         null,
         "NL-HaNA_1.01.02_4848_0020.jpg",
         "20",
         "5151",
         "4042",
         "109",
         "894",
         "5",
         "0",
         "0",
         "0",
         "894",
         "648",
         "0",
         "143",
         "751",
         null,
         "2",
         "0",
         "0",
         "7",
         "1",
         "1",
         "1",
         "66",
         "32",
         "0",
         "0",
         "0",
         "0",
         "6",
         "2",
         "1",
         "1",
         "27",
         "67",
         "4",
         "0",
         "0",
         "0",
         "0",
         "477",
         "356",
         "58",
         "3",
         "0",
         "0",
         "5",
         "3",
         "2",
         "0",
         "0",
         "86",
         "11",
         "1",
         "0",
         "0",
         "NL-HaNA_1.01.02_4848"
        ],
        [
         "58602",
         null,
         null,
         null,
         null,
         null,
         null,
         null,
         null,
         null,
         "4848",
         null,
         "NL-HaNA_1.01.02_4848_0021.jpg",
         "21",
         "5000",
         "3929",
         "117",
         "838",
         "6",
         "0",
         "0",
         "0",
         "838",
         "633",
         "1",
         "156",
         "682",
         null,
         "1",
         "0",
         "0",
         "12",
         "3",
         "6",
         "9",
         "63",
         "24",
         "0",
         "0",
         "0",
         "0",
         "13",
         "3",
         "5",
         "7",
         "17",
         "67",
         "5",
         "0",
         "0",
         "0",
         "0",
         "434",
         "339",
         "61",
         "4",
         "0",
         "0",
         "7",
         "16",
         "5",
         "1",
         "1",
         "78",
         "7",
         "2",
         "0",
         "0",
         "NL-HaNA_1.01.02_4848"
        ],
        [
         "58603",
         null,
         null,
         null,
         null,
         null,
         null,
         null,
         null,
         null,
         "4848",
         null,
         "NL-HaNA_1.01.02_4848_0022.jpg",
         "22",
         "5137",
         "4035",
         "109",
         "799",
         "9",
         "0",
         "0",
         "0",
         "799",
         "613",
         "0",
         "114",
         "685",
         null,
         "0",
         "0",
         "0",
         "9",
         "3",
         "4",
         "8",
         "64",
         "21",
         "0",
         "0",
         "0",
         "0",
         "9",
         "3",
         "4",
         "8",
         "21",
         "60",
         "4",
         "0",
         "0",
         "0",
         "0",
         "421",
         "322",
         "51",
         "5",
         "0",
         "0",
         "9",
         "5",
         "7",
         "2",
         "0",
         "50",
         "33",
         "0",
         "3",
         "0",
         "NL-HaNA_1.01.02_4848"
        ],
        [
         "58604",
         null,
         null,
         null,
         null,
         null,
         null,
         null,
         null,
         null,
         "4848",
         null,
         "NL-HaNA_1.01.02_4848_0023.jpg",
         "23",
         "5131",
         "4033",
         "113",
         "815",
         "10",
         "0",
         "0",
         "0",
         "815",
         "620",
         "0",
         "125",
         "690",
         null,
         "1",
         "0",
         "0",
         "10",
         "1",
         "7",
         "3",
         "74",
         "17",
         "0",
         "0",
         "0",
         "0",
         "9",
         "3",
         "4",
         "5",
         "24",
         "67",
         "0",
         "0",
         "0",
         "0",
         "0",
         "421",
         "322",
         "71",
         "1",
         "0",
         "0",
         "5",
         "10",
         "6",
         "0",
         "4",
         "52",
         "35",
         "0",
         "0",
         "0",
         "NL-HaNA_1.01.02_4848"
        ],
        [
         "58605",
         null,
         null,
         null,
         null,
         null,
         null,
         null,
         null,
         null,
         "4848",
         null,
         "NL-HaNA_1.01.02_4848_0024.jpg",
         "24",
         "5128",
         "4044",
         "100",
         "746",
         "3",
         "0",
         "0",
         "0",
         "746",
         "564",
         "0",
         "68",
         "678",
         null,
         "2",
         "0",
         "0",
         "6",
         "2",
         "3",
         "3",
         "74",
         "12",
         "0",
         "0",
         "0",
         "0",
         "7",
         "2",
         "3",
         "3",
         "20",
         "64",
         "1",
         "0",
         "0",
         "0",
         "0",
         "394",
         "286",
         "63",
         "3",
         "0",
         "0",
         "2",
         "7",
         "3",
         "0",
         "1",
         "44",
         "42",
         "1",
         "0",
         "0",
         "NL-HaNA_1.01.02_4848"
        ],
        [
         "58606",
         null,
         null,
         null,
         null,
         null,
         null,
         null,
         null,
         null,
         "4848",
         null,
         "NL-HaNA_1.01.02_4848_0025.jpg",
         "25",
         "5000",
         "3959",
         "101",
         "711",
         "13",
         "0",
         "0",
         "0",
         "711",
         "546",
         "0",
         "113",
         "598",
         null,
         "1",
         "0",
         "0",
         "8",
         "4",
         "3",
         "11",
         "57",
         "18",
         "0",
         "0",
         "0",
         "0",
         "8",
         "4",
         "3",
         "8",
         "22",
         "54",
         "2",
         "0",
         "0",
         "0",
         "0",
         "369",
         "284",
         "55",
         "3",
         "0",
         "0",
         "5",
         "7",
         "8",
         "3",
         "3",
         "67",
         "6",
         "2",
         "0",
         "0",
         "NL-HaNA_1.01.02_4848"
        ],
        [
         "58607",
         null,
         null,
         null,
         null,
         null,
         null,
         null,
         null,
         null,
         "4848",
         null,
         "NL-HaNA_1.01.02_4848_0026.jpg",
         "26",
         "5116",
         "4037",
         "88",
         "762",
         "8",
         "0",
         "0",
         "0",
         "762",
         "596",
         "0",
         "41",
         "721",
         null,
         "0",
         "0",
         "0",
         "1",
         "1",
         "0",
         "1",
         "62",
         "23",
         "0",
         "0",
         "0",
         "0",
         "1",
         "1",
         "1",
         "1",
         "13",
         "65",
         "6",
         "0",
         "0",
         "0",
         "0",
         "423",
         "277",
         "55",
         "7",
         "0",
         "0",
         "1",
         "1",
         "1",
         "0",
         "2",
         "45",
         "38",
         "0",
         "0",
         "0",
         "NL-HaNA_1.01.02_4848"
        ],
        [
         "58608",
         null,
         null,
         null,
         null,
         null,
         null,
         null,
         null,
         null,
         "4848",
         null,
         "NL-HaNA_1.01.02_4848_0027.jpg",
         "27",
         "5134",
         "4048",
         "87",
         "601",
         "15",
         "0",
         "0",
         "0",
         "601",
         "463",
         "1",
         "62",
         "539",
         null,
         "0",
         "0",
         "0",
         "1",
         "2",
         "3",
         "11",
         "62",
         "8",
         "0",
         "0",
         "0",
         "0",
         "1",
         "4",
         "4",
         "4",
         "29",
         "44",
         "1",
         "0",
         "0",
         "0",
         "0",
         "309",
         "245",
         "40",
         "7",
         "0",
         "0",
         "0",
         "5",
         "4",
         "5",
         "37",
         "7",
         "29",
         "0",
         "0",
         "0",
         "NL-HaNA_1.01.02_4848"
        ],
        [
         "58609",
         null,
         null,
         null,
         null,
         null,
         null,
         null,
         null,
         null,
         "4848",
         null,
         "NL-HaNA_1.01.02_4848_0028.jpg",
         "28",
         "5148",
         "4049",
         "92",
         "521",
         "18",
         "0",
         "0",
         "0",
         "521",
         "405",
         "0",
         "54",
         "467",
         null,
         "3",
         "0",
         "0",
         "2",
         "3",
         "9",
         "17",
         "61",
         "0",
         "0",
         "0",
         "0",
         "0",
         "2",
         "11",
         "4",
         "6",
         "44",
         "25",
         "0",
         "0",
         "0",
         "0",
         "0",
         "293",
         "183",
         "45",
         "0",
         "0",
         "0",
         "3",
         "10",
         "1",
         "5",
         "72",
         "1",
         "0",
         "0",
         "0",
         "0",
         "NL-HaNA_1.01.02_4848"
        ],
        [
         "58610",
         null,
         null,
         null,
         null,
         null,
         null,
         null,
         null,
         null,
         "4848",
         null,
         "NL-HaNA_1.01.02_4848_0029.jpg",
         "29",
         "5145",
         "4038",
         "93",
         "504",
         "21",
         "0",
         "0",
         "0",
         "504",
         "368",
         "0",
         "73",
         "431",
         null,
         "0",
         "0",
         "0",
         "4",
         "4",
         "11",
         "20",
         "53",
         "0",
         "0",
         "0",
         "0",
         "0",
         "4",
         "9",
         "9",
         "10",
         "35",
         "25",
         "0",
         "0",
         "0",
         "0",
         "0",
         "284",
         "177",
         "39",
         "4",
         "0",
         "0",
         "2",
         "12",
         "3",
         "15",
         "52",
         "2",
         "6",
         "0",
         "0",
         "0",
         "NL-HaNA_1.01.02_4848"
        ],
        [
         "58611",
         null,
         null,
         null,
         null,
         null,
         null,
         null,
         null,
         null,
         "4848",
         null,
         "NL-HaNA_1.01.02_4848_0030.jpg",
         "30",
         "5138",
         "4012",
         "91",
         "713",
         "12",
         "0",
         "0",
         "0",
         "713",
         "536",
         "0",
         "87",
         "626",
         null,
         "1",
         "0",
         "0",
         "2",
         "1",
         "1",
         "4",
         "67",
         "15",
         "0",
         "0",
         "0",
         "0",
         "3",
         "0",
         "2",
         "3",
         "25",
         "57",
         "0",
         "0",
         "0",
         "0",
         "0",
         "368",
         "279",
         "63",
         "3",
         "0",
         "0",
         "0",
         "3",
         "3",
         "1",
         "0",
         "41",
         "42",
         "0",
         "0",
         "0",
         "NL-HaNA_1.01.02_4848"
        ],
        [
         "58612",
         null,
         null,
         null,
         null,
         null,
         null,
         null,
         null,
         null,
         "4848",
         null,
         "NL-HaNA_1.01.02_4848_0031.jpg",
         "31",
         "5117",
         "4035",
         "51",
         "338",
         "6",
         "0",
         "0",
         "0",
         "338",
         "254",
         "0",
         "56",
         "282",
         null,
         "0",
         "0",
         "0",
         "9",
         "1",
         "3",
         "1",
         "30",
         "7",
         "0",
         "0",
         "0",
         "0",
         "8",
         "2",
         "3",
         "1",
         "9",
         "26",
         "2",
         "0",
         "0",
         "0",
         "0",
         "174",
         "128",
         "33",
         "3",
         "0",
         "0",
         "2",
         "9",
         "3",
         "0",
         "0",
         "10",
         "27",
         "0",
         "0",
         "0",
         "NL-HaNA_1.01.02_4848"
        ],
        [
         "58613",
         null,
         null,
         null,
         null,
         null,
         null,
         null,
         null,
         null,
         "4848",
         null,
         "NL-HaNA_1.01.02_4848_0032.jpg",
         "32",
         "5163",
         "4029",
         "47",
         "414",
         "5",
         "0",
         "0",
         "0",
         "414",
         "314",
         "0",
         "30",
         "384",
         null,
         "1",
         "0",
         "0",
         "3",
         "0",
         "0",
         "0",
         "24",
         "20",
         "0",
         "0",
         "0",
         "0",
         "3",
         "0",
         "0",
         "0",
         "6",
         "37",
         "1",
         "0",
         "0",
         "0",
         "0",
         "221",
         "168",
         "25",
         "0",
         "0",
         "0",
         "1",
         "2",
         "0",
         "0",
         "0",
         "16",
         "27",
         "1",
         "0",
         "0",
         "NL-HaNA_1.01.02_4848"
        ],
        [
         "58614",
         null,
         null,
         null,
         null,
         null,
         null,
         null,
         null,
         null,
         "4848",
         null,
         "NL-HaNA_1.01.02_4848_0033.jpg",
         "33",
         "5174",
         "4026",
         "105",
         "737",
         "6",
         "0",
         "0",
         "0",
         "737",
         "544",
         "0",
         "109",
         "628",
         null,
         "0",
         "0",
         "0",
         "10",
         "4",
         "3",
         "5",
         "69",
         "13",
         "0",
         "0",
         "0",
         "0",
         "9",
         "6",
         "3",
         "6",
         "22",
         "55",
         "3",
         "0",
         "0",
         "0",
         "0",
         "365",
         "318",
         "51",
         "3",
         "0",
         "0",
         "6",
         "6",
         "8",
         "2",
         "1",
         "21",
         "57",
         "2",
         "1",
         "0",
         "NL-HaNA_1.01.02_4848"
        ],
        [
         "58615",
         null,
         null,
         null,
         null,
         null,
         null,
         null,
         null,
         null,
         "4848",
         null,
         "NL-HaNA_1.01.02_4848_0034.jpg",
         "34",
         "5184",
         "4036",
         "101",
         "787",
         "5",
         "0",
         "0",
         "0",
         "787",
         "593",
         "0",
         "89",
         "698",
         null,
         "2",
         "0",
         "0",
         "6",
         "2",
         "1",
         "4",
         "65",
         "23",
         "0",
         "0",
         "0",
         "0",
         "6",
         "1",
         "3",
         "1",
         "23",
         "66",
         "1",
         "0",
         "0",
         "0",
         "0",
         "409",
         "304",
         "70",
         "4",
         "0",
         "0",
         "3",
         "5",
         "3",
         "1",
         "0",
         "15",
         "74",
         "0",
         "0",
         "0",
         "NL-HaNA_1.01.02_4848"
        ],
        [
         "58616",
         null,
         null,
         null,
         null,
         null,
         null,
         null,
         null,
         null,
         "4848",
         null,
         "NL-HaNA_1.01.02_4848_0035.jpg",
         "35",
         "5194",
         "4040",
         "91",
         "677",
         "11",
         "0",
         "0",
         "0",
         "677",
         "504",
         "0",
         "106",
         "571",
         null,
         "1",
         "0",
         "0",
         "4",
         "1",
         "3",
         "2",
         "68",
         "13",
         "0",
         "0",
         "0",
         "0",
         "4",
         "2",
         "5",
         "5",
         "23",
         "51",
         "1",
         "0",
         "0",
         "0",
         "0",
         "341",
         "259",
         "77",
         "0",
         "0",
         "0",
         "3",
         "2",
         "2",
         "2",
         "2",
         "26",
         "54",
         "0",
         "0",
         "0",
         "NL-HaNA_1.01.02_4848"
        ],
        [
         "58617",
         null,
         null,
         null,
         null,
         null,
         null,
         null,
         null,
         null,
         "4848",
         null,
         "NL-HaNA_1.01.02_4848_0036.jpg",
         "36",
         "5201",
         "4047",
         "101",
         "742",
         "7",
         "0",
         "0",
         "0",
         "742",
         "558",
         "2",
         "105",
         "637",
         null,
         "3",
         "0",
         "0",
         "9",
         "1",
         "4",
         "3",
         "72",
         "12",
         "0",
         "0",
         "0",
         "0",
         "8",
         "4",
         "2",
         "4",
         "26",
         "55",
         "2",
         "0",
         "0",
         "0",
         "0",
         "389",
         "297",
         "52",
         "4",
         "0",
         "0",
         "4",
         "10",
         "2",
         "0",
         "1",
         "46",
         "37",
         "0",
         "1",
         "0",
         "NL-HaNA_1.01.02_4848"
        ],
        [
         "58618",
         null,
         null,
         null,
         null,
         null,
         null,
         null,
         null,
         null,
         "4848",
         null,
         "NL-HaNA_1.01.02_4848_0037.jpg",
         "37",
         "5211",
         "4053",
         "87",
         "698",
         "5",
         "0",
         "0",
         "0",
         "698",
         "550",
         "0",
         "100",
         "598",
         null,
         "1",
         "0",
         "0",
         "3",
         "1",
         "3",
         "0",
         "62",
         "18",
         "0",
         "0",
         "0",
         "0",
         "4",
         "0",
         "3",
         "1",
         "15",
         "59",
         "5",
         "0",
         "0",
         "0",
         "0",
         "398",
         "251",
         "48",
         "1",
         "0",
         "0",
         "1",
         "3",
         "2",
         "1",
         "0",
         "48",
         "32",
         "0",
         "0",
         "0",
         "NL-HaNA_1.01.02_4848"
        ],
        [
         "58619",
         null,
         null,
         null,
         null,
         null,
         null,
         null,
         null,
         null,
         "4848",
         null,
         "NL-HaNA_1.01.02_4848_0038.jpg",
         "38",
         "5219",
         "4057",
         "80",
         "620",
         "14",
         "0",
         "0",
         "0",
         "620",
         "503",
         "0",
         "66",
         "554",
         null,
         "1",
         "0",
         "0",
         "3",
         "2",
         "1",
         "4",
         "56",
         "14",
         "0",
         "0",
         "0",
         "0",
         "3",
         "2",
         "3",
         "1",
         "13",
         "55",
         "3",
         "0",
         "0",
         "0",
         "0",
         "342",
         "235",
         "43",
         "0",
         "0",
         "0",
         "1",
         "3",
         "2",
         "3",
         "1",
         "41",
         "29",
         "0",
         "0",
         "0",
         "NL-HaNA_1.01.02_4848"
        ],
        [
         "58620",
         null,
         null,
         null,
         null,
         null,
         null,
         null,
         null,
         null,
         "4848",
         null,
         "NL-HaNA_1.01.02_4848_0039.jpg",
         "39",
         "5238",
         "4079",
         "93",
         "770",
         "9",
         "0",
         "0",
         "0",
         "770",
         "595",
         "0",
         "78",
         "692",
         null,
         "3",
         "0",
         "0",
         "2",
         "0",
         "0",
         "4",
         "58",
         "29",
         "0",
         "0",
         "0",
         "0",
         "2",
         "0",
         "0",
         "6",
         "11",
         "72",
         "2",
         "0",
         "0",
         "0",
         "0",
         "408",
         "309",
         "53",
         "0",
         "0",
         "0",
         "2",
         "0",
         "1",
         "2",
         "1",
         "58",
         "29",
         "0",
         "0",
         "0",
         "NL-HaNA_1.01.02_4848"
        ],
        [
         "58621",
         null,
         null,
         null,
         null,
         null,
         null,
         null,
         null,
         null,
         "4848",
         null,
         "NL-HaNA_1.01.02_4848_0040.jpg",
         "40",
         "5220",
         "4051",
         "102",
         "742",
         "9",
         "0",
         "0",
         "0",
         "742",
         "572",
         "1",
         "129",
         "613",
         null,
         "0",
         "0",
         "0",
         "10",
         "1",
         "3",
         "4",
         "71",
         "13",
         "0",
         "0",
         "0",
         "0",
         "10",
         "1",
         "2",
         "4",
         "20",
         "64",
         "1",
         "0",
         "0",
         "0",
         "0",
         "360",
         "323",
         "57",
         "2",
         "0",
         "0",
         "7",
         "5",
         "3",
         "2",
         "0",
         "46",
         "38",
         "1",
         "0",
         "0",
         "NL-HaNA_1.01.02_4848"
        ],
        [
         "58622",
         null,
         null,
         null,
         null,
         null,
         null,
         null,
         null,
         null,
         "4848",
         null,
         "NL-HaNA_1.01.02_4848_0041.jpg",
         "41",
         "5227",
         "4055",
         "96",
         "814",
         "4",
         "0",
         "0",
         "0",
         "814",
         "635",
         "1",
         "90",
         "724",
         null,
         "2",
         "0",
         "0",
         "4",
         "0",
         "1",
         "0",
         "63",
         "28",
         "0",
         "0",
         "0",
         "0",
         "4",
         "0",
         "1",
         "0",
         "14",
         "73",
         "4",
         "0",
         "0",
         "0",
         "0",
         "436",
         "321",
         "55",
         "2",
         "0",
         "0",
         "3",
         "2",
         "0",
         "0",
         "0",
         "71",
         "17",
         "1",
         "2",
         "0",
         "NL-HaNA_1.01.02_4848"
        ],
        [
         "58623",
         null,
         null,
         null,
         null,
         null,
         null,
         null,
         null,
         null,
         "4848",
         null,
         "NL-HaNA_1.01.02_4848_0042.jpg",
         "42",
         "5231",
         "4054",
         "94",
         "774",
         "6",
         "0",
         "0",
         "0",
         "774",
         "598",
         "1",
         "73",
         "701",
         null,
         "1",
         "0",
         "0",
         "3",
         "0",
         "1",
         "0",
         "70",
         "20",
         "0",
         "0",
         "0",
         "0",
         "3",
         "0",
         "1",
         "2",
         "17",
         "68",
         "3",
         "0",
         "0",
         "0",
         "0",
         "416",
         "301",
         "57",
         "0",
         "0",
         "0",
         "3",
         "0",
         "1",
         "1",
         "0",
         "73",
         "16",
         "0",
         "0",
         "0",
         "NL-HaNA_1.01.02_4848"
        ],
        [
         "58624",
         null,
         null,
         null,
         null,
         null,
         null,
         null,
         null,
         null,
         "4848",
         null,
         "NL-HaNA_1.01.02_4848_0043.jpg",
         "43",
         "5000",
         "3874",
         "104",
         "752",
         "8",
         "0",
         "0",
         "0",
         "752",
         "559",
         "2",
         "108",
         "644",
         null,
         "1",
         "0",
         "0",
         "10",
         "1",
         "6",
         "6",
         "64",
         "17",
         "0",
         "0",
         "0",
         "0",
         "10",
         "2",
         "5",
         "4",
         "20",
         "62",
         "1",
         "0",
         "0",
         "0",
         "0",
         "393",
         "308",
         "50",
         "1",
         "0",
         "0",
         "6",
         "6",
         "7",
         "4",
         "3",
         "74",
         "3",
         "1",
         "0",
         "0",
         "NL-HaNA_1.01.02_4848"
        ],
        [
         "58625",
         null,
         null,
         null,
         null,
         null,
         null,
         null,
         null,
         null,
         "4848",
         null,
         "NL-HaNA_1.01.02_4848_0044.jpg",
         "44",
         "5000",
         "3873",
         "111",
         "803",
         "18",
         "0",
         "0",
         "0",
         "803",
         "587",
         "0",
         "175",
         "628",
         null,
         "3",
         "0",
         "0",
         "13",
         "2",
         "6",
         "2",
         "62",
         "25",
         "0",
         "0",
         "0",
         "0",
         "12",
         "5",
         "5",
         "2",
         "17",
         "67",
         "2",
         "0",
         "0",
         "0",
         "0",
         "417",
         "329",
         "57",
         "0",
         "0",
         "0",
         "6",
         "13",
         "7",
         "0",
         "2",
         "81",
         "1",
         "0",
         "0",
         "0",
         "NL-HaNA_1.01.02_4848"
        ],
        [
         "58626",
         null,
         null,
         null,
         null,
         null,
         null,
         null,
         null,
         null,
         "4848",
         null,
         "NL-HaNA_1.01.02_4848_0045.jpg",
         "45",
         "5000",
         "3885",
         "103",
         "835",
         "9",
         "0",
         "0",
         "0",
         "835",
         "636",
         "0",
         "145",
         "690",
         null,
         "0",
         "0",
         "0",
         "4",
         "3",
         "1",
         "5",
         "57",
         "32",
         "0",
         "0",
         "0",
         "0",
         "4",
         "3",
         "3",
         "3",
         "16",
         "70",
         "3",
         "0",
         "0",
         "0",
         "0",
         "439",
         "342",
         "51",
         "3",
         "0",
         "0",
         "3",
         "5",
         "3",
         "2",
         "0",
         "86",
         "2",
         "1",
         "0",
         "0",
         "NL-HaNA_1.01.02_4848"
        ],
        [
         "58627",
         null,
         null,
         null,
         null,
         null,
         null,
         null,
         null,
         null,
         "4848",
         null,
         "NL-HaNA_1.01.02_4848_0046.jpg",
         "46",
         "5000",
         "3890",
         "100",
         "842",
         "9",
         "0",
         "0",
         "0",
         "842",
         "625",
         "1",
         "141",
         "701",
         null,
         "1",
         "0",
         "0",
         "3",
         "2",
         "3",
         "1",
         "56",
         "35",
         "0",
         "0",
         "0",
         "0",
         "3",
         "2",
         "2",
         "1",
         "21",
         "67",
         "4",
         "0",
         "0",
         "0",
         "0",
         "439",
         "354",
         "47",
         "2",
         "0",
         "0",
         "3",
         "5",
         "2",
         "0",
         "1",
         "86",
         "3",
         "0",
         "0",
         "0",
         "NL-HaNA_1.01.02_4848"
        ],
        [
         "58628",
         null,
         null,
         null,
         null,
         null,
         null,
         null,
         null,
         null,
         "4848",
         null,
         "NL-HaNA_1.01.02_4848_0047.jpg",
         "47",
         "5000",
         "3895",
         "107",
         "890",
         "10",
         "0",
         "0",
         "0",
         "890",
         "666",
         "0",
         "90",
         "800",
         null,
         "3",
         "0",
         "0",
         "4",
         "0",
         "4",
         "9",
         "51",
         "39",
         "0",
         "0",
         "0",
         "0",
         "4",
         "1",
         "4",
         "7",
         "16",
         "68",
         "7",
         "0",
         "0",
         "0",
         "0",
         "486",
         "353",
         "48",
         "3",
         "0",
         "0",
         "4",
         "3",
         "9",
         "1",
         "0",
         "88",
         "2",
         "0",
         "0",
         "0",
         "NL-HaNA_1.01.02_4848"
        ],
        [
         "58629",
         null,
         null,
         null,
         null,
         null,
         null,
         null,
         null,
         null,
         "4848",
         null,
         "NL-HaNA_1.01.02_4848_0048.jpg",
         "48",
         "5198",
         "4042",
         "107",
         "863",
         "5",
         "0",
         "0",
         "0",
         "863",
         "664",
         "0",
         "127",
         "736",
         null,
         "2",
         "0",
         "0",
         "5",
         "4",
         "2",
         "3",
         "66",
         "27",
         "0",
         "0",
         "0",
         "0",
         "6",
         "3",
         "3",
         "1",
         "14",
         "77",
         "3",
         "0",
         "0",
         "0",
         "0",
         "430",
         "363",
         "69",
         "1",
         "0",
         "0",
         "3",
         "5",
         "5",
         "1",
         "0",
         "55",
         "37",
         "0",
         "1",
         "0",
         "NL-HaNA_1.01.02_4848"
        ],
        [
         "58630",
         null,
         null,
         null,
         null,
         null,
         null,
         null,
         null,
         null,
         "4848",
         null,
         "NL-HaNA_1.01.02_4848_0049.jpg",
         "49",
         "5183",
         "4066",
         "103",
         "819",
         "4",
         "0",
         "0",
         "0",
         "819",
         "625",
         "1",
         "90",
         "729",
         null,
         "2",
         "0",
         "0",
         "4",
         "1",
         "1",
         "2",
         "77",
         "17",
         "0",
         "0",
         "0",
         "0",
         "3",
         "2",
         "1",
         "1",
         "24",
         "71",
         "0",
         "0",
         "0",
         "0",
         "0",
         "439",
         "295",
         "83",
         "2",
         "0",
         "0",
         "2",
         "3",
         "1",
         "0",
         "2",
         "71",
         "23",
         "0",
         "0",
         "0",
         "NL-HaNA_1.01.02_4848"
        ],
        [
         "58631",
         null,
         null,
         null,
         null,
         null,
         null,
         null,
         null,
         null,
         "4848",
         null,
         "NL-HaNA_1.01.02_4848_0050.jpg",
         "50",
         "5000",
         "3935",
         "95",
         "788",
         "9",
         "0",
         "0",
         "0",
         "788",
         "580",
         "0",
         "78",
         "710",
         null,
         "0",
         "0",
         "0",
         "1",
         "1",
         "2",
         "6",
         "56",
         "29",
         "0",
         "0",
         "0",
         "0",
         "1",
         "2",
         "1",
         "6",
         "27",
         "53",
         "5",
         "0",
         "0",
         "0",
         "0",
         "427",
         "297",
         "58",
         "6",
         "0",
         "0",
         "0",
         "3",
         "2",
         "4",
         "7",
         "78",
         "1",
         "0",
         "0",
         "0",
         "NL-HaNA_1.01.02_4848"
        ]
       ],
       "shape": {
        "columns": 68,
        "rows": 371
       }
      },
      "text/html": [
       "<div>\n",
       "<style scoped>\n",
       "    .dataframe tbody tr th:only-of-type {\n",
       "        vertical-align: middle;\n",
       "    }\n",
       "\n",
       "    .dataframe tbody tr th {\n",
       "        vertical-align: top;\n",
       "    }\n",
       "\n",
       "    .dataframe thead th {\n",
       "        text-align: right;\n",
       "    }\n",
       "</style>\n",
       "<table border=\"1\" class=\"dataframe\">\n",
       "  <thead>\n",
       "    <tr style=\"text-align: right;\">\n",
       "      <th></th>\n",
       "      <th>series</th>\n",
       "      <th>subseries_1</th>\n",
       "      <th>subseries_2</th>\n",
       "      <th>subseries_3</th>\n",
       "      <th>subseries_4</th>\n",
       "      <th>filegroup</th>\n",
       "      <th>inventory_range</th>\n",
       "      <th>file</th>\n",
       "      <th>unitdate</th>\n",
       "      <th>inventory_num</th>\n",
       "      <th>...</th>\n",
       "      <th>line_width_range_300-600</th>\n",
       "      <th>line_width_range_600-900</th>\n",
       "      <th>line_width_range_900-1200</th>\n",
       "      <th>line_width_range_1200-1500</th>\n",
       "      <th>line_width_range_1500-1800</th>\n",
       "      <th>line_width_range_1800-2100</th>\n",
       "      <th>line_width_range_2100-2400</th>\n",
       "      <th>line_width_range_2400-2700</th>\n",
       "      <th>line_width_range_2700-</th>\n",
       "      <th>inventory_id</th>\n",
       "    </tr>\n",
       "  </thead>\n",
       "  <tbody>\n",
       "    <tr>\n",
       "      <th>58582</th>\n",
       "      <td>NaN</td>\n",
       "      <td>NaN</td>\n",
       "      <td>NaN</td>\n",
       "      <td>NaN</td>\n",
       "      <td>NaN</td>\n",
       "      <td>NaN</td>\n",
       "      <td>NaN</td>\n",
       "      <td>NaN</td>\n",
       "      <td>NaN</td>\n",
       "      <td>4848</td>\n",
       "      <td>...</td>\n",
       "      <td>0</td>\n",
       "      <td>0</td>\n",
       "      <td>0</td>\n",
       "      <td>0</td>\n",
       "      <td>0</td>\n",
       "      <td>0</td>\n",
       "      <td>0</td>\n",
       "      <td>0</td>\n",
       "      <td>0</td>\n",
       "      <td>NL-HaNA_1.01.02_4848</td>\n",
       "    </tr>\n",
       "    <tr>\n",
       "      <th>58583</th>\n",
       "      <td>NaN</td>\n",
       "      <td>NaN</td>\n",
       "      <td>NaN</td>\n",
       "      <td>NaN</td>\n",
       "      <td>NaN</td>\n",
       "      <td>NaN</td>\n",
       "      <td>NaN</td>\n",
       "      <td>NaN</td>\n",
       "      <td>NaN</td>\n",
       "      <td>4848</td>\n",
       "      <td>...</td>\n",
       "      <td>0</td>\n",
       "      <td>2</td>\n",
       "      <td>0</td>\n",
       "      <td>0</td>\n",
       "      <td>0</td>\n",
       "      <td>0</td>\n",
       "      <td>0</td>\n",
       "      <td>0</td>\n",
       "      <td>0</td>\n",
       "      <td>NL-HaNA_1.01.02_4848</td>\n",
       "    </tr>\n",
       "    <tr>\n",
       "      <th>58584</th>\n",
       "      <td>NaN</td>\n",
       "      <td>NaN</td>\n",
       "      <td>NaN</td>\n",
       "      <td>NaN</td>\n",
       "      <td>NaN</td>\n",
       "      <td>NaN</td>\n",
       "      <td>NaN</td>\n",
       "      <td>NaN</td>\n",
       "      <td>NaN</td>\n",
       "      <td>4848</td>\n",
       "      <td>...</td>\n",
       "      <td>0</td>\n",
       "      <td>0</td>\n",
       "      <td>0</td>\n",
       "      <td>0</td>\n",
       "      <td>0</td>\n",
       "      <td>0</td>\n",
       "      <td>0</td>\n",
       "      <td>0</td>\n",
       "      <td>0</td>\n",
       "      <td>NL-HaNA_1.01.02_4848</td>\n",
       "    </tr>\n",
       "    <tr>\n",
       "      <th>58585</th>\n",
       "      <td>NaN</td>\n",
       "      <td>NaN</td>\n",
       "      <td>NaN</td>\n",
       "      <td>NaN</td>\n",
       "      <td>NaN</td>\n",
       "      <td>NaN</td>\n",
       "      <td>NaN</td>\n",
       "      <td>NaN</td>\n",
       "      <td>NaN</td>\n",
       "      <td>4848</td>\n",
       "      <td>...</td>\n",
       "      <td>0</td>\n",
       "      <td>0</td>\n",
       "      <td>0</td>\n",
       "      <td>4</td>\n",
       "      <td>0</td>\n",
       "      <td>0</td>\n",
       "      <td>0</td>\n",
       "      <td>0</td>\n",
       "      <td>0</td>\n",
       "      <td>NL-HaNA_1.01.02_4848</td>\n",
       "    </tr>\n",
       "    <tr>\n",
       "      <th>58586</th>\n",
       "      <td>NaN</td>\n",
       "      <td>NaN</td>\n",
       "      <td>NaN</td>\n",
       "      <td>NaN</td>\n",
       "      <td>NaN</td>\n",
       "      <td>NaN</td>\n",
       "      <td>NaN</td>\n",
       "      <td>NaN</td>\n",
       "      <td>NaN</td>\n",
       "      <td>4848</td>\n",
       "      <td>...</td>\n",
       "      <td>1</td>\n",
       "      <td>1</td>\n",
       "      <td>2</td>\n",
       "      <td>0</td>\n",
       "      <td>0</td>\n",
       "      <td>0</td>\n",
       "      <td>0</td>\n",
       "      <td>0</td>\n",
       "      <td>0</td>\n",
       "      <td>NL-HaNA_1.01.02_4848</td>\n",
       "    </tr>\n",
       "    <tr>\n",
       "      <th>...</th>\n",
       "      <td>...</td>\n",
       "      <td>...</td>\n",
       "      <td>...</td>\n",
       "      <td>...</td>\n",
       "      <td>...</td>\n",
       "      <td>...</td>\n",
       "      <td>...</td>\n",
       "      <td>...</td>\n",
       "      <td>...</td>\n",
       "      <td>...</td>\n",
       "      <td>...</td>\n",
       "      <td>...</td>\n",
       "      <td>...</td>\n",
       "      <td>...</td>\n",
       "      <td>...</td>\n",
       "      <td>...</td>\n",
       "      <td>...</td>\n",
       "      <td>...</td>\n",
       "      <td>...</td>\n",
       "      <td>...</td>\n",
       "      <td>...</td>\n",
       "    </tr>\n",
       "    <tr>\n",
       "      <th>2201343</th>\n",
       "      <td>NaN</td>\n",
       "      <td>NaN</td>\n",
       "      <td>NaN</td>\n",
       "      <td>NaN</td>\n",
       "      <td>NaN</td>\n",
       "      <td>NaN</td>\n",
       "      <td>NaN</td>\n",
       "      <td>NaN</td>\n",
       "      <td>NaN</td>\n",
       "      <td>deelopname2.jpg</td>\n",
       "      <td>...</td>\n",
       "      <td>47</td>\n",
       "      <td>33</td>\n",
       "      <td>10</td>\n",
       "      <td>28</td>\n",
       "      <td>0</td>\n",
       "      <td>0</td>\n",
       "      <td>0</td>\n",
       "      <td>0</td>\n",
       "      <td>0</td>\n",
       "      <td>NL-HaNA_1.01.02_4781_0190_deelopname2.jpg</td>\n",
       "    </tr>\n",
       "    <tr>\n",
       "      <th>2201345</th>\n",
       "      <td>NaN</td>\n",
       "      <td>NaN</td>\n",
       "      <td>NaN</td>\n",
       "      <td>NaN</td>\n",
       "      <td>NaN</td>\n",
       "      <td>NaN</td>\n",
       "      <td>NaN</td>\n",
       "      <td>NaN</td>\n",
       "      <td>NaN</td>\n",
       "      <td>deelopname1.jpg</td>\n",
       "      <td>...</td>\n",
       "      <td>31</td>\n",
       "      <td>27</td>\n",
       "      <td>14</td>\n",
       "      <td>0</td>\n",
       "      <td>0</td>\n",
       "      <td>0</td>\n",
       "      <td>0</td>\n",
       "      <td>0</td>\n",
       "      <td>0</td>\n",
       "      <td>NL-HaNA_1.01.02_4781_0191_deelopname1.jpg</td>\n",
       "    </tr>\n",
       "    <tr>\n",
       "      <th>2201346</th>\n",
       "      <td>NaN</td>\n",
       "      <td>NaN</td>\n",
       "      <td>NaN</td>\n",
       "      <td>NaN</td>\n",
       "      <td>NaN</td>\n",
       "      <td>NaN</td>\n",
       "      <td>NaN</td>\n",
       "      <td>NaN</td>\n",
       "      <td>NaN</td>\n",
       "      <td>deelopname2.jpg</td>\n",
       "      <td>...</td>\n",
       "      <td>32</td>\n",
       "      <td>24</td>\n",
       "      <td>7</td>\n",
       "      <td>33</td>\n",
       "      <td>0</td>\n",
       "      <td>0</td>\n",
       "      <td>0</td>\n",
       "      <td>0</td>\n",
       "      <td>0</td>\n",
       "      <td>NL-HaNA_1.01.02_4781_0191_deelopname2.jpg</td>\n",
       "    </tr>\n",
       "    <tr>\n",
       "      <th>2201348</th>\n",
       "      <td>NaN</td>\n",
       "      <td>NaN</td>\n",
       "      <td>NaN</td>\n",
       "      <td>NaN</td>\n",
       "      <td>NaN</td>\n",
       "      <td>NaN</td>\n",
       "      <td>NaN</td>\n",
       "      <td>NaN</td>\n",
       "      <td>NaN</td>\n",
       "      <td>deelopname1.jpg</td>\n",
       "      <td>...</td>\n",
       "      <td>16</td>\n",
       "      <td>3</td>\n",
       "      <td>5</td>\n",
       "      <td>17</td>\n",
       "      <td>0</td>\n",
       "      <td>1</td>\n",
       "      <td>10</td>\n",
       "      <td>0</td>\n",
       "      <td>0</td>\n",
       "      <td>NL-HaNA_1.01.02_4781_0192_deelopname1.jpg</td>\n",
       "    </tr>\n",
       "    <tr>\n",
       "      <th>2201349</th>\n",
       "      <td>NaN</td>\n",
       "      <td>NaN</td>\n",
       "      <td>NaN</td>\n",
       "      <td>NaN</td>\n",
       "      <td>NaN</td>\n",
       "      <td>NaN</td>\n",
       "      <td>NaN</td>\n",
       "      <td>NaN</td>\n",
       "      <td>NaN</td>\n",
       "      <td>deelopname2.jpg</td>\n",
       "      <td>...</td>\n",
       "      <td>33</td>\n",
       "      <td>27</td>\n",
       "      <td>4</td>\n",
       "      <td>18</td>\n",
       "      <td>0</td>\n",
       "      <td>2</td>\n",
       "      <td>0</td>\n",
       "      <td>1</td>\n",
       "      <td>12</td>\n",
       "      <td>NL-HaNA_1.01.02_4781_0192_deelopname2.jpg</td>\n",
       "    </tr>\n",
       "  </tbody>\n",
       "</table>\n",
       "<p>371 rows × 68 columns</p>\n",
       "</div>"
      ],
      "text/plain": [
       "        series subseries_1 subseries_2 subseries_3 subseries_4 filegroup  \\\n",
       "58582      NaN         NaN         NaN         NaN         NaN       NaN   \n",
       "58583      NaN         NaN         NaN         NaN         NaN       NaN   \n",
       "58584      NaN         NaN         NaN         NaN         NaN       NaN   \n",
       "58585      NaN         NaN         NaN         NaN         NaN       NaN   \n",
       "58586      NaN         NaN         NaN         NaN         NaN       NaN   \n",
       "...        ...         ...         ...         ...         ...       ...   \n",
       "2201343    NaN         NaN         NaN         NaN         NaN       NaN   \n",
       "2201345    NaN         NaN         NaN         NaN         NaN       NaN   \n",
       "2201346    NaN         NaN         NaN         NaN         NaN       NaN   \n",
       "2201348    NaN         NaN         NaN         NaN         NaN       NaN   \n",
       "2201349    NaN         NaN         NaN         NaN         NaN       NaN   \n",
       "\n",
       "        inventory_range file unitdate    inventory_num  ...  \\\n",
       "58582               NaN  NaN      NaN             4848  ...   \n",
       "58583               NaN  NaN      NaN             4848  ...   \n",
       "58584               NaN  NaN      NaN             4848  ...   \n",
       "58585               NaN  NaN      NaN             4848  ...   \n",
       "58586               NaN  NaN      NaN             4848  ...   \n",
       "...                 ...  ...      ...              ...  ...   \n",
       "2201343             NaN  NaN      NaN  deelopname2.jpg  ...   \n",
       "2201345             NaN  NaN      NaN  deelopname1.jpg  ...   \n",
       "2201346             NaN  NaN      NaN  deelopname2.jpg  ...   \n",
       "2201348             NaN  NaN      NaN  deelopname1.jpg  ...   \n",
       "2201349             NaN  NaN      NaN  deelopname2.jpg  ...   \n",
       "\n",
       "        line_width_range_300-600 line_width_range_600-900  \\\n",
       "58582                          0                        0   \n",
       "58583                          0                        2   \n",
       "58584                          0                        0   \n",
       "58585                          0                        0   \n",
       "58586                          1                        1   \n",
       "...                          ...                      ...   \n",
       "2201343                       47                       33   \n",
       "2201345                       31                       27   \n",
       "2201346                       32                       24   \n",
       "2201348                       16                        3   \n",
       "2201349                       33                       27   \n",
       "\n",
       "         line_width_range_900-1200  line_width_range_1200-1500  \\\n",
       "58582                            0                           0   \n",
       "58583                            0                           0   \n",
       "58584                            0                           0   \n",
       "58585                            0                           4   \n",
       "58586                            2                           0   \n",
       "...                            ...                         ...   \n",
       "2201343                         10                          28   \n",
       "2201345                         14                           0   \n",
       "2201346                          7                          33   \n",
       "2201348                          5                          17   \n",
       "2201349                          4                          18   \n",
       "\n",
       "         line_width_range_1500-1800  line_width_range_1800-2100  \\\n",
       "58582                             0                           0   \n",
       "58583                             0                           0   \n",
       "58584                             0                           0   \n",
       "58585                             0                           0   \n",
       "58586                             0                           0   \n",
       "...                             ...                         ...   \n",
       "2201343                           0                           0   \n",
       "2201345                           0                           0   \n",
       "2201346                           0                           0   \n",
       "2201348                           0                           1   \n",
       "2201349                           0                           2   \n",
       "\n",
       "         line_width_range_2100-2400  line_width_range_2400-2700  \\\n",
       "58582                             0                           0   \n",
       "58583                             0                           0   \n",
       "58584                             0                           0   \n",
       "58585                             0                           0   \n",
       "58586                             0                           0   \n",
       "...                             ...                         ...   \n",
       "2201343                           0                           0   \n",
       "2201345                           0                           0   \n",
       "2201346                           0                           0   \n",
       "2201348                          10                           0   \n",
       "2201349                           0                           1   \n",
       "\n",
       "         line_width_range_2700-                               inventory_id  \n",
       "58582                         0                       NL-HaNA_1.01.02_4848  \n",
       "58583                         0                       NL-HaNA_1.01.02_4848  \n",
       "58584                         0                       NL-HaNA_1.01.02_4848  \n",
       "58585                         0                       NL-HaNA_1.01.02_4848  \n",
       "58586                         0                       NL-HaNA_1.01.02_4848  \n",
       "...                         ...                                        ...  \n",
       "2201343                       0  NL-HaNA_1.01.02_4781_0190_deelopname2.jpg  \n",
       "2201345                       0  NL-HaNA_1.01.02_4781_0191_deelopname1.jpg  \n",
       "2201346                       0  NL-HaNA_1.01.02_4781_0191_deelopname2.jpg  \n",
       "2201348                       0  NL-HaNA_1.01.02_4781_0192_deelopname1.jpg  \n",
       "2201349                      12  NL-HaNA_1.01.02_4781_0192_deelopname2.jpg  \n",
       "\n",
       "[371 rows x 68 columns]"
      ]
     },
     "execution_count": 10,
     "metadata": {},
     "output_type": "execute_result"
    }
   ],
   "source": [
    "ead_scans[ead_scans.series.isna()]"
   ]
  },
  {
   "cell_type": "markdown",
   "id": "ea4a13ab-0004-478a-8c6c-f46f3f3b47c0",
   "metadata": {},
   "source": [
    "TO DO: figure out why there are scans with no series information."
   ]
  },
  {
   "cell_type": "markdown",
   "id": "2d3ca302-21ee-4957-80b3-49a0f10c237d",
   "metadata": {},
   "source": [
    "## Analysing Properties of Series"
   ]
  },
  {
   "cell_type": "code",
   "execution_count": 11,
   "id": "45b7c1d3-753a-46db-a3f0-2baf90951f32",
   "metadata": {},
   "outputs": [
    {
     "data": {
      "text/plain": [
       "series\n",
       "De akten van de Staten-Generaal                                                           62878\n",
       "De bijlagen bij de resoluties van de Staten-Generaal                                     476325\n",
       "De depêcheboeken en de brievenboeken van de Staten-Generaal                              593650\n",
       "Registers van leden en personeel en betreffende de titulatuur van de Staten-Generaal       4693\n",
       "Resoluties van de Staten-Generaal                                                       1390885\n",
       "Name: series, dtype: int64"
      ]
     },
     "execution_count": 11,
     "metadata": {},
     "output_type": "execute_result"
    }
   ],
   "source": [
    "scans_per_series = ead_scans.groupby('series').series.count()\n",
    "scans_per_series"
   ]
  },
  {
   "cell_type": "code",
   "execution_count": 12,
   "id": "513b08e6-b10b-44bb-a25c-41f4484615f2",
   "metadata": {},
   "outputs": [
    {
     "data": {
      "text/plain": [
       "Index(['series', 'subseries_1', 'subseries_2', 'subseries_3', 'subseries_4',\n",
       "       'filegroup', 'inventory_range', 'file', 'unitdate', 'inventory_num',\n",
       "       'mets_file', 'doc_id', 'doc_num', 'doc_width', 'doc_height', 'lines',\n",
       "       'words', 'text_regions', 'columns', 'extra', 'pages', 'num_words',\n",
       "       'num_alpha_words', 'num_number_words', 'num_title_words',\n",
       "       'num_non_title_words', 'num_stop_words', 'num_punctuation_words',\n",
       "       'num_oversized_words', 'words_per_line_0-0', 'words_per_line_1-1',\n",
       "       'words_per_line_2-2', 'words_per_line_3-3', 'words_per_line_4-5',\n",
       "       'words_per_line_6-9', 'words_per_line_10-15', 'words_per_line_16-25',\n",
       "       'words_per_line_26-42', 'words_per_line_43-70', 'words_per_line_71-100',\n",
       "       'alpha_words_per_line_0-0', 'alpha_words_per_line_1-1',\n",
       "       'alpha_words_per_line_2-2', 'alpha_words_per_line_3-3',\n",
       "       'alpha_words_per_line_4-5', 'alpha_words_per_line_6-9',\n",
       "       'alpha_words_per_line_10-15', 'alpha_words_per_line_16-25',\n",
       "       'alpha_words_per_line_26-42', 'alpha_words_per_line_43-70',\n",
       "       'alpha_words_per_line_71-100', 'num_words_length_5',\n",
       "       'num_words_length_10', 'num_words_length_15', 'num_words_length_20',\n",
       "       'num_words_length_25', 'num_words_length_30', 'line_width_range_0-300',\n",
       "       'line_width_range_300-600', 'line_width_range_600-900',\n",
       "       'line_width_range_900-1200', 'line_width_range_1200-1500',\n",
       "       'line_width_range_1500-1800', 'line_width_range_1800-2100',\n",
       "       'line_width_range_2100-2400', 'line_width_range_2400-2700',\n",
       "       'line_width_range_2700-', 'inventory_id'],\n",
       "      dtype='object')"
      ]
     },
     "execution_count": 12,
     "metadata": {},
     "output_type": "execute_result"
    }
   ],
   "source": [
    "ead_scans.columns"
   ]
  },
  {
   "cell_type": "code",
   "execution_count": 13,
   "id": "e5bfe674-2b4b-494c-9999-0469a0d79d44",
   "metadata": {},
   "outputs": [
    {
     "data": {
      "text/plain": [
       "series\n",
       "De akten van de Staten-Generaal                                                         415.656096\n",
       "De bijlagen bij de resoluties van de Staten-Generaal                                    243.825699\n",
       "De depêcheboeken en de brievenboeken van de Staten-Generaal                             442.210612\n",
       "Registers van leden en personeel en betreffende de titulatuur van de Staten-Generaal    182.808012\n",
       "Resoluties van de Staten-Generaal                                                       349.137057\n",
       "dtype: float64"
      ]
     },
     "execution_count": 13,
     "metadata": {},
     "output_type": "execute_result"
    }
   ],
   "source": [
    "ead_scans.groupby('series').words.sum().div(scans_per_series)"
   ]
  },
  {
   "cell_type": "code",
   "execution_count": 14,
   "id": "1da92479-0d6b-4338-8df6-b5a1eac90293",
   "metadata": {},
   "outputs": [
    {
     "data": {
      "text/plain": [
       "series\n",
       "De akten van de Staten-Generaal                                                         77.504851\n",
       "De bijlagen bij de resoluties van de Staten-Generaal                                    46.213163\n",
       "De depêcheboeken en de brievenboeken van de Staten-Generaal                             78.089817\n",
       "Registers van leden en personeel en betreffende de titulatuur van de Staten-Generaal    84.767313\n",
       "Resoluties van de Staten-Generaal                                                       66.202636\n",
       "dtype: float64"
      ]
     },
     "execution_count": 14,
     "metadata": {},
     "output_type": "execute_result"
    }
   ],
   "source": [
    "ead_scans.groupby('series').num_title_words.sum().div(scans_per_series)"
   ]
  },
  {
   "cell_type": "code",
   "execution_count": 15,
   "id": "d9f55c36-d95c-414f-b74a-a0b465806079",
   "metadata": {},
   "outputs": [
    {
     "data": {
      "text/plain": [
       "series\n",
       "De akten van de Staten-Generaal                                                         2.746557\n",
       "De bijlagen bij de resoluties van de Staten-Generaal                                    4.023007\n",
       "De depêcheboeken en de brievenboeken van de Staten-Generaal                             4.909445\n",
       "Registers van leden en personeel en betreffende de titulatuur van de Staten-Generaal    3.213509\n",
       "Resoluties van de Staten-Generaal                                                       3.745965\n",
       "dtype: float64"
      ]
     },
     "execution_count": 15,
     "metadata": {},
     "output_type": "execute_result"
    }
   ],
   "source": [
    "ead_scans.groupby('series').num_number_words.sum().div(scans_per_series)"
   ]
  },
  {
   "cell_type": "code",
   "execution_count": 33,
   "id": "0cb81dd9-78dc-4c1e-9ef4-6206a4c41f8e",
   "metadata": {},
   "outputs": [
    {
     "data": {
      "text/plain": [
       "series                                                       subseries_1                                                                                  subseries_2                                                                                                                                                                                         \n",
       "De bijlagen bij de resoluties van de Staten-Generaal         De ingekomen brieven en stukken en minuten van uitgaande brieven, verzameld in de \"liassen\"  1600-1795                                                                                                                                                                                                 13473\n",
       "                                                                                                                                                          De Liassen Binnenland                                                                                                                                                                                    167165\n",
       "                                                                                                                                                          De Liassen Buitenland                                                                                                                                                                                     26923\n",
       "                                                             De ingekomen delen en dossiers, afzonderlijk verzameld in series                             De staten van oorlog te land en ter zee                                                                                                                                                                  298351\n",
       "                                                                                                                                                          Delen, oorspronkelijk afkomstig uit de bibliotheek van de Staten-Generaal                                                                                                                                  7674\n",
       "                                                                                                                                                          Processtukken van de Staten-Generaal                                                                                                                                                                      56686\n",
       "                                                                                                                                                          Rapporten en memories van advocaten-fiscaal betreffende zaken van verraad in de Republiek                                                                                                                  4493\n",
       "                                                                                                                                                          Rekeningen ingeleverd bij de Staten-Generaal                                                                                                                                                             338226\n",
       "                                                                                                                                                          Verbalen en rapporten van Nederlandse vertegenwoordigers in den vreemde (buitenlandse verbalen)                                                                                                          403629\n",
       "                                                                                                                                                          Verbalen en rapporten van bezendingen van de Staten-Generaal aan de graaf van Oostfriesland en de stad Emden                                                                                               7790\n",
       "                                                                                                                                                          Verbalen en rapporten van bezendingen van de Staten-Generaal aan de provincies en Generaliteitslanden (binnenlandse verbalen)                                                                            266154\n",
       "                                                                                                                                                          Verbalen, journalen en rapporten betreffende de verdediging van- en krijgsverrichtingen in West- en Oost-Indië                                                                                            15941\n",
       "                                                                                                                                                          Verbalen, journalen, memories en rapporten betreffende de krijgsverrichtingen van het Staatse leger                                                                                                       32360\n",
       "                                                                                                                                                          Verbalen, journalen, memories en rapporten betreffende het beleid van de Admiraliteiten en de krijgsverrichtingen van de Staatse vloot                                                                   151446\n",
       "                                                                                                                                                          Verbalen, rapporten en andere ingekomen stukken betreffende het beleid van de Oost-Indische Compagnie                                                                                                     41588\n",
       "                                                                                                                                                          Verbalen, rapporten en memories van de commissies van de Staten-Generaal betreffende het Defensie- en Financiewezen van de Staat                                                                          57123\n",
       "                                                                                                                                                          Verbalen, rapporten, memories en andere ingekomen stukken betreffende het beleid van de West-Indische Compagnie                                                                                            9140\n",
       "                                                             De minuten van uitgaande brieven van de Staten-Generaal                                      Minuten van algemene aard                                                                                                                                                                                 16217\n",
       "                                                                                                                                                          Minuten van bijzondere aard                                                                                                                                                                                1880\n",
       "De depêcheboeken en de brievenboeken van de Staten-Generaal  De brievenboeken                                                                             Registers van ingekomen brieven betreffende bijzondere onderwerpen                                                                                                                                         1206\n",
       "                                                                                                                                                          Registers van ingekomen ordinarisbrieven                                                                                                                                                                1480522\n",
       "                                                                                                                                                          Registers van ingekomen ordinarisbrieven uit verschillende landen en plaatsen                                                                                                                            221957\n",
       "                                                                                                                                                          Registers van ingekomen secrete brieven                                                                                                                                                                  333577\n",
       "                                                                                                                                                          Registers van uitgaande ordinarisbrieven                                                                                                                                                                 162293\n",
       "                                                             De depêcheboeken                                                                             Engelse depêcheboeken                                                                                                                                                                                      4167\n",
       "                                                                                                                                                          Franse depêcheboeken                                                                                                                                                                                       3102\n",
       "                                                                                                                                                          Hoogduitse depêcheboeken                                                                                                                                                                                   1452\n",
       "                                                                                                                                                          Ordinaris depêcheboeken                                                                                                                                                                                    7296\n",
       "                                                             Gedrukte publicaties uitgaande van de Staten-Generaal                                        Gedrukte nouvelles van Nederlandse gezanten in den vreemde                                                                                                                                               458428\n",
       "                                                                                                                                                          Gedrukte plakkaten                                                                                                                                                                                       240492\n",
       "Resoluties van de Staten-Generaal                            De ordinaris resoluties.                                                                     1576-1671                                                                                                                                                                                                 90025\n",
       "                                                                                                                                                          De \"Eerste Minuten\" en de \"Geresumeerde Minuten\" van  de Vergaderingen van de Staten-Generaal, 1671-1796                                                                                                1797893\n",
       "                                                                                                                                                          De dubbele registers van ordinaris resoluties van de  Staten-Generaal                                                                                                                                     94185\n",
       "                                                                                                                                                          De gedrukte resoluties van de Staten-Generaal                                                                                                                                                           1535690\n",
       "                                                                                                                                                          De indices van zaken op de gedrukte resoluties van de  Staten-Generaal over een langere termijn dan één jaar samengesteld.                                                                                 3550\n",
       "                                                                                                                                                          De minuten van de notulen van de vergaderingen van de Staten-Generaal, 1576-1684.                                                                                                                        227740\n",
       "                                                                                                                                                          De tweede serie registers van ordinaris net-resoluties  van de Staten-Generaal, 1637-1795                                                                                                                640060\n",
       "                                                                                                                                                          Repertoria op de resoluties van de Staten-Generaal  over langere termijn dan één jaar samengesteld. \"Index Rerum\", \"Indices  Minuteel\", op de ordinaris resoluties, volgens \"Respecten\"  (rubrieken)     226557\n",
       "                                                             De secrete resoluties                                                                        1592-1796                                                                                                                                                                                                175854\n",
       "                                                                                                                                                          1671-1796                                                                                                                                                                                                341635\n",
       "                                                                                                                                                          Algemene indices op de secrete-resoluties van de  Staten-Generaal over langere termijn dan één jaar samengesteld                                                                                          42584\n",
       "                                                                                                                                                          De minuten van de secrete notulen van de  Staten-Generaal, 1592-1670                                                                                                                                       7479\n",
       "Name: num_number_words, dtype: int64"
      ]
     },
     "execution_count": 33,
     "metadata": {},
     "output_type": "execute_result"
    }
   ],
   "source": [
    "avg_num_words_summary = ead_scans.groupby(['series','subseries_1','subseries_2']).num_number_words.sum() #.div(scans_per_series)\n",
    "avg_num_words_summary"
   ]
  },
  {
   "cell_type": "code",
   "execution_count": 17,
   "id": "8b14098f",
   "metadata": {},
   "outputs": [
    {
     "data": {
      "text/plain": [
       "series\n",
       "De akten van de Staten-Generaal                                                         1.328716\n",
       "De bijlagen bij de resoluties van de Staten-Generaal                                    1.114636\n",
       "De depêcheboeken en de brievenboeken van de Staten-Generaal                             0.982111\n",
       "Registers van leden en personeel en betreffende de titulatuur van de Staten-Generaal    0.725123\n",
       "Resoluties van de Staten-Generaal                                                       1.019734\n",
       "dtype: float64"
      ]
     },
     "execution_count": 17,
     "metadata": {},
     "output_type": "execute_result"
    }
   ],
   "source": [
    "ead_scans.groupby('series').num_punctuation_words.sum().div(scans_per_series)"
   ]
  },
  {
   "cell_type": "code",
   "execution_count": 25,
   "id": "ae7b7fee-00c9-474c-934d-f04b8ae38a2a",
   "metadata": {},
   "outputs": [
    {
     "data": {
      "text/plain": [
       "series                                                       subseries_1                                                                                  subseries_2                                                                                                                             subseries_3                                                                                          \n",
       "De bijlagen bij de resoluties van de Staten-Generaal         De ingekomen brieven en stukken en minuten van uitgaande brieven, verzameld in de \"liassen\"  De Liassen Binnenland                                                                                                                   1550-1796                                                                                                   537\n",
       "                                                                                                                                                                                                                                                                                                  1613-1795                                                                                                   742\n",
       "                                                                                                                                                                                                                                                                                                  1623-1795                                                                                                 45282\n",
       "                                                                                                                                                          De Liassen Buitenland                                                                                                                   1584-1795                                                                                                  1017\n",
       "                                                                                                                                                                                                                                                                                                  1596-1796                                                                                                  1209\n",
       "                                                                                                                                                                                                                                                                                                  1615-1795                                                                                                   654\n",
       "                                                                                                                                                                                                                                                                                                  1643-1748                                                                                                   128\n",
       "                                                                                                                                                                                                                                                                                                  1782-1796                                                                                                  1602\n",
       "                                                             De ingekomen delen en dossiers, afzonderlijk verzameld in series                             Processtukken van de Staten-Generaal                                                                                                    Processtukken van Generaliteitsrechtbanken                                                                  813\n",
       "                                                                                                                                                                                                                                                                                                  Processtukken van rechtbanken in West-Indië                                                               12791\n",
       "                                                                                                                                                          Rekeningen ingeleverd bij de Staten-Generaal                                                                                            Rekeningen betreffende de heerlijkheid Elsloo bij Maastricht                                                343\n",
       "                                                                                                                                                                                                                                                                                                  Rekeningen van Vlaanderen                                                                                 67933\n",
       "                                                                                                                                                                                                                                                                                                  Rekeningen van veroverde gebieden in de Zuidelijke Nederlanden                                             1194\n",
       "                                                                                                                                                          Verbalen en rapporten van bezendingen van de Staten-Generaal aan de provincies en Generaliteitslanden (binnenlandse verbalen)           Bezendingen aan de Generaliteitslanden                                                                    38259\n",
       "                                                                                                                                                                                                                                                                                                  Bezendingen aan de provincies                                                                              7916\n",
       "                                                                                                                                                          Verbalen, journalen, memories en rapporten betreffende het beleid van de Admiraliteiten en de krijgsverrichtingen van de Staatse vloot  Memories betreffende het zeerecht                                                                           481\n",
       "                                                                                                                                                                                                                                                                                                  Rapporten van zeekrijgsraden betreffende de judicature ter zee                                             5266\n",
       "                                                                                                                                                                                                                                                                                                  Verbalen en journalen van zee-officieren betreffende hun zeereizen in opdracht van de Staten-Generaal      7506\n",
       "                                                                                                                                                                                                                                                                                                  Verbalen van commissies van de Staten-Generaal betreffende de Admiraliteiten                              13990\n",
       "De depêcheboeken en de brievenboeken van de Staten-Generaal  De brievenboeken                                                                             Registers van ingekomen ordinarisbrieven                                                                                                Periode van 1650-1668                                                                                     12012\n",
       "                                                                                                                                                                                                                                                                                                  Periode van 1669-1679.                                                                                    17990\n",
       "                                                                                                                                                                                                                                                                                                  Periode van 1680-1796                                                                                    293468\n",
       "Name: inventory_id, dtype: int64"
      ]
     },
     "execution_count": 25,
     "metadata": {},
     "output_type": "execute_result"
    }
   ],
   "source": [
    "invnrs_summary = ead_scans.groupby(['series','subseries_1','subseries_2','subseries_3']).inventory_id.count()\n",
    "invnrs_summary"
   ]
  },
  {
   "cell_type": "code",
   "execution_count": 28,
   "id": "80c5d25b",
   "metadata": {},
   "outputs": [
    {
     "name": "stdout",
     "output_type": "stream",
     "text": [
      "Requirement already satisfied: plotly in /Users/rikhoekstra/develop/archival-structures/.venv/lib/python3.13/site-packages (6.0.1)\n",
      "Requirement already satisfied: narwhals>=1.15.1 in /Users/rikhoekstra/develop/archival-structures/.venv/lib/python3.13/site-packages (from plotly) (1.38.0)\n",
      "Requirement already satisfied: packaging in /Users/rikhoekstra/develop/archival-structures/.venv/lib/python3.13/site-packages (from plotly) (25.0)\n",
      "Note: you may need to restart the kernel to use updated packages.\n"
     ]
    },
    {
     "data": {
      "application/vnd.plotly.v1+json": {
       "config": {
        "plotlyServerURL": "https://plot.ly"
       },
       "data": [
        {
         "branchvalues": "total",
         "customdata": [
          [
           531133,
           "(?)"
          ],
          [
           207663,
           "De bijlagen bij de resoluties van de Staten-Generaal"
          ],
          [
           156492,
           "De bijlagen bij de resoluties van de Staten-Generaal"
          ],
          [
           51171,
           "De bijlagen bij de resoluties van de Staten-Generaal"
          ],
          [
           27243,
           "De bijlagen bij de resoluties van de Staten-Generaal"
          ],
          [
           46175,
           "De bijlagen bij de resoluties van de Staten-Generaal"
          ],
          [
           69470,
           "De bijlagen bij de resoluties van de Staten-Generaal"
          ],
          [
           13604,
           "De bijlagen bij de resoluties van de Staten-Generaal"
          ],
          [
           4610,
           "De bijlagen bij de resoluties van de Staten-Generaal"
          ],
          [
           46561,
           "De bijlagen bij de resoluties van de Staten-Generaal"
          ],
          [
           13990,
           "De bijlagen bij de resoluties van de Staten-Generaal"
          ],
          [
           5266,
           "De bijlagen bij de resoluties van de Staten-Generaal"
          ],
          [
           481,
           "De bijlagen bij de resoluties van de Staten-Generaal"
          ],
          [
           7916,
           "De bijlagen bij de resoluties van de Staten-Generaal"
          ],
          [
           537,
           "De bijlagen bij de resoluties van de Staten-Generaal"
          ],
          [
           1194,
           "De bijlagen bij de resoluties van de Staten-Generaal"
          ],
          [
           742,
           "De bijlagen bij de resoluties van de Staten-Generaal"
          ],
          [
           45282,
           "De bijlagen bij de resoluties van de Staten-Generaal"
          ],
          [
           1017,
           "De bijlagen bij de resoluties van de Staten-Generaal"
          ],
          [
           1209,
           "De bijlagen bij de resoluties van de Staten-Generaal"
          ],
          [
           654,
           "De bijlagen bij de resoluties van de Staten-Generaal"
          ],
          [
           128,
           "De bijlagen bij de resoluties van de Staten-Generaal"
          ],
          [
           38259,
           "De bijlagen bij de resoluties van de Staten-Generaal"
          ],
          [
           1602,
           "De bijlagen bij de resoluties van de Staten-Generaal"
          ],
          [
           12791,
           "De bijlagen bij de resoluties van de Staten-Generaal"
          ],
          [
           343,
           "De bijlagen bij de resoluties van de Staten-Generaal"
          ],
          [
           67933,
           "De bijlagen bij de resoluties van de Staten-Generaal"
          ],
          [
           813,
           "De bijlagen bij de resoluties van de Staten-Generaal"
          ],
          [
           7506,
           "De bijlagen bij de resoluties van de Staten-Generaal"
          ],
          [
           293468,
           "De depêcheboeken en de brievenboeken van de Staten-Generaal"
          ],
          [
           17990,
           "De depêcheboeken en de brievenboeken van de Staten-Generaal"
          ],
          [
           12012,
           "De depêcheboeken en de brievenboeken van de Staten-Generaal"
          ],
          [
           323470,
           "De depêcheboeken en de brievenboeken van de Staten-Generaal"
          ],
          [
           323470,
           "De depêcheboeken en de brievenboeken van de Staten-Generaal"
          ],
          [
           323470,
           "De depêcheboeken en de brievenboeken van de Staten-Generaal"
          ]
         ],
         "domain": {
          "x": [
           0,
           1
          ],
          "y": [
           0,
           1
          ]
         },
         "hovertemplate": "labels=%{label}<br>inventory_nrs_count=%{customdata[0]:,}<br>parent=%{parent}<br>id=%{id}<br>series=%{customdata[1]}<extra></extra>",
         "ids": [
          "Total Scans",
          "Total Scans/De bijlagen bij de resoluties van de Staten-Generaal",
          "Total Scans/De bijlagen bij de resoluties van de Staten-Generaal/De ingekomen delen en dossiers, afzonderlijk verzameld in series",
          "Total Scans/De bijlagen bij de resoluties van de Staten-Generaal/De ingekomen brieven en stukken en minuten van uitgaande brieven, verzameld in de \"liassen\"",
          "Total Scans/De bijlagen bij de resoluties van de Staten-Generaal/De ingekomen delen en dossiers, afzonderlijk verzameld in series/Verbalen, journalen, memories en rapporten betreffende het beleid van de Admiraliteiten en de krijgsverrichtingen van de Staatse vloot",
          "Total Scans/De bijlagen bij de resoluties van de Staten-Generaal/De ingekomen delen en dossiers, afzonderlijk verzameld in series/Verbalen en rapporten van bezendingen van de Staten-Generaal aan de provincies en Generaliteitslanden (binnenlandse verbalen)",
          "Total Scans/De bijlagen bij de resoluties van de Staten-Generaal/De ingekomen delen en dossiers, afzonderlijk verzameld in series/Rekeningen ingeleverd bij de Staten-Generaal",
          "Total Scans/De bijlagen bij de resoluties van de Staten-Generaal/De ingekomen delen en dossiers, afzonderlijk verzameld in series/Processtukken van de Staten-Generaal",
          "Total Scans/De bijlagen bij de resoluties van de Staten-Generaal/De ingekomen brieven en stukken en minuten van uitgaande brieven, verzameld in de \"liassen\"/De Liassen Buitenland",
          "Total Scans/De bijlagen bij de resoluties van de Staten-Generaal/De ingekomen brieven en stukken en minuten van uitgaande brieven, verzameld in de \"liassen\"/De Liassen Binnenland",
          "Total Scans/De bijlagen bij de resoluties van de Staten-Generaal/De ingekomen delen en dossiers, afzonderlijk verzameld in series/Verbalen, journalen, memories en rapporten betreffende het beleid van de Admiraliteiten en de krijgsverrichtingen van de Staatse vloot/Verbalen van commissies van de Staten-Generaal betreffende de Admiraliteiten",
          "Total Scans/De bijlagen bij de resoluties van de Staten-Generaal/De ingekomen delen en dossiers, afzonderlijk verzameld in series/Verbalen, journalen, memories en rapporten betreffende het beleid van de Admiraliteiten en de krijgsverrichtingen van de Staatse vloot/Rapporten van zeekrijgsraden betreffende de judicature ter zee",
          "Total Scans/De bijlagen bij de resoluties van de Staten-Generaal/De ingekomen delen en dossiers, afzonderlijk verzameld in series/Verbalen, journalen, memories en rapporten betreffende het beleid van de Admiraliteiten en de krijgsverrichtingen van de Staatse vloot/Memories betreffende het zeerecht",
          "Total Scans/De bijlagen bij de resoluties van de Staten-Generaal/De ingekomen delen en dossiers, afzonderlijk verzameld in series/Verbalen en rapporten van bezendingen van de Staten-Generaal aan de provincies en Generaliteitslanden (binnenlandse verbalen)/Bezendingen aan de provincies",
          "Total Scans/De bijlagen bij de resoluties van de Staten-Generaal/De ingekomen brieven en stukken en minuten van uitgaande brieven, verzameld in de \"liassen\"/De Liassen Binnenland/1550-1796",
          "Total Scans/De bijlagen bij de resoluties van de Staten-Generaal/De ingekomen delen en dossiers, afzonderlijk verzameld in series/Rekeningen ingeleverd bij de Staten-Generaal/Rekeningen van veroverde gebieden in de Zuidelijke Nederlanden",
          "Total Scans/De bijlagen bij de resoluties van de Staten-Generaal/De ingekomen brieven en stukken en minuten van uitgaande brieven, verzameld in de \"liassen\"/De Liassen Binnenland/1613-1795",
          "Total Scans/De bijlagen bij de resoluties van de Staten-Generaal/De ingekomen brieven en stukken en minuten van uitgaande brieven, verzameld in de \"liassen\"/De Liassen Binnenland/1623-1795",
          "Total Scans/De bijlagen bij de resoluties van de Staten-Generaal/De ingekomen brieven en stukken en minuten van uitgaande brieven, verzameld in de \"liassen\"/De Liassen Buitenland/1584-1795",
          "Total Scans/De bijlagen bij de resoluties van de Staten-Generaal/De ingekomen brieven en stukken en minuten van uitgaande brieven, verzameld in de \"liassen\"/De Liassen Buitenland/1596-1796",
          "Total Scans/De bijlagen bij de resoluties van de Staten-Generaal/De ingekomen brieven en stukken en minuten van uitgaande brieven, verzameld in de \"liassen\"/De Liassen Buitenland/1615-1795",
          "Total Scans/De bijlagen bij de resoluties van de Staten-Generaal/De ingekomen brieven en stukken en minuten van uitgaande brieven, verzameld in de \"liassen\"/De Liassen Buitenland/1643-1748",
          "Total Scans/De bijlagen bij de resoluties van de Staten-Generaal/De ingekomen delen en dossiers, afzonderlijk verzameld in series/Verbalen en rapporten van bezendingen van de Staten-Generaal aan de provincies en Generaliteitslanden (binnenlandse verbalen)/Bezendingen aan de Generaliteitslanden",
          "Total Scans/De bijlagen bij de resoluties van de Staten-Generaal/De ingekomen brieven en stukken en minuten van uitgaande brieven, verzameld in de \"liassen\"/De Liassen Buitenland/1782-1796",
          "Total Scans/De bijlagen bij de resoluties van de Staten-Generaal/De ingekomen delen en dossiers, afzonderlijk verzameld in series/Processtukken van de Staten-Generaal/Processtukken van rechtbanken in West-Indië",
          "Total Scans/De bijlagen bij de resoluties van de Staten-Generaal/De ingekomen delen en dossiers, afzonderlijk verzameld in series/Rekeningen ingeleverd bij de Staten-Generaal/Rekeningen betreffende de heerlijkheid Elsloo bij Maastricht",
          "Total Scans/De bijlagen bij de resoluties van de Staten-Generaal/De ingekomen delen en dossiers, afzonderlijk verzameld in series/Rekeningen ingeleverd bij de Staten-Generaal/Rekeningen van Vlaanderen",
          "Total Scans/De bijlagen bij de resoluties van de Staten-Generaal/De ingekomen delen en dossiers, afzonderlijk verzameld in series/Processtukken van de Staten-Generaal/Processtukken van Generaliteitsrechtbanken",
          "Total Scans/De bijlagen bij de resoluties van de Staten-Generaal/De ingekomen delen en dossiers, afzonderlijk verzameld in series/Verbalen, journalen, memories en rapporten betreffende het beleid van de Admiraliteiten en de krijgsverrichtingen van de Staatse vloot/Verbalen en journalen van zee-officieren betreffende hun zeereizen in opdracht van de Staten-Generaal",
          "Total Scans/De depêcheboeken en de brievenboeken van de Staten-Generaal/De brievenboeken/Registers van ingekomen ordinarisbrieven/Periode van 1680-1796",
          "Total Scans/De depêcheboeken en de brievenboeken van de Staten-Generaal/De brievenboeken/Registers van ingekomen ordinarisbrieven/Periode van 1669-1679.",
          "Total Scans/De depêcheboeken en de brievenboeken van de Staten-Generaal/De brievenboeken/Registers van ingekomen ordinarisbrieven/Periode van 1650-1668",
          "Total Scans/De depêcheboeken en de brievenboeken van de Staten-Generaal/De brievenboeken/Registers van ingekomen ordinarisbrieven",
          "Total Scans/De depêcheboeken en de brievenboeken van de Staten-Generaal",
          "Total Scans/De depêcheboeken en de brievenboeken van de Staten-Generaal/De brievenboeken"
         ],
         "labels": [
          "Total Scans",
          "De bijlagen bij de resoluties van de Staten-Generaal",
          "De ingekomen delen en dossiers, afzonderlijk verzameld in series",
          "De ingekomen brieven en stukken en minuten van uitgaande brieven, verzameld in de \"liassen\"",
          "Verbalen, journalen, memories en rapporten betreffende het beleid van de Admiraliteiten en de krijgsverrichtingen van de Staatse vloot",
          "Verbalen en rapporten van bezendingen van de Staten-Generaal aan de provincies en Generaliteitslanden (binnenlandse verbalen)",
          "Rekeningen ingeleverd bij de Staten-Generaal",
          "Processtukken van de Staten-Generaal",
          "De Liassen Buitenland",
          "De Liassen Binnenland",
          "Verbalen van commissies van de Staten-Generaal betreffende de Admiraliteiten",
          "Rapporten van zeekrijgsraden betreffende de judicature ter zee",
          "Memories betreffende het zeerecht",
          "Bezendingen aan de provincies",
          "1550-1796",
          "Rekeningen van veroverde gebieden in de Zuidelijke Nederlanden",
          "1613-1795",
          "1623-1795",
          "1584-1795",
          "1596-1796",
          "1615-1795",
          "1643-1748",
          "Bezendingen aan de Generaliteitslanden",
          "1782-1796",
          "Processtukken van rechtbanken in West-Indië",
          "Rekeningen betreffende de heerlijkheid Elsloo bij Maastricht",
          "Rekeningen van Vlaanderen",
          "Processtukken van Generaliteitsrechtbanken",
          "Verbalen en journalen van zee-officieren betreffende hun zeereizen in opdracht van de Staten-Generaal",
          "Periode van 1680-1796",
          "Periode van 1669-1679.",
          "Periode van 1650-1668",
          "Registers van ingekomen ordinarisbrieven",
          "De depêcheboeken en de brievenboeken van de Staten-Generaal",
          "De brievenboeken"
         ],
         "marker": {
          "colors": [
           "#636efa",
           "#EF553B",
           "#EF553B",
           "#EF553B",
           "#EF553B",
           "#EF553B",
           "#EF553B",
           "#EF553B",
           "#EF553B",
           "#EF553B",
           "#EF553B",
           "#EF553B",
           "#EF553B",
           "#EF553B",
           "#EF553B",
           "#EF553B",
           "#EF553B",
           "#EF553B",
           "#EF553B",
           "#EF553B",
           "#EF553B",
           "#EF553B",
           "#EF553B",
           "#EF553B",
           "#EF553B",
           "#EF553B",
           "#EF553B",
           "#EF553B",
           "#EF553B",
           "#00cc96",
           "#00cc96",
           "#00cc96",
           "#00cc96",
           "#00cc96",
           "#00cc96"
          ]
         },
         "name": "",
         "parents": [
          "",
          "Total Scans",
          "Total Scans/De bijlagen bij de resoluties van de Staten-Generaal",
          "Total Scans/De bijlagen bij de resoluties van de Staten-Generaal",
          "Total Scans/De bijlagen bij de resoluties van de Staten-Generaal/De ingekomen delen en dossiers, afzonderlijk verzameld in series",
          "Total Scans/De bijlagen bij de resoluties van de Staten-Generaal/De ingekomen delen en dossiers, afzonderlijk verzameld in series",
          "Total Scans/De bijlagen bij de resoluties van de Staten-Generaal/De ingekomen delen en dossiers, afzonderlijk verzameld in series",
          "Total Scans/De bijlagen bij de resoluties van de Staten-Generaal/De ingekomen delen en dossiers, afzonderlijk verzameld in series",
          "Total Scans/De bijlagen bij de resoluties van de Staten-Generaal/De ingekomen brieven en stukken en minuten van uitgaande brieven, verzameld in de \"liassen\"",
          "Total Scans/De bijlagen bij de resoluties van de Staten-Generaal/De ingekomen brieven en stukken en minuten van uitgaande brieven, verzameld in de \"liassen\"",
          "Total Scans/De bijlagen bij de resoluties van de Staten-Generaal/De ingekomen delen en dossiers, afzonderlijk verzameld in series/Verbalen, journalen, memories en rapporten betreffende het beleid van de Admiraliteiten en de krijgsverrichtingen van de Staatse vloot",
          "Total Scans/De bijlagen bij de resoluties van de Staten-Generaal/De ingekomen delen en dossiers, afzonderlijk verzameld in series/Verbalen, journalen, memories en rapporten betreffende het beleid van de Admiraliteiten en de krijgsverrichtingen van de Staatse vloot",
          "Total Scans/De bijlagen bij de resoluties van de Staten-Generaal/De ingekomen delen en dossiers, afzonderlijk verzameld in series/Verbalen, journalen, memories en rapporten betreffende het beleid van de Admiraliteiten en de krijgsverrichtingen van de Staatse vloot",
          "Total Scans/De bijlagen bij de resoluties van de Staten-Generaal/De ingekomen delen en dossiers, afzonderlijk verzameld in series/Verbalen en rapporten van bezendingen van de Staten-Generaal aan de provincies en Generaliteitslanden (binnenlandse verbalen)",
          "Total Scans/De bijlagen bij de resoluties van de Staten-Generaal/De ingekomen brieven en stukken en minuten van uitgaande brieven, verzameld in de \"liassen\"/De Liassen Binnenland",
          "Total Scans/De bijlagen bij de resoluties van de Staten-Generaal/De ingekomen delen en dossiers, afzonderlijk verzameld in series/Rekeningen ingeleverd bij de Staten-Generaal",
          "Total Scans/De bijlagen bij de resoluties van de Staten-Generaal/De ingekomen brieven en stukken en minuten van uitgaande brieven, verzameld in de \"liassen\"/De Liassen Binnenland",
          "Total Scans/De bijlagen bij de resoluties van de Staten-Generaal/De ingekomen brieven en stukken en minuten van uitgaande brieven, verzameld in de \"liassen\"/De Liassen Binnenland",
          "Total Scans/De bijlagen bij de resoluties van de Staten-Generaal/De ingekomen brieven en stukken en minuten van uitgaande brieven, verzameld in de \"liassen\"/De Liassen Buitenland",
          "Total Scans/De bijlagen bij de resoluties van de Staten-Generaal/De ingekomen brieven en stukken en minuten van uitgaande brieven, verzameld in de \"liassen\"/De Liassen Buitenland",
          "Total Scans/De bijlagen bij de resoluties van de Staten-Generaal/De ingekomen brieven en stukken en minuten van uitgaande brieven, verzameld in de \"liassen\"/De Liassen Buitenland",
          "Total Scans/De bijlagen bij de resoluties van de Staten-Generaal/De ingekomen brieven en stukken en minuten van uitgaande brieven, verzameld in de \"liassen\"/De Liassen Buitenland",
          "Total Scans/De bijlagen bij de resoluties van de Staten-Generaal/De ingekomen delen en dossiers, afzonderlijk verzameld in series/Verbalen en rapporten van bezendingen van de Staten-Generaal aan de provincies en Generaliteitslanden (binnenlandse verbalen)",
          "Total Scans/De bijlagen bij de resoluties van de Staten-Generaal/De ingekomen brieven en stukken en minuten van uitgaande brieven, verzameld in de \"liassen\"/De Liassen Buitenland",
          "Total Scans/De bijlagen bij de resoluties van de Staten-Generaal/De ingekomen delen en dossiers, afzonderlijk verzameld in series/Processtukken van de Staten-Generaal",
          "Total Scans/De bijlagen bij de resoluties van de Staten-Generaal/De ingekomen delen en dossiers, afzonderlijk verzameld in series/Rekeningen ingeleverd bij de Staten-Generaal",
          "Total Scans/De bijlagen bij de resoluties van de Staten-Generaal/De ingekomen delen en dossiers, afzonderlijk verzameld in series/Rekeningen ingeleverd bij de Staten-Generaal",
          "Total Scans/De bijlagen bij de resoluties van de Staten-Generaal/De ingekomen delen en dossiers, afzonderlijk verzameld in series/Processtukken van de Staten-Generaal",
          "Total Scans/De bijlagen bij de resoluties van de Staten-Generaal/De ingekomen delen en dossiers, afzonderlijk verzameld in series/Verbalen, journalen, memories en rapporten betreffende het beleid van de Admiraliteiten en de krijgsverrichtingen van de Staatse vloot",
          "Total Scans/De depêcheboeken en de brievenboeken van de Staten-Generaal/De brievenboeken/Registers van ingekomen ordinarisbrieven",
          "Total Scans/De depêcheboeken en de brievenboeken van de Staten-Generaal/De brievenboeken/Registers van ingekomen ordinarisbrieven",
          "Total Scans/De depêcheboeken en de brievenboeken van de Staten-Generaal/De brievenboeken/Registers van ingekomen ordinarisbrieven",
          "Total Scans/De depêcheboeken en de brievenboeken van de Staten-Generaal/De brievenboeken",
          "Total Scans",
          "Total Scans/De depêcheboeken en de brievenboeken van de Staten-Generaal"
         ],
         "type": "treemap",
         "values": {
          "bdata": "AAAAAHo1IEEAAAAAeFkJQQAAAABgGgNBAAAAAGD86EAAAAAAwJraQAAAAADgi+ZAAAAAAOD18EAAAAAAAJLKQAAAAAAAArJAAAAAACC85kAAAAAAAFPLQAAAAAAAkrRAAAAAAAAQfkAAAAAAAOy+QAAAAAAAyIBAAAAAAACokkAAAAAAADCHQAAAAABAHOZAAAAAAADIj0AAAAAAAOSSQAAAAAAAcIRAAAAAAAAAYEAAAAAAYK7iQAAAAAAACJlAAAAAAID7yEAAAAAAAHB1QAAAAADQlfBAAAAAAABoiUAAAAAAAFK9QAAAAABw6RFBAAAAAICR0UAAAAAAAHbHQAAAAAA4vhNBAAAAADi+E0EAAAAAOL4TQQ==",
          "dtype": "f8"
         }
        }
       ],
       "layout": {
        "legend": {
         "tracegroupgap": 0
        },
        "margin": {
         "b": 25,
         "l": 25,
         "r": 25,
         "t": 50
        },
        "template": {
         "data": {
          "bar": [
           {
            "error_x": {
             "color": "#2a3f5f"
            },
            "error_y": {
             "color": "#2a3f5f"
            },
            "marker": {
             "line": {
              "color": "#E5ECF6",
              "width": 0.5
             },
             "pattern": {
              "fillmode": "overlay",
              "size": 10,
              "solidity": 0.2
             }
            },
            "type": "bar"
           }
          ],
          "barpolar": [
           {
            "marker": {
             "line": {
              "color": "#E5ECF6",
              "width": 0.5
             },
             "pattern": {
              "fillmode": "overlay",
              "size": 10,
              "solidity": 0.2
             }
            },
            "type": "barpolar"
           }
          ],
          "carpet": [
           {
            "aaxis": {
             "endlinecolor": "#2a3f5f",
             "gridcolor": "white",
             "linecolor": "white",
             "minorgridcolor": "white",
             "startlinecolor": "#2a3f5f"
            },
            "baxis": {
             "endlinecolor": "#2a3f5f",
             "gridcolor": "white",
             "linecolor": "white",
             "minorgridcolor": "white",
             "startlinecolor": "#2a3f5f"
            },
            "type": "carpet"
           }
          ],
          "choropleth": [
           {
            "colorbar": {
             "outlinewidth": 0,
             "ticks": ""
            },
            "type": "choropleth"
           }
          ],
          "contour": [
           {
            "colorbar": {
             "outlinewidth": 0,
             "ticks": ""
            },
            "colorscale": [
             [
              0,
              "#0d0887"
             ],
             [
              0.1111111111111111,
              "#46039f"
             ],
             [
              0.2222222222222222,
              "#7201a8"
             ],
             [
              0.3333333333333333,
              "#9c179e"
             ],
             [
              0.4444444444444444,
              "#bd3786"
             ],
             [
              0.5555555555555556,
              "#d8576b"
             ],
             [
              0.6666666666666666,
              "#ed7953"
             ],
             [
              0.7777777777777778,
              "#fb9f3a"
             ],
             [
              0.8888888888888888,
              "#fdca26"
             ],
             [
              1,
              "#f0f921"
             ]
            ],
            "type": "contour"
           }
          ],
          "contourcarpet": [
           {
            "colorbar": {
             "outlinewidth": 0,
             "ticks": ""
            },
            "type": "contourcarpet"
           }
          ],
          "heatmap": [
           {
            "colorbar": {
             "outlinewidth": 0,
             "ticks": ""
            },
            "colorscale": [
             [
              0,
              "#0d0887"
             ],
             [
              0.1111111111111111,
              "#46039f"
             ],
             [
              0.2222222222222222,
              "#7201a8"
             ],
             [
              0.3333333333333333,
              "#9c179e"
             ],
             [
              0.4444444444444444,
              "#bd3786"
             ],
             [
              0.5555555555555556,
              "#d8576b"
             ],
             [
              0.6666666666666666,
              "#ed7953"
             ],
             [
              0.7777777777777778,
              "#fb9f3a"
             ],
             [
              0.8888888888888888,
              "#fdca26"
             ],
             [
              1,
              "#f0f921"
             ]
            ],
            "type": "heatmap"
           }
          ],
          "histogram": [
           {
            "marker": {
             "pattern": {
              "fillmode": "overlay",
              "size": 10,
              "solidity": 0.2
             }
            },
            "type": "histogram"
           }
          ],
          "histogram2d": [
           {
            "colorbar": {
             "outlinewidth": 0,
             "ticks": ""
            },
            "colorscale": [
             [
              0,
              "#0d0887"
             ],
             [
              0.1111111111111111,
              "#46039f"
             ],
             [
              0.2222222222222222,
              "#7201a8"
             ],
             [
              0.3333333333333333,
              "#9c179e"
             ],
             [
              0.4444444444444444,
              "#bd3786"
             ],
             [
              0.5555555555555556,
              "#d8576b"
             ],
             [
              0.6666666666666666,
              "#ed7953"
             ],
             [
              0.7777777777777778,
              "#fb9f3a"
             ],
             [
              0.8888888888888888,
              "#fdca26"
             ],
             [
              1,
              "#f0f921"
             ]
            ],
            "type": "histogram2d"
           }
          ],
          "histogram2dcontour": [
           {
            "colorbar": {
             "outlinewidth": 0,
             "ticks": ""
            },
            "colorscale": [
             [
              0,
              "#0d0887"
             ],
             [
              0.1111111111111111,
              "#46039f"
             ],
             [
              0.2222222222222222,
              "#7201a8"
             ],
             [
              0.3333333333333333,
              "#9c179e"
             ],
             [
              0.4444444444444444,
              "#bd3786"
             ],
             [
              0.5555555555555556,
              "#d8576b"
             ],
             [
              0.6666666666666666,
              "#ed7953"
             ],
             [
              0.7777777777777778,
              "#fb9f3a"
             ],
             [
              0.8888888888888888,
              "#fdca26"
             ],
             [
              1,
              "#f0f921"
             ]
            ],
            "type": "histogram2dcontour"
           }
          ],
          "mesh3d": [
           {
            "colorbar": {
             "outlinewidth": 0,
             "ticks": ""
            },
            "type": "mesh3d"
           }
          ],
          "parcoords": [
           {
            "line": {
             "colorbar": {
              "outlinewidth": 0,
              "ticks": ""
             }
            },
            "type": "parcoords"
           }
          ],
          "pie": [
           {
            "automargin": true,
            "type": "pie"
           }
          ],
          "scatter": [
           {
            "fillpattern": {
             "fillmode": "overlay",
             "size": 10,
             "solidity": 0.2
            },
            "type": "scatter"
           }
          ],
          "scatter3d": [
           {
            "line": {
             "colorbar": {
              "outlinewidth": 0,
              "ticks": ""
             }
            },
            "marker": {
             "colorbar": {
              "outlinewidth": 0,
              "ticks": ""
             }
            },
            "type": "scatter3d"
           }
          ],
          "scattercarpet": [
           {
            "marker": {
             "colorbar": {
              "outlinewidth": 0,
              "ticks": ""
             }
            },
            "type": "scattercarpet"
           }
          ],
          "scattergeo": [
           {
            "marker": {
             "colorbar": {
              "outlinewidth": 0,
              "ticks": ""
             }
            },
            "type": "scattergeo"
           }
          ],
          "scattergl": [
           {
            "marker": {
             "colorbar": {
              "outlinewidth": 0,
              "ticks": ""
             }
            },
            "type": "scattergl"
           }
          ],
          "scattermap": [
           {
            "marker": {
             "colorbar": {
              "outlinewidth": 0,
              "ticks": ""
             }
            },
            "type": "scattermap"
           }
          ],
          "scattermapbox": [
           {
            "marker": {
             "colorbar": {
              "outlinewidth": 0,
              "ticks": ""
             }
            },
            "type": "scattermapbox"
           }
          ],
          "scatterpolar": [
           {
            "marker": {
             "colorbar": {
              "outlinewidth": 0,
              "ticks": ""
             }
            },
            "type": "scatterpolar"
           }
          ],
          "scatterpolargl": [
           {
            "marker": {
             "colorbar": {
              "outlinewidth": 0,
              "ticks": ""
             }
            },
            "type": "scatterpolargl"
           }
          ],
          "scatterternary": [
           {
            "marker": {
             "colorbar": {
              "outlinewidth": 0,
              "ticks": ""
             }
            },
            "type": "scatterternary"
           }
          ],
          "surface": [
           {
            "colorbar": {
             "outlinewidth": 0,
             "ticks": ""
            },
            "colorscale": [
             [
              0,
              "#0d0887"
             ],
             [
              0.1111111111111111,
              "#46039f"
             ],
             [
              0.2222222222222222,
              "#7201a8"
             ],
             [
              0.3333333333333333,
              "#9c179e"
             ],
             [
              0.4444444444444444,
              "#bd3786"
             ],
             [
              0.5555555555555556,
              "#d8576b"
             ],
             [
              0.6666666666666666,
              "#ed7953"
             ],
             [
              0.7777777777777778,
              "#fb9f3a"
             ],
             [
              0.8888888888888888,
              "#fdca26"
             ],
             [
              1,
              "#f0f921"
             ]
            ],
            "type": "surface"
           }
          ],
          "table": [
           {
            "cells": {
             "fill": {
              "color": "#EBF0F8"
             },
             "line": {
              "color": "white"
             }
            },
            "header": {
             "fill": {
              "color": "#C8D4E3"
             },
             "line": {
              "color": "white"
             }
            },
            "type": "table"
           }
          ]
         },
         "layout": {
          "annotationdefaults": {
           "arrowcolor": "#2a3f5f",
           "arrowhead": 0,
           "arrowwidth": 1
          },
          "autotypenumbers": "strict",
          "coloraxis": {
           "colorbar": {
            "outlinewidth": 0,
            "ticks": ""
           }
          },
          "colorscale": {
           "diverging": [
            [
             0,
             "#8e0152"
            ],
            [
             0.1,
             "#c51b7d"
            ],
            [
             0.2,
             "#de77ae"
            ],
            [
             0.3,
             "#f1b6da"
            ],
            [
             0.4,
             "#fde0ef"
            ],
            [
             0.5,
             "#f7f7f7"
            ],
            [
             0.6,
             "#e6f5d0"
            ],
            [
             0.7,
             "#b8e186"
            ],
            [
             0.8,
             "#7fbc41"
            ],
            [
             0.9,
             "#4d9221"
            ],
            [
             1,
             "#276419"
            ]
           ],
           "sequential": [
            [
             0,
             "#0d0887"
            ],
            [
             0.1111111111111111,
             "#46039f"
            ],
            [
             0.2222222222222222,
             "#7201a8"
            ],
            [
             0.3333333333333333,
             "#9c179e"
            ],
            [
             0.4444444444444444,
             "#bd3786"
            ],
            [
             0.5555555555555556,
             "#d8576b"
            ],
            [
             0.6666666666666666,
             "#ed7953"
            ],
            [
             0.7777777777777778,
             "#fb9f3a"
            ],
            [
             0.8888888888888888,
             "#fdca26"
            ],
            [
             1,
             "#f0f921"
            ]
           ],
           "sequentialminus": [
            [
             0,
             "#0d0887"
            ],
            [
             0.1111111111111111,
             "#46039f"
            ],
            [
             0.2222222222222222,
             "#7201a8"
            ],
            [
             0.3333333333333333,
             "#9c179e"
            ],
            [
             0.4444444444444444,
             "#bd3786"
            ],
            [
             0.5555555555555556,
             "#d8576b"
            ],
            [
             0.6666666666666666,
             "#ed7953"
            ],
            [
             0.7777777777777778,
             "#fb9f3a"
            ],
            [
             0.8888888888888888,
             "#fdca26"
            ],
            [
             1,
             "#f0f921"
            ]
           ]
          },
          "colorway": [
           "#636efa",
           "#EF553B",
           "#00cc96",
           "#ab63fa",
           "#FFA15A",
           "#19d3f3",
           "#FF6692",
           "#B6E880",
           "#FF97FF",
           "#FECB52"
          ],
          "font": {
           "color": "#2a3f5f"
          },
          "geo": {
           "bgcolor": "white",
           "lakecolor": "white",
           "landcolor": "#E5ECF6",
           "showlakes": true,
           "showland": true,
           "subunitcolor": "white"
          },
          "hoverlabel": {
           "align": "left"
          },
          "hovermode": "closest",
          "mapbox": {
           "style": "light"
          },
          "paper_bgcolor": "white",
          "plot_bgcolor": "#E5ECF6",
          "polar": {
           "angularaxis": {
            "gridcolor": "white",
            "linecolor": "white",
            "ticks": ""
           },
           "bgcolor": "#E5ECF6",
           "radialaxis": {
            "gridcolor": "white",
            "linecolor": "white",
            "ticks": ""
           }
          },
          "scene": {
           "xaxis": {
            "backgroundcolor": "#E5ECF6",
            "gridcolor": "white",
            "gridwidth": 2,
            "linecolor": "white",
            "showbackground": true,
            "ticks": "",
            "zerolinecolor": "white"
           },
           "yaxis": {
            "backgroundcolor": "#E5ECF6",
            "gridcolor": "white",
            "gridwidth": 2,
            "linecolor": "white",
            "showbackground": true,
            "ticks": "",
            "zerolinecolor": "white"
           },
           "zaxis": {
            "backgroundcolor": "#E5ECF6",
            "gridcolor": "white",
            "gridwidth": 2,
            "linecolor": "white",
            "showbackground": true,
            "ticks": "",
            "zerolinecolor": "white"
           }
          },
          "shapedefaults": {
           "line": {
            "color": "#2a3f5f"
           }
          },
          "ternary": {
           "aaxis": {
            "gridcolor": "white",
            "linecolor": "white",
            "ticks": ""
           },
           "baxis": {
            "gridcolor": "white",
            "linecolor": "white",
            "ticks": ""
           },
           "bgcolor": "#E5ECF6",
           "caxis": {
            "gridcolor": "white",
            "linecolor": "white",
            "ticks": ""
           }
          },
          "title": {
           "x": 0.05
          },
          "xaxis": {
           "automargin": true,
           "gridcolor": "white",
           "linecolor": "white",
           "ticks": "",
           "title": {
            "standoff": 15
           },
           "zerolinecolor": "white",
           "zerolinewidth": 2
          },
          "yaxis": {
           "automargin": true,
           "gridcolor": "white",
           "linecolor": "white",
           "ticks": "",
           "title": {
            "standoff": 15
           },
           "zerolinecolor": "white",
           "zerolinewidth": 2
          }
         }
        },
        "title": {
         "text": "Hierarchical Distribution of Scans by Series and Subseries"
        }
       }
      }
     },
     "metadata": {},
     "output_type": "display_data"
    }
   ],
   "source": [
    "%pip install plotly\n",
    "import plotly.express as px\n",
    "\n",
    "# invnrs_summary is already available from the previous cell.\n",
    "# Convert the Series to a DataFrame for Plotly\n",
    "df_for_plot = invnrs_summary.reset_index()\n",
    "\n",
    "# The value column in df_for_plot is named 'inventory_id' (from .inventory_id.count()).\n",
    "# Rename it for clarity in the plot.\n",
    "df_for_plot.rename(columns={'inventory_id': 'inventory_nrs_count'}, inplace=True)\n",
    "\n",
    "# Define the hierarchy path columns\n",
    "path_cols = ['series', 'subseries_1', 'subseries_2', 'subseries_3']\n",
    "\n",
    "# Fill NaN values in path columns with a placeholder string 'N/A'\n",
    "# as Plotly's treemap path components should ideally be non-null strings.\n",
    "for col in path_cols:\n",
    "    df_for_plot[col] = df_for_plot[col].fillna('N/A')\n",
    "\n",
    "# Create the treemap\n",
    "# px.Constant(\"Total Scans\") adds a root node.\n",
    "# 'color=\"series\"' colors the treemap by the top-level series.\n",
    "# 'hover_data' formats the count display in the tooltip.\n",
    "fig = px.treemap(df_for_plot,\n",
    "                 path=[px.Constant(\"Total Scans\")] + path_cols,\n",
    "                 values='inventory_nrs_count',\n",
    "                 color='series',\n",
    "                 title='Hierarchical Distribution of Scans by Series and Subseries',\n",
    "                 hover_data={'inventory_nrs_count':':,'}) # Format scan_count with comma for thousands\n",
    "\n",
    "# Optional: Adjust margins for better appearance\n",
    "fig.update_layout(margin = dict(t=50, l=25, r=25, b=25))\n",
    "\n",
    "fig.show()"
   ]
  },
  {
   "cell_type": "code",
   "execution_count": 34,
   "id": "7a61d528",
   "metadata": {},
   "outputs": [
    {
     "data": {
      "application/vnd.plotly.v1+json": {
       "config": {
        "plotlyServerURL": "https://plot.ly"
       },
       "data": [
        {
         "branchvalues": "total",
         "customdata": [
          [
           10014003,
           "(?)"
          ],
          [
           1916259,
           "De bijlagen bij de resoluties van de Staten-Generaal"
          ],
          [
           18097,
           "De bijlagen bij de resoluties van de Staten-Generaal"
          ],
          [
           1690601,
           "De bijlagen bij de resoluties van de Staten-Generaal"
          ],
          [
           207561,
           "De bijlagen bij de resoluties van de Staten-Generaal"
          ],
          [
           1880,
           "De bijlagen bij de resoluties van de Staten-Generaal"
          ],
          [
           16217,
           "De bijlagen bij de resoluties van de Staten-Generaal"
          ],
          [
           9140,
           "De bijlagen bij de resoluties van de Staten-Generaal"
          ],
          [
           57123,
           "De bijlagen bij de resoluties van de Staten-Generaal"
          ],
          [
           41588,
           "De bijlagen bij de resoluties van de Staten-Generaal"
          ],
          [
           151446,
           "De bijlagen bij de resoluties van de Staten-Generaal"
          ],
          [
           32360,
           "De bijlagen bij de resoluties van de Staten-Generaal"
          ],
          [
           13473,
           "De bijlagen bij de resoluties van de Staten-Generaal"
          ],
          [
           266154,
           "De bijlagen bij de resoluties van de Staten-Generaal"
          ],
          [
           7790,
           "De bijlagen bij de resoluties van de Staten-Generaal"
          ],
          [
           403629,
           "De bijlagen bij de resoluties van de Staten-Generaal"
          ],
          [
           338226,
           "De bijlagen bij de resoluties van de Staten-Generaal"
          ],
          [
           4493,
           "De bijlagen bij de resoluties van de Staten-Generaal"
          ],
          [
           56686,
           "De bijlagen bij de resoluties van de Staten-Generaal"
          ],
          [
           167165,
           "De bijlagen bij de resoluties van de Staten-Generaal"
          ],
          [
           26923,
           "De bijlagen bij de resoluties van de Staten-Generaal"
          ],
          [
           298351,
           "De bijlagen bij de resoluties van de Staten-Generaal"
          ],
          [
           7674,
           "De bijlagen bij de resoluties van de Staten-Generaal"
          ],
          [
           15941,
           "De bijlagen bij de resoluties van de Staten-Generaal"
          ],
          [
           2914492,
           "De depêcheboeken en de brievenboeken van de Staten-Generaal"
          ],
          [
           698920,
           "De depêcheboeken en de brievenboeken van de Staten-Generaal"
          ],
          [
           16017,
           "De depêcheboeken en de brievenboeken van de Staten-Generaal"
          ],
          [
           2199555,
           "De depêcheboeken en de brievenboeken van de Staten-Generaal"
          ],
          [
           240492,
           "De depêcheboeken en de brievenboeken van de Staten-Generaal"
          ],
          [
           1452,
           "De depêcheboeken en de brievenboeken van de Staten-Generaal"
          ],
          [
           1206,
           "De depêcheboeken en de brievenboeken van de Staten-Generaal"
          ],
          [
           1480522,
           "De depêcheboeken en de brievenboeken van de Staten-Generaal"
          ],
          [
           7296,
           "De depêcheboeken en de brievenboeken van de Staten-Generaal"
          ],
          [
           221957,
           "De depêcheboeken en de brievenboeken van de Staten-Generaal"
          ],
          [
           333577,
           "De depêcheboeken en de brievenboeken van de Staten-Generaal"
          ],
          [
           162293,
           "De depêcheboeken en de brievenboeken van de Staten-Generaal"
          ],
          [
           4167,
           "De depêcheboeken en de brievenboeken van de Staten-Generaal"
          ],
          [
           3102,
           "De depêcheboeken en de brievenboeken van de Staten-Generaal"
          ],
          [
           458428,
           "De depêcheboeken en de brievenboeken van de Staten-Generaal"
          ],
          [
           90025,
           "Resoluties van de Staten-Generaal"
          ],
          [
           567552,
           "Resoluties van de Staten-Generaal"
          ],
          [
           4615700,
           "Resoluties van de Staten-Generaal"
          ],
          [
           7479,
           "Resoluties van de Staten-Generaal"
          ],
          [
           42584,
           "Resoluties van de Staten-Generaal"
          ],
          [
           341635,
           "Resoluties van de Staten-Generaal"
          ],
          [
           175854,
           "Resoluties van de Staten-Generaal"
          ],
          [
           226557,
           "Resoluties van de Staten-Generaal"
          ],
          [
           640060,
           "Resoluties van de Staten-Generaal"
          ],
          [
           227740,
           "Resoluties van de Staten-Generaal"
          ],
          [
           3550,
           "Resoluties van de Staten-Generaal"
          ],
          [
           94185,
           "Resoluties van de Staten-Generaal"
          ],
          [
           1797893,
           "Resoluties van de Staten-Generaal"
          ],
          [
           5183252,
           "Resoluties van de Staten-Generaal"
          ],
          [
           1535690,
           "Resoluties van de Staten-Generaal"
          ]
         ],
         "domain": {
          "x": [
           0,
           1
          ],
          "y": [
           0,
           1
          ]
         },
         "hovertemplate": "labels=%{label}<br>avg_num_number_words=%{customdata[0]:.2f}<br>parent=%{parent}<br>id=%{id}<br>series=%{customdata[1]}<extra></extra>",
         "ids": [
          "Total Average Number Words",
          "Total Average Number Words/De bijlagen bij de resoluties van de Staten-Generaal",
          "Total Average Number Words/De bijlagen bij de resoluties van de Staten-Generaal/De minuten van uitgaande brieven van de Staten-Generaal",
          "Total Average Number Words/De bijlagen bij de resoluties van de Staten-Generaal/De ingekomen delen en dossiers, afzonderlijk verzameld in series",
          "Total Average Number Words/De bijlagen bij de resoluties van de Staten-Generaal/De ingekomen brieven en stukken en minuten van uitgaande brieven, verzameld in de \"liassen\"",
          "Total Average Number Words/De bijlagen bij de resoluties van de Staten-Generaal/De minuten van uitgaande brieven van de Staten-Generaal/Minuten van bijzondere aard",
          "Total Average Number Words/De bijlagen bij de resoluties van de Staten-Generaal/De minuten van uitgaande brieven van de Staten-Generaal/Minuten van algemene aard",
          "Total Average Number Words/De bijlagen bij de resoluties van de Staten-Generaal/De ingekomen delen en dossiers, afzonderlijk verzameld in series/Verbalen, rapporten, memories en andere ingekomen stukken betreffende het beleid van de West-Indische Compagnie",
          "Total Average Number Words/De bijlagen bij de resoluties van de Staten-Generaal/De ingekomen delen en dossiers, afzonderlijk verzameld in series/Verbalen, rapporten en memories van de commissies van de Staten-Generaal betreffende het Defensie- en Financiewezen van de Staat",
          "Total Average Number Words/De bijlagen bij de resoluties van de Staten-Generaal/De ingekomen delen en dossiers, afzonderlijk verzameld in series/Verbalen, rapporten en andere ingekomen stukken betreffende het beleid van de Oost-Indische Compagnie",
          "Total Average Number Words/De bijlagen bij de resoluties van de Staten-Generaal/De ingekomen delen en dossiers, afzonderlijk verzameld in series/Verbalen, journalen, memories en rapporten betreffende het beleid van de Admiraliteiten en de krijgsverrichtingen van de Staatse vloot",
          "Total Average Number Words/De bijlagen bij de resoluties van de Staten-Generaal/De ingekomen delen en dossiers, afzonderlijk verzameld in series/Verbalen, journalen, memories en rapporten betreffende de krijgsverrichtingen van het Staatse leger",
          "Total Average Number Words/De bijlagen bij de resoluties van de Staten-Generaal/De ingekomen brieven en stukken en minuten van uitgaande brieven, verzameld in de \"liassen\"/1600-1795",
          "Total Average Number Words/De bijlagen bij de resoluties van de Staten-Generaal/De ingekomen delen en dossiers, afzonderlijk verzameld in series/Verbalen en rapporten van bezendingen van de Staten-Generaal aan de provincies en Generaliteitslanden (binnenlandse verbalen)",
          "Total Average Number Words/De bijlagen bij de resoluties van de Staten-Generaal/De ingekomen delen en dossiers, afzonderlijk verzameld in series/Verbalen en rapporten van bezendingen van de Staten-Generaal aan de graaf van Oostfriesland en de stad Emden",
          "Total Average Number Words/De bijlagen bij de resoluties van de Staten-Generaal/De ingekomen delen en dossiers, afzonderlijk verzameld in series/Verbalen en rapporten van Nederlandse vertegenwoordigers in den vreemde (buitenlandse verbalen)",
          "Total Average Number Words/De bijlagen bij de resoluties van de Staten-Generaal/De ingekomen delen en dossiers, afzonderlijk verzameld in series/Rekeningen ingeleverd bij de Staten-Generaal",
          "Total Average Number Words/De bijlagen bij de resoluties van de Staten-Generaal/De ingekomen delen en dossiers, afzonderlijk verzameld in series/Rapporten en memories van advocaten-fiscaal betreffende zaken van verraad in de Republiek",
          "Total Average Number Words/De bijlagen bij de resoluties van de Staten-Generaal/De ingekomen delen en dossiers, afzonderlijk verzameld in series/Processtukken van de Staten-Generaal",
          "Total Average Number Words/De bijlagen bij de resoluties van de Staten-Generaal/De ingekomen brieven en stukken en minuten van uitgaande brieven, verzameld in de \"liassen\"/De Liassen Binnenland",
          "Total Average Number Words/De bijlagen bij de resoluties van de Staten-Generaal/De ingekomen brieven en stukken en minuten van uitgaande brieven, verzameld in de \"liassen\"/De Liassen Buitenland",
          "Total Average Number Words/De bijlagen bij de resoluties van de Staten-Generaal/De ingekomen delen en dossiers, afzonderlijk verzameld in series/De staten van oorlog te land en ter zee",
          "Total Average Number Words/De bijlagen bij de resoluties van de Staten-Generaal/De ingekomen delen en dossiers, afzonderlijk verzameld in series/Delen, oorspronkelijk afkomstig uit de bibliotheek van de Staten-Generaal",
          "Total Average Number Words/De bijlagen bij de resoluties van de Staten-Generaal/De ingekomen delen en dossiers, afzonderlijk verzameld in series/Verbalen, journalen en rapporten betreffende de verdediging van- en krijgsverrichtingen in West- en Oost-Indië",
          "Total Average Number Words/De depêcheboeken en de brievenboeken van de Staten-Generaal",
          "Total Average Number Words/De depêcheboeken en de brievenboeken van de Staten-Generaal/Gedrukte publicaties uitgaande van de Staten-Generaal",
          "Total Average Number Words/De depêcheboeken en de brievenboeken van de Staten-Generaal/De depêcheboeken",
          "Total Average Number Words/De depêcheboeken en de brievenboeken van de Staten-Generaal/De brievenboeken",
          "Total Average Number Words/De depêcheboeken en de brievenboeken van de Staten-Generaal/Gedrukte publicaties uitgaande van de Staten-Generaal/Gedrukte plakkaten",
          "Total Average Number Words/De depêcheboeken en de brievenboeken van de Staten-Generaal/De depêcheboeken/Hoogduitse depêcheboeken",
          "Total Average Number Words/De depêcheboeken en de brievenboeken van de Staten-Generaal/De brievenboeken/Registers van ingekomen brieven betreffende bijzondere onderwerpen",
          "Total Average Number Words/De depêcheboeken en de brievenboeken van de Staten-Generaal/De brievenboeken/Registers van ingekomen ordinarisbrieven",
          "Total Average Number Words/De depêcheboeken en de brievenboeken van de Staten-Generaal/De depêcheboeken/Ordinaris depêcheboeken",
          "Total Average Number Words/De depêcheboeken en de brievenboeken van de Staten-Generaal/De brievenboeken/Registers van ingekomen ordinarisbrieven uit verschillende landen en plaatsen",
          "Total Average Number Words/De depêcheboeken en de brievenboeken van de Staten-Generaal/De brievenboeken/Registers van ingekomen secrete brieven",
          "Total Average Number Words/De depêcheboeken en de brievenboeken van de Staten-Generaal/De brievenboeken/Registers van uitgaande ordinarisbrieven",
          "Total Average Number Words/De depêcheboeken en de brievenboeken van de Staten-Generaal/De depêcheboeken/Engelse depêcheboeken",
          "Total Average Number Words/De depêcheboeken en de brievenboeken van de Staten-Generaal/De depêcheboeken/Franse depêcheboeken",
          "Total Average Number Words/De depêcheboeken en de brievenboeken van de Staten-Generaal/Gedrukte publicaties uitgaande van de Staten-Generaal/Gedrukte nouvelles van Nederlandse gezanten in den vreemde",
          "Total Average Number Words/Resoluties van de Staten-Generaal/De ordinaris resoluties./1576-1671",
          "Total Average Number Words/Resoluties van de Staten-Generaal/De secrete resoluties",
          "Total Average Number Words/Resoluties van de Staten-Generaal/De ordinaris resoluties.",
          "Total Average Number Words/Resoluties van de Staten-Generaal/De secrete resoluties/De minuten van de secrete notulen van de  Staten-Generaal, 1592-1670",
          "Total Average Number Words/Resoluties van de Staten-Generaal/De secrete resoluties/Algemene indices op de secrete-resoluties van de  Staten-Generaal over langere termijn dan één jaar samengesteld",
          "Total Average Number Words/Resoluties van de Staten-Generaal/De secrete resoluties/1671-1796",
          "Total Average Number Words/Resoluties van de Staten-Generaal/De secrete resoluties/1592-1796",
          "Total Average Number Words/Resoluties van de Staten-Generaal/De ordinaris resoluties./Repertoria op de resoluties van de Staten-Generaal  over langere termijn dan één jaar samengesteld. \"Index Rerum\", \"Indices  Minuteel\", op de ordinaris resoluties, volgens \"Respecten\"  (rubrieken)",
          "Total Average Number Words/Resoluties van de Staten-Generaal/De ordinaris resoluties./De tweede serie registers van ordinaris net-resoluties  van de Staten-Generaal, 1637-1795",
          "Total Average Number Words/Resoluties van de Staten-Generaal/De ordinaris resoluties./De minuten van de notulen van de vergaderingen van de Staten-Generaal, 1576-1684.",
          "Total Average Number Words/Resoluties van de Staten-Generaal/De ordinaris resoluties./De indices van zaken op de gedrukte resoluties van de  Staten-Generaal over een langere termijn dan één jaar samengesteld.",
          "Total Average Number Words/Resoluties van de Staten-Generaal/De ordinaris resoluties./De dubbele registers van ordinaris resoluties van de  Staten-Generaal",
          "Total Average Number Words/Resoluties van de Staten-Generaal/De ordinaris resoluties./De \"Eerste Minuten\" en de \"Geresumeerde Minuten\" van  de Vergaderingen van de Staten-Generaal, 1671-1796",
          "Total Average Number Words/Resoluties van de Staten-Generaal",
          "Total Average Number Words/Resoluties van de Staten-Generaal/De ordinaris resoluties./De gedrukte resoluties van de Staten-Generaal"
         ],
         "labels": [
          "Total Average Number Words",
          "De bijlagen bij de resoluties van de Staten-Generaal",
          "De minuten van uitgaande brieven van de Staten-Generaal",
          "De ingekomen delen en dossiers, afzonderlijk verzameld in series",
          "De ingekomen brieven en stukken en minuten van uitgaande brieven, verzameld in de \"liassen\"",
          "Minuten van bijzondere aard",
          "Minuten van algemene aard",
          "Verbalen, rapporten, memories en andere ingekomen stukken betreffende het beleid van de West-Indische Compagnie",
          "Verbalen, rapporten en memories van de commissies van de Staten-Generaal betreffende het Defensie- en Financiewezen van de Staat",
          "Verbalen, rapporten en andere ingekomen stukken betreffende het beleid van de Oost-Indische Compagnie",
          "Verbalen, journalen, memories en rapporten betreffende het beleid van de Admiraliteiten en de krijgsverrichtingen van de Staatse vloot",
          "Verbalen, journalen, memories en rapporten betreffende de krijgsverrichtingen van het Staatse leger",
          "1600-1795",
          "Verbalen en rapporten van bezendingen van de Staten-Generaal aan de provincies en Generaliteitslanden (binnenlandse verbalen)",
          "Verbalen en rapporten van bezendingen van de Staten-Generaal aan de graaf van Oostfriesland en de stad Emden",
          "Verbalen en rapporten van Nederlandse vertegenwoordigers in den vreemde (buitenlandse verbalen)",
          "Rekeningen ingeleverd bij de Staten-Generaal",
          "Rapporten en memories van advocaten-fiscaal betreffende zaken van verraad in de Republiek",
          "Processtukken van de Staten-Generaal",
          "De Liassen Binnenland",
          "De Liassen Buitenland",
          "De staten van oorlog te land en ter zee",
          "Delen, oorspronkelijk afkomstig uit de bibliotheek van de Staten-Generaal",
          "Verbalen, journalen en rapporten betreffende de verdediging van- en krijgsverrichtingen in West- en Oost-Indië",
          "De depêcheboeken en de brievenboeken van de Staten-Generaal",
          "Gedrukte publicaties uitgaande van de Staten-Generaal",
          "De depêcheboeken",
          "De brievenboeken",
          "Gedrukte plakkaten",
          "Hoogduitse depêcheboeken",
          "Registers van ingekomen brieven betreffende bijzondere onderwerpen",
          "Registers van ingekomen ordinarisbrieven",
          "Ordinaris depêcheboeken",
          "Registers van ingekomen ordinarisbrieven uit verschillende landen en plaatsen",
          "Registers van ingekomen secrete brieven",
          "Registers van uitgaande ordinarisbrieven",
          "Engelse depêcheboeken",
          "Franse depêcheboeken",
          "Gedrukte nouvelles van Nederlandse gezanten in den vreemde",
          "1576-1671",
          "De secrete resoluties",
          "De ordinaris resoluties.",
          "De minuten van de secrete notulen van de  Staten-Generaal, 1592-1670",
          "Algemene indices op de secrete-resoluties van de  Staten-Generaal over langere termijn dan één jaar samengesteld",
          "1671-1796",
          "1592-1796",
          "Repertoria op de resoluties van de Staten-Generaal  over langere termijn dan één jaar samengesteld. \"Index Rerum\", \"Indices  Minuteel\", op de ordinaris resoluties, volgens \"Respecten\"  (rubrieken)",
          "De tweede serie registers van ordinaris net-resoluties  van de Staten-Generaal, 1637-1795",
          "De minuten van de notulen van de vergaderingen van de Staten-Generaal, 1576-1684.",
          "De indices van zaken op de gedrukte resoluties van de  Staten-Generaal over een langere termijn dan één jaar samengesteld.",
          "De dubbele registers van ordinaris resoluties van de  Staten-Generaal",
          "De \"Eerste Minuten\" en de \"Geresumeerde Minuten\" van  de Vergaderingen van de Staten-Generaal, 1671-1796",
          "Resoluties van de Staten-Generaal",
          "De gedrukte resoluties van de Staten-Generaal"
         ],
         "marker": {
          "colors": [
           "#636efa",
           "#EF553B",
           "#EF553B",
           "#EF553B",
           "#EF553B",
           "#EF553B",
           "#EF553B",
           "#EF553B",
           "#EF553B",
           "#EF553B",
           "#EF553B",
           "#EF553B",
           "#EF553B",
           "#EF553B",
           "#EF553B",
           "#EF553B",
           "#EF553B",
           "#EF553B",
           "#EF553B",
           "#EF553B",
           "#EF553B",
           "#EF553B",
           "#EF553B",
           "#EF553B",
           "#00cc96",
           "#00cc96",
           "#00cc96",
           "#00cc96",
           "#00cc96",
           "#00cc96",
           "#00cc96",
           "#00cc96",
           "#00cc96",
           "#00cc96",
           "#00cc96",
           "#00cc96",
           "#00cc96",
           "#00cc96",
           "#00cc96",
           "#ab63fa",
           "#ab63fa",
           "#ab63fa",
           "#ab63fa",
           "#ab63fa",
           "#ab63fa",
           "#ab63fa",
           "#ab63fa",
           "#ab63fa",
           "#ab63fa",
           "#ab63fa",
           "#ab63fa",
           "#ab63fa",
           "#ab63fa",
           "#ab63fa"
          ]
         },
         "name": "",
         "parents": [
          "",
          "Total Average Number Words",
          "Total Average Number Words/De bijlagen bij de resoluties van de Staten-Generaal",
          "Total Average Number Words/De bijlagen bij de resoluties van de Staten-Generaal",
          "Total Average Number Words/De bijlagen bij de resoluties van de Staten-Generaal",
          "Total Average Number Words/De bijlagen bij de resoluties van de Staten-Generaal/De minuten van uitgaande brieven van de Staten-Generaal",
          "Total Average Number Words/De bijlagen bij de resoluties van de Staten-Generaal/De minuten van uitgaande brieven van de Staten-Generaal",
          "Total Average Number Words/De bijlagen bij de resoluties van de Staten-Generaal/De ingekomen delen en dossiers, afzonderlijk verzameld in series",
          "Total Average Number Words/De bijlagen bij de resoluties van de Staten-Generaal/De ingekomen delen en dossiers, afzonderlijk verzameld in series",
          "Total Average Number Words/De bijlagen bij de resoluties van de Staten-Generaal/De ingekomen delen en dossiers, afzonderlijk verzameld in series",
          "Total Average Number Words/De bijlagen bij de resoluties van de Staten-Generaal/De ingekomen delen en dossiers, afzonderlijk verzameld in series",
          "Total Average Number Words/De bijlagen bij de resoluties van de Staten-Generaal/De ingekomen delen en dossiers, afzonderlijk verzameld in series",
          "Total Average Number Words/De bijlagen bij de resoluties van de Staten-Generaal/De ingekomen brieven en stukken en minuten van uitgaande brieven, verzameld in de \"liassen\"",
          "Total Average Number Words/De bijlagen bij de resoluties van de Staten-Generaal/De ingekomen delen en dossiers, afzonderlijk verzameld in series",
          "Total Average Number Words/De bijlagen bij de resoluties van de Staten-Generaal/De ingekomen delen en dossiers, afzonderlijk verzameld in series",
          "Total Average Number Words/De bijlagen bij de resoluties van de Staten-Generaal/De ingekomen delen en dossiers, afzonderlijk verzameld in series",
          "Total Average Number Words/De bijlagen bij de resoluties van de Staten-Generaal/De ingekomen delen en dossiers, afzonderlijk verzameld in series",
          "Total Average Number Words/De bijlagen bij de resoluties van de Staten-Generaal/De ingekomen delen en dossiers, afzonderlijk verzameld in series",
          "Total Average Number Words/De bijlagen bij de resoluties van de Staten-Generaal/De ingekomen delen en dossiers, afzonderlijk verzameld in series",
          "Total Average Number Words/De bijlagen bij de resoluties van de Staten-Generaal/De ingekomen brieven en stukken en minuten van uitgaande brieven, verzameld in de \"liassen\"",
          "Total Average Number Words/De bijlagen bij de resoluties van de Staten-Generaal/De ingekomen brieven en stukken en minuten van uitgaande brieven, verzameld in de \"liassen\"",
          "Total Average Number Words/De bijlagen bij de resoluties van de Staten-Generaal/De ingekomen delen en dossiers, afzonderlijk verzameld in series",
          "Total Average Number Words/De bijlagen bij de resoluties van de Staten-Generaal/De ingekomen delen en dossiers, afzonderlijk verzameld in series",
          "Total Average Number Words/De bijlagen bij de resoluties van de Staten-Generaal/De ingekomen delen en dossiers, afzonderlijk verzameld in series",
          "Total Average Number Words",
          "Total Average Number Words/De depêcheboeken en de brievenboeken van de Staten-Generaal",
          "Total Average Number Words/De depêcheboeken en de brievenboeken van de Staten-Generaal",
          "Total Average Number Words/De depêcheboeken en de brievenboeken van de Staten-Generaal",
          "Total Average Number Words/De depêcheboeken en de brievenboeken van de Staten-Generaal/Gedrukte publicaties uitgaande van de Staten-Generaal",
          "Total Average Number Words/De depêcheboeken en de brievenboeken van de Staten-Generaal/De depêcheboeken",
          "Total Average Number Words/De depêcheboeken en de brievenboeken van de Staten-Generaal/De brievenboeken",
          "Total Average Number Words/De depêcheboeken en de brievenboeken van de Staten-Generaal/De brievenboeken",
          "Total Average Number Words/De depêcheboeken en de brievenboeken van de Staten-Generaal/De depêcheboeken",
          "Total Average Number Words/De depêcheboeken en de brievenboeken van de Staten-Generaal/De brievenboeken",
          "Total Average Number Words/De depêcheboeken en de brievenboeken van de Staten-Generaal/De brievenboeken",
          "Total Average Number Words/De depêcheboeken en de brievenboeken van de Staten-Generaal/De brievenboeken",
          "Total Average Number Words/De depêcheboeken en de brievenboeken van de Staten-Generaal/De depêcheboeken",
          "Total Average Number Words/De depêcheboeken en de brievenboeken van de Staten-Generaal/De depêcheboeken",
          "Total Average Number Words/De depêcheboeken en de brievenboeken van de Staten-Generaal/Gedrukte publicaties uitgaande van de Staten-Generaal",
          "Total Average Number Words/Resoluties van de Staten-Generaal/De ordinaris resoluties.",
          "Total Average Number Words/Resoluties van de Staten-Generaal",
          "Total Average Number Words/Resoluties van de Staten-Generaal",
          "Total Average Number Words/Resoluties van de Staten-Generaal/De secrete resoluties",
          "Total Average Number Words/Resoluties van de Staten-Generaal/De secrete resoluties",
          "Total Average Number Words/Resoluties van de Staten-Generaal/De secrete resoluties",
          "Total Average Number Words/Resoluties van de Staten-Generaal/De secrete resoluties",
          "Total Average Number Words/Resoluties van de Staten-Generaal/De ordinaris resoluties.",
          "Total Average Number Words/Resoluties van de Staten-Generaal/De ordinaris resoluties.",
          "Total Average Number Words/Resoluties van de Staten-Generaal/De ordinaris resoluties.",
          "Total Average Number Words/Resoluties van de Staten-Generaal/De ordinaris resoluties.",
          "Total Average Number Words/Resoluties van de Staten-Generaal/De ordinaris resoluties.",
          "Total Average Number Words/Resoluties van de Staten-Generaal/De ordinaris resoluties.",
          "Total Average Number Words",
          "Total Average Number Words/Resoluties van de Staten-Generaal/De ordinaris resoluties."
         ],
         "type": "treemap",
         "values": {
          "bdata": "AAAAYKYZY0EAAAAAYz09QQAAAABArNFAAAAAAOnLOUEAAAAASFYJQQAAAAAAYJ1AAAAAAICsz0AAAAAAANrBQAAAAABg5OtAAAAAAIBO5EAAAAAAsHwCQQAAAAAAmt9AAAAAAIBQykAAAAAAqD4QQQAAAAAAbr5AAAAAALSiGEEAAAAAyKQUQQAAAAAAjbFAAAAAAMCt60AAAAAA6GcEQQAAAADAStpAAAAAALw1EkEAAAAAAPq9QAAAAACAIs9AAAAAAF48RkEAAAAAUFQlQQAAAACASM9AAAAAgAHIQEEAAAAAYFsNQQAAAAAAsJZAAAAAAADYkkAAAAAASpc2QQAAAAAAgLxAAAAAACgYC0EAAAAAJFwUQQAAAACozwNBAAAAAABHsEAAAAAAADyoQAAAAADw+htBAAAAAJD69UAAAAAAAFIhQQAAAACFm1FBAAAAAAA3vUAAAAAAAMvkQAAAAAAM2hRBAAAAAHB3BUEAAAAA6KcLQQAAAAB4iCNBAAAAAODMC0EAAAAAALyrQAAAAACQ/vZAAAAAAAVvO0EAAAAAxcVTQQAAAADKbjdB",
          "dtype": "f8"
         }
        }
       ],
       "layout": {
        "legend": {
         "tracegroupgap": 0
        },
        "margin": {
         "b": 25,
         "l": 25,
         "r": 25,
         "t": 50
        },
        "template": {
         "data": {
          "bar": [
           {
            "error_x": {
             "color": "#2a3f5f"
            },
            "error_y": {
             "color": "#2a3f5f"
            },
            "marker": {
             "line": {
              "color": "#E5ECF6",
              "width": 0.5
             },
             "pattern": {
              "fillmode": "overlay",
              "size": 10,
              "solidity": 0.2
             }
            },
            "type": "bar"
           }
          ],
          "barpolar": [
           {
            "marker": {
             "line": {
              "color": "#E5ECF6",
              "width": 0.5
             },
             "pattern": {
              "fillmode": "overlay",
              "size": 10,
              "solidity": 0.2
             }
            },
            "type": "barpolar"
           }
          ],
          "carpet": [
           {
            "aaxis": {
             "endlinecolor": "#2a3f5f",
             "gridcolor": "white",
             "linecolor": "white",
             "minorgridcolor": "white",
             "startlinecolor": "#2a3f5f"
            },
            "baxis": {
             "endlinecolor": "#2a3f5f",
             "gridcolor": "white",
             "linecolor": "white",
             "minorgridcolor": "white",
             "startlinecolor": "#2a3f5f"
            },
            "type": "carpet"
           }
          ],
          "choropleth": [
           {
            "colorbar": {
             "outlinewidth": 0,
             "ticks": ""
            },
            "type": "choropleth"
           }
          ],
          "contour": [
           {
            "colorbar": {
             "outlinewidth": 0,
             "ticks": ""
            },
            "colorscale": [
             [
              0,
              "#0d0887"
             ],
             [
              0.1111111111111111,
              "#46039f"
             ],
             [
              0.2222222222222222,
              "#7201a8"
             ],
             [
              0.3333333333333333,
              "#9c179e"
             ],
             [
              0.4444444444444444,
              "#bd3786"
             ],
             [
              0.5555555555555556,
              "#d8576b"
             ],
             [
              0.6666666666666666,
              "#ed7953"
             ],
             [
              0.7777777777777778,
              "#fb9f3a"
             ],
             [
              0.8888888888888888,
              "#fdca26"
             ],
             [
              1,
              "#f0f921"
             ]
            ],
            "type": "contour"
           }
          ],
          "contourcarpet": [
           {
            "colorbar": {
             "outlinewidth": 0,
             "ticks": ""
            },
            "type": "contourcarpet"
           }
          ],
          "heatmap": [
           {
            "colorbar": {
             "outlinewidth": 0,
             "ticks": ""
            },
            "colorscale": [
             [
              0,
              "#0d0887"
             ],
             [
              0.1111111111111111,
              "#46039f"
             ],
             [
              0.2222222222222222,
              "#7201a8"
             ],
             [
              0.3333333333333333,
              "#9c179e"
             ],
             [
              0.4444444444444444,
              "#bd3786"
             ],
             [
              0.5555555555555556,
              "#d8576b"
             ],
             [
              0.6666666666666666,
              "#ed7953"
             ],
             [
              0.7777777777777778,
              "#fb9f3a"
             ],
             [
              0.8888888888888888,
              "#fdca26"
             ],
             [
              1,
              "#f0f921"
             ]
            ],
            "type": "heatmap"
           }
          ],
          "histogram": [
           {
            "marker": {
             "pattern": {
              "fillmode": "overlay",
              "size": 10,
              "solidity": 0.2
             }
            },
            "type": "histogram"
           }
          ],
          "histogram2d": [
           {
            "colorbar": {
             "outlinewidth": 0,
             "ticks": ""
            },
            "colorscale": [
             [
              0,
              "#0d0887"
             ],
             [
              0.1111111111111111,
              "#46039f"
             ],
             [
              0.2222222222222222,
              "#7201a8"
             ],
             [
              0.3333333333333333,
              "#9c179e"
             ],
             [
              0.4444444444444444,
              "#bd3786"
             ],
             [
              0.5555555555555556,
              "#d8576b"
             ],
             [
              0.6666666666666666,
              "#ed7953"
             ],
             [
              0.7777777777777778,
              "#fb9f3a"
             ],
             [
              0.8888888888888888,
              "#fdca26"
             ],
             [
              1,
              "#f0f921"
             ]
            ],
            "type": "histogram2d"
           }
          ],
          "histogram2dcontour": [
           {
            "colorbar": {
             "outlinewidth": 0,
             "ticks": ""
            },
            "colorscale": [
             [
              0,
              "#0d0887"
             ],
             [
              0.1111111111111111,
              "#46039f"
             ],
             [
              0.2222222222222222,
              "#7201a8"
             ],
             [
              0.3333333333333333,
              "#9c179e"
             ],
             [
              0.4444444444444444,
              "#bd3786"
             ],
             [
              0.5555555555555556,
              "#d8576b"
             ],
             [
              0.6666666666666666,
              "#ed7953"
             ],
             [
              0.7777777777777778,
              "#fb9f3a"
             ],
             [
              0.8888888888888888,
              "#fdca26"
             ],
             [
              1,
              "#f0f921"
             ]
            ],
            "type": "histogram2dcontour"
           }
          ],
          "mesh3d": [
           {
            "colorbar": {
             "outlinewidth": 0,
             "ticks": ""
            },
            "type": "mesh3d"
           }
          ],
          "parcoords": [
           {
            "line": {
             "colorbar": {
              "outlinewidth": 0,
              "ticks": ""
             }
            },
            "type": "parcoords"
           }
          ],
          "pie": [
           {
            "automargin": true,
            "type": "pie"
           }
          ],
          "scatter": [
           {
            "fillpattern": {
             "fillmode": "overlay",
             "size": 10,
             "solidity": 0.2
            },
            "type": "scatter"
           }
          ],
          "scatter3d": [
           {
            "line": {
             "colorbar": {
              "outlinewidth": 0,
              "ticks": ""
             }
            },
            "marker": {
             "colorbar": {
              "outlinewidth": 0,
              "ticks": ""
             }
            },
            "type": "scatter3d"
           }
          ],
          "scattercarpet": [
           {
            "marker": {
             "colorbar": {
              "outlinewidth": 0,
              "ticks": ""
             }
            },
            "type": "scattercarpet"
           }
          ],
          "scattergeo": [
           {
            "marker": {
             "colorbar": {
              "outlinewidth": 0,
              "ticks": ""
             }
            },
            "type": "scattergeo"
           }
          ],
          "scattergl": [
           {
            "marker": {
             "colorbar": {
              "outlinewidth": 0,
              "ticks": ""
             }
            },
            "type": "scattergl"
           }
          ],
          "scattermap": [
           {
            "marker": {
             "colorbar": {
              "outlinewidth": 0,
              "ticks": ""
             }
            },
            "type": "scattermap"
           }
          ],
          "scattermapbox": [
           {
            "marker": {
             "colorbar": {
              "outlinewidth": 0,
              "ticks": ""
             }
            },
            "type": "scattermapbox"
           }
          ],
          "scatterpolar": [
           {
            "marker": {
             "colorbar": {
              "outlinewidth": 0,
              "ticks": ""
             }
            },
            "type": "scatterpolar"
           }
          ],
          "scatterpolargl": [
           {
            "marker": {
             "colorbar": {
              "outlinewidth": 0,
              "ticks": ""
             }
            },
            "type": "scatterpolargl"
           }
          ],
          "scatterternary": [
           {
            "marker": {
             "colorbar": {
              "outlinewidth": 0,
              "ticks": ""
             }
            },
            "type": "scatterternary"
           }
          ],
          "surface": [
           {
            "colorbar": {
             "outlinewidth": 0,
             "ticks": ""
            },
            "colorscale": [
             [
              0,
              "#0d0887"
             ],
             [
              0.1111111111111111,
              "#46039f"
             ],
             [
              0.2222222222222222,
              "#7201a8"
             ],
             [
              0.3333333333333333,
              "#9c179e"
             ],
             [
              0.4444444444444444,
              "#bd3786"
             ],
             [
              0.5555555555555556,
              "#d8576b"
             ],
             [
              0.6666666666666666,
              "#ed7953"
             ],
             [
              0.7777777777777778,
              "#fb9f3a"
             ],
             [
              0.8888888888888888,
              "#fdca26"
             ],
             [
              1,
              "#f0f921"
             ]
            ],
            "type": "surface"
           }
          ],
          "table": [
           {
            "cells": {
             "fill": {
              "color": "#EBF0F8"
             },
             "line": {
              "color": "white"
             }
            },
            "header": {
             "fill": {
              "color": "#C8D4E3"
             },
             "line": {
              "color": "white"
             }
            },
            "type": "table"
           }
          ]
         },
         "layout": {
          "annotationdefaults": {
           "arrowcolor": "#2a3f5f",
           "arrowhead": 0,
           "arrowwidth": 1
          },
          "autotypenumbers": "strict",
          "coloraxis": {
           "colorbar": {
            "outlinewidth": 0,
            "ticks": ""
           }
          },
          "colorscale": {
           "diverging": [
            [
             0,
             "#8e0152"
            ],
            [
             0.1,
             "#c51b7d"
            ],
            [
             0.2,
             "#de77ae"
            ],
            [
             0.3,
             "#f1b6da"
            ],
            [
             0.4,
             "#fde0ef"
            ],
            [
             0.5,
             "#f7f7f7"
            ],
            [
             0.6,
             "#e6f5d0"
            ],
            [
             0.7,
             "#b8e186"
            ],
            [
             0.8,
             "#7fbc41"
            ],
            [
             0.9,
             "#4d9221"
            ],
            [
             1,
             "#276419"
            ]
           ],
           "sequential": [
            [
             0,
             "#0d0887"
            ],
            [
             0.1111111111111111,
             "#46039f"
            ],
            [
             0.2222222222222222,
             "#7201a8"
            ],
            [
             0.3333333333333333,
             "#9c179e"
            ],
            [
             0.4444444444444444,
             "#bd3786"
            ],
            [
             0.5555555555555556,
             "#d8576b"
            ],
            [
             0.6666666666666666,
             "#ed7953"
            ],
            [
             0.7777777777777778,
             "#fb9f3a"
            ],
            [
             0.8888888888888888,
             "#fdca26"
            ],
            [
             1,
             "#f0f921"
            ]
           ],
           "sequentialminus": [
            [
             0,
             "#0d0887"
            ],
            [
             0.1111111111111111,
             "#46039f"
            ],
            [
             0.2222222222222222,
             "#7201a8"
            ],
            [
             0.3333333333333333,
             "#9c179e"
            ],
            [
             0.4444444444444444,
             "#bd3786"
            ],
            [
             0.5555555555555556,
             "#d8576b"
            ],
            [
             0.6666666666666666,
             "#ed7953"
            ],
            [
             0.7777777777777778,
             "#fb9f3a"
            ],
            [
             0.8888888888888888,
             "#fdca26"
            ],
            [
             1,
             "#f0f921"
            ]
           ]
          },
          "colorway": [
           "#636efa",
           "#EF553B",
           "#00cc96",
           "#ab63fa",
           "#FFA15A",
           "#19d3f3",
           "#FF6692",
           "#B6E880",
           "#FF97FF",
           "#FECB52"
          ],
          "font": {
           "color": "#2a3f5f"
          },
          "geo": {
           "bgcolor": "white",
           "lakecolor": "white",
           "landcolor": "#E5ECF6",
           "showlakes": true,
           "showland": true,
           "subunitcolor": "white"
          },
          "hoverlabel": {
           "align": "left"
          },
          "hovermode": "closest",
          "mapbox": {
           "style": "light"
          },
          "paper_bgcolor": "white",
          "plot_bgcolor": "#E5ECF6",
          "polar": {
           "angularaxis": {
            "gridcolor": "white",
            "linecolor": "white",
            "ticks": ""
           },
           "bgcolor": "#E5ECF6",
           "radialaxis": {
            "gridcolor": "white",
            "linecolor": "white",
            "ticks": ""
           }
          },
          "scene": {
           "xaxis": {
            "backgroundcolor": "#E5ECF6",
            "gridcolor": "white",
            "gridwidth": 2,
            "linecolor": "white",
            "showbackground": true,
            "ticks": "",
            "zerolinecolor": "white"
           },
           "yaxis": {
            "backgroundcolor": "#E5ECF6",
            "gridcolor": "white",
            "gridwidth": 2,
            "linecolor": "white",
            "showbackground": true,
            "ticks": "",
            "zerolinecolor": "white"
           },
           "zaxis": {
            "backgroundcolor": "#E5ECF6",
            "gridcolor": "white",
            "gridwidth": 2,
            "linecolor": "white",
            "showbackground": true,
            "ticks": "",
            "zerolinecolor": "white"
           }
          },
          "shapedefaults": {
           "line": {
            "color": "#2a3f5f"
           }
          },
          "ternary": {
           "aaxis": {
            "gridcolor": "white",
            "linecolor": "white",
            "ticks": ""
           },
           "baxis": {
            "gridcolor": "white",
            "linecolor": "white",
            "ticks": ""
           },
           "bgcolor": "#E5ECF6",
           "caxis": {
            "gridcolor": "white",
            "linecolor": "white",
            "ticks": ""
           }
          },
          "title": {
           "x": 0.05
          },
          "xaxis": {
           "automargin": true,
           "gridcolor": "white",
           "linecolor": "white",
           "ticks": "",
           "title": {
            "standoff": 15
           },
           "zerolinecolor": "white",
           "zerolinewidth": 2
          },
          "yaxis": {
           "automargin": true,
           "gridcolor": "white",
           "linecolor": "white",
           "ticks": "",
           "title": {
            "standoff": 15
           },
           "zerolinecolor": "white",
           "zerolinewidth": 2
          }
         }
        },
        "title": {
         "text": "Hierarchical Distribution of Average Number Words by Series and Subseries"
        }
       }
      }
     },
     "metadata": {},
     "output_type": "display_data"
    }
   ],
   "source": [
    "# Convert the Series to a DataFrame for Plotly\n",
    "df_avg_words_plot = avg_num_words_summary.reset_index()\n",
    "\n",
    "# The value column in df_avg_words_plot is named 'num_number_words'\n",
    "# Rename it for clarity in the plot.\n",
    "df_avg_words_plot.rename(columns={'num_number_words': 'avg_num_number_words'}, inplace=True)\n",
    "\n",
    "# Define the hierarchy path columns for this summary\n",
    "# avg_num_words_summary was grouped by ['series','subseries_1','subseries_2']\n",
    "avg_words_path_cols = ['series', 'subseries_1', 'subseries_2']\n",
    "\n",
    "# Fill NaN values in path columns with a placeholder string 'N/A'\n",
    "for col in avg_words_path_cols:\n",
    "    df_avg_words_plot[col] = df_avg_words_plot[col].fillna('N/A')\n",
    "\n",
    "# Create the treemap\n",
    "fig_avg_words = px.treemap(df_avg_words_plot,\n",
    "                           path=[px.Constant(\"Total Average Number Words\")] + avg_words_path_cols,\n",
    "                           values='avg_num_number_words',\n",
    "                           color='series',\n",
    "                           title='Hierarchical Distribution of Average Number Words by Series and Subseries',\n",
    "                           hover_data={'avg_num_number_words':':.2f'}) # Format avg_num_number_words\n",
    "\n",
    "# Optional: Adjust margins for better appearance\n",
    "fig_avg_words.update_layout(margin = dict(t=50, l=25, r=25, b=25))\n",
    "\n",
    "fig_avg_words.show()"
   ]
  },
  {
   "cell_type": "code",
   "execution_count": null,
   "id": "a432f513-20a0-437f-bb16-4d8f8e82a390",
   "metadata": {},
   "outputs": [],
   "source": []
  },
  {
   "cell_type": "code",
   "execution_count": null,
   "id": "6f6c4ca9-13c1-4fdd-a67d-1af8e8c85abc",
   "metadata": {},
   "outputs": [],
   "source": []
  }
 ],
 "metadata": {
  "kernelspec": {
   "display_name": ".venv",
   "language": "python",
   "name": "python3"
  },
  "language_info": {
   "codemirror_mode": {
    "name": "ipython",
    "version": 3
   },
   "file_extension": ".py",
   "mimetype": "text/x-python",
   "name": "python",
   "nbconvert_exporter": "python",
   "pygments_lexer": "ipython3",
   "version": "3.13.2"
  }
 },
 "nbformat": 4,
 "nbformat_minor": 5
}
