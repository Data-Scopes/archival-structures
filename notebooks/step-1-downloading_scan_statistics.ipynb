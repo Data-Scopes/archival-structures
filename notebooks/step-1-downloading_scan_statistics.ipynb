{
 "cells": [
  {
   "cell_type": "markdown",
   "id": "366c2537-bcf8-4d83-988a-80e19efb0212",
   "metadata": {},
   "source": [
    "# Downloading Scan Statistics\n",
    "\n",
    "The scan statistics for the archive 1.01.02 can be downloaded as a single 110Mb tarball. Because that's too much Github (which is for code, not data!), it is made available via SURF drive."
   ]
  },
  {
   "cell_type": "code",
   "execution_count": 1,
   "id": "64e90be6-533d-43e0-a46c-1b8cd27cfaef",
   "metadata": {},
   "outputs": [
    {
     "name": "stdout",
     "output_type": "stream",
     "text": [
      "adding project dir to path: /Users/marijnkoolen/Code/Huygens/archival-structures\n"
     ]
    }
   ],
   "source": [
    "%load_ext autoreload\n",
    "%autoreload 2\n",
    "\n",
    "import os\n",
    "import sys\n",
    "\n",
    "repo_name = 'archival-structures'\n",
    "repo_dir = os.path.split(os.getcwd())[0].split(repo_name)[0] + repo_name\n",
    "repo_dir = os.path.split(os.getcwd())[0].split(repo_name)[0] + repo_name\n",
    "\n",
    "print(\"adding project dir to path:\", repo_dir)\n",
    "\n",
    "if repo_dir not in sys.path:\n",
    "    sys.path = [repo_dir] + sys.path\n",
    "else:\n",
    "    sys.path.remove(repo_dir)\n",
    "    sys.path = [repo_dir] + sys.path"
   ]
  },
  {
   "cell_type": "code",
   "execution_count": 3,
   "id": "9e669423-1e7d-44de-9ced-19f98fd548e1",
   "metadata": {},
   "outputs": [
    {
     "data": {
      "text/plain": [
       "('../data/scan_stats-1.01.02.tar.gz', <http.client.HTTPMessage at 0x106cbead0>)"
      ]
     },
     "execution_count": 3,
     "metadata": {},
     "output_type": "execute_result"
    }
   ],
   "source": [
    "import urllib\n",
    "\n",
    "scan_stats_url = 'https://surfdrive.surf.nl/files/index.php/s/cbdVwddsQP2uvgh/download'\n",
    "scan_stats_filepath = '../data/scan_stats-1.01.02.tar.gz'\n",
    "\n",
    "urllib.request.urlretrieve(scan_stats_url, scan_stats_filepath)"
   ]
  },
  {
   "cell_type": "code",
   "execution_count": 4,
   "id": "45fce4ca-d178-4a06-905e-27d0742077b2",
   "metadata": {},
   "outputs": [],
   "source": [
    "!cd ../data; tar xzf scan_stats-1.01.02.tar.gz"
   ]
  }
 ],
 "metadata": {
  "kernelspec": {
   "display_name": "Python 3 (ipykernel)",
   "language": "python",
   "name": "python3"
  },
  "language_info": {
   "codemirror_mode": {
    "name": "ipython",
    "version": 3
   },
   "file_extension": ".py",
   "mimetype": "text/x-python",
   "name": "python",
   "nbconvert_exporter": "python",
   "pygments_lexer": "ipython3",
   "version": "3.11.11"
  }
 },
 "nbformat": 4,
 "nbformat_minor": 5
}
